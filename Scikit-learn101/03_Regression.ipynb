{
  "cells": [
    {
      "cell_type": "markdown",
      "metadata": {},
      "source": [
        "# 03_Regression.py\n",
        "\n",
        "This notebook was automatically converted from a Python script."
      ]
    },
    {
      "cell_type": "code",
      "execution_count": null,
      "metadata": {},
      "outputs": [],
      "source": [
        "\n",
        "\"\"\"\n",
        "Scikit-learn Regresyon Algoritmaları\n",
        "\n",
        "Bu script, scikit-learn kütüphanesindeki temel regresyon algoritmalarını göstermektedir.\n",
        "\"\"\"\n",
        "\n",
        "import numpy as np\n",
        "import pandas as pd\n",
        "import matplotlib.pyplot as plt\n",
        "import seaborn as sns\n",
        "\n",
        "from sklearn.datasets import load_boston, load_diabetes, make_regression\n",
        "from sklearn.model_selection import train_test_split, cross_val_score\n",
        "from sklearn.preprocessing import StandardScaler, PolynomialFeatures\n",
        "from sklearn.pipeline import Pipeline\n",
        "from sklearn.metrics import mean_squared_error, r2_score, mean_absolute_error\n",
        "import warnings\n",
        "\n"
      ]
    },
    {
      "cell_type": "markdown",
      "metadata": {},
      "source": [
        "Boston housing dataset'i kaldırıldığı için eğer hata alınırsa\n"
      ]
    },
    {
      "cell_type": "markdown",
      "metadata": {},
      "source": [
        "California Housing veri setini kullanabiliriz\n"
      ]
    },
    {
      "cell_type": "code",
      "execution_count": null,
      "metadata": {},
      "outputs": [],
      "source": [
        "try:\n",
        "    from sklearn.datasets import fetch_california_housing\n",
        "    housing = fetch_california_housing()\n",
        "    boston_available = False\n",
        "except:\n",
        "    housing = None\n",
        "    boston_available = True\n",
        "\n"
      ]
    },
    {
      "cell_type": "markdown",
      "metadata": {},
      "source": [
        "Regresyon modelleri\n"
      ]
    },
    {
      "cell_type": "code",
      "execution_count": null,
      "metadata": {},
      "outputs": [],
      "source": [
        "from sklearn.linear_model import LinearRegression, Ridge, Lasso, ElasticNet\n",
        "from sklearn.neighbors import KNeighborsRegressor\n",
        "from sklearn.tree import DecisionTreeRegressor\n",
        "from sklearn.ensemble import RandomForestRegressor, GradientBoostingRegressor\n",
        "from sklearn.svm import SVR\n",
        "\n"
      ]
    },
    {
      "cell_type": "markdown",
      "metadata": {},
      "source": [
        "Uyarıları gizle\n"
      ]
    },
    {
      "cell_type": "code",
      "execution_count": null,
      "metadata": {},
      "outputs": [],
      "source": [
        "warnings.filterwarnings('ignore')\n",
        "\n",
        "print(\"Scikit-learn Regresyon Algoritmaları\")\n",
        "print(\"=\"*50)\n",
        "\n"
      ]
    },
    {
      "cell_type": "markdown",
      "metadata": {},
      "source": [
        "1. Veri Yükleme ve Ön İşleme\n"
      ]
    },
    {
      "cell_type": "code",
      "execution_count": null,
      "metadata": {},
      "outputs": [],
      "source": [
        "print(\"\\n1. Veri Yükleme ve Ön İşleme\")\n",
        "print(\"-\"*50)\n",
        "\n"
      ]
    },
    {
      "cell_type": "markdown",
      "metadata": {},
      "source": [
        "Veri seti yükleme\n"
      ]
    },
    {
      "cell_type": "code",
      "execution_count": null,
      "metadata": {},
      "outputs": [],
      "source": [
        "if boston_available:\n",
        "    try:\n",
        "        boston = load_boston()\n",
        "        X = boston.data\n",
        "        y = boston.target\n",
        "        feature_names = boston.feature_names\n",
        "        dataset_name = \"Boston Housing\"\n",
        "    except:\n",
        "        # Eğer Boston dataset'i artık kullanılamıyorsa\n",
        "        boston_available = False\n",
        "\n",
        "if not boston_available:\n",
        "    housing = fetch_california_housing()\n",
        "    X = housing.data\n",
        "    y = housing.target\n",
        "    feature_names = housing.feature_names\n",
        "    dataset_name = \"California Housing\"\n",
        "\n",
        "print(f\"{dataset_name} veri seti yüklendi.\")\n",
        "print(\"Veri seti boyutu:\", X.shape)\n",
        "print(\"Özellik isimleri:\", feature_names)\n",
        "\n"
      ]
    },
    {
      "cell_type": "markdown",
      "metadata": {},
      "source": [
        "Eğitim ve test kümelerine ayırma\n"
      ]
    },
    {
      "cell_type": "code",
      "execution_count": null,
      "metadata": {},
      "outputs": [],
      "source": [
        "X_train, X_test, y_train, y_test = train_test_split(X, y, test_size=0.2, random_state=42)\n",
        "\n"
      ]
    },
    {
      "cell_type": "markdown",
      "metadata": {},
      "source": [
        "Veri ölçeklendirme\n"
      ]
    },
    {
      "cell_type": "code",
      "execution_count": null,
      "metadata": {},
      "outputs": [],
      "source": [
        "scaler = StandardScaler()\n",
        "X_train_scaled = scaler.fit_transform(X_train)\n",
        "X_test_scaled = scaler.transform(X_test)\n",
        "\n"
      ]
    },
    {
      "cell_type": "markdown",
      "metadata": {},
      "source": [
        "2. Basit Doğrusal Regresyon\n"
      ]
    },
    {
      "cell_type": "code",
      "execution_count": null,
      "metadata": {},
      "outputs": [],
      "source": [
        "print(\"\\n2. Basit Doğrusal Regresyon\")\n",
        "print(\"-\"*50)\n",
        "\n"
      ]
    },
    {
      "cell_type": "markdown",
      "metadata": {},
      "source": [
        "Doğrusal regresyon modeli\n"
      ]
    },
    {
      "cell_type": "code",
      "execution_count": null,
      "metadata": {},
      "outputs": [],
      "source": [
        "lr = LinearRegression()\n",
        "lr.fit(X_train_scaled, y_train)\n",
        "\n"
      ]
    },
    {
      "cell_type": "markdown",
      "metadata": {},
      "source": [
        "Tahmin\n"
      ]
    },
    {
      "cell_type": "code",
      "execution_count": null,
      "metadata": {},
      "outputs": [],
      "source": [
        "y_pred_lr = lr.predict(X_test_scaled)\n",
        "\n"
      ]
    },
    {
      "cell_type": "markdown",
      "metadata": {},
      "source": [
        "Performans metrikleri\n"
      ]
    },
    {
      "cell_type": "code",
      "execution_count": null,
      "metadata": {},
      "outputs": [],
      "source": [
        "mse = mean_squared_error(y_test, y_pred_lr)\n",
        "rmse = np.sqrt(mse)\n",
        "r2 = r2_score(y_test, y_pred_lr)\n",
        "mae = mean_absolute_error(y_test, y_pred_lr)\n",
        "\n",
        "print(\"Doğrusal Regresyon Performansı:\")\n",
        "print(f\"MSE: {mse:.4f}\")\n",
        "print(f\"RMSE: {rmse:.4f}\")\n",
        "print(f\"R²: {r2:.4f}\")\n",
        "print(f\"MAE: {mae:.4f}\")\n",
        "\n"
      ]
    },
    {
      "cell_type": "markdown",
      "metadata": {},
      "source": [
        "Katsayılar ve kesişim\n"
      ]
    },
    {
      "cell_type": "code",
      "execution_count": null,
      "metadata": {},
      "outputs": [],
      "source": [
        "print(\"\\nKesişim (Intercept):\", lr.intercept_)\n",
        "print(\"\\nKatsayılar (Coefficients):\")\n",
        "coefficients = pd.DataFrame({\n",
        "    'Özellik': feature_names,\n",
        "    'Katsayı': lr.coef_\n",
        "})\n",
        "print(coefficients.sort_values(by='Katsayı', ascending=False))\n",
        "\n"
      ]
    },
    {
      "cell_type": "markdown",
      "metadata": {},
      "source": [
        "Gerçek vs Tahmin grafiği\n"
      ]
    },
    {
      "cell_type": "code",
      "execution_count": null,
      "metadata": {},
      "outputs": [],
      "source": [
        "plt.figure(figsize=(10, 6))\n",
        "plt.scatter(y_test, y_pred_lr, alpha=0.5)\n",
        "plt.plot([y.min(), y.max()], [y.min(), y.max()], 'r--', lw=2)\n",
        "plt.xlabel('Gerçek Değerler')\n",
        "plt.ylabel('Tahmin Edilen Değerler')\n",
        "plt.title('Doğrusal Regresyon: Gerçek vs Tahmin')\n",
        "plt.grid(True)\n",
        "plt.savefig('linear_regression_true_vs_pred.png')\n",
        "plt.close()\n",
        "print(\"Doğrusal regresyon gerçek vs tahmin grafiği 'linear_regression_true_vs_pred.png' olarak kaydedildi.\")\n",
        "\n"
      ]
    },
    {
      "cell_type": "markdown",
      "metadata": {},
      "source": [
        "3. Polinom Regresyon\n"
      ]
    },
    {
      "cell_type": "code",
      "execution_count": null,
      "metadata": {},
      "outputs": [],
      "source": [
        "print(\"\\n3. Polinom Regresyon\")\n",
        "print(\"-\"*50)\n",
        "\n"
      ]
    },
    {
      "cell_type": "markdown",
      "metadata": {},
      "source": [
        "Polinom regresyon için pipeline\n"
      ]
    },
    {
      "cell_type": "code",
      "execution_count": null,
      "metadata": {},
      "outputs": [],
      "source": [
        "degrees = [1, 2, 3]\n",
        "rmse_scores = []\n",
        "r2_scores = []\n",
        "\n",
        "for degree in degrees:\n",
        "    polynomial_features = PolynomialFeatures(degree=degree, include_bias=False)\n",
        "    linear_regression = LinearRegression()\n",
        "    \n",
        "    pipeline = Pipeline([\n",
        "        (\"polynomial_features\", polynomial_features),\n",
        "        (\"linear_regression\", linear_regression)\n",
        "    ])\n",
        "    \n",
        "    pipeline.fit(X_train_scaled, y_train)\n",
        "    y_pred = pipeline.predict(X_test_scaled)\n",
        "    \n",
        "    rmse = np.sqrt(mean_squared_error(y_test, y_pred))\n",
        "    r2 = r2_score(y_test, y_pred)\n",
        "    \n",
        "    rmse_scores.append(rmse)\n",
        "    r2_scores.append(r2)\n",
        "    \n",
        "    print(f\"Polinom Derecesi {degree}:\")\n",
        "    print(f\"RMSE: {rmse:.4f}\")\n",
        "    print(f\"R²: {r2:.4f}\\n\")\n",
        "\n"
      ]
    },
    {
      "cell_type": "markdown",
      "metadata": {},
      "source": [
        "Performans karşılaştırma grafiği\n"
      ]
    },
    {
      "cell_type": "code",
      "execution_count": null,
      "metadata": {},
      "outputs": [],
      "source": [
        "plt.figure(figsize=(14, 5))\n",
        "\n",
        "plt.subplot(121)\n",
        "plt.plot(degrees, rmse_scores, marker='o', linestyle='-')\n",
        "plt.xlabel('Polinom Derecesi')\n",
        "plt.ylabel('RMSE')\n",
        "plt.title('Polinom Derecesi vs RMSE')\n",
        "plt.grid(True)\n",
        "\n",
        "plt.subplot(122)\n",
        "plt.plot(degrees, r2_scores, marker='o', linestyle='-', color='orange')\n",
        "plt.xlabel('Polinom Derecesi')\n",
        "plt.ylabel('R²')\n",
        "plt.title('Polinom Derecesi vs R²')\n",
        "plt.grid(True)\n",
        "\n",
        "plt.tight_layout()\n",
        "plt.savefig('polynomial_regression_comparison.png')\n",
        "plt.close()\n",
        "print(\"Polinom regresyon karşılaştırma grafiği 'polynomial_regression_comparison.png' olarak kaydedildi.\")\n",
        "\n"
      ]
    },
    {
      "cell_type": "markdown",
      "metadata": {},
      "source": [
        "4. Düzenleştirilmiş (Regularized) Regresyon\n"
      ]
    },
    {
      "cell_type": "code",
      "execution_count": null,
      "metadata": {},
      "outputs": [],
      "source": [
        "print(\"\\n4. Düzenleştirilmiş (Regularized) Regresyon\")\n",
        "print(\"-\"*50)\n",
        "\n"
      ]
    },
    {
      "cell_type": "markdown",
      "metadata": {},
      "source": [
        "Ridge Regresyon (L2 düzenleştirme)\n"
      ]
    },
    {
      "cell_type": "code",
      "execution_count": null,
      "metadata": {},
      "outputs": [],
      "source": [
        "ridge = Ridge(alpha=1.0)\n",
        "ridge.fit(X_train_scaled, y_train)\n",
        "y_pred_ridge = ridge.predict(X_test_scaled)\n",
        "ridge_rmse = np.sqrt(mean_squared_error(y_test, y_pred_ridge))\n",
        "ridge_r2 = r2_score(y_test, y_pred_ridge)\n",
        "\n"
      ]
    },
    {
      "cell_type": "markdown",
      "metadata": {},
      "source": [
        "Lasso Regresyon (L1 düzenleştirme)\n"
      ]
    },
    {
      "cell_type": "code",
      "execution_count": null,
      "metadata": {},
      "outputs": [],
      "source": [
        "lasso = Lasso(alpha=0.1)\n",
        "lasso.fit(X_train_scaled, y_train)\n",
        "y_pred_lasso = lasso.predict(X_test_scaled)\n",
        "lasso_rmse = np.sqrt(mean_squared_error(y_test, y_pred_lasso))\n",
        "lasso_r2 = r2_score(y_test, y_pred_lasso)\n",
        "\n"
      ]
    },
    {
      "cell_type": "markdown",
      "metadata": {},
      "source": [
        "ElasticNet (L1 ve L2 düzenleştirme kombinasyonu)\n"
      ]
    },
    {
      "cell_type": "code",
      "execution_count": null,
      "metadata": {},
      "outputs": [],
      "source": [
        "elastic = ElasticNet(alpha=0.1, l1_ratio=0.5)\n",
        "elastic.fit(X_train_scaled, y_train)\n",
        "y_pred_elastic = elastic.predict(X_test_scaled)\n",
        "elastic_rmse = np.sqrt(mean_squared_error(y_test, y_pred_elastic))\n",
        "elastic_r2 = r2_score(y_test, y_pred_elastic)\n",
        "\n",
        "print(\"Ridge Regresyon (L2):\")\n",
        "print(f\"RMSE: {ridge_rmse:.4f}\")\n",
        "print(f\"R²: {ridge_r2:.4f}\\n\")\n",
        "\n",
        "print(\"Lasso Regresyon (L1):\")\n",
        "print(f\"RMSE: {lasso_rmse:.4f}\")\n",
        "print(f\"R²: {lasso_r2:.4f}\\n\")\n",
        "\n",
        "print(\"ElasticNet (L1 + L2):\")\n",
        "print(f\"RMSE: {elastic_rmse:.4f}\")\n",
        "print(f\"R²: {elastic_r2:.4f}\\n\")\n",
        "\n"
      ]
    },
    {
      "cell_type": "markdown",
      "metadata": {},
      "source": [
        "Katsayı karşılaştırma\n"
      ]
    },
    {
      "cell_type": "code",
      "execution_count": null,
      "metadata": {},
      "outputs": [],
      "source": [
        "coef_df = pd.DataFrame({\n",
        "    'Özellik': feature_names,\n",
        "    'Doğrusal': lr.coef_,\n",
        "    'Ridge': ridge.coef_,\n",
        "    'Lasso': lasso.coef_,\n",
        "    'ElasticNet': elastic.coef_\n",
        "})\n",
        "\n"
      ]
    },
    {
      "cell_type": "markdown",
      "metadata": {},
      "source": [
        "Katsayıların görselleştirilmesi\n"
      ]
    },
    {
      "cell_type": "code",
      "execution_count": null,
      "metadata": {},
      "outputs": [],
      "source": [
        "plt.figure(figsize=(14, 8))\n",
        "bar_width = 0.2\n",
        "index = np.arange(len(feature_names))\n",
        "\n",
        "plt.bar(index, coef_df['Doğrusal'], bar_width, label='Doğrusal')\n",
        "plt.bar(index + bar_width, coef_df['Ridge'], bar_width, label='Ridge')\n",
        "plt.bar(index + 2*bar_width, coef_df['Lasso'], bar_width, label='Lasso')\n",
        "plt.bar(index + 3*bar_width, coef_df['ElasticNet'], bar_width, label='ElasticNet')\n",
        "\n",
        "plt.xlabel('Özellikler')\n",
        "plt.ylabel('Katsayı Değeri')\n",
        "plt.title('Regresyon Modellerinin Katsayı Karşılaştırması')\n",
        "plt.xticks(index + 1.5*bar_width, feature_names, rotation=90)\n",
        "plt.legend()\n",
        "plt.tight_layout()\n",
        "plt.savefig('regularized_regression_coefficients.png')\n",
        "plt.close()\n",
        "print(\"Düzenleştirilmiş regresyon katsayı karşılaştırma grafiği 'regularized_regression_coefficients.png' olarak kaydedildi.\")\n",
        "\n"
      ]
    },
    {
      "cell_type": "markdown",
      "metadata": {},
      "source": [
        "5. Karar Ağacı Regresyonu\n"
      ]
    },
    {
      "cell_type": "code",
      "execution_count": null,
      "metadata": {},
      "outputs": [],
      "source": [
        "print(\"\\n5. Karar Ağacı Regresyonu\")\n",
        "print(\"-\"*50)\n",
        "\n"
      ]
    },
    {
      "cell_type": "markdown",
      "metadata": {},
      "source": [
        "Karar Ağacı\n"
      ]
    },
    {
      "cell_type": "code",
      "execution_count": null,
      "metadata": {},
      "outputs": [],
      "source": [
        "dt_reg = DecisionTreeRegressor(random_state=42)\n",
        "dt_reg.fit(X_train, y_train)  # Ölçeklendirmeye gerek yok\n",
        "y_pred_dt = dt_reg.predict(X_test)\n",
        "dt_rmse = np.sqrt(mean_squared_error(y_test, y_pred_dt))\n",
        "dt_r2 = r2_score(y_test, y_pred_dt)\n",
        "\n",
        "print(\"Karar Ağacı Regresyonu:\")\n",
        "print(f\"RMSE: {dt_rmse:.4f}\")\n",
        "print(f\"R²: {dt_r2:.4f}\\n\")\n",
        "\n"
      ]
    },
    {
      "cell_type": "markdown",
      "metadata": {},
      "source": [
        "Özellik önem dereceleri\n"
      ]
    },
    {
      "cell_type": "code",
      "execution_count": null,
      "metadata": {},
      "outputs": [],
      "source": [
        "feature_importance = dt_reg.feature_importances_\n",
        "indices = np.argsort(feature_importance)\n",
        "\n",
        "plt.figure(figsize=(10, 6))\n",
        "plt.barh(range(len(indices)), feature_importance[indices], color='skyblue')\n",
        "plt.yticks(range(len(indices)), [feature_names[i] for i in indices])\n",
        "plt.xlabel('Özellik Önem Derecesi')\n",
        "plt.title('Karar Ağacı - Özellik Önem Dereceleri')\n",
        "plt.tight_layout()\n",
        "plt.savefig('decision_tree_regression_feature_importance.png')\n",
        "plt.close()\n",
        "print(\"Karar ağacı regresyonu özellik önem dereceleri grafiği 'decision_tree_regression_feature_importance.png' olarak kaydedildi.\")\n",
        "\n"
      ]
    },
    {
      "cell_type": "markdown",
      "metadata": {},
      "source": [
        "6. Rastgele Orman Regresyonu\n"
      ]
    },
    {
      "cell_type": "code",
      "execution_count": null,
      "metadata": {},
      "outputs": [],
      "source": [
        "print(\"\\n6. Rastgele Orman Regresyonu\")\n",
        "print(\"-\"*50)\n",
        "\n"
      ]
    },
    {
      "cell_type": "markdown",
      "metadata": {},
      "source": [
        "Rastgele Orman\n"
      ]
    },
    {
      "cell_type": "code",
      "execution_count": null,
      "metadata": {},
      "outputs": [],
      "source": [
        "rf_reg = RandomForestRegressor(n_estimators=100, random_state=42)\n",
        "rf_reg.fit(X_train, y_train)  # Ölçeklendirmeye gerek yok\n",
        "y_pred_rf = rf_reg.predict(X_test)\n",
        "rf_rmse = np.sqrt(mean_squared_error(y_test, y_pred_rf))\n",
        "rf_r2 = r2_score(y_test, y_pred_rf)\n",
        "\n",
        "print(\"Rastgele Orman Regresyonu:\")\n",
        "print(f\"RMSE: {rf_rmse:.4f}\")\n",
        "print(f\"R²: {rf_r2:.4f}\\n\")\n",
        "\n"
      ]
    },
    {
      "cell_type": "markdown",
      "metadata": {},
      "source": [
        "Özellik önem dereceleri\n"
      ]
    },
    {
      "cell_type": "code",
      "execution_count": null,
      "metadata": {},
      "outputs": [],
      "source": [
        "feature_importance = rf_reg.feature_importances_\n",
        "indices = np.argsort(feature_importance)\n",
        "\n",
        "plt.figure(figsize=(10, 6))\n",
        "plt.barh(range(len(indices)), feature_importance[indices], color='lightgreen')\n",
        "plt.yticks(range(len(indices)), [feature_names[i] for i in indices])\n",
        "plt.xlabel('Özellik Önem Derecesi')\n",
        "plt.title('Rastgele Orman - Özellik Önem Dereceleri')\n",
        "plt.tight_layout()\n",
        "plt.savefig('random_forest_regression_feature_importance.png')\n",
        "plt.close()\n",
        "print(\"Rastgele orman regresyonu özellik önem dereceleri grafiği 'random_forest_regression_feature_importance.png' olarak kaydedildi.\")\n",
        "\n"
      ]
    },
    {
      "cell_type": "markdown",
      "metadata": {},
      "source": [
        "7. Destek Vektör Regresyonu (SVR)\n"
      ]
    },
    {
      "cell_type": "code",
      "execution_count": null,
      "metadata": {},
      "outputs": [],
      "source": [
        "print(\"\\n7. Destek Vektör Regresyonu (SVR)\")\n",
        "print(\"-\"*50)\n",
        "\n"
      ]
    },
    {
      "cell_type": "markdown",
      "metadata": {},
      "source": [
        "SVR\n"
      ]
    },
    {
      "cell_type": "code",
      "execution_count": null,
      "metadata": {},
      "outputs": [],
      "source": [
        "svr = SVR(kernel='rbf')\n",
        "svr.fit(X_train_scaled, y_train)\n",
        "y_pred_svr = svr.predict(X_test_scaled)\n",
        "svr_rmse = np.sqrt(mean_squared_error(y_test, y_pred_svr))\n",
        "svr_r2 = r2_score(y_test, y_pred_svr)\n",
        "\n",
        "print(\"Destek Vektör Regresyonu (SVR):\")\n",
        "print(f\"RMSE: {svr_rmse:.4f}\")\n",
        "print(f\"R²: {svr_r2:.4f}\\n\")\n",
        "\n"
      ]
    },
    {
      "cell_type": "markdown",
      "metadata": {},
      "source": [
        "Farklı kernel fonksiyonları\n"
      ]
    },
    {
      "cell_type": "code",
      "execution_count": null,
      "metadata": {},
      "outputs": [],
      "source": [
        "kernels = ['linear', 'poly', 'rbf']\n",
        "svr_models = {}\n",
        "svr_rmse_scores = []\n",
        "svr_r2_scores = []\n",
        "\n",
        "for kernel in kernels:\n",
        "    svr = SVR(kernel=kernel)\n",
        "    svr.fit(X_train_scaled, y_train)\n",
        "    y_pred = svr.predict(X_test_scaled)\n",
        "    \n",
        "    rmse = np.sqrt(mean_squared_error(y_test, y_pred))\n",
        "    r2 = r2_score(y_test, y_pred)\n",
        "    \n",
        "    svr_rmse_scores.append(rmse)\n",
        "    svr_r2_scores.append(r2)\n",
        "    \n",
        "    print(f\"SVR ({kernel} kernel):\")\n",
        "    print(f\"RMSE: {rmse:.4f}\")\n",
        "    print(f\"R²: {r2:.4f}\\n\")\n",
        "\n"
      ]
    },
    {
      "cell_type": "markdown",
      "metadata": {},
      "source": [
        "Kernel karşılaştırma grafiği\n"
      ]
    },
    {
      "cell_type": "code",
      "execution_count": null,
      "metadata": {},
      "outputs": [],
      "source": [
        "plt.figure(figsize=(12, 5))\n",
        "\n",
        "plt.subplot(121)\n",
        "plt.bar(kernels, svr_rmse_scores, color='salmon')\n",
        "plt.xlabel('Kernel Tipi')\n",
        "plt.ylabel('RMSE')\n",
        "plt.title('SVR - Kernel vs RMSE')\n",
        "plt.tick_params(axis='x', rotation=45)\n",
        "\n",
        "plt.subplot(122)\n",
        "plt.bar(kernels, svr_r2_scores, color='skyblue')\n",
        "plt.xlabel('Kernel Tipi')\n",
        "plt.ylabel('R²')\n",
        "plt.title('SVR - Kernel vs R²')\n",
        "plt.tick_params(axis='x', rotation=45)\n",
        "\n",
        "plt.tight_layout()\n",
        "plt.savefig('svr_kernel_comparison.png')\n",
        "plt.close()\n",
        "print(\"SVR kernel karşılaştırma grafiği 'svr_kernel_comparison.png' olarak kaydedildi.\")\n",
        "\n"
      ]
    },
    {
      "cell_type": "markdown",
      "metadata": {},
      "source": [
        "8. Gradyan Artırma (Gradient Boosting)\n"
      ]
    },
    {
      "cell_type": "code",
      "execution_count": null,
      "metadata": {},
      "outputs": [],
      "source": [
        "print(\"\\n8. Gradyan Artırma (Gradient Boosting)\")\n",
        "print(\"-\"*50)\n",
        "\n"
      ]
    },
    {
      "cell_type": "markdown",
      "metadata": {},
      "source": [
        "Gradient Boosting Regresyonu\n"
      ]
    },
    {
      "cell_type": "code",
      "execution_count": null,
      "metadata": {},
      "outputs": [],
      "source": [
        "gb_reg = GradientBoostingRegressor(n_estimators=100, random_state=42)\n",
        "gb_reg.fit(X_train, y_train)\n",
        "y_pred_gb = gb_reg.predict(X_test)\n",
        "gb_rmse = np.sqrt(mean_squared_error(y_test, y_pred_gb))\n",
        "gb_r2 = r2_score(y_test, y_pred_gb)\n",
        "\n",
        "print(\"Gradient Boosting Regresyonu:\")\n",
        "print(f\"RMSE: {gb_rmse:.4f}\")\n",
        "print(f\"R²: {gb_r2:.4f}\\n\")\n",
        "\n"
      ]
    },
    {
      "cell_type": "markdown",
      "metadata": {},
      "source": [
        "Özellik önem dereceleri\n"
      ]
    },
    {
      "cell_type": "code",
      "execution_count": null,
      "metadata": {},
      "outputs": [],
      "source": [
        "feature_importance = gb_reg.feature_importances_\n",
        "indices = np.argsort(feature_importance)\n",
        "\n",
        "plt.figure(figsize=(10, 6))\n",
        "plt.barh(range(len(indices)), feature_importance[indices], color='lightcoral')\n",
        "plt.yticks(range(len(indices)), [feature_names[i] for i in indices])\n",
        "plt.xlabel('Özellik Önem Derecesi')\n",
        "plt.title('Gradient Boosting - Özellik Önem Dereceleri')\n",
        "plt.tight_layout()\n",
        "plt.savefig('gradient_boosting_feature_importance.png')\n",
        "plt.close()\n",
        "print(\"Gradient Boosting regresyonu özellik önem dereceleri grafiği 'gradient_boosting_feature_importance.png' olarak kaydedildi.\")\n",
        "\n"
      ]
    },
    {
      "cell_type": "markdown",
      "metadata": {},
      "source": [
        "9. Model Karşılaştırma\n"
      ]
    },
    {
      "cell_type": "code",
      "execution_count": null,
      "metadata": {},
      "outputs": [],
      "source": [
        "print(\"\\n9. Model Karşılaştırma\")\n",
        "print(\"-\"*50)\n",
        "\n"
      ]
    },
    {
      "cell_type": "markdown",
      "metadata": {},
      "source": [
        "Tüm modelleri karşılaştırma\n"
      ]
    },
    {
      "cell_type": "code",
      "execution_count": null,
      "metadata": {},
      "outputs": [],
      "source": [
        "models = {\n",
        "    'Doğrusal Regresyon': (lr, X_train_scaled, X_test_scaled, True),\n",
        "    'Ridge': (ridge, X_train_scaled, X_test_scaled, True),\n",
        "    'Lasso': (lasso, X_train_scaled, X_test_scaled, True),\n",
        "    'ElasticNet': (elastic, X_train_scaled, X_test_scaled, True),\n",
        "    'Karar Ağacı': (dt_reg, X_train, X_test, False),\n",
        "    'Rastgele Orman': (rf_reg, X_train, X_test, False),\n",
        "    'SVR (rbf)': (SVR(kernel='rbf'), X_train_scaled, X_test_scaled, True),\n",
        "    'Gradient Boosting': (gb_reg, X_train, X_test, False)\n",
        "}\n",
        "\n",
        "results = {}\n",
        "\n",
        "for name, (model, X_tr, X_te, _) in models.items():\n",
        "    if name not in ['Karar Ağacı', 'Rastgele Orman', 'Gradient Boosting']:\n",
        "        model.fit(X_tr, y_train)\n",
        "    \n",
        "    y_pred = model.predict(X_te)\n",
        "    rmse = np.sqrt(mean_squared_error(y_test, y_pred))\n",
        "    r2 = r2_score(y_test, y_pred)\n",
        "    mae = mean_absolute_error(y_test, y_pred)\n",
        "    \n",
        "    results[name] = {'RMSE': rmse, 'R²': r2, 'MAE': mae}\n",
        "\n"
      ]
    },
    {
      "cell_type": "markdown",
      "metadata": {},
      "source": [
        "Sonuçları DataFrame olarak gösterme\n"
      ]
    },
    {
      "cell_type": "code",
      "execution_count": null,
      "metadata": {},
      "outputs": [],
      "source": [
        "results_df = pd.DataFrame(results).T\n",
        "print(results_df.sort_values(by='RMSE'))\n",
        "\n"
      ]
    },
    {
      "cell_type": "markdown",
      "metadata": {},
      "source": [
        "Performans karşılaştırma grafikleri\n"
      ]
    },
    {
      "cell_type": "code",
      "execution_count": null,
      "metadata": {},
      "outputs": [],
      "source": [
        "plt.figure(figsize=(16, 6))\n",
        "\n",
        "plt.subplot(121)\n",
        "results_df.sort_values(by='RMSE')['RMSE'].plot(kind='bar', ax=plt.gca(), color='salmon')\n",
        "plt.title('RMSE Karşılaştırması (Düşük Daha İyi)')\n",
        "plt.ylabel('RMSE')\n",
        "plt.grid(axis='y', linestyle='--', alpha=0.7)\n",
        "\n",
        "plt.subplot(122)\n",
        "results_df.sort_values(by='R²', ascending=False)['R²'].plot(kind='bar', ax=plt.gca(), color='skyblue')\n",
        "plt.title('R² Karşılaştırması (Yüksek Daha İyi)')\n",
        "plt.ylabel('R²')\n",
        "plt.grid(axis='y', linestyle='--', alpha=0.7)\n",
        "\n",
        "plt.tight_layout()\n",
        "plt.savefig('regression_models_comparison.png')\n",
        "plt.close()\n",
        "print(\"Regresyon modelleri karşılaştırma grafiği 'regression_models_comparison.png' olarak kaydedildi.\") \n"
      ]
    }
  ],
  "metadata": {
    "kernelspec": {
      "display_name": "Python 3",
      "language": "python",
      "name": "python3"
    },
    "language_info": {
      "codemirror_mode": {
        "name": "ipython",
        "version": 3
      },
      "file_extension": ".py",
      "mimetype": "text/x-python",
      "name": "python",
      "nbconvert_exporter": "python",
      "pygments_lexer": "ipython3",
      "version": "3.8.8"
    }
  },
  "nbformat": 4,
  "nbformat_minor": 5
}
