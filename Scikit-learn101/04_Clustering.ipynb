{
  "cells": [
    {
      "cell_type": "markdown",
      "metadata": {},
      "source": [
        "# 04_Clustering.py\n",
        "\n",
        "This notebook was automatically converted from a Python script."
      ]
    },
    {
      "cell_type": "code",
      "execution_count": null,
      "metadata": {},
      "outputs": [],
      "source": [
        "\n",
        "\"\"\"\n",
        "Scikit-learn Kümeleme (Clustering) Algoritmaları\n",
        "\n",
        "Bu script, scikit-learn kütüphanesindeki temel kümeleme algoritmalarını göstermektedir.\n",
        "\"\"\"\n",
        "\n",
        "import numpy as np\n",
        "import pandas as pd\n",
        "import matplotlib.pyplot as plt\n",
        "import seaborn as sns\n",
        "\n",
        "from sklearn.datasets import make_blobs, make_moons, load_iris\n",
        "from sklearn.preprocessing import StandardScaler\n",
        "from sklearn.metrics import silhouette_score, adjusted_rand_score\n",
        "from sklearn.decomposition import PCA\n",
        "\n"
      ]
    },
    {
      "cell_type": "markdown",
      "metadata": {},
      "source": [
        "Kümeleme algoritmaları\n"
      ]
    },
    {
      "cell_type": "code",
      "execution_count": null,
      "metadata": {},
      "outputs": [],
      "source": [
        "from sklearn.cluster import KMeans, AgglomerativeClustering, DBSCAN\n",
        "\n"
      ]
    },
    {
      "cell_type": "code",
      "execution_count": null,
      "metadata": {},
      "outputs": [],
      "source": [
        "\n",
        "print(\"Scikit-learn Kümeleme (Clustering) Algoritmaları\")\n",
        "print(\"=\"*50)\n",
        "\n"
      ]
    },
    {
      "cell_type": "markdown",
      "metadata": {},
      "source": [
        "1. Veri Oluşturma ve Hazırlama\n"
      ]
    },
    {
      "cell_type": "code",
      "execution_count": null,
      "metadata": {},
      "outputs": [],
      "source": [
        "print(\"\\n1. Veri Oluşturma ve Hazırlama\")\n",
        "print(\"-\"*50)\n",
        "\n"
      ]
    },
    {
      "cell_type": "markdown",
      "metadata": {},
      "source": [
        "İki farklı veri seti oluşturalım\n"
      ]
    },
    {
      "cell_type": "markdown",
      "metadata": {},
      "source": [
        "1. Blob veri seti (küresel kümeler için)\n"
      ]
    },
    {
      "cell_type": "code",
      "execution_count": null,
      "metadata": {},
      "outputs": [],
      "source": [
        "X_blob, y_blob = make_blobs(n_samples=300, centers=4, cluster_std=0.60, random_state=42)\n",
        "\n"
      ]
    },
    {
      "cell_type": "markdown",
      "metadata": {},
      "source": [
        "2. Ay şeklinde veri seti (doğrusal olmayan kümeler için)\n"
      ]
    },
    {
      "cell_type": "code",
      "execution_count": null,
      "metadata": {},
      "outputs": [],
      "source": [
        "X_moon, y_moon = make_moons(n_samples=200, noise=0.05, random_state=42)\n",
        "\n"
      ]
    },
    {
      "cell_type": "markdown",
      "metadata": {},
      "source": [
        "3. Gerçek veri - Iris veri seti\n"
      ]
    },
    {
      "cell_type": "code",
      "execution_count": null,
      "metadata": {},
      "outputs": [],
      "source": [
        "iris = load_iris()\n",
        "X_iris = iris.data\n",
        "y_iris = iris.target\n",
        "\n"
      ]
    },
    {
      "cell_type": "markdown",
      "metadata": {},
      "source": [
        "Veri setlerini görselleştirme\n"
      ]
    },
    {
      "cell_type": "code",
      "execution_count": null,
      "metadata": {},
      "outputs": [],
      "source": [
        "plt.figure(figsize=(15, 5))\n",
        "\n",
        "plt.subplot(131)\n",
        "plt.scatter(X_blob[:, 0], X_blob[:, 1], c=y_blob, cmap='viridis', s=50, alpha=0.8)\n",
        "plt.title('Blob Veri Seti')\n",
        "plt.grid(True)\n",
        "\n",
        "plt.subplot(132)\n",
        "plt.scatter(X_moon[:, 0], X_moon[:, 1], c=y_moon, cmap='viridis', s=50, alpha=0.8)\n",
        "plt.title('Ay Şeklinde Veri Seti')\n",
        "plt.grid(True)\n",
        "\n"
      ]
    },
    {
      "cell_type": "markdown",
      "metadata": {},
      "source": [
        "Iris veri setini 2D'ye indirgeme (görselleştirme için)\n"
      ]
    },
    {
      "cell_type": "code",
      "execution_count": null,
      "metadata": {},
      "outputs": [],
      "source": [
        "pca = PCA(n_components=2)\n",
        "X_iris_2d = pca.fit_transform(X_iris)\n",
        "\n",
        "plt.subplot(133)\n",
        "plt.scatter(X_iris_2d[:, 0], X_iris_2d[:, 1], c=y_iris, cmap='viridis', s=50, alpha=0.8)\n",
        "plt.title('Iris Veri Seti (PCA ile 2D)')\n",
        "plt.grid(True)\n",
        "\n",
        "plt.tight_layout()\n",
        "plt.savefig('clustering_datasets.png')\n",
        "plt.close()\n",
        "print(\"Kümeleme veri setleri görselleştirmesi 'clustering_datasets.png' olarak kaydedildi.\")\n",
        "\n"
      ]
    },
    {
      "cell_type": "markdown",
      "metadata": {},
      "source": [
        "2. K-Means Kümeleme\n"
      ]
    },
    {
      "cell_type": "code",
      "execution_count": null,
      "metadata": {},
      "outputs": [],
      "source": [
        "print(\"\\n2. K-Means Kümeleme\")\n",
        "print(\"-\"*50)\n",
        "\n"
      ]
    },
    {
      "cell_type": "markdown",
      "metadata": {},
      "source": [
        "K-Means uygulama\n"
      ]
    },
    {
      "cell_type": "markdown",
      "metadata": {},
      "source": [
        "K değerini belirleme - Dirsek (Elbow) yöntemi\n"
      ]
    },
    {
      "cell_type": "code",
      "execution_count": null,
      "metadata": {},
      "outputs": [],
      "source": [
        "inertia = []\n",
        "silhouette = []\n",
        "K_range = range(2, 11)\n",
        "\n",
        "for k in K_range:\n",
        "    kmeans = KMeans(n_clusters=k, random_state=42)\n",
        "    kmeans.fit(X_blob)\n",
        "    inertia.append(kmeans.inertia_)\n",
        "    silhouette.append(silhouette_score(X_blob, kmeans.labels_))\n",
        "\n"
      ]
    },
    {
      "cell_type": "markdown",
      "metadata": {},
      "source": [
        "Dirsek grafiği\n"
      ]
    },
    {
      "cell_type": "code",
      "execution_count": null,
      "metadata": {},
      "outputs": [],
      "source": [
        "plt.figure(figsize=(12, 5))\n",
        "plt.subplot(121)\n",
        "plt.plot(K_range, inertia, 'bo-')\n",
        "plt.xlabel('K Değeri')\n",
        "plt.ylabel('Inertia')\n",
        "plt.title('Dirsek Yöntemi')\n",
        "plt.grid(True)\n",
        "\n",
        "plt.subplot(122)\n",
        "plt.plot(K_range, silhouette, 'ro-')\n",
        "plt.xlabel('K Değeri')\n",
        "plt.ylabel('Silhouette Skoru')\n",
        "plt.title('Silhouette Yöntemi')\n",
        "plt.grid(True)\n",
        "\n",
        "plt.tight_layout()\n",
        "plt.savefig('kmeans_elbow_method.png')\n",
        "plt.close()\n",
        "print(\"K-Means dirsek yöntemi grafiği 'kmeans_elbow_method.png' olarak kaydedildi.\")\n",
        "\n"
      ]
    },
    {
      "cell_type": "markdown",
      "metadata": {},
      "source": [
        "K-Means ile kümeleme (Blob veri seti için)\n"
      ]
    },
    {
      "cell_type": "code",
      "execution_count": null,
      "metadata": {},
      "outputs": [],
      "source": [
        "kmeans = KMeans(n_clusters=4, random_state=42)\n",
        "y_kmeans_blob = kmeans.fit_predict(X_blob)\n",
        "\n"
      ]
    },
    {
      "cell_type": "markdown",
      "metadata": {},
      "source": [
        "K-Means sonuçlarını görselleştirme\n"
      ]
    },
    {
      "cell_type": "code",
      "execution_count": null,
      "metadata": {},
      "outputs": [],
      "source": [
        "plt.figure(figsize=(12, 5))\n",
        "\n",
        "plt.subplot(121)\n",
        "plt.scatter(X_blob[:, 0], X_blob[:, 1], c=y_blob, cmap='viridis', s=50, alpha=0.5)\n",
        "plt.title('Blob Veri Seti - Gerçek Kümeler')\n",
        "plt.grid(True)\n",
        "\n",
        "plt.subplot(122)\n",
        "plt.scatter(X_blob[:, 0], X_blob[:, 1], c=y_kmeans_blob, cmap='viridis', s=50, alpha=0.5)\n",
        "centers = kmeans.cluster_centers_\n",
        "plt.scatter(centers[:, 0], centers[:, 1], c='red', s=200, alpha=0.5, marker='X')\n",
        "plt.title(f'K-Means Kümeleme Sonucu (K=4)\\nSilhouette Skoru: {silhouette_score(X_blob, y_kmeans_blob):.3f}')\n",
        "plt.grid(True)\n",
        "\n",
        "plt.tight_layout()\n",
        "plt.savefig('kmeans_blob_clustering.png')\n",
        "plt.close()\n",
        "print(\"K-Means blob kümeleme sonuçları 'kmeans_blob_clustering.png' olarak kaydedildi.\")\n",
        "\n"
      ]
    },
    {
      "cell_type": "markdown",
      "metadata": {},
      "source": [
        "K-Means ile kümeleme (Iris veri seti için)\n"
      ]
    },
    {
      "cell_type": "code",
      "execution_count": null,
      "metadata": {},
      "outputs": [],
      "source": [
        "kmeans_iris = KMeans(n_clusters=3, random_state=42)\n",
        "y_kmeans_iris = kmeans_iris.fit_predict(X_iris)\n",
        "\n"
      ]
    },
    {
      "cell_type": "markdown",
      "metadata": {},
      "source": [
        "K-Means sonuçlarını görselleştirme (Iris)\n"
      ]
    },
    {
      "cell_type": "code",
      "execution_count": null,
      "metadata": {},
      "outputs": [],
      "source": [
        "plt.figure(figsize=(12, 5))\n",
        "\n",
        "plt.subplot(121)\n",
        "plt.scatter(X_iris_2d[:, 0], X_iris_2d[:, 1], c=y_iris, cmap='viridis', s=50, alpha=0.5)\n",
        "plt.title('Iris Veri Seti - Gerçek Kümeler')\n",
        "plt.grid(True)\n",
        "\n",
        "plt.subplot(122)\n",
        "plt.scatter(X_iris_2d[:, 0], X_iris_2d[:, 1], c=y_kmeans_iris, cmap='viridis', s=50, alpha=0.5)\n",
        "plt.title(f'K-Means Kümeleme Sonucu (K=3)\\nAdjusted Rand Indeksi: {adjusted_rand_score(y_iris, y_kmeans_iris):.3f}')\n",
        "plt.grid(True)\n",
        "\n",
        "plt.tight_layout()\n",
        "plt.savefig('kmeans_iris_clustering.png')\n",
        "plt.close()\n",
        "print(\"K-Means iris kümeleme sonuçları 'kmeans_iris_clustering.png' olarak kaydedildi.\")\n",
        "\n"
      ]
    },
    {
      "cell_type": "markdown",
      "metadata": {},
      "source": [
        "3. Hiyerarşik Kümeleme (Agglomerative Clustering)\n"
      ]
    },
    {
      "cell_type": "code",
      "execution_count": null,
      "metadata": {},
      "outputs": [],
      "source": [
        "print(\"\\n3. Hiyerarşik Kümeleme (Agglomerative Clustering)\")\n",
        "print(\"-\"*50)\n",
        "\n"
      ]
    },
    {
      "cell_type": "markdown",
      "metadata": {},
      "source": [
        "Hiyerarşik kümeleme\n"
      ]
    },
    {
      "cell_type": "markdown",
      "metadata": {},
      "source": [
        "Farklı bağlantı türleri\n"
      ]
    },
    {
      "cell_type": "code",
      "execution_count": null,
      "metadata": {},
      "outputs": [],
      "source": [
        "linkages = ['ward', 'complete', 'average', 'single']\n",
        "fig, axes = plt.subplots(1, len(linkages), figsize=(20, 5))\n",
        "\n",
        "for i, linkage in enumerate(linkages):\n",
        "    hier_cluster = AgglomerativeClustering(n_clusters=4, linkage=linkage)\n",
        "    y_hier = hier_cluster.fit_predict(X_blob)\n",
        "    \n",
        "    axes[i].scatter(X_blob[:, 0], X_blob[:, 1], c=y_hier, cmap='viridis', s=50, alpha=0.5)\n",
        "    axes[i].set_title(f'Linkage: {linkage}\\nSilhouette: {silhouette_score(X_blob, y_hier):.3f}')\n",
        "    axes[i].grid(True)\n",
        "    \n",
        "plt.tight_layout()\n",
        "plt.savefig('hierarchical_clustering_linkages.png')\n",
        "plt.close()\n",
        "print(\"Hiyerarşik kümeleme farklı bağlantı türleri 'hierarchical_clustering_linkages.png' olarak kaydedildi.\")\n",
        "\n"
      ]
    },
    {
      "cell_type": "markdown",
      "metadata": {},
      "source": [
        "Dendrogram görselleştirme\n"
      ]
    },
    {
      "cell_type": "code",
      "execution_count": null,
      "metadata": {},
      "outputs": [],
      "source": [
        "from scipy.cluster.hierarchy import dendrogram, linkage\n",
        "\n"
      ]
    },
    {
      "cell_type": "markdown",
      "metadata": {},
      "source": [
        "Veri boyutunu azaltalım (dendrogram daha net görünsün)\n"
      ]
    },
    {
      "cell_type": "code",
      "execution_count": null,
      "metadata": {},
      "outputs": [],
      "source": [
        "X_subset = X_blob[:50]\n",
        "\n"
      ]
    },
    {
      "cell_type": "markdown",
      "metadata": {},
      "source": [
        "Bağlantı matrisini hesaplama\n"
      ]
    },
    {
      "cell_type": "code",
      "execution_count": null,
      "metadata": {},
      "outputs": [],
      "source": [
        "linked = linkage(X_subset, 'ward')\n",
        "\n",
        "plt.figure(figsize=(12, 7))\n",
        "dendrogram(linked, orientation='top', distance_sort='descending', show_leaf_counts=True)\n",
        "plt.title('Hiyerarşik Kümeleme Dendrogramı')\n",
        "plt.xlabel('Veri Noktaları')\n",
        "plt.ylabel('Mesafe')\n",
        "plt.axhline(y=6, color='r', linestyle='--')\n",
        "plt.text(5, 6.5, 'Kesim çizgisi - 4 küme', color='r')\n",
        "plt.savefig('hierarchical_clustering_dendrogram.png')\n",
        "plt.close()\n",
        "print(\"Hiyerarşik kümeleme dendrogramı 'hierarchical_clustering_dendrogram.png' olarak kaydedildi.\")\n",
        "\n"
      ]
    },
    {
      "cell_type": "markdown",
      "metadata": {},
      "source": [
        "Hiyerarşik kümeleme (Ay şeklindeki veriler için)\n"
      ]
    },
    {
      "cell_type": "code",
      "execution_count": null,
      "metadata": {},
      "outputs": [],
      "source": [
        "hier_moon = AgglomerativeClustering(n_clusters=2, linkage='ward')\n",
        "y_hier_moon = hier_moon.fit_predict(X_moon)\n",
        "\n",
        "plt.figure(figsize=(10, 5))\n",
        "plt.scatter(X_moon[:, 0], X_moon[:, 1], c=y_hier_moon, cmap='viridis', s=50, alpha=0.8)\n",
        "plt.title(f'Ay Şeklindeki Veriler - Hiyerarşik Kümeleme\\nAdjusted Rand Indeksi: {adjusted_rand_score(y_moon, y_hier_moon):.3f}')\n",
        "plt.grid(True)\n",
        "plt.savefig('hierarchical_clustering_moon.png')\n",
        "plt.close()\n",
        "print(\"Ay şeklindeki veriler üzerinde hiyerarşik kümeleme 'hierarchical_clustering_moon.png' olarak kaydedildi.\")\n",
        "\n"
      ]
    },
    {
      "cell_type": "markdown",
      "metadata": {},
      "source": [
        "4. DBSCAN (Density-Based Spatial Clustering of Applications with Noise)\n"
      ]
    },
    {
      "cell_type": "code",
      "execution_count": null,
      "metadata": {},
      "outputs": [],
      "source": [
        "print(\"\\n4. DBSCAN (Density-Based Spatial Clustering of Applications with Noise)\")\n",
        "print(\"-\"*50)\n",
        "\n"
      ]
    },
    {
      "cell_type": "markdown",
      "metadata": {},
      "source": [
        "DBSCAN Kümeleme\n"
      ]
    },
    {
      "cell_type": "markdown",
      "metadata": {},
      "source": [
        "Farklı epsilon değerleri ile\n"
      ]
    },
    {
      "cell_type": "code",
      "execution_count": null,
      "metadata": {},
      "outputs": [],
      "source": [
        "eps_values = [0.2, 0.5, 1.0]\n",
        "min_samples = 5\n",
        "\n",
        "fig, axes = plt.subplots(1, len(eps_values), figsize=(18, 5))\n",
        "\n",
        "for i, eps in enumerate(eps_values):\n",
        "    dbscan = DBSCAN(eps=eps, min_samples=min_samples)\n",
        "    y_dbscan = dbscan.fit_predict(X_moon)\n",
        "    \n",
        "    # -1 değeri gürültü noktalarını temsil eder\n",
        "    noise_points = (y_dbscan == -1)\n",
        "    axes[i].scatter(X_moon[~noise_points, 0], X_moon[~noise_points, 1], \n",
        "                    c=y_dbscan[~noise_points], cmap='viridis', s=50, alpha=0.8)\n",
        "    axes[i].scatter(X_moon[noise_points, 0], X_moon[noise_points, 1], \n",
        "                    c='black', s=20, alpha=0.5, marker='x')\n",
        "    \n",
        "    n_clusters = len(set(y_dbscan)) - (1 if -1 in y_dbscan else 0)\n",
        "    axes[i].set_title(f'DBSCAN (eps={eps}, min_samples={min_samples})\\nKüme Sayısı: {n_clusters}')\n",
        "    axes[i].grid(True)\n",
        "    \n",
        "plt.tight_layout()\n",
        "plt.savefig('dbscan_eps_comparison.png')\n",
        "plt.close()\n",
        "print(\"DBSCAN farklı epsilon değerleri karşılaştırması 'dbscan_eps_comparison.png' olarak kaydedildi.\")\n",
        "\n"
      ]
    },
    {
      "cell_type": "markdown",
      "metadata": {},
      "source": [
        "En iyi parametre ile DBSCAN\n"
      ]
    },
    {
      "cell_type": "code",
      "execution_count": null,
      "metadata": {},
      "outputs": [],
      "source": [
        "dbscan_optimal = DBSCAN(eps=0.2, min_samples=5)\n",
        "y_dbscan_moon = dbscan_optimal.fit_predict(X_moon)\n",
        "\n",
        "plt.figure(figsize=(12, 5))\n",
        "\n",
        "plt.subplot(121)\n",
        "plt.scatter(X_moon[:, 0], X_moon[:, 1], c=y_moon, cmap='viridis', s=50, alpha=0.8)\n",
        "plt.title('Ay Şeklindeki Veriler - Gerçek Kümeler')\n",
        "plt.grid(True)\n",
        "\n",
        "plt.subplot(122)\n",
        "noise_points = (y_dbscan_moon == -1)\n",
        "plt.scatter(X_moon[~noise_points, 0], X_moon[~noise_points, 1], \n",
        "            c=y_dbscan_moon[~noise_points], cmap='viridis', s=50, alpha=0.8)\n",
        "plt.scatter(X_moon[noise_points, 0], X_moon[noise_points, 1], \n",
        "            c='black', s=20, alpha=0.5, marker='x')\n",
        "\n",
        "n_clusters = len(set(y_dbscan_moon)) - (1 if -1 in y_dbscan_moon else 0)\n",
        "plt.title(f'DBSCAN Kümeleme\\nKüme Sayısı: {n_clusters}, Gürültü: {sum(noise_points)}')\n",
        "plt.grid(True)\n",
        "\n",
        "plt.tight_layout()\n",
        "plt.savefig('dbscan_moon_clustering.png')\n",
        "plt.close()\n",
        "print(\"DBSCAN ile ay şeklindeki veriler kümelemesi 'dbscan_moon_clustering.png' olarak kaydedildi.\")\n",
        "\n"
      ]
    },
    {
      "cell_type": "markdown",
      "metadata": {},
      "source": [
        "5. Algoritma Karşılaştırması\n"
      ]
    },
    {
      "cell_type": "code",
      "execution_count": null,
      "metadata": {},
      "outputs": [],
      "source": [
        "print(\"\\n5. Algoritma Karşılaştırması\")\n",
        "print(\"-\"*50)\n",
        "\n"
      ]
    },
    {
      "cell_type": "markdown",
      "metadata": {},
      "source": [
        "Üç algoritmanın Moon veri seti üzerinde karşılaştırılması\n"
      ]
    },
    {
      "cell_type": "markdown",
      "metadata": {},
      "source": [
        "1. K-Means\n"
      ]
    },
    {
      "cell_type": "code",
      "execution_count": null,
      "metadata": {},
      "outputs": [],
      "source": [
        "kmeans_moon = KMeans(n_clusters=2, random_state=42)\n",
        "y_kmeans_moon = kmeans_moon.fit_predict(X_moon)\n",
        "\n"
      ]
    },
    {
      "cell_type": "markdown",
      "metadata": {},
      "source": [
        "2. Agglomerative (ward linkage)\n"
      ]
    },
    {
      "cell_type": "code",
      "execution_count": null,
      "metadata": {},
      "outputs": [],
      "source": [
        "agg_moon = AgglomerativeClustering(n_clusters=2, linkage='ward')\n",
        "y_agg_moon = agg_moon.fit_predict(X_moon)\n",
        "\n"
      ]
    },
    {
      "cell_type": "markdown",
      "metadata": {},
      "source": [
        "3. DBSCAN (optimal parameters)\n"
      ]
    },
    {
      "cell_type": "code",
      "execution_count": null,
      "metadata": {},
      "outputs": [],
      "source": [
        "dbscan_moon = DBSCAN(eps=0.2, min_samples=5)\n",
        "y_dbscan_moon = dbscan_moon.fit_predict(X_moon)\n",
        "\n"
      ]
    },
    {
      "cell_type": "markdown",
      "metadata": {},
      "source": [
        "Sonuçları görselleştirme\n"
      ]
    },
    {
      "cell_type": "code",
      "execution_count": null,
      "metadata": {},
      "outputs": [],
      "source": [
        "plt.figure(figsize=(18, 5))\n",
        "\n",
        "plt.subplot(141)\n",
        "plt.scatter(X_moon[:, 0], X_moon[:, 1], c=y_moon, cmap='viridis', s=50, alpha=0.8)\n",
        "plt.title('Gerçek Kümeler')\n",
        "plt.grid(True)\n",
        "\n",
        "plt.subplot(142)\n",
        "plt.scatter(X_moon[:, 0], X_moon[:, 1], c=y_kmeans_moon, cmap='viridis', s=50, alpha=0.8)\n",
        "plt.title(f'K-Means\\nARI: {adjusted_rand_score(y_moon, y_kmeans_moon):.3f}')\n",
        "plt.grid(True)\n",
        "\n",
        "plt.subplot(143)\n",
        "plt.scatter(X_moon[:, 0], X_moon[:, 1], c=y_agg_moon, cmap='viridis', s=50, alpha=0.8)\n",
        "plt.title(f'Agglomerative\\nARI: {adjusted_rand_score(y_moon, y_agg_moon):.3f}')\n",
        "plt.grid(True)\n",
        "\n",
        "plt.subplot(144)\n",
        "noise_points = y_dbscan_moon == -1\n",
        "plt.scatter(X_moon[~noise_points, 0], X_moon[~noise_points, 1], \n",
        "            c=y_dbscan_moon[~noise_points], cmap='viridis', s=50, alpha=0.8)\n",
        "plt.scatter(X_moon[noise_points, 0], X_moon[noise_points, 1], \n",
        "            c='black', s=20, alpha=0.5, marker='x')\n",
        "plt.title(f'DBSCAN\\nARI: {adjusted_rand_score(y_moon, y_dbscan_moon):.3f}')\n",
        "plt.grid(True)\n",
        "\n",
        "plt.tight_layout()\n",
        "plt.savefig('clustering_algorithms_comparison.png')\n",
        "plt.close()\n",
        "print(\"Kümeleme algoritmaları karşılaştırması 'clustering_algorithms_comparison.png' olarak kaydedildi.\")\n",
        "\n"
      ]
    },
    {
      "cell_type": "markdown",
      "metadata": {},
      "source": [
        "Performans metrikleri karşılaştırma tablosu\n"
      ]
    },
    {
      "cell_type": "code",
      "execution_count": null,
      "metadata": {},
      "outputs": [],
      "source": [
        "algorithms = ['K-Means', 'Agglomerative', 'DBSCAN']\n",
        "results = {\n",
        "    'Moon Veri Seti ARI': [adjusted_rand_score(y_moon, y_kmeans_moon),\n",
        "                           adjusted_rand_score(y_moon, y_agg_moon),\n",
        "                           adjusted_rand_score(y_moon, y_dbscan_moon)],\n",
        "    'Küme Sayısı': [2, 2, len(set(y_dbscan_moon)) - (1 if -1 in y_dbscan_moon else 0)],\n",
        "    'Gürültü Noktaları': [0, 0, sum(y_dbscan_moon == -1)]\n",
        "}\n",
        "\n",
        "results_df = pd.DataFrame(results, index=algorithms)\n",
        "print(\"Algoritma Karşılaştırma Sonuçları:\")\n",
        "print(results_df) \n"
      ]
    }
  ],
  "metadata": {
    "kernelspec": {
      "display_name": "Python 3",
      "language": "python",
      "name": "python3"
    },
    "language_info": {
      "codemirror_mode": {
        "name": "ipython",
        "version": 3
      },
      "file_extension": ".py",
      "mimetype": "text/x-python",
      "name": "python",
      "nbconvert_exporter": "python",
      "pygments_lexer": "ipython3",
      "version": "3.8.8"
    }
  },
  "nbformat": 4,
  "nbformat_minor": 5
}
