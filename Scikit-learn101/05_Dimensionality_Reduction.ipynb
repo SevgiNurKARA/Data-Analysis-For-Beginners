{
  "cells": [
    {
      "cell_type": "markdown",
      "metadata": {},
      "source": [
        "# 05_Dimensionality_Reduction.py\n",
        "\n",
        "This notebook was automatically converted from a Python script."
      ]
    },
    {
      "cell_type": "code",
      "execution_count": null,
      "metadata": {},
      "outputs": [],
      "source": [
        "\n",
        "\"\"\"\n",
        "Scikit-learn Boyut İndirgeme Teknikleri\n",
        "\n",
        "Bu script, scikit-learn kütüphanesindeki boyut indirgeme tekniklerini göstermektedir.\n",
        "\"\"\"\n",
        "\n",
        "import numpy as np\n",
        "import pandas as pd\n",
        "import matplotlib.pyplot as plt\n",
        "import seaborn as sns\n",
        "\n",
        "from sklearn.datasets import load_digits, load_iris, fetch_olivetti_faces\n",
        "from sklearn.preprocessing import StandardScaler\n",
        "from sklearn.pipeline import Pipeline\n",
        "from sklearn.model_selection import train_test_split\n",
        "from sklearn.neighbors import KNeighborsClassifier\n",
        "from sklearn.metrics import accuracy_score\n",
        "\n"
      ]
    },
    {
      "cell_type": "markdown",
      "metadata": {},
      "source": [
        "Boyut İndirgeme Teknikleri\n"
      ]
    },
    {
      "cell_type": "code",
      "execution_count": null,
      "metadata": {},
      "outputs": [],
      "source": [
        "from sklearn.decomposition import PCA, KernelPCA, NMF, TruncatedSVD\n",
        "from sklearn.manifold import TSNE, MDS, Isomap, LocallyLinearEmbedding\n",
        "from sklearn.discriminant_analysis import LinearDiscriminantAnalysis\n",
        "\n"
      ]
    },
    {
      "cell_type": "markdown",
      "metadata": {},
      "source": [
        "%matplotlib inline\n"
      ]
    },
    {
      "cell_type": "code",
      "execution_count": null,
      "metadata": {},
      "outputs": [],
      "source": [
        "\n",
        "print(\"Scikit-learn Boyut İndirgeme Teknikleri\")\n",
        "print(\"=\"*50)\n",
        "\n"
      ]
    },
    {
      "cell_type": "markdown",
      "metadata": {},
      "source": [
        "1. Veri Yükleme ve Hazırlama\n"
      ]
    },
    {
      "cell_type": "code",
      "execution_count": null,
      "metadata": {},
      "outputs": [],
      "source": [
        "print(\"\\n1. Veri Yükleme ve Hazırlama\")\n",
        "print(\"-\"*50)\n",
        "\n"
      ]
    },
    {
      "cell_type": "markdown",
      "metadata": {},
      "source": [
        "Rakam veri seti\n"
      ]
    },
    {
      "cell_type": "code",
      "execution_count": null,
      "metadata": {},
      "outputs": [],
      "source": [
        "digits = load_digits()\n",
        "X_digits = digits.data\n",
        "y_digits = digits.target\n",
        "\n"
      ]
    },
    {
      "cell_type": "markdown",
      "metadata": {},
      "source": [
        "Iris veri seti\n"
      ]
    },
    {
      "cell_type": "code",
      "execution_count": null,
      "metadata": {},
      "outputs": [],
      "source": [
        "iris = load_iris()\n",
        "X_iris = iris.data\n",
        "y_iris = iris.target\n",
        "\n",
        "print(\"Rakam veri seti boyutu:\", X_digits.shape)\n",
        "print(\"Iris veri seti boyutu:\", X_iris.shape)\n",
        "\n"
      ]
    },
    {
      "cell_type": "markdown",
      "metadata": {},
      "source": [
        "Rakam örneklerini görselleştirme\n"
      ]
    },
    {
      "cell_type": "code",
      "execution_count": null,
      "metadata": {},
      "outputs": [],
      "source": [
        "fig, axes = plt.subplots(2, 5, figsize=(12, 5))\n",
        "for i, ax in enumerate(axes.flat):\n",
        "    ax.imshow(digits.images[i], cmap='binary')\n",
        "    ax.set_title(f'Digit: {digits.target[i]}')\n",
        "    ax.axis('off')\n",
        "    \n",
        "plt.tight_layout()\n",
        "plt.savefig('digit_examples.png')\n",
        "plt.close()\n",
        "print(\"Rakam örnekleri görselleştirmesi 'digit_examples.png' olarak kaydedildi.\")\n",
        "\n"
      ]
    },
    {
      "cell_type": "markdown",
      "metadata": {},
      "source": [
        "2. Temel Bileşen Analizi (PCA)\n"
      ]
    },
    {
      "cell_type": "code",
      "execution_count": null,
      "metadata": {},
      "outputs": [],
      "source": [
        "print(\"\\n2. Temel Bileşen Analizi (PCA)\")\n",
        "print(\"-\"*50)\n",
        "\n"
      ]
    },
    {
      "cell_type": "markdown",
      "metadata": {},
      "source": [
        "Iris veri seti üzerinde PCA\n"
      ]
    },
    {
      "cell_type": "markdown",
      "metadata": {},
      "source": [
        "Veriyi ölçeklendirme\n"
      ]
    },
    {
      "cell_type": "code",
      "execution_count": null,
      "metadata": {},
      "outputs": [],
      "source": [
        "scaler = StandardScaler()\n",
        "X_iris_scaled = scaler.fit_transform(X_iris)\n",
        "\n"
      ]
    },
    {
      "cell_type": "markdown",
      "metadata": {},
      "source": [
        "PCA uygulama\n"
      ]
    },
    {
      "cell_type": "code",
      "execution_count": null,
      "metadata": {},
      "outputs": [],
      "source": [
        "pca = PCA()\n",
        "X_iris_pca = pca.fit_transform(X_iris_scaled)\n",
        "\n"
      ]
    },
    {
      "cell_type": "markdown",
      "metadata": {},
      "source": [
        "Açıklanan varyans oranı\n"
      ]
    },
    {
      "cell_type": "code",
      "execution_count": null,
      "metadata": {},
      "outputs": [],
      "source": [
        "explained_variance_ratio = pca.explained_variance_ratio_\n",
        "cumulative_variance_ratio = np.cumsum(explained_variance_ratio)\n",
        "\n",
        "plt.figure(figsize=(12, 5))\n",
        "\n",
        "plt.subplot(121)\n",
        "plt.bar(range(1, len(explained_variance_ratio) + 1), explained_variance_ratio, alpha=0.7)\n",
        "plt.step(range(1, len(cumulative_variance_ratio) + 1), cumulative_variance_ratio, where='mid', color='red')\n",
        "plt.xlabel('Temel Bileşen')\n",
        "plt.ylabel('Açıklanan Varyans Oranı')\n",
        "plt.title('Iris Veri Seti - Temel Bileşenlerin Açıklanan Varyans Oranı')\n",
        "plt.grid(True)\n",
        "\n",
        "plt.subplot(122)\n",
        "plt.scatter(X_iris_pca[:, 0], X_iris_pca[:, 1], c=y_iris, cmap='viridis', s=50, alpha=0.8)\n",
        "plt.xlabel(f'Birinci Temel Bileşen ({explained_variance_ratio[0]:.2%})')\n",
        "plt.ylabel(f'İkinci Temel Bileşen ({explained_variance_ratio[1]:.2%})')\n",
        "plt.title('Iris Veri Seti - İlk İki Temel Bileşen')\n",
        "plt.colorbar(label='Sınıf')\n",
        "plt.grid(True)\n",
        "\n",
        "plt.tight_layout()\n",
        "plt.savefig('pca_iris.png')\n",
        "plt.close()\n",
        "print(\"PCA analizi görselleştirmesi 'pca_iris.png' olarak kaydedildi.\")\n",
        "\n"
      ]
    },
    {
      "cell_type": "markdown",
      "metadata": {},
      "source": [
        "Yük (loadings) matrisini görselleştirme\n"
      ]
    },
    {
      "cell_type": "code",
      "execution_count": null,
      "metadata": {},
      "outputs": [],
      "source": [
        "pca_loadings = pd.DataFrame(\n",
        "    pca.components_.T,\n",
        "    columns=[f'PC{i+1}' for i in range(pca.n_components_)],\n",
        "    index=iris.feature_names\n",
        ")\n",
        "\n",
        "plt.figure(figsize=(10, 6))\n",
        "sns.heatmap(pca_loadings, annot=True, cmap='coolwarm', linewidths=0.5)\n",
        "plt.title('PCA Yük Matrisi')\n",
        "plt.tight_layout()\n",
        "plt.savefig('pca_loadings.png')\n",
        "plt.close()\n",
        "print(\"PCA yük matrisi görselleştirmesi 'pca_loadings.png' olarak kaydedildi.\")\n",
        "\n"
      ]
    },
    {
      "cell_type": "markdown",
      "metadata": {},
      "source": [
        "3. Doğrusal Ayırt Edici Analiz (LDA)\n"
      ]
    },
    {
      "cell_type": "code",
      "execution_count": null,
      "metadata": {},
      "outputs": [],
      "source": [
        "print(\"\\n3. Doğrusal Ayırt Edici Analiz (LDA)\")\n",
        "print(\"-\"*50)\n",
        "\n"
      ]
    },
    {
      "cell_type": "markdown",
      "metadata": {},
      "source": [
        "LDA - Sınıf bilgisini kullanan denetimli boyut indirgeme\n"
      ]
    },
    {
      "cell_type": "code",
      "execution_count": null,
      "metadata": {},
      "outputs": [],
      "source": [
        "lda = LinearDiscriminantAnalysis(n_components=2)\n",
        "X_iris_lda = lda.fit_transform(X_iris_scaled, y_iris)\n",
        "\n"
      ]
    },
    {
      "cell_type": "markdown",
      "metadata": {},
      "source": [
        "LDA sonuçlarını görselleştirme\n"
      ]
    },
    {
      "cell_type": "code",
      "execution_count": null,
      "metadata": {},
      "outputs": [],
      "source": [
        "plt.figure(figsize=(12, 5))\n",
        "\n",
        "plt.subplot(121)\n",
        "plt.scatter(X_iris_pca[:, 0], X_iris_pca[:, 1], c=y_iris, cmap='viridis', s=50, alpha=0.8)\n",
        "plt.xlabel('Birinci Temel Bileşen')\n",
        "plt.ylabel('İkinci Temel Bileşen')\n",
        "plt.title('Iris Veri Seti - PCA')\n",
        "plt.grid(True)\n",
        "\n",
        "plt.subplot(122)\n",
        "plt.scatter(X_iris_lda[:, 0], X_iris_lda[:, 1], c=y_iris, cmap='viridis', s=50, alpha=0.8)\n",
        "plt.xlabel('Birinci LDA Bileşeni')\n",
        "plt.ylabel('İkinci LDA Bileşeni')\n",
        "plt.title('Iris Veri Seti - LDA')\n",
        "plt.grid(True)\n",
        "\n",
        "plt.tight_layout()\n",
        "plt.savefig('pca_vs_lda.png')\n",
        "plt.close()\n",
        "print(\"PCA ve LDA karşılaştırması görselleştirmesi 'pca_vs_lda.png' olarak kaydedildi.\")\n",
        "\n"
      ]
    },
    {
      "cell_type": "markdown",
      "metadata": {},
      "source": [
        "4. t-SNE (t-Distributed Stochastic Neighbor Embedding)\n"
      ]
    },
    {
      "cell_type": "code",
      "execution_count": null,
      "metadata": {},
      "outputs": [],
      "source": [
        "print(\"\\n4. t-SNE (t-Distributed Stochastic Neighbor Embedding)\")\n",
        "print(\"-\"*50)\n",
        "\n"
      ]
    },
    {
      "cell_type": "markdown",
      "metadata": {},
      "source": [
        "Rakam veri seti üzerinde t-SNE uygulama\n"
      ]
    },
    {
      "cell_type": "markdown",
      "metadata": {},
      "source": [
        "Veriyi ölçeklendirme\n"
      ]
    },
    {
      "cell_type": "code",
      "execution_count": null,
      "metadata": {},
      "outputs": [],
      "source": [
        "X_digits_scaled = StandardScaler().fit_transform(X_digits)\n",
        "\n"
      ]
    },
    {
      "cell_type": "markdown",
      "metadata": {},
      "source": [
        "t-SNE uygulama (yavaş olabilir, özellikle büyük veri setlerinde)\n"
      ]
    },
    {
      "cell_type": "code",
      "execution_count": null,
      "metadata": {},
      "outputs": [],
      "source": [
        "tsne = TSNE(n_components=2, random_state=42, perplexity=30)\n",
        "X_digits_tsne = tsne.fit_transform(X_digits_scaled)\n",
        "\n"
      ]
    },
    {
      "cell_type": "markdown",
      "metadata": {},
      "source": [
        "t-SNE sonuçlarını görselleştirme\n"
      ]
    },
    {
      "cell_type": "code",
      "execution_count": null,
      "metadata": {},
      "outputs": [],
      "source": [
        "plt.figure(figsize=(10, 8))\n",
        "scatter = plt.scatter(X_digits_tsne[:, 0], X_digits_tsne[:, 1], c=y_digits, cmap='tab10', s=50, alpha=0.8)\n",
        "plt.colorbar(scatter, label='Rakam')\n",
        "plt.title('Rakam Veri Seti - t-SNE ile Görselleştirme')\n",
        "plt.grid(True)\n",
        "plt.tight_layout()\n",
        "plt.savefig('tsne_digits.png')\n",
        "plt.close()\n",
        "print(\"t-SNE analizi görselleştirmesi 'tsne_digits.png' olarak kaydedildi.\")\n",
        "\n"
      ]
    },
    {
      "cell_type": "markdown",
      "metadata": {},
      "source": [
        "5. Farklı Perplexity Değerleri ile t-SNE\n"
      ]
    },
    {
      "cell_type": "code",
      "execution_count": null,
      "metadata": {},
      "outputs": [],
      "source": [
        "print(\"\\n5. Farklı Perplexity Değerleri ile t-SNE\")\n",
        "print(\"-\"*50)\n",
        "\n"
      ]
    },
    {
      "cell_type": "markdown",
      "metadata": {},
      "source": [
        "Farklı perplexity değerleri ile t-SNE\n"
      ]
    },
    {
      "cell_type": "code",
      "execution_count": null,
      "metadata": {},
      "outputs": [],
      "source": [
        "perplexities = [5, 30, 50, 100]\n",
        "fig, axes = plt.subplots(2, 2, figsize=(15, 12))\n",
        "axes = axes.flatten()\n",
        "\n",
        "for i, perplexity in enumerate(perplexities):\n",
        "    tsne = TSNE(n_components=2, random_state=42, perplexity=perplexity)\n",
        "    X_digits_tsne = tsne.fit_transform(X_digits_scaled[:500])  # İlk 500 örnek (daha hızlı)\n",
        "    \n",
        "    scatter = axes[i].scatter(X_digits_tsne[:, 0], X_digits_tsne[:, 1], \n",
        "                              c=y_digits[:500], cmap='tab10', s=40, alpha=0.8)\n",
        "    axes[i].set_title(f'Perplexity = {perplexity}')\n",
        "    axes[i].grid(True)\n",
        "    \n",
        "fig.colorbar(scatter, ax=axes, label='Rakam')\n",
        "plt.suptitle('t-SNE ile Farklı Perplexity Değerleri Karşılaştırması', fontsize=16)\n",
        "plt.tight_layout()\n",
        "plt.savefig('tsne_perplexity_comparison.png')\n",
        "plt.close()\n",
        "print(\"Farklı perplexity değerleri ile t-SNE karşılaştırması 'tsne_perplexity_comparison.png' olarak kaydedildi.\")\n",
        "\n"
      ]
    },
    {
      "cell_type": "markdown",
      "metadata": {},
      "source": [
        "6. Kernel PCA\n"
      ]
    },
    {
      "cell_type": "code",
      "execution_count": null,
      "metadata": {},
      "outputs": [],
      "source": [
        "print(\"\\n6. Kernel PCA\")\n",
        "print(\"-\"*50)\n",
        "\n"
      ]
    },
    {
      "cell_type": "markdown",
      "metadata": {},
      "source": [
        "Kernel PCA - doğrusal olmayan boyut indirgeme\n"
      ]
    },
    {
      "cell_type": "code",
      "execution_count": null,
      "metadata": {},
      "outputs": [],
      "source": [
        "kernels = ['linear', 'poly', 'rbf', 'sigmoid']\n",
        "fig, axes = plt.subplots(2, 2, figsize=(15, 12))\n",
        "axes = axes.flatten()\n",
        "\n",
        "for i, kernel in enumerate(kernels):\n",
        "    kpca = KernelPCA(n_components=2, kernel=kernel, random_state=42)\n",
        "    X_iris_kpca = kpca.fit_transform(X_iris_scaled)\n",
        "    \n",
        "    scatter = axes[i].scatter(X_iris_kpca[:, 0], X_iris_kpca[:, 1], \n",
        "                              c=y_iris, cmap='viridis', s=50, alpha=0.8)\n",
        "    axes[i].set_title(f'Kernel PCA - {kernel} çekirdeği')\n",
        "    axes[i].grid(True)\n",
        "    \n",
        "fig.colorbar(scatter, ax=axes, label='Sınıf')\n",
        "plt.suptitle('Farklı Çekirdek Fonksiyonları ile Kernel PCA', fontsize=16)\n",
        "plt.tight_layout()\n",
        "plt.savefig('kernel_pca_comparison.png')\n",
        "plt.close()\n",
        "print(\"Farklı çekirdeklerle Kernel PCA karşılaştırması 'kernel_pca_comparison.png' olarak kaydedildi.\")\n",
        "\n"
      ]
    },
    {
      "cell_type": "markdown",
      "metadata": {},
      "source": [
        "7. MDS (Multidimensional Scaling)\n"
      ]
    },
    {
      "cell_type": "code",
      "execution_count": null,
      "metadata": {},
      "outputs": [],
      "source": [
        "print(\"\\n7. MDS (Multidimensional Scaling)\")\n",
        "print(\"-\"*50)\n",
        "\n"
      ]
    },
    {
      "cell_type": "markdown",
      "metadata": {},
      "source": [
        "MDS uygulama\n"
      ]
    },
    {
      "cell_type": "code",
      "execution_count": null,
      "metadata": {},
      "outputs": [],
      "source": [
        "mds = MDS(n_components=2, random_state=42)\n",
        "X_iris_mds = mds.fit_transform(X_iris_scaled)\n",
        "\n",
        "plt.figure(figsize=(10, 8))\n",
        "scatter = plt.scatter(X_iris_mds[:, 0], X_iris_mds[:, 1], c=y_iris, cmap='viridis', s=50, alpha=0.8)\n",
        "plt.colorbar(scatter, label='Sınıf')\n",
        "plt.title('Iris Veri Seti - MDS ile Görselleştirme')\n",
        "plt.grid(True)\n",
        "plt.tight_layout()\n",
        "plt.savefig('mds_iris.png')\n",
        "plt.close()\n",
        "print(\"MDS analizi görselleştirmesi 'mds_iris.png' olarak kaydedildi.\")\n",
        "\n"
      ]
    },
    {
      "cell_type": "markdown",
      "metadata": {},
      "source": [
        "8. Isomap\n"
      ]
    },
    {
      "cell_type": "code",
      "execution_count": null,
      "metadata": {},
      "outputs": [],
      "source": [
        "print(\"\\n8. Isomap\")\n",
        "print(\"-\"*50)\n",
        "\n"
      ]
    },
    {
      "cell_type": "markdown",
      "metadata": {},
      "source": [
        "Isomap uygulama\n"
      ]
    },
    {
      "cell_type": "code",
      "execution_count": null,
      "metadata": {},
      "outputs": [],
      "source": [
        "isomap = Isomap(n_components=2, n_neighbors=10)\n",
        "X_iris_isomap = isomap.fit_transform(X_iris_scaled)\n",
        "\n",
        "plt.figure(figsize=(10, 8))\n",
        "scatter = plt.scatter(X_iris_isomap[:, 0], X_iris_isomap[:, 1], c=y_iris, cmap='viridis', s=50, alpha=0.8)\n",
        "plt.colorbar(scatter, label='Sınıf')\n",
        "plt.title('Iris Veri Seti - Isomap ile Görselleştirme')\n",
        "plt.grid(True)\n",
        "plt.tight_layout()\n",
        "plt.savefig('isomap_iris.png')\n",
        "plt.close()\n",
        "print(\"Isomap analizi görselleştirmesi 'isomap_iris.png' olarak kaydedildi.\")\n",
        "\n"
      ]
    },
    {
      "cell_type": "markdown",
      "metadata": {},
      "source": [
        "9. Boyut İndirgeme Tekniklerinin Karşılaştırılması\n"
      ]
    },
    {
      "cell_type": "code",
      "execution_count": null,
      "metadata": {},
      "outputs": [],
      "source": [
        "print(\"\\n9. Boyut İndirgeme Tekniklerinin Karşılaştırılması\")\n",
        "print(\"-\"*50)\n",
        "\n"
      ]
    },
    {
      "cell_type": "markdown",
      "metadata": {},
      "source": [
        "Boyut indirgeme tekniklerinin karşılaştırılması\n"
      ]
    },
    {
      "cell_type": "code",
      "execution_count": null,
      "metadata": {},
      "outputs": [],
      "source": [
        "techniques = [\n",
        "    ('PCA', PCA(n_components=2)),\n",
        "    ('LDA', LinearDiscriminantAnalysis(n_components=2)),\n",
        "    ('Kernel PCA (RBF)', KernelPCA(n_components=2, kernel='rbf')),\n",
        "    ('t-SNE', TSNE(n_components=2, random_state=42)),\n",
        "    ('MDS', MDS(n_components=2, random_state=42)),\n",
        "    ('Isomap', Isomap(n_components=2, n_neighbors=10))\n",
        "]\n",
        "\n",
        "fig, axes = plt.subplots(2, 3, figsize=(18, 12))\n",
        "axes = axes.flatten()\n",
        "\n",
        "for i, (name, technique) in enumerate(techniques):\n",
        "    if name == 'LDA':\n",
        "        X_transformed = technique.fit_transform(X_iris_scaled, y_iris)\n",
        "    else:\n",
        "        X_transformed = technique.fit_transform(X_iris_scaled)\n",
        "    \n",
        "    scatter = axes[i].scatter(X_transformed[:, 0], X_transformed[:, 1], \n",
        "                              c=y_iris, cmap='viridis', s=50, alpha=0.8)\n",
        "    axes[i].set_title(name)\n",
        "    axes[i].grid(True)\n",
        "    \n",
        "fig.colorbar(scatter, ax=axes, label='Sınıf')\n",
        "plt.suptitle('Iris Veri Seti - Boyut İndirgeme Teknikleri Karşılaştırması', fontsize=16)\n",
        "plt.tight_layout()\n",
        "plt.savefig('dimensionality_reduction_comparison.png')\n",
        "plt.close()\n",
        "print(\"Boyut indirgeme teknikleri karşılaştırması 'dimensionality_reduction_comparison.png' olarak kaydedildi.\")\n",
        "\n"
      ]
    },
    {
      "cell_type": "markdown",
      "metadata": {},
      "source": [
        "10. Sınıflandırma Performansı Karşılaştırması\n"
      ]
    },
    {
      "cell_type": "code",
      "execution_count": null,
      "metadata": {},
      "outputs": [],
      "source": [
        "print(\"\\n10. Sınıflandırma Performansı Karşılaştırması\")\n",
        "print(\"-\"*50)\n",
        "\n"
      ]
    },
    {
      "cell_type": "markdown",
      "metadata": {},
      "source": [
        "Boyut indirgeme tekniklerinin sınıflandırma performansı üzerindeki etkisi\n"
      ]
    },
    {
      "cell_type": "code",
      "execution_count": null,
      "metadata": {},
      "outputs": [],
      "source": [
        "X_train, X_test, y_train, y_test = train_test_split(X_digits, y_digits, test_size=0.3, random_state=42)\n",
        "\n"
      ]
    },
    {
      "cell_type": "markdown",
      "metadata": {},
      "source": [
        "Test edilecek bileşen sayıları\n"
      ]
    },
    {
      "cell_type": "code",
      "execution_count": null,
      "metadata": {},
      "outputs": [],
      "source": [
        "components = [2, 5, 10, 20, 30, 40, 50, 64]\n",
        "techniques = [\n",
        "    ('PCA', PCA),\n",
        "    ('Kernel PCA (RBF)', lambda n_components: KernelPCA(n_components=n_components, kernel='rbf')),\n",
        "    ('Truncated SVD', TruncatedSVD)\n",
        "]\n",
        "\n",
        "results = {}\n",
        "\n",
        "for name, technique in techniques:\n",
        "    scores = []\n",
        "    for n_components in components:\n",
        "        if n_components > min(X_train.shape):\n",
        "            scores.append(None)\n",
        "            continue\n",
        "            \n",
        "        # Veri ölçeklendirme ve boyut indirgeme pipeline'ı\n",
        "        dim_reduction = Pipeline([\n",
        "            ('scaler', StandardScaler()),\n",
        "            ('reduction', technique(n_components=n_components)),\n",
        "            ('classifier', KNeighborsClassifier(n_neighbors=5))\n",
        "        ])\n",
        "        \n",
        "        # Model eğitimi ve değerlendirme\n",
        "        dim_reduction.fit(X_train, y_train)\n",
        "        y_pred = dim_reduction.predict(X_test)\n",
        "        scores.append(accuracy_score(y_test, y_pred))\n",
        "    \n",
        "    results[name] = scores\n",
        "\n"
      ]
    },
    {
      "cell_type": "markdown",
      "metadata": {},
      "source": [
        "Sonuçları görselleştirme\n"
      ]
    },
    {
      "cell_type": "code",
      "execution_count": null,
      "metadata": {},
      "outputs": [],
      "source": [
        "plt.figure(figsize=(12, 7))\n",
        "for name, scores in results.items():\n",
        "    valid_components = [c for i, c in enumerate(components) if scores[i] is not None]\n",
        "    valid_scores = [s for s in scores if s is not None]\n",
        "    plt.plot(valid_components, valid_scores, marker='o', linestyle='-', linewidth=2, label=name)\n",
        "\n",
        "plt.xlabel('Bileşen Sayısı')\n",
        "plt.ylabel('Doğruluk')\n",
        "plt.title('Boyut İndirgeme Tekniklerinin Sınıflandırma Performansı Üzerindeki Etkisi')\n",
        "plt.legend()\n",
        "plt.grid(True)\n",
        "plt.tight_layout()\n",
        "plt.savefig('dimensionality_reduction_classification_performance.png')\n",
        "plt.close()\n",
        "print(\"Boyut indirgeme teknikleri sınıflandırma performansı karşılaştırması 'dimensionality_reduction_classification_performance.png' olarak kaydedildi.\") \n"
      ]
    }
  ],
  "metadata": {
    "kernelspec": {
      "display_name": "Python 3",
      "language": "python",
      "name": "python3"
    },
    "language_info": {
      "codemirror_mode": {
        "name": "ipython",
        "version": 3
      },
      "file_extension": ".py",
      "mimetype": "text/x-python",
      "name": "python",
      "nbconvert_exporter": "python",
      "pygments_lexer": "ipython3",
      "version": "3.8.8"
    }
  },
  "nbformat": 4,
  "nbformat_minor": 5
}
