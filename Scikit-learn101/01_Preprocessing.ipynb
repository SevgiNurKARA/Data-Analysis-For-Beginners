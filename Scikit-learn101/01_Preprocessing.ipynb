{
  "cells": [
    {
      "cell_type": "markdown",
      "metadata": {},
      "source": [
        "# 01_Preprocessing.py\n",
        "\n",
        "This notebook was automatically converted from a Python script."
      ]
    },
    {
      "cell_type": "code",
      "execution_count": null,
      "metadata": {},
      "outputs": [],
      "source": [
        "\n",
        "\"\"\"\n",
        "Scikit-learn Veri Ön İşleme (Preprocessing)\n",
        "\n",
        "Bu script, scikit-learn kütüphanesi ile veri ön işleme tekniklerini göstermektedir.\n",
        "\"\"\"\n",
        "\n",
        "import numpy as np\n",
        "import pandas as pd\n",
        "import matplotlib.pyplot as plt\n",
        "import seaborn as sns\n",
        "\n",
        "from sklearn import preprocessing\n",
        "from sklearn.preprocessing import StandardScaler, MinMaxScaler, RobustScaler\n",
        "from sklearn.preprocessing import LabelEncoder, OneHotEncoder\n",
        "from sklearn.impute import SimpleImputer\n",
        "from sklearn.compose import ColumnTransformer\n",
        "from sklearn.pipeline import Pipeline\n",
        "\n"
      ]
    },
    {
      "cell_type": "markdown",
      "metadata": {},
      "source": [
        "1. Eksik Verileri Doldurma (Imputation)\n"
      ]
    },
    {
      "cell_type": "code",
      "execution_count": null,
      "metadata": {},
      "outputs": [],
      "source": [
        "print(\"1. Eksik Verileri Doldurma (Imputation)\")\n",
        "print(\"-\" * 50)\n",
        "\n"
      ]
    },
    {
      "cell_type": "markdown",
      "metadata": {},
      "source": [
        "Örnek veri oluşturma\n"
      ]
    },
    {
      "cell_type": "code",
      "execution_count": null,
      "metadata": {},
      "outputs": [],
      "source": [
        "data = np.array([[1, 2], [np.nan, 3], [7, 6]])\n",
        "print(\"Orijinal veri:\\n\", data)\n",
        "\n"
      ]
    },
    {
      "cell_type": "markdown",
      "metadata": {},
      "source": [
        "SimpleImputer ile eksik verileri ortalama ile doldurma\n"
      ]
    },
    {
      "cell_type": "code",
      "execution_count": null,
      "metadata": {},
      "outputs": [],
      "source": [
        "imputer = SimpleImputer(missing_values=np.nan, strategy='mean')\n",
        "imputed_data = imputer.fit_transform(data)\n",
        "print(\"\\nEksik veriler doldurulmuş:\\n\", imputed_data)\n",
        "\n"
      ]
    },
    {
      "cell_type": "markdown",
      "metadata": {},
      "source": [
        "Farklı doldurma stratejileri\n"
      ]
    },
    {
      "cell_type": "code",
      "execution_count": null,
      "metadata": {},
      "outputs": [],
      "source": [
        "strategies = ['mean', 'median', 'most_frequent', 'constant']\n",
        "for strategy in strategies:\n",
        "    if strategy == 'constant':\n",
        "        imp = SimpleImputer(strategy=strategy, fill_value=0)\n",
        "    else:\n",
        "        imp = SimpleImputer(strategy=strategy)\n",
        "    print(f\"\\n{strategy} stratejisi ile:\\n\", imp.fit_transform(data))\n",
        "\n"
      ]
    },
    {
      "cell_type": "markdown",
      "metadata": {},
      "source": [
        "2. Özellik Ölçeklendirme (Feature Scaling)\n"
      ]
    },
    {
      "cell_type": "code",
      "execution_count": null,
      "metadata": {},
      "outputs": [],
      "source": [
        "print(\"\\n\\n2. Özellik Ölçeklendirme (Feature Scaling)\")\n",
        "print(\"-\" * 50)\n",
        "\n"
      ]
    },
    {
      "cell_type": "markdown",
      "metadata": {},
      "source": [
        "Örnek veri\n"
      ]
    },
    {
      "cell_type": "code",
      "execution_count": null,
      "metadata": {},
      "outputs": [],
      "source": [
        "X = np.array([[-1, 2], [-0.5, 6], [0, 10], [1, 18]])\n",
        "print(\"Orijinal veri:\\n\", X)\n",
        "\n"
      ]
    },
    {
      "cell_type": "markdown",
      "metadata": {},
      "source": [
        "StandardScaler (Z-score normalizasyonu)\n"
      ]
    },
    {
      "cell_type": "code",
      "execution_count": null,
      "metadata": {},
      "outputs": [],
      "source": [
        "scaler = StandardScaler()\n",
        "X_scaled = scaler.fit_transform(X)\n",
        "print(\"\\nStandardScaler sonrası:\\n\", X_scaled)\n",
        "print(\"Ortalama:\", scaler.mean_)\n",
        "print(\"Varyans:\", scaler.var_)\n",
        "\n"
      ]
    },
    {
      "cell_type": "markdown",
      "metadata": {},
      "source": [
        "MinMaxScaler (0-1 aralığına ölçeklendirme)\n"
      ]
    },
    {
      "cell_type": "code",
      "execution_count": null,
      "metadata": {},
      "outputs": [],
      "source": [
        "min_max_scaler = MinMaxScaler()\n",
        "X_min_max = min_max_scaler.fit_transform(X)\n",
        "print(\"\\nMinMaxScaler sonrası:\\n\", X_min_max)\n",
        "\n"
      ]
    },
    {
      "cell_type": "markdown",
      "metadata": {},
      "source": [
        "RobustScaler (medyan ve IQR kullanarak)\n"
      ]
    },
    {
      "cell_type": "code",
      "execution_count": null,
      "metadata": {},
      "outputs": [],
      "source": [
        "robust_scaler = RobustScaler()\n",
        "X_robust = robust_scaler.fit_transform(X)\n",
        "print(\"\\nRobustScaler sonrası:\\n\", X_robust)\n",
        "\n"
      ]
    },
    {
      "cell_type": "markdown",
      "metadata": {},
      "source": [
        "3. Kategorik Veri Kodlama (Encoding Categorical Data)\n"
      ]
    },
    {
      "cell_type": "code",
      "execution_count": null,
      "metadata": {},
      "outputs": [],
      "source": [
        "print(\"\\n\\n3. Kategorik Veri Kodlama (Encoding Categorical Data)\")\n",
        "print(\"-\" * 50)\n",
        "\n"
      ]
    },
    {
      "cell_type": "markdown",
      "metadata": {},
      "source": [
        "Kategorik veri örneği\n"
      ]
    },
    {
      "cell_type": "code",
      "execution_count": null,
      "metadata": {},
      "outputs": [],
      "source": [
        "kategorik_data = np.array(['kırmızı', 'yeşil', 'mavi', 'kırmızı', 'yeşil']).reshape(-1, 1)\n",
        "print(\"Orijinal kategorik veri:\\n\", kategorik_data)\n",
        "\n"
      ]
    },
    {
      "cell_type": "markdown",
      "metadata": {},
      "source": [
        "LabelEncoder - Etiketleri sayısal değerlere dönüştürme\n"
      ]
    },
    {
      "cell_type": "code",
      "execution_count": null,
      "metadata": {},
      "outputs": [],
      "source": [
        "label_encoder = LabelEncoder()\n",
        "encoded_data = label_encoder.fit_transform(kategorik_data.ravel())\n",
        "print(\"\\nLabelEncoder sonrası:\\n\", encoded_data)\n",
        "print(\"Sınıflar:\", label_encoder.classes_)\n",
        "\n"
      ]
    },
    {
      "cell_type": "markdown",
      "metadata": {},
      "source": [
        "OneHotEncoder - One-hot kodlama\n"
      ]
    },
    {
      "cell_type": "code",
      "execution_count": null,
      "metadata": {},
      "outputs": [],
      "source": [
        "onehot_encoder = OneHotEncoder(sparse_output=False)\n",
        "onehot_encoded = onehot_encoder.fit_transform(kategorik_data)\n",
        "print(\"\\nOneHotEncoder sonrası:\\n\", onehot_encoded)\n",
        "print(\"Kategoriler:\", onehot_encoder.categories_)\n",
        "\n"
      ]
    },
    {
      "cell_type": "markdown",
      "metadata": {},
      "source": [
        "4. Pipeline ve ColumnTransformer Kullanımı\n"
      ]
    },
    {
      "cell_type": "code",
      "execution_count": null,
      "metadata": {},
      "outputs": [],
      "source": [
        "print(\"\\n\\n4. Pipeline ve ColumnTransformer Kullanımı\")\n",
        "print(\"-\" * 50)\n",
        "\n"
      ]
    },
    {
      "cell_type": "markdown",
      "metadata": {},
      "source": [
        "Karışık (sayısal ve kategorik) veri örneği\n"
      ]
    },
    {
      "cell_type": "code",
      "execution_count": null,
      "metadata": {},
      "outputs": [],
      "source": [
        "df = pd.DataFrame({\n",
        "    'yaş': [25, 30, np.nan, 40, 35],\n",
        "    'gelir': [50000, np.nan, 70000, 90000, 65000],\n",
        "    'şehir': ['İstanbul', 'Ankara', 'İzmir', 'İstanbul', 'Ankara']\n",
        "})\n",
        "print(\"Orijinal veri:\\n\", df)\n",
        "\n"
      ]
    },
    {
      "cell_type": "markdown",
      "metadata": {},
      "source": [
        "Sayısal ve kategorik kolonları belirleme\n"
      ]
    },
    {
      "cell_type": "code",
      "execution_count": null,
      "metadata": {},
      "outputs": [],
      "source": [
        "numeric_features = ['yaş', 'gelir']\n",
        "categorical_features = ['şehir']\n",
        "\n"
      ]
    },
    {
      "cell_type": "markdown",
      "metadata": {},
      "source": [
        "Sayısal veriler için işlem pipeline'ı\n"
      ]
    },
    {
      "cell_type": "code",
      "execution_count": null,
      "metadata": {},
      "outputs": [],
      "source": [
        "numeric_transformer = Pipeline(steps=[\n",
        "    ('imputer', SimpleImputer(strategy='mean')),\n",
        "    ('scaler', StandardScaler())\n",
        "])\n",
        "\n"
      ]
    },
    {
      "cell_type": "markdown",
      "metadata": {},
      "source": [
        "Kategorik veriler için işlem pipeline'ı\n"
      ]
    },
    {
      "cell_type": "code",
      "execution_count": null,
      "metadata": {},
      "outputs": [],
      "source": [
        "categorical_transformer = Pipeline(steps=[\n",
        "    ('onehot', OneHotEncoder(handle_unknown='ignore'))\n",
        "])\n",
        "\n"
      ]
    },
    {
      "cell_type": "markdown",
      "metadata": {},
      "source": [
        "ColumnTransformer ile bunları birleştirme\n"
      ]
    },
    {
      "cell_type": "code",
      "execution_count": null,
      "metadata": {},
      "outputs": [],
      "source": [
        "preprocessor = ColumnTransformer(\n",
        "    transformers=[\n",
        "        ('num', numeric_transformer, numeric_features),\n",
        "        ('cat', categorical_transformer, categorical_features)\n",
        "    ])\n",
        "\n"
      ]
    },
    {
      "cell_type": "markdown",
      "metadata": {},
      "source": [
        "Veri ön işleme\n"
      ]
    },
    {
      "cell_type": "code",
      "execution_count": null,
      "metadata": {},
      "outputs": [],
      "source": [
        "processed_data = preprocessor.fit_transform(df)\n",
        "print(\"\\nİşlenmiş veri:\\n\", processed_data)\n",
        "\n"
      ]
    },
    {
      "cell_type": "markdown",
      "metadata": {},
      "source": [
        "One-hot encoded kategorik özellik adlarını alma\n"
      ]
    },
    {
      "cell_type": "code",
      "execution_count": null,
      "metadata": {},
      "outputs": [],
      "source": [
        "onehot_cols = preprocessor.transformers_[1][1].named_steps['onehot'].get_feature_names_out(['şehir'])\n",
        "\n"
      ]
    },
    {
      "cell_type": "markdown",
      "metadata": {},
      "source": [
        "Tüm sütun adlarını birleştirme\n"
      ]
    },
    {
      "cell_type": "code",
      "execution_count": null,
      "metadata": {},
      "outputs": [],
      "source": [
        "all_cols = numeric_features + list(onehot_cols)\n",
        "\n"
      ]
    },
    {
      "cell_type": "markdown",
      "metadata": {},
      "source": [
        "İşlenmiş veriyi DataFrame'e dönüştürme\n"
      ]
    },
    {
      "cell_type": "code",
      "execution_count": null,
      "metadata": {},
      "outputs": [],
      "source": [
        "processed_df = pd.DataFrame(processed_data, columns=all_cols)\n",
        "print(\"\\nİşlenmiş veri (DataFrame):\\n\", processed_df)\n",
        "\n"
      ]
    },
    {
      "cell_type": "markdown",
      "metadata": {},
      "source": [
        "Görselleştirme için örnek\n"
      ]
    },
    {
      "cell_type": "code",
      "execution_count": null,
      "metadata": {},
      "outputs": [],
      "source": [
        "plt.figure(figsize=(10, 6))\n",
        "plt.subplot(211)\n",
        "plt.bar(['Orjinal', 'StandardScaler', 'MinMaxScaler', 'RobustScaler'], \n",
        "       [X[0, 0], X_scaled[0, 0], X_min_max[0, 0], X_robust[0, 0]])\n",
        "plt.title('İlk Örneğin İlk Özelliğinin Ölçeklendirilmesi')\n",
        "\n",
        "plt.subplot(212)\n",
        "plt.bar(['Orjinal', 'StandardScaler', 'MinMaxScaler', 'RobustScaler'], \n",
        "       [X[0, 1], X_scaled[0, 1], X_min_max[0, 1], X_robust[0, 1]])\n",
        "plt.title('İlk Örneğin İkinci Özelliğinin Ölçeklendirilmesi')\n",
        "\n",
        "plt.tight_layout()\n",
        "plt.savefig('preprocessing_scaling.png')\n",
        "plt.close()\n",
        "\n",
        "print(\"\\nÖlçeklendirme grafiği 'preprocessing_scaling.png' olarak kaydedildi.\") \n"
      ]
    }
  ],
  "metadata": {
    "kernelspec": {
      "display_name": "Python 3",
      "language": "python",
      "name": "python3"
    },
    "language_info": {
      "codemirror_mode": {
        "name": "ipython",
        "version": 3
      },
      "file_extension": ".py",
      "mimetype": "text/x-python",
      "name": "python",
      "nbconvert_exporter": "python",
      "pygments_lexer": "ipython3",
      "version": "3.8.8"
    }
  },
  "nbformat": 4,
  "nbformat_minor": 5
}
