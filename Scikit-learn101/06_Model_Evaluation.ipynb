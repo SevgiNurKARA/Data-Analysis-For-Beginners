{
  "cells": [
    {
      "cell_type": "markdown",
      "metadata": {},
      "source": [
        "# 06_Model_Evaluation.py\n",
        "\n",
        "This notebook was automatically converted from a Python script."
      ]
    },
    {
      "cell_type": "code",
      "execution_count": null,
      "metadata": {},
      "outputs": [],
      "source": [
        "\n",
        "\"\"\"\n",
        "Scikit-learn Model Değerlendirme Teknikleri\n",
        "\n",
        "Bu script, scikit-learn kütüphanesindeki model değerlendirme yöntemlerini göstermektedir.\n",
        "\"\"\"\n",
        "\n",
        "import numpy as np\n",
        "import pandas as pd\n",
        "import matplotlib.pyplot as plt\n",
        "import seaborn as sns\n",
        "\n",
        "from sklearn.datasets import load_breast_cancer, load_boston, fetch_california_housing\n",
        "from sklearn.model_selection import train_test_split, cross_val_score, KFold, GridSearchCV\n",
        "from sklearn.model_selection import learning_curve, validation_curve\n",
        "from sklearn.preprocessing import StandardScaler\n",
        "from sklearn.pipeline import Pipeline\n",
        "\n"
      ]
    },
    {
      "cell_type": "markdown",
      "metadata": {},
      "source": [
        "Modeller\n"
      ]
    },
    {
      "cell_type": "code",
      "execution_count": null,
      "metadata": {},
      "outputs": [],
      "source": [
        "from sklearn.linear_model import LogisticRegression, Ridge\n",
        "from sklearn.ensemble import RandomForestClassifier, RandomForestRegressor\n",
        "from sklearn.svm import SVC\n",
        "\n"
      ]
    },
    {
      "cell_type": "markdown",
      "metadata": {},
      "source": [
        "Metrikler\n"
      ]
    },
    {
      "cell_type": "code",
      "execution_count": null,
      "metadata": {},
      "outputs": [],
      "source": [
        "from sklearn.metrics import confusion_matrix, classification_report, roc_curve, roc_auc_score\n",
        "from sklearn.metrics import precision_recall_curve, average_precision_score, f1_score\n",
        "from sklearn.metrics import mean_squared_error, r2_score, mean_absolute_error\n",
        "\n",
        "import warnings\n",
        "warnings.filterwarnings('ignore')\n",
        "\n"
      ]
    },
    {
      "cell_type": "markdown",
      "metadata": {},
      "source": [
        "%matplotlib inline\n"
      ]
    },
    {
      "cell_type": "code",
      "execution_count": null,
      "metadata": {},
      "outputs": [],
      "source": [
        "\n",
        "print(\"Scikit-learn Model Değerlendirme Teknikleri\")\n",
        "print(\"=\"*50)\n",
        "\n"
      ]
    },
    {
      "cell_type": "markdown",
      "metadata": {},
      "source": [
        "1. Sınıflandırma Değerlendirme\n"
      ]
    },
    {
      "cell_type": "code",
      "execution_count": null,
      "metadata": {},
      "outputs": [],
      "source": [
        "print(\"\\n1. Sınıflandırma Değerlendirme\")\n",
        "print(\"-\"*50)\n",
        "\n"
      ]
    },
    {
      "cell_type": "markdown",
      "metadata": {},
      "source": [
        "Meme kanseri veri seti\n"
      ]
    },
    {
      "cell_type": "code",
      "execution_count": null,
      "metadata": {},
      "outputs": [],
      "source": [
        "cancer = load_breast_cancer()\n",
        "X_cancer = cancer.data\n",
        "y_cancer = cancer.target\n",
        "\n",
        "print(\"Veri seti boyutu:\", X_cancer.shape)\n",
        "print(\"Sınıf dağılımı:\", np.bincount(y_cancer))\n",
        "print(\"Sınıf isimleri:\", cancer.target_names)\n",
        "\n"
      ]
    },
    {
      "cell_type": "markdown",
      "metadata": {},
      "source": [
        "Eğitim-Test ayırma\n"
      ]
    },
    {
      "cell_type": "code",
      "execution_count": null,
      "metadata": {},
      "outputs": [],
      "source": [
        "X_train, X_test, y_train, y_test = train_test_split(X_cancer, y_cancer, test_size=0.3, random_state=42)\n",
        "\n"
      ]
    },
    {
      "cell_type": "markdown",
      "metadata": {},
      "source": [
        "Model Pipeline (ölçeklendirme + model)\n"
      ]
    },
    {
      "cell_type": "code",
      "execution_count": null,
      "metadata": {},
      "outputs": [],
      "source": [
        "clf = Pipeline([\n",
        "    ('scaler', StandardScaler()),\n",
        "    ('classifier', LogisticRegression(max_iter=1000, random_state=42))\n",
        "])\n",
        "\n"
      ]
    },
    {
      "cell_type": "markdown",
      "metadata": {},
      "source": [
        "Model eğitimi\n"
      ]
    },
    {
      "cell_type": "code",
      "execution_count": null,
      "metadata": {},
      "outputs": [],
      "source": [
        "clf.fit(X_train, y_train)\n",
        "\n"
      ]
    },
    {
      "cell_type": "markdown",
      "metadata": {},
      "source": [
        "Tahminler\n"
      ]
    },
    {
      "cell_type": "code",
      "execution_count": null,
      "metadata": {},
      "outputs": [],
      "source": [
        "y_pred = clf.predict(X_test)\n",
        "y_pred_proba = clf.predict_proba(X_test)[:, 1]  # Pozitif sınıf olasılıkları\n",
        "\n"
      ]
    },
    {
      "cell_type": "markdown",
      "metadata": {},
      "source": [
        "1.1 Karmaşıklık Matrisi (Confusion Matrix)\n"
      ]
    },
    {
      "cell_type": "code",
      "execution_count": null,
      "metadata": {},
      "outputs": [],
      "source": [
        "print(\"\\n1.1 Karmaşıklık Matrisi (Confusion Matrix)\")\n",
        "print(\"-\"*50)\n",
        "\n"
      ]
    },
    {
      "cell_type": "markdown",
      "metadata": {},
      "source": [
        "Karmaşıklık matrisi hesaplama\n"
      ]
    },
    {
      "cell_type": "code",
      "execution_count": null,
      "metadata": {},
      "outputs": [],
      "source": [
        "cm = confusion_matrix(y_test, y_pred)\n",
        "\n"
      ]
    },
    {
      "cell_type": "markdown",
      "metadata": {},
      "source": [
        "Görselleştirme\n"
      ]
    },
    {
      "cell_type": "code",
      "execution_count": null,
      "metadata": {},
      "outputs": [],
      "source": [
        "plt.figure(figsize=(8, 6))\n",
        "sns.heatmap(cm, annot=True, fmt='d', cmap='Blues',\n",
        "            xticklabels=cancer.target_names,\n",
        "            yticklabels=cancer.target_names)\n",
        "plt.xlabel('Tahmin')\n",
        "plt.ylabel('Gerçek')\n",
        "plt.title('Karmaşıklık Matrisi')\n",
        "plt.tight_layout()\n",
        "plt.savefig('confusion_matrix.png')\n",
        "plt.close()\n",
        "print(\"Karmaşıklık matrisi görselleştirmesi 'confusion_matrix.png' olarak kaydedildi.\")\n",
        "\n"
      ]
    },
    {
      "cell_type": "markdown",
      "metadata": {},
      "source": [
        "Sınıflandırma raporu\n"
      ]
    },
    {
      "cell_type": "code",
      "execution_count": null,
      "metadata": {},
      "outputs": [],
      "source": [
        "print(\"\\nSınıflandırma Raporu:\")\n",
        "print(classification_report(y_test, y_pred, target_names=cancer.target_names))\n",
        "\n"
      ]
    },
    {
      "cell_type": "markdown",
      "metadata": {},
      "source": [
        "1.2 ROC Eğrisi ve AUC\n"
      ]
    },
    {
      "cell_type": "code",
      "execution_count": null,
      "metadata": {},
      "outputs": [],
      "source": [
        "print(\"\\n1.2 ROC Eğrisi ve AUC\")\n",
        "print(\"-\"*50)\n",
        "\n"
      ]
    },
    {
      "cell_type": "markdown",
      "metadata": {},
      "source": [
        "ROC Eğrisi\n"
      ]
    },
    {
      "cell_type": "code",
      "execution_count": null,
      "metadata": {},
      "outputs": [],
      "source": [
        "fpr, tpr, thresholds = roc_curve(y_test, y_pred_proba)\n",
        "auc = roc_auc_score(y_test, y_pred_proba)\n",
        "\n",
        "plt.figure(figsize=(8, 6))\n",
        "plt.plot(fpr, tpr, label=f'AUC = {auc:.3f}')\n",
        "plt.plot([0, 1], [0, 1], 'k--', label='Rastgele Tahmin (AUC = 0.5)')\n",
        "plt.xlabel('Yanlış Pozitif Oranı')\n",
        "plt.ylabel('Doğru Pozitif Oranı')\n",
        "plt.title('ROC Eğrisi')\n",
        "plt.legend()\n",
        "plt.grid(True)\n",
        "plt.tight_layout()\n",
        "plt.savefig('roc_curve.png')\n",
        "plt.close()\n",
        "print(\"ROC eğrisi görselleştirmesi 'roc_curve.png' olarak kaydedildi.\")\n",
        "\n"
      ]
    },
    {
      "cell_type": "markdown",
      "metadata": {},
      "source": [
        "1.3 Precision-Recall Eğrisi\n"
      ]
    },
    {
      "cell_type": "code",
      "execution_count": null,
      "metadata": {},
      "outputs": [],
      "source": [
        "print(\"\\n1.3 Precision-Recall Eğrisi\")\n",
        "print(\"-\"*50)\n",
        "\n"
      ]
    },
    {
      "cell_type": "markdown",
      "metadata": {},
      "source": [
        "Precision-Recall Eğrisi\n"
      ]
    },
    {
      "cell_type": "code",
      "execution_count": null,
      "metadata": {},
      "outputs": [],
      "source": [
        "precision, recall, thresholds = precision_recall_curve(y_test, y_pred_proba)\n",
        "avg_precision = average_precision_score(y_test, y_pred_proba)\n",
        "\n",
        "plt.figure(figsize=(8, 6))\n",
        "plt.plot(recall, precision, label=f'Ortalama Precision = {avg_precision:.3f}')\n",
        "plt.xlabel('Recall (Duyarlılık)')\n",
        "plt.ylabel('Precision (Kesinlik)')\n",
        "plt.title('Precision-Recall Eğrisi')\n",
        "plt.legend()\n",
        "plt.grid(True)\n",
        "plt.tight_layout()\n",
        "plt.savefig('precision_recall_curve.png')\n",
        "plt.close()\n",
        "print(\"Precision-Recall eğrisi görselleştirmesi 'precision_recall_curve.png' olarak kaydedildi.\")\n",
        "\n"
      ]
    },
    {
      "cell_type": "markdown",
      "metadata": {},
      "source": [
        "1.4 Çapraz Doğrulama (Cross-Validation)\n"
      ]
    },
    {
      "cell_type": "code",
      "execution_count": null,
      "metadata": {},
      "outputs": [],
      "source": [
        "print(\"\\n1.4 Çapraz Doğrulama (Cross-Validation)\")\n",
        "print(\"-\"*50)\n",
        "\n"
      ]
    },
    {
      "cell_type": "markdown",
      "metadata": {},
      "source": [
        "K-fold çapraz doğrulama\n"
      ]
    },
    {
      "cell_type": "code",
      "execution_count": null,
      "metadata": {},
      "outputs": [],
      "source": [
        "kfold = KFold(n_splits=5, shuffle=True, random_state=42)\n",
        "\n"
      ]
    },
    {
      "cell_type": "markdown",
      "metadata": {},
      "source": [
        "Farklı modeller için çapraz doğrulama skoru\n"
      ]
    },
    {
      "cell_type": "code",
      "execution_count": null,
      "metadata": {},
      "outputs": [],
      "source": [
        "models = {\n",
        "    'Lojistik Regresyon': Pipeline([('scaler', StandardScaler()),\n",
        "                                    ('clf', LogisticRegression(max_iter=1000, random_state=42))]),\n",
        "    'Random Forest': Pipeline([('scaler', StandardScaler()),\n",
        "                              ('clf', RandomForestClassifier(random_state=42))]),\n",
        "    'SVM': Pipeline([('scaler', StandardScaler()),\n",
        "                     ('clf', SVC(probability=True, random_state=42))])\n",
        "}\n",
        "\n",
        "cv_results = {}\n",
        "\n",
        "for name, model in models.items():\n",
        "    cv_scores = cross_val_score(model, X_cancer, y_cancer, cv=kfold, scoring='accuracy')\n",
        "    cv_results[name] = cv_scores\n",
        "    print(f\"{name}: {cv_scores.mean():.4f} (±{cv_scores.std():.4f})\")\n",
        "\n"
      ]
    },
    {
      "cell_type": "markdown",
      "metadata": {},
      "source": [
        "Görselleştirme\n"
      ]
    },
    {
      "cell_type": "code",
      "execution_count": null,
      "metadata": {},
      "outputs": [],
      "source": [
        "plt.figure(figsize=(10, 6))\n",
        "plt.boxplot([cv_results[name] for name in models.keys()], labels=models.keys())\n",
        "plt.title('Çapraz Doğrulama Skorları')\n",
        "plt.ylabel('Doğruluk')\n",
        "plt.grid(axis='y', linestyle='--', alpha=0.7)\n",
        "plt.tight_layout()\n",
        "plt.savefig('cross_validation_scores.png')\n",
        "plt.close()\n",
        "print(\"Çapraz doğrulama skorları görselleştirmesi 'cross_validation_scores.png' olarak kaydedildi.\")\n",
        "\n"
      ]
    },
    {
      "cell_type": "markdown",
      "metadata": {},
      "source": [
        "2. Regresyon Değerlendirme\n"
      ]
    },
    {
      "cell_type": "code",
      "execution_count": null,
      "metadata": {},
      "outputs": [],
      "source": [
        "print(\"\\n2. Regresyon Değerlendirme\")\n",
        "print(\"-\"*50)\n",
        "\n"
      ]
    },
    {
      "cell_type": "markdown",
      "metadata": {},
      "source": [
        "California konut veri seti\n"
      ]
    },
    {
      "cell_type": "code",
      "execution_count": null,
      "metadata": {},
      "outputs": [],
      "source": [
        "try:\n",
        "    housing = fetch_california_housing()\n",
        "    X_housing = housing.data\n",
        "    y_housing = housing.target\n",
        "    dataset_name = \"California Housing\"\n",
        "except:\n",
        "    # Boston veri seti alternatifi\n",
        "    try:\n",
        "        boston = load_boston()\n",
        "        X_housing = boston.data\n",
        "        y_housing = boston.target\n",
        "        dataset_name = \"Boston Housing\"\n",
        "    except:\n",
        "        # Eğer her ikisi de çalışmazsa, yapay veri oluştur\n",
        "        from sklearn.datasets import make_regression\n",
        "        X_housing, y_housing = make_regression(n_samples=1000, n_features=10, noise=0.1, random_state=42)\n",
        "        dataset_name = \"Yapay Regresyon\"\n",
        "\n",
        "print(f\"{dataset_name} veri seti yüklendi.\")\n",
        "print(\"Veri seti boyutu:\", X_housing.shape)\n",
        "\n"
      ]
    },
    {
      "cell_type": "markdown",
      "metadata": {},
      "source": [
        "Eğitim-Test ayırma\n"
      ]
    },
    {
      "cell_type": "code",
      "execution_count": null,
      "metadata": {},
      "outputs": [],
      "source": [
        "X_train, X_test, y_train, y_test = train_test_split(X_housing, y_housing, test_size=0.3, random_state=42)\n",
        "\n"
      ]
    },
    {
      "cell_type": "markdown",
      "metadata": {},
      "source": [
        "Model Pipeline (ölçeklendirme + model)\n"
      ]
    },
    {
      "cell_type": "code",
      "execution_count": null,
      "metadata": {},
      "outputs": [],
      "source": [
        "reg = Pipeline([\n",
        "    ('scaler', StandardScaler()),\n",
        "    ('regressor', Ridge(alpha=1.0, random_state=42))\n",
        "])\n",
        "\n"
      ]
    },
    {
      "cell_type": "markdown",
      "metadata": {},
      "source": [
        "Model eğitimi\n"
      ]
    },
    {
      "cell_type": "code",
      "execution_count": null,
      "metadata": {},
      "outputs": [],
      "source": [
        "reg.fit(X_train, y_train)\n",
        "\n"
      ]
    },
    {
      "cell_type": "markdown",
      "metadata": {},
      "source": [
        "Tahminler\n"
      ]
    },
    {
      "cell_type": "code",
      "execution_count": null,
      "metadata": {},
      "outputs": [],
      "source": [
        "y_pred = reg.predict(X_test)\n",
        "\n"
      ]
    },
    {
      "cell_type": "markdown",
      "metadata": {},
      "source": [
        "2.1 Temel Metrikler\n"
      ]
    },
    {
      "cell_type": "code",
      "execution_count": null,
      "metadata": {},
      "outputs": [],
      "source": [
        "print(\"\\n2.1 Temel Metrikler\")\n",
        "print(\"-\"*50)\n",
        "\n"
      ]
    },
    {
      "cell_type": "markdown",
      "metadata": {},
      "source": [
        "MSE, RMSE, MAE ve R² hesaplama\n"
      ]
    },
    {
      "cell_type": "code",
      "execution_count": null,
      "metadata": {},
      "outputs": [],
      "source": [
        "mse = mean_squared_error(y_test, y_pred)\n",
        "rmse = np.sqrt(mse)\n",
        "mae = mean_absolute_error(y_test, y_pred)\n",
        "r2 = r2_score(y_test, y_pred)\n",
        "\n",
        "print(f\"MSE: {mse:.4f}\")\n",
        "print(f\"RMSE: {rmse:.4f}\")\n",
        "print(f\"MAE: {mae:.4f}\")\n",
        "print(f\"R²: {r2:.4f}\")\n",
        "\n"
      ]
    },
    {
      "cell_type": "markdown",
      "metadata": {},
      "source": [
        "Gerçek vs Tahmin grafiği\n"
      ]
    },
    {
      "cell_type": "code",
      "execution_count": null,
      "metadata": {},
      "outputs": [],
      "source": [
        "plt.figure(figsize=(8, 6))\n",
        "plt.scatter(y_test, y_pred, alpha=0.5)\n",
        "plt.plot([y_housing.min(), y_housing.max()], [y_housing.min(), y_housing.max()], 'r--')\n",
        "plt.xlabel('Gerçek Değerler')\n",
        "plt.ylabel('Tahmin Edilen Değerler')\n",
        "plt.title('Gerçek vs Tahmin')\n",
        "plt.grid(True)\n",
        "plt.tight_layout()\n",
        "plt.savefig('true_vs_pred.png')\n",
        "plt.close()\n",
        "print(\"Gerçek vs tahmin değerleri görselleştirmesi 'true_vs_pred.png' olarak kaydedildi.\")\n",
        "\n"
      ]
    },
    {
      "cell_type": "markdown",
      "metadata": {},
      "source": [
        "Artık (Residual) analizi\n"
      ]
    },
    {
      "cell_type": "code",
      "execution_count": null,
      "metadata": {},
      "outputs": [],
      "source": [
        "residuals = y_test - y_pred\n",
        "\n",
        "plt.figure(figsize=(12, 5))\n",
        "\n",
        "plt.subplot(121)\n",
        "plt.scatter(y_pred, residuals, alpha=0.5)\n",
        "plt.axhline(y=0, color='r', linestyle='--')\n",
        "plt.xlabel('Tahmin Edilen Değerler')\n",
        "plt.ylabel('Artıklar (Residuals)')\n",
        "plt.title('Artık Analizi')\n",
        "plt.grid(True)\n",
        "\n",
        "plt.subplot(122)\n",
        "plt.hist(residuals, bins=30, edgecolor='black', alpha=0.7)\n",
        "plt.xlabel('Artıklar (Residuals)')\n",
        "plt.ylabel('Frekans')\n",
        "plt.title('Artık Dağılımı')\n",
        "plt.grid(True)\n",
        "\n",
        "plt.tight_layout()\n",
        "plt.savefig('residual_analysis.png')\n",
        "plt.close()\n",
        "print(\"Artık analizi görselleştirmesi 'residual_analysis.png' olarak kaydedildi.\")\n",
        "\n"
      ]
    },
    {
      "cell_type": "markdown",
      "metadata": {},
      "source": [
        "2.2 Regresyon için Çapraz Doğrulama\n"
      ]
    },
    {
      "cell_type": "code",
      "execution_count": null,
      "metadata": {},
      "outputs": [],
      "source": [
        "print(\"\\n2.2 Regresyon için Çapraz Doğrulama\")\n",
        "print(\"-\"*50)\n",
        "\n"
      ]
    },
    {
      "cell_type": "markdown",
      "metadata": {},
      "source": [
        "Farklı regresyon modelleri için çapraz doğrulama skoru\n"
      ]
    },
    {
      "cell_type": "code",
      "execution_count": null,
      "metadata": {},
      "outputs": [],
      "source": [
        "reg_models = {\n",
        "    'Ridge': Pipeline([('scaler', StandardScaler()),\n",
        "                       ('reg', Ridge(alpha=1.0, random_state=42))]),\n",
        "    'Random Forest': Pipeline([('scaler', StandardScaler()),\n",
        "                              ('reg', RandomForestRegressor(n_estimators=100, random_state=42))])\n",
        "}\n",
        "\n",
        "cv_reg_results = {}\n",
        "\n",
        "for name, model in reg_models.items():\n",
        "    mse_scores = -cross_val_score(model, X_housing, y_housing, cv=kfold, scoring='neg_mean_squared_error')\n",
        "    rmse_scores = np.sqrt(mse_scores)\n",
        "    r2_scores = cross_val_score(model, X_housing, y_housing, cv=kfold, scoring='r2')\n",
        "    \n",
        "    cv_reg_results[name] = {'RMSE': rmse_scores, 'R²': r2_scores}\n",
        "    \n",
        "    print(f\"{name}:\")\n",
        "    print(f\"  RMSE: {rmse_scores.mean():.4f} (±{rmse_scores.std():.4f})\")\n",
        "    print(f\"  R²: {r2_scores.mean():.4f} (±{r2_scores.std():.4f})\")\n",
        "\n"
      ]
    },
    {
      "cell_type": "markdown",
      "metadata": {},
      "source": [
        "Görselleştirme\n"
      ]
    },
    {
      "cell_type": "code",
      "execution_count": null,
      "metadata": {},
      "outputs": [],
      "source": [
        "plt.figure(figsize=(14, 6))\n",
        "\n",
        "plt.subplot(121)\n",
        "plt.boxplot([cv_reg_results[name]['RMSE'] for name in reg_models.keys()], labels=reg_models.keys())\n",
        "plt.title('RMSE Çapraz Doğrulama Skorları (Düşük Daha İyi)')\n",
        "plt.ylabel('RMSE')\n",
        "plt.grid(axis='y', linestyle='--', alpha=0.7)\n",
        "\n",
        "plt.subplot(122)\n",
        "plt.boxplot([cv_reg_results[name]['R²'] for name in reg_models.keys()], labels=reg_models.keys())\n",
        "plt.title('R² Çapraz Doğrulama Skorları (Yüksek Daha İyi)')\n",
        "plt.ylabel('R²')\n",
        "plt.grid(axis='y', linestyle='--', alpha=0.7)\n",
        "\n",
        "plt.tight_layout()\n",
        "plt.savefig('regression_cross_validation.png')\n",
        "plt.close()\n",
        "print(\"Regresyon çapraz doğrulama skorları görselleştirmesi 'regression_cross_validation.png' olarak kaydedildi.\")\n",
        "\n"
      ]
    },
    {
      "cell_type": "markdown",
      "metadata": {},
      "source": [
        "3. Hiperparametre Optimizasyonu\n"
      ]
    },
    {
      "cell_type": "code",
      "execution_count": null,
      "metadata": {},
      "outputs": [],
      "source": [
        "print(\"\\n3. Hiperparametre Optimizasyonu\")\n",
        "print(\"-\"*50)\n",
        "\n"
      ]
    },
    {
      "cell_type": "markdown",
      "metadata": {},
      "source": [
        "Grid Search ile hiperparametre optimizasyonu\n"
      ]
    },
    {
      "cell_type": "markdown",
      "metadata": {},
      "source": [
        "Sınıflandırma modeli için\n"
      ]
    },
    {
      "cell_type": "code",
      "execution_count": null,
      "metadata": {},
      "outputs": [],
      "source": [
        "param_grid = {\n",
        "    'classifier__C': [0.001, 0.01, 0.1, 1, 10, 100],\n",
        "    'classifier__penalty': ['l1', 'l2'],\n",
        "    'classifier__solver': ['liblinear', 'saga']\n",
        "}\n",
        "\n",
        "grid_search = GridSearchCV(\n",
        "    estimator=Pipeline([('scaler', StandardScaler()),\n",
        "                        ('classifier', LogisticRegression(max_iter=1000, random_state=42))]),\n",
        "    param_grid=param_grid,\n",
        "    cv=5,\n",
        "    scoring='accuracy',\n",
        "    n_jobs=-1\n",
        ")\n",
        "\n"
      ]
    },
    {
      "cell_type": "markdown",
      "metadata": {},
      "source": [
        "Grid Search'ü çalıştır\n"
      ]
    },
    {
      "cell_type": "code",
      "execution_count": null,
      "metadata": {},
      "outputs": [],
      "source": [
        "grid_search.fit(X_cancer, y_cancer)\n",
        "\n"
      ]
    },
    {
      "cell_type": "markdown",
      "metadata": {},
      "source": [
        "En iyi parametreler ve skor\n"
      ]
    },
    {
      "cell_type": "code",
      "execution_count": null,
      "metadata": {},
      "outputs": [],
      "source": [
        "print(\"En iyi parametreler:\", grid_search.best_params_)\n",
        "print(\"En iyi çapraz doğrulama skoru:\", grid_search.best_score_)\n",
        "\n"
      ]
    },
    {
      "cell_type": "markdown",
      "metadata": {},
      "source": [
        "Sonuçların incelenmesi\n"
      ]
    },
    {
      "cell_type": "code",
      "execution_count": null,
      "metadata": {},
      "outputs": [],
      "source": [
        "cv_results = pd.DataFrame(grid_search.cv_results_)\n",
        "cv_results = cv_results.sort_values('rank_test_score')\n",
        "\n",
        "print(\"\\nEn iyi 5 parametre kombinasyonu:\")\n",
        "columns_to_show = [c for c in cv_results.columns if 'param_' in c or 'mean_test_score' in c or 'std_test_score' in c]\n",
        "print(cv_results[columns_to_show].head(5))\n",
        "\n"
      ]
    },
    {
      "cell_type": "markdown",
      "metadata": {},
      "source": [
        "4. Öğrenme Eğrileri (Learning Curves)\n"
      ]
    },
    {
      "cell_type": "code",
      "execution_count": null,
      "metadata": {},
      "outputs": [],
      "source": [
        "print(\"\\n4. Öğrenme Eğrileri (Learning Curves)\")\n",
        "print(\"-\"*50)\n",
        "\n"
      ]
    },
    {
      "cell_type": "markdown",
      "metadata": {},
      "source": [
        "Öğrenme eğrileri - aşırı uyum/düşük uyum tespiti için\n"
      ]
    },
    {
      "cell_type": "code",
      "execution_count": null,
      "metadata": {},
      "outputs": [],
      "source": [
        "train_sizes, train_scores, test_scores = learning_curve(\n",
        "    estimator=grid_search.best_estimator_,\n",
        "    X=X_cancer,\n",
        "    y=y_cancer,\n",
        "    train_sizes=np.linspace(0.1, 1.0, 10),\n",
        "    cv=5,\n",
        "    scoring='accuracy',\n",
        "    n_jobs=-1\n",
        ")\n",
        "\n",
        "train_mean = np.mean(train_scores, axis=1)\n",
        "train_std = np.std(train_scores, axis=1)\n",
        "test_mean = np.mean(test_scores, axis=1)\n",
        "test_std = np.std(test_scores, axis=1)\n",
        "\n",
        "plt.figure(figsize=(10, 6))\n",
        "plt.plot(train_sizes, train_mean, 'o-', color='r', label='Eğitim skoru')\n",
        "plt.fill_between(train_sizes, train_mean - train_std, train_mean + train_std, alpha=0.1, color='r')\n",
        "plt.plot(train_sizes, test_mean, 'o-', color='g', label='Çapraz doğrulama skoru')\n",
        "plt.fill_between(train_sizes, test_mean - test_std, test_mean + test_std, alpha=0.1, color='g')\n",
        "plt.xlabel('Eğitim Örnek Sayısı')\n",
        "plt.ylabel('Doğruluk')\n",
        "plt.title('Öğrenme Eğrisi')\n",
        "plt.legend(loc='best')\n",
        "plt.grid(True)\n",
        "plt.tight_layout()\n",
        "plt.savefig('learning_curve.png')\n",
        "plt.close()\n",
        "print(\"Öğrenme eğrisi görselleştirmesi 'learning_curve.png' olarak kaydedildi.\")\n",
        "\n"
      ]
    },
    {
      "cell_type": "markdown",
      "metadata": {},
      "source": [
        "5. Validasyon Eğrileri (Validation Curves)\n"
      ]
    },
    {
      "cell_type": "code",
      "execution_count": null,
      "metadata": {},
      "outputs": [],
      "source": [
        "print(\"\\n5. Validasyon Eğrileri (Validation Curves)\")\n",
        "print(\"-\"*50)\n",
        "\n"
      ]
    },
    {
      "cell_type": "markdown",
      "metadata": {},
      "source": [
        "Validasyon eğrileri - hiperparametre etkisi\n"
      ]
    },
    {
      "cell_type": "markdown",
      "metadata": {},
      "source": [
        "C parametresi için validasyon eğrisi\n"
      ]
    },
    {
      "cell_type": "code",
      "execution_count": null,
      "metadata": {},
      "outputs": [],
      "source": [
        "param_range = np.logspace(-3, 3, 7)\n",
        "train_scores, test_scores = validation_curve(\n",
        "    estimator=Pipeline([('scaler', StandardScaler()),\n",
        "                         ('classifier', LogisticRegression(max_iter=1000, random_state=42))]),\n",
        "    X=X_cancer,\n",
        "    y=y_cancer,\n",
        "    param_name=\"classifier__C\",\n",
        "    param_range=param_range,\n",
        "    cv=5,\n",
        "    scoring='accuracy',\n",
        "    n_jobs=-1\n",
        ")\n",
        "\n",
        "train_mean = np.mean(train_scores, axis=1)\n",
        "train_std = np.std(train_scores, axis=1)\n",
        "test_mean = np.mean(test_scores, axis=1)\n",
        "test_std = np.std(test_scores, axis=1)\n",
        "\n",
        "plt.figure(figsize=(10, 6))\n",
        "plt.semilogx(param_range, train_mean, 'o-', color='r', label='Eğitim skoru')\n",
        "plt.fill_between(param_range, train_mean - train_std, train_mean + train_std, alpha=0.1, color='r')\n",
        "plt.semilogx(param_range, test_mean, 'o-', color='g', label='Çapraz doğrulama skoru')\n",
        "plt.fill_between(param_range, test_mean - test_std, test_mean + test_std, alpha=0.1, color='g')\n",
        "plt.xlabel('C Parametresi')\n",
        "plt.ylabel('Doğruluk')\n",
        "plt.title('Validasyon Eğrisi')\n",
        "plt.legend(loc='best')\n",
        "plt.grid(True)\n",
        "plt.tight_layout()\n",
        "plt.savefig('validation_curve.png')\n",
        "plt.close()\n",
        "print(\"Validasyon eğrisi görselleştirmesi 'validation_curve.png' olarak kaydedildi.\") \n"
      ]
    }
  ],
  "metadata": {
    "kernelspec": {
      "display_name": "Python 3",
      "language": "python",
      "name": "python3"
    },
    "language_info": {
      "codemirror_mode": {
        "name": "ipython",
        "version": 3
      },
      "file_extension": ".py",
      "mimetype": "text/x-python",
      "name": "python",
      "nbconvert_exporter": "python",
      "pygments_lexer": "ipython3",
      "version": "3.8.8"
    }
  },
  "nbformat": 4,
  "nbformat_minor": 5
}
