{
  "cells": [
    {
      "cell_type": "markdown",
      "metadata": {},
      "source": [
        "# 02_Classification.py\n",
        "\n",
        "This notebook was automatically converted from a Python script."
      ]
    },
    {
      "cell_type": "code",
      "execution_count": null,
      "metadata": {},
      "outputs": [],
      "source": [
        "\n",
        "\"\"\"\n",
        "Scikit-learn Sınıflandırma Algoritmaları\n",
        "\n",
        "Bu script, scikit-learn kütüphanesindeki temel sınıflandırma algoritmalarını göstermektedir.\n",
        "\"\"\"\n",
        "\n",
        "import numpy as np\n",
        "import pandas as pd\n",
        "import matplotlib.pyplot as plt\n",
        "import seaborn as sns\n",
        "\n",
        "from sklearn.datasets import load_iris, load_breast_cancer, make_classification\n",
        "from sklearn.model_selection import train_test_split, cross_val_score\n",
        "from sklearn.preprocessing import StandardScaler\n",
        "from sklearn.metrics import classification_report, confusion_matrix, accuracy_score\n",
        "\n"
      ]
    },
    {
      "cell_type": "markdown",
      "metadata": {},
      "source": [
        "Sınıflandırıcılar\n"
      ]
    },
    {
      "cell_type": "code",
      "execution_count": null,
      "metadata": {},
      "outputs": [],
      "source": [
        "from sklearn.linear_model import LogisticRegression\n",
        "from sklearn.neighbors import KNeighborsClassifier\n",
        "from sklearn.svm import SVC\n",
        "from sklearn.tree import DecisionTreeClassifier\n",
        "from sklearn.ensemble import RandomForestClassifier\n",
        "from sklearn.naive_bayes import GaussianNB\n",
        "\n"
      ]
    },
    {
      "cell_type": "markdown",
      "metadata": {},
      "source": [
        "%matplotlib inline\n"
      ]
    },
    {
      "cell_type": "code",
      "execution_count": null,
      "metadata": {},
      "outputs": [],
      "source": [
        "\n",
        "print(\"Scikit-learn Sınıflandırma Algoritmaları\")\n",
        "print(\"=\"*50)\n",
        "\n"
      ]
    },
    {
      "cell_type": "markdown",
      "metadata": {},
      "source": [
        "1. Veri Yükleme ve Ön İşleme\n"
      ]
    },
    {
      "cell_type": "code",
      "execution_count": null,
      "metadata": {},
      "outputs": [],
      "source": [
        "print(\"\\n1. Veri Yükleme ve Ön İşleme\")\n",
        "print(\"-\"*50)\n",
        "\n"
      ]
    },
    {
      "cell_type": "markdown",
      "metadata": {},
      "source": [
        "İris veri setini yükle\n"
      ]
    },
    {
      "cell_type": "code",
      "execution_count": null,
      "metadata": {},
      "outputs": [],
      "source": [
        "iris = load_iris()\n",
        "X = iris.data\n",
        "y = iris.target\n",
        "feature_names = iris.feature_names\n",
        "target_names = iris.target_names\n",
        "\n",
        "print(\"Veri seti boyutu:\", X.shape)\n",
        "print(\"Özellik isimleri:\", feature_names)\n",
        "print(\"Sınıf isimleri:\", target_names)\n",
        "print(\"Sınıf dağılımı:\", np.bincount(y))\n",
        "\n"
      ]
    },
    {
      "cell_type": "markdown",
      "metadata": {},
      "source": [
        "Eğitim ve test kümelerine ayırma\n"
      ]
    },
    {
      "cell_type": "code",
      "execution_count": null,
      "metadata": {},
      "outputs": [],
      "source": [
        "X_train, X_test, y_train, y_test = train_test_split(X, y, test_size=0.3, random_state=42)\n",
        "\n"
      ]
    },
    {
      "cell_type": "markdown",
      "metadata": {},
      "source": [
        "Veri ölçeklendirme\n"
      ]
    },
    {
      "cell_type": "code",
      "execution_count": null,
      "metadata": {},
      "outputs": [],
      "source": [
        "scaler = StandardScaler()\n",
        "X_train_scaled = scaler.fit_transform(X_train)\n",
        "X_test_scaled = scaler.transform(X_test)\n",
        "\n"
      ]
    },
    {
      "cell_type": "markdown",
      "metadata": {},
      "source": [
        "2. Lojistik Regresyon\n"
      ]
    },
    {
      "cell_type": "code",
      "execution_count": null,
      "metadata": {},
      "outputs": [],
      "source": [
        "print(\"\\n2. Lojistik Regresyon\")\n",
        "print(\"-\"*50)\n",
        "\n"
      ]
    },
    {
      "cell_type": "markdown",
      "metadata": {},
      "source": [
        "Lojistik Regresyon modeli\n"
      ]
    },
    {
      "cell_type": "code",
      "execution_count": null,
      "metadata": {},
      "outputs": [],
      "source": [
        "lr = LogisticRegression(random_state=42, max_iter=200)\n",
        "lr.fit(X_train_scaled, y_train)\n",
        "\n"
      ]
    },
    {
      "cell_type": "markdown",
      "metadata": {},
      "source": [
        "Tahmin\n"
      ]
    },
    {
      "cell_type": "code",
      "execution_count": null,
      "metadata": {},
      "outputs": [],
      "source": [
        "y_pred_lr = lr.predict(X_test_scaled)\n",
        "\n"
      ]
    },
    {
      "cell_type": "markdown",
      "metadata": {},
      "source": [
        "Performans değerlendirme\n"
      ]
    },
    {
      "cell_type": "code",
      "execution_count": null,
      "metadata": {},
      "outputs": [],
      "source": [
        "print(\"Lojistik Regresyon Doğruluk:\", accuracy_score(y_test, y_pred_lr))\n",
        "print(\"\\nSınıflandırma Raporu:\")\n",
        "print(classification_report(y_test, y_pred_lr, target_names=target_names))\n",
        "\n"
      ]
    },
    {
      "cell_type": "markdown",
      "metadata": {},
      "source": [
        "Karmaşıklık matrisi\n"
      ]
    },
    {
      "cell_type": "code",
      "execution_count": null,
      "metadata": {},
      "outputs": [],
      "source": [
        "cm = confusion_matrix(y_test, y_pred_lr)\n",
        "print(\"\\nKarmaşıklık Matrisi:\")\n",
        "print(cm)\n",
        "\n"
      ]
    },
    {
      "cell_type": "markdown",
      "metadata": {},
      "source": [
        "Karmaşıklık matrisini görselleştirme\n"
      ]
    },
    {
      "cell_type": "code",
      "execution_count": null,
      "metadata": {},
      "outputs": [],
      "source": [
        "plt.figure(figsize=(8, 6))\n",
        "sns.heatmap(cm, annot=True, fmt='d', cmap='Blues',\n",
        "            xticklabels=target_names, yticklabels=target_names)\n",
        "plt.xlabel('Tahmin')\n",
        "plt.ylabel('Gerçek')\n",
        "plt.title('Lojistik Regresyon - Karmaşıklık Matrisi')\n",
        "plt.tight_layout()\n",
        "plt.savefig('logistic_regression_confusion_matrix.png')\n",
        "plt.close()\n",
        "print(\"Karmaşıklık matrisi grafiği 'logistic_regression_confusion_matrix.png' olarak kaydedildi.\")\n",
        "\n"
      ]
    },
    {
      "cell_type": "markdown",
      "metadata": {},
      "source": [
        "3. K-En Yakın Komşu (KNN)\n"
      ]
    },
    {
      "cell_type": "code",
      "execution_count": null,
      "metadata": {},
      "outputs": [],
      "source": [
        "print(\"\\n3. K-En Yakın Komşu (KNN)\")\n",
        "print(\"-\"*50)\n",
        "\n"
      ]
    },
    {
      "cell_type": "markdown",
      "metadata": {},
      "source": [
        "K değerini belirleme\n"
      ]
    },
    {
      "cell_type": "code",
      "execution_count": null,
      "metadata": {},
      "outputs": [],
      "source": [
        "neighbors = range(1, 21)\n",
        "cv_scores = []\n",
        "\n",
        "for k in neighbors:\n",
        "    knn = KNeighborsClassifier(n_neighbors=k)\n",
        "    scores = cross_val_score(knn, X_train_scaled, y_train, cv=10, scoring='accuracy')\n",
        "    cv_scores.append(scores.mean())\n",
        "\n"
      ]
    },
    {
      "cell_type": "markdown",
      "metadata": {},
      "source": [
        "En iyi K değeri\n"
      ]
    },
    {
      "cell_type": "code",
      "execution_count": null,
      "metadata": {},
      "outputs": [],
      "source": [
        "optimal_k = neighbors[np.argmax(cv_scores)]\n",
        "print(\"En yüksek çapraz doğrulama skoru:\", max(cv_scores))\n",
        "print(\"En iyi K değeri:\", optimal_k)\n",
        "\n"
      ]
    },
    {
      "cell_type": "markdown",
      "metadata": {},
      "source": [
        "K değerlerine göre doğruluk grafiği\n"
      ]
    },
    {
      "cell_type": "code",
      "execution_count": null,
      "metadata": {},
      "outputs": [],
      "source": [
        "plt.figure(figsize=(10, 6))\n",
        "plt.plot(neighbors, cv_scores, marker='o')\n",
        "plt.xlabel('Komşu Sayısı (K)')\n",
        "plt.ylabel('Doğruluk')\n",
        "plt.title('K Değerine Göre KNN Performansı')\n",
        "plt.xticks(neighbors)\n",
        "plt.grid(True)\n",
        "plt.savefig('knn_k_values.png')\n",
        "plt.close()\n",
        "print(\"KNN K değerleri grafiği 'knn_k_values.png' olarak kaydedildi.\")\n",
        "\n"
      ]
    },
    {
      "cell_type": "markdown",
      "metadata": {},
      "source": [
        "Optimal K ile KNN modeli\n"
      ]
    },
    {
      "cell_type": "code",
      "execution_count": null,
      "metadata": {},
      "outputs": [],
      "source": [
        "knn = KNeighborsClassifier(n_neighbors=optimal_k)\n",
        "knn.fit(X_train_scaled, y_train)\n",
        "y_pred_knn = knn.predict(X_test_scaled)\n",
        "\n"
      ]
    },
    {
      "cell_type": "markdown",
      "metadata": {},
      "source": [
        "Performans değerlendirme\n"
      ]
    },
    {
      "cell_type": "code",
      "execution_count": null,
      "metadata": {},
      "outputs": [],
      "source": [
        "print(\"\\nKNN Doğruluk:\", accuracy_score(y_test, y_pred_knn))\n",
        "print(\"\\nSınıflandırma Raporu:\")\n",
        "print(classification_report(y_test, y_pred_knn, target_names=target_names))\n",
        "\n"
      ]
    },
    {
      "cell_type": "markdown",
      "metadata": {},
      "source": [
        "4. Destek Vektör Makinesi (SVM)\n"
      ]
    },
    {
      "cell_type": "code",
      "execution_count": null,
      "metadata": {},
      "outputs": [],
      "source": [
        "print(\"\\n4. Destek Vektör Makinesi (SVM)\")\n",
        "print(\"-\"*50)\n",
        "\n"
      ]
    },
    {
      "cell_type": "markdown",
      "metadata": {},
      "source": [
        "SVM modeli\n"
      ]
    },
    {
      "cell_type": "code",
      "execution_count": null,
      "metadata": {},
      "outputs": [],
      "source": [
        "svm = SVC(kernel='rbf', random_state=42)\n",
        "svm.fit(X_train_scaled, y_train)\n",
        "\n"
      ]
    },
    {
      "cell_type": "markdown",
      "metadata": {},
      "source": [
        "Tahmin\n"
      ]
    },
    {
      "cell_type": "code",
      "execution_count": null,
      "metadata": {},
      "outputs": [],
      "source": [
        "y_pred_svm = svm.predict(X_test_scaled)\n",
        "\n"
      ]
    },
    {
      "cell_type": "markdown",
      "metadata": {},
      "source": [
        "Performans değerlendirme\n"
      ]
    },
    {
      "cell_type": "code",
      "execution_count": null,
      "metadata": {},
      "outputs": [],
      "source": [
        "print(\"SVM Doğruluk:\", accuracy_score(y_test, y_pred_svm))\n",
        "print(\"\\nSınıflandırma Raporu:\")\n",
        "print(classification_report(y_test, y_pred_svm, target_names=target_names))\n",
        "\n"
      ]
    },
    {
      "cell_type": "markdown",
      "metadata": {},
      "source": [
        "Farklı çekirdek (kernel) fonksiyonları\n"
      ]
    },
    {
      "cell_type": "code",
      "execution_count": null,
      "metadata": {},
      "outputs": [],
      "source": [
        "kernels = ['linear', 'poly', 'rbf', 'sigmoid']\n",
        "kernel_scores = []\n",
        "\n",
        "for kernel in kernels:\n",
        "    svm = SVC(kernel=kernel)\n",
        "    scores = cross_val_score(svm, X_train_scaled, y_train, cv=5, scoring='accuracy')\n",
        "    kernel_scores.append(scores.mean())\n",
        "    print(f\"{kernel} çekirdeği ortalama doğruluk: {scores.mean():.4f}\")\n",
        "\n"
      ]
    },
    {
      "cell_type": "markdown",
      "metadata": {},
      "source": [
        "Çekirdek karşılaştırma grafiği\n"
      ]
    },
    {
      "cell_type": "code",
      "execution_count": null,
      "metadata": {},
      "outputs": [],
      "source": [
        "plt.figure(figsize=(10, 6))\n",
        "plt.bar(kernels, kernel_scores, color='skyblue')\n",
        "plt.xlabel('Çekirdek Fonksiyonu')\n",
        "plt.ylabel('Doğruluk')\n",
        "plt.title('SVM - Çekirdek Fonksiyonlarının Karşılaştırması')\n",
        "plt.ylim(0.8, 1.0)\n",
        "plt.grid(axis='y', linestyle='--', alpha=0.7)\n",
        "plt.savefig('svm_kernels.png')\n",
        "plt.close()\n",
        "print(\"SVM çekirdek karşılaştırma grafiği 'svm_kernels.png' olarak kaydedildi.\")\n",
        "\n"
      ]
    },
    {
      "cell_type": "markdown",
      "metadata": {},
      "source": [
        "5. Karar Ağacı\n"
      ]
    },
    {
      "cell_type": "code",
      "execution_count": null,
      "metadata": {},
      "outputs": [],
      "source": [
        "print(\"\\n5. Karar Ağacı\")\n",
        "print(\"-\"*50)\n",
        "\n"
      ]
    },
    {
      "cell_type": "markdown",
      "metadata": {},
      "source": [
        "Karar ağacı modeli\n"
      ]
    },
    {
      "cell_type": "code",
      "execution_count": null,
      "metadata": {},
      "outputs": [],
      "source": [
        "dt = DecisionTreeClassifier(random_state=42)\n",
        "dt.fit(X_train, y_train)  # Ölçeklendirmeye gerek yok\n",
        "\n"
      ]
    },
    {
      "cell_type": "markdown",
      "metadata": {},
      "source": [
        "Tahmin\n"
      ]
    },
    {
      "cell_type": "code",
      "execution_count": null,
      "metadata": {},
      "outputs": [],
      "source": [
        "y_pred_dt = dt.predict(X_test)\n",
        "\n"
      ]
    },
    {
      "cell_type": "markdown",
      "metadata": {},
      "source": [
        "Performans değerlendirme\n"
      ]
    },
    {
      "cell_type": "code",
      "execution_count": null,
      "metadata": {},
      "outputs": [],
      "source": [
        "print(\"Karar Ağacı Doğruluk:\", accuracy_score(y_test, y_pred_dt))\n",
        "print(\"\\nSınıflandırma Raporu:\")\n",
        "print(classification_report(y_test, y_pred_dt, target_names=target_names))\n",
        "\n"
      ]
    },
    {
      "cell_type": "markdown",
      "metadata": {},
      "source": [
        "Özellik önem dereceleri\n"
      ]
    },
    {
      "cell_type": "code",
      "execution_count": null,
      "metadata": {},
      "outputs": [],
      "source": [
        "feature_importance = dt.feature_importances_\n",
        "sorted_idx = np.argsort(feature_importance)\n",
        "\n",
        "plt.figure(figsize=(10, 6))\n",
        "plt.barh(range(len(sorted_idx)), feature_importance[sorted_idx], align='center')\n",
        "plt.yticks(range(len(sorted_idx)), [feature_names[i] for i in sorted_idx])\n",
        "plt.xlabel('Özellik Önem Derecesi')\n",
        "plt.title('Karar Ağacı - Özellik Önem Dereceleri')\n",
        "plt.tight_layout()\n",
        "plt.savefig('decision_tree_feature_importance.png')\n",
        "plt.close()\n",
        "print(\"Karar ağacı özellik önem dereceleri grafiği 'decision_tree_feature_importance.png' olarak kaydedildi.\")\n",
        "\n"
      ]
    },
    {
      "cell_type": "markdown",
      "metadata": {},
      "source": [
        "6. Rastgele Orman\n"
      ]
    },
    {
      "cell_type": "code",
      "execution_count": null,
      "metadata": {},
      "outputs": [],
      "source": [
        "print(\"\\n6. Rastgele Orman\")\n",
        "print(\"-\"*50)\n",
        "\n"
      ]
    },
    {
      "cell_type": "markdown",
      "metadata": {},
      "source": [
        "Rastgele orman modeli\n"
      ]
    },
    {
      "cell_type": "code",
      "execution_count": null,
      "metadata": {},
      "outputs": [],
      "source": [
        "rf = RandomForestClassifier(n_estimators=100, random_state=42)\n",
        "rf.fit(X_train, y_train)  # Ölçeklendirmeye gerek yok\n",
        "\n"
      ]
    },
    {
      "cell_type": "markdown",
      "metadata": {},
      "source": [
        "Tahmin\n"
      ]
    },
    {
      "cell_type": "code",
      "execution_count": null,
      "metadata": {},
      "outputs": [],
      "source": [
        "y_pred_rf = rf.predict(X_test)\n",
        "\n"
      ]
    },
    {
      "cell_type": "markdown",
      "metadata": {},
      "source": [
        "Performans değerlendirme\n"
      ]
    },
    {
      "cell_type": "code",
      "execution_count": null,
      "metadata": {},
      "outputs": [],
      "source": [
        "print(\"Rastgele Orman Doğruluk:\", accuracy_score(y_test, y_pred_rf))\n",
        "print(\"\\nSınıflandırma Raporu:\")\n",
        "print(classification_report(y_test, y_pred_rf, target_names=target_names))\n",
        "\n"
      ]
    },
    {
      "cell_type": "markdown",
      "metadata": {},
      "source": [
        "Özellik önem dereceleri\n"
      ]
    },
    {
      "cell_type": "code",
      "execution_count": null,
      "metadata": {},
      "outputs": [],
      "source": [
        "feature_importance = rf.feature_importances_\n",
        "sorted_idx = np.argsort(feature_importance)\n",
        "\n",
        "plt.figure(figsize=(10, 6))\n",
        "plt.barh(range(len(sorted_idx)), feature_importance[sorted_idx], align='center')\n",
        "plt.yticks(range(len(sorted_idx)), [feature_names[i] for i in sorted_idx])\n",
        "plt.xlabel('Özellik Önem Derecesi')\n",
        "plt.title('Rastgele Orman - Özellik Önem Dereceleri')\n",
        "plt.tight_layout()\n",
        "plt.savefig('random_forest_feature_importance.png')\n",
        "plt.close()\n",
        "print(\"Rastgele orman özellik önem dereceleri grafiği 'random_forest_feature_importance.png' olarak kaydedildi.\")\n",
        "\n"
      ]
    },
    {
      "cell_type": "markdown",
      "metadata": {},
      "source": [
        "7. Naive Bayes\n"
      ]
    },
    {
      "cell_type": "code",
      "execution_count": null,
      "metadata": {},
      "outputs": [],
      "source": [
        "print(\"\\n7. Naive Bayes\")\n",
        "print(\"-\"*50)\n",
        "\n"
      ]
    },
    {
      "cell_type": "markdown",
      "metadata": {},
      "source": [
        "Naive Bayes modeli\n"
      ]
    },
    {
      "cell_type": "code",
      "execution_count": null,
      "metadata": {},
      "outputs": [],
      "source": [
        "nb = GaussianNB()\n",
        "nb.fit(X_train_scaled, y_train)\n",
        "\n"
      ]
    },
    {
      "cell_type": "markdown",
      "metadata": {},
      "source": [
        "Tahmin\n"
      ]
    },
    {
      "cell_type": "code",
      "execution_count": null,
      "metadata": {},
      "outputs": [],
      "source": [
        "y_pred_nb = nb.predict(X_test_scaled)\n",
        "\n"
      ]
    },
    {
      "cell_type": "markdown",
      "metadata": {},
      "source": [
        "Performans değerlendirme\n"
      ]
    },
    {
      "cell_type": "code",
      "execution_count": null,
      "metadata": {},
      "outputs": [],
      "source": [
        "print(\"Naive Bayes Doğruluk:\", accuracy_score(y_test, y_pred_nb))\n",
        "print(\"\\nSınıflandırma Raporu:\")\n",
        "print(classification_report(y_test, y_pred_nb, target_names=target_names))\n",
        "\n"
      ]
    },
    {
      "cell_type": "markdown",
      "metadata": {},
      "source": [
        "8. Model Karşılaştırma\n"
      ]
    },
    {
      "cell_type": "code",
      "execution_count": null,
      "metadata": {},
      "outputs": [],
      "source": [
        "print(\"\\n8. Model Karşılaştırma\")\n",
        "print(\"-\"*50)\n",
        "\n"
      ]
    },
    {
      "cell_type": "markdown",
      "metadata": {},
      "source": [
        "Tüm modelleri karşılaştırma\n"
      ]
    },
    {
      "cell_type": "code",
      "execution_count": null,
      "metadata": {},
      "outputs": [],
      "source": [
        "models = {\n",
        "    'Lojistik Regresyon': LogisticRegression(random_state=42, max_iter=200),\n",
        "    'KNN': KNeighborsClassifier(n_neighbors=optimal_k),\n",
        "    'SVM': SVC(kernel='rbf', random_state=42),\n",
        "    'Karar Ağacı': DecisionTreeClassifier(random_state=42),\n",
        "    'Rastgele Orman': RandomForestClassifier(n_estimators=100, random_state=42),\n",
        "    'Naive Bayes': GaussianNB()\n",
        "}\n",
        "\n"
      ]
    },
    {
      "cell_type": "markdown",
      "metadata": {},
      "source": [
        "Çapraz doğrulama ile değerlendirme\n"
      ]
    },
    {
      "cell_type": "code",
      "execution_count": null,
      "metadata": {},
      "outputs": [],
      "source": [
        "cv_results = {}\n",
        "for name, model in models.items():\n",
        "    scores = cross_val_score(model, X, y, cv=10, scoring='accuracy')\n",
        "    cv_results[name] = scores\n",
        "    print(f\"{name} - Ortalama Doğruluk: {scores.mean():.4f} (±{scores.std():.4f})\")\n",
        "\n"
      ]
    },
    {
      "cell_type": "markdown",
      "metadata": {},
      "source": [
        "Karşılaştırma grafiği\n"
      ]
    },
    {
      "cell_type": "code",
      "execution_count": null,
      "metadata": {},
      "outputs": [],
      "source": [
        "plt.figure(figsize=(12, 6))\n",
        "box = plt.boxplot([cv_results[name] for name in models.keys()], \n",
        "                  patch_artist=True, \n",
        "                  labels=list(models.keys()),\n",
        "                  widths=0.7)\n",
        "\n"
      ]
    },
    {
      "cell_type": "markdown",
      "metadata": {},
      "source": [
        "Kutu renklendirme\n"
      ]
    },
    {
      "cell_type": "code",
      "execution_count": null,
      "metadata": {},
      "outputs": [],
      "source": [
        "colors = ['lightblue', 'lightgreen', 'pink', 'wheat', 'lightcoral', 'lightcyan']\n",
        "for patch, color in zip(box['boxes'], colors):\n",
        "    patch.set_facecolor(color)\n",
        "\n",
        "plt.title('Model Performans Karşılaştırması')\n",
        "plt.ylabel('Doğruluk')\n",
        "plt.ylim(0.8, 1.05)\n",
        "plt.xticks(rotation=45, ha='right')\n",
        "plt.grid(axis='y', linestyle='--', alpha=0.7)\n",
        "plt.tight_layout()\n",
        "plt.savefig('classifier_model_comparison.png')\n",
        "plt.close()\n",
        "print(\"Model karşılaştırma grafiği 'classifier_model_comparison.png' olarak kaydedildi.\") \n"
      ]
    }
  ],
  "metadata": {
    "kernelspec": {
      "display_name": "Python 3",
      "language": "python",
      "name": "python3"
    },
    "language_info": {
      "codemirror_mode": {
        "name": "ipython",
        "version": 3
      },
      "file_extension": ".py",
      "mimetype": "text/x-python",
      "name": "python",
      "nbconvert_exporter": "python",
      "pygments_lexer": "ipython3",
      "version": "3.8.8"
    }
  },
  "nbformat": 4,
  "nbformat_minor": 5
}
