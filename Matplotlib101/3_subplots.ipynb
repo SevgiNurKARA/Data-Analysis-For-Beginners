{
  "cells": [
    {
      "cell_type": "markdown",
      "metadata": {},
      "source": [
        "# 3_subplots.py\n",
        "\n",
        "This notebook was automatically converted from a Python script."
      ]
    },
    {
      "cell_type": "markdown",
      "metadata": {},
      "source": [
        "# Matplotlib: Alt Grafikler (Subplots)\n"
      ]
    },
    {
      "cell_type": "markdown",
      "metadata": {},
      "source": [
        "Matplotlib'in en güçlü özelliklerinden biri, birden fazla grafiği tek bir figür içinde birleştirme yeteneğidir. Bu notebook'ta, alt grafikleri nasıl oluşturacağımızı ve özelleştireceğimizi öğreneceğiz.\n"
      ]
    },
    {
      "cell_type": "markdown",
      "metadata": {},
      "source": [
        "## Gerekli Kütüphaneleri İçe Aktarma\n"
      ]
    },
    {
      "cell_type": "code",
      "execution_count": null,
      "metadata": {},
      "outputs": [],
      "source": [
        "\n",
        "import matplotlib.pyplot as plt\n",
        "import numpy as np\n",
        "\n"
      ]
    },
    {
      "cell_type": "markdown",
      "metadata": {},
      "source": [
        "## Temel Alt Grafikler\n"
      ]
    },
    {
      "cell_type": "markdown",
      "metadata": {},
      "source": [
        "Alt grafikler, tek bir figür içinde birden fazla grafik oluşturmanıza olanak tanır.\n"
      ]
    },
    {
      "cell_type": "markdown",
      "metadata": {},
      "source": [
        "Örnek veri oluşturalım\n"
      ]
    },
    {
      "cell_type": "code",
      "execution_count": null,
      "metadata": {},
      "outputs": [],
      "source": [
        "x = np.linspace(0, 10, 100)\n",
        "y1 = np.sin(x)\n",
        "y2 = np.cos(x)\n",
        "y3 = np.tan(x)\n",
        "y4 = np.exp(-x/10)\n",
        "\n"
      ]
    },
    {
      "cell_type": "markdown",
      "metadata": {},
      "source": [
        "### Basit 2x2 Alt Grafik Yapısı\n"
      ]
    },
    {
      "cell_type": "markdown",
      "metadata": {},
      "source": [
        "2x2 alt grafik oluşturalım (toplam 4 grafik)\n"
      ]
    },
    {
      "cell_type": "code",
      "execution_count": null,
      "metadata": {},
      "outputs": [],
      "source": [
        "plt.figure(figsize=(12, 10))\n",
        "\n"
      ]
    },
    {
      "cell_type": "markdown",
      "metadata": {},
      "source": [
        "Alt grafik 1: Sol üst\n"
      ]
    },
    {
      "cell_type": "code",
      "execution_count": null,
      "metadata": {},
      "outputs": [],
      "source": [
        "plt.subplot(2, 2, 1)  # 2 satır, 2 sütun, 1. pozisyon\n",
        "plt.plot(x, y1)\n",
        "plt.title('Sinüs Fonksiyonu')\n",
        "plt.grid(True)\n",
        "\n"
      ]
    },
    {
      "cell_type": "markdown",
      "metadata": {},
      "source": [
        "Alt grafik 2: Sağ üst\n"
      ]
    },
    {
      "cell_type": "code",
      "execution_count": null,
      "metadata": {},
      "outputs": [],
      "source": [
        "plt.subplot(2, 2, 2)  # 2 satır, 2 sütun, 2. pozisyon\n",
        "plt.plot(x, y2)\n",
        "plt.title('Kosinüs Fonksiyonu')\n",
        "plt.grid(True)\n",
        "\n"
      ]
    },
    {
      "cell_type": "markdown",
      "metadata": {},
      "source": [
        "Alt grafik 3: Sol alt\n"
      ]
    },
    {
      "cell_type": "code",
      "execution_count": null,
      "metadata": {},
      "outputs": [],
      "source": [
        "plt.subplot(2, 2, 3)  # 2 satır, 2 sütun, 3. pozisyon\n",
        "plt.plot(x, y3)\n",
        "plt.title('Tanjant Fonksiyonu')\n",
        "plt.grid(True)\n",
        "plt.ylim(-3, 3)  # Y ekseni sınırları\n",
        "\n"
      ]
    },
    {
      "cell_type": "markdown",
      "metadata": {},
      "source": [
        "Alt grafik 4: Sağ alt\n"
      ]
    },
    {
      "cell_type": "code",
      "execution_count": null,
      "metadata": {},
      "outputs": [],
      "source": [
        "plt.subplot(2, 2, 4)  # 2 satır, 2 sütun, 4. pozisyon\n",
        "plt.plot(x, y4)\n",
        "plt.title('Üstel Fonksiyon')\n",
        "plt.grid(True)\n",
        "\n",
        "plt.tight_layout()  # Grafiklerin düzgün yerleşmesi için\n",
        "plt.savefig('Matplotlib101/basit_alt_grafikler.png')\n",
        "plt.close()\n",
        "\n",
        "print(\"Basit alt grafikler oluşturuldu.\")\n",
        "\n"
      ]
    },
    {
      "cell_type": "markdown",
      "metadata": {},
      "source": [
        "## Nesne Yönelimli Alt Grafikler\n"
      ]
    },
    {
      "cell_type": "markdown",
      "metadata": {},
      "source": [
        "Nesne yönelimli arayüz, alt grafikleri daha detaylı bir şekilde kontrol etmenize olanak tanır.\n"
      ]
    },
    {
      "cell_type": "markdown",
      "metadata": {},
      "source": [
        "### subplots() Fonksiyonu\n"
      ]
    },
    {
      "cell_type": "markdown",
      "metadata": {},
      "source": [
        "2x2 alt grafik oluşturalım (nesne yönelimli)\n"
      ]
    },
    {
      "cell_type": "code",
      "execution_count": null,
      "metadata": {},
      "outputs": [],
      "source": [
        "fig, axes = plt.subplots(2, 2, figsize=(12, 10))\n",
        "\n"
      ]
    },
    {
      "cell_type": "markdown",
      "metadata": {},
      "source": [
        "Alt grafikleri düzleştirelim (2D array -> 1D array)\n"
      ]
    },
    {
      "cell_type": "code",
      "execution_count": null,
      "metadata": {},
      "outputs": [],
      "source": [
        "axes = axes.flatten()\n",
        "\n"
      ]
    },
    {
      "cell_type": "markdown",
      "metadata": {},
      "source": [
        "Alt grafik 1\n"
      ]
    },
    {
      "cell_type": "code",
      "execution_count": null,
      "metadata": {},
      "outputs": [],
      "source": [
        "axes[0].plot(x, y1, 'r')\n",
        "axes[0].set_title('Sinüs Fonksiyonu')\n",
        "axes[0].set_xlabel('x')\n",
        "axes[0].set_ylabel('sin(x)')\n",
        "axes[0].grid(True)\n",
        "\n"
      ]
    },
    {
      "cell_type": "markdown",
      "metadata": {},
      "source": [
        "Alt grafik 2\n"
      ]
    },
    {
      "cell_type": "code",
      "execution_count": null,
      "metadata": {},
      "outputs": [],
      "source": [
        "axes[1].plot(x, y2, 'g')\n",
        "axes[1].set_title('Kosinüs Fonksiyonu')\n",
        "axes[1].set_xlabel('x')\n",
        "axes[1].set_ylabel('cos(x)')\n",
        "axes[1].grid(True)\n",
        "\n"
      ]
    },
    {
      "cell_type": "markdown",
      "metadata": {},
      "source": [
        "Alt grafik 3\n"
      ]
    },
    {
      "cell_type": "code",
      "execution_count": null,
      "metadata": {},
      "outputs": [],
      "source": [
        "axes[2].plot(x, y3, 'b')\n",
        "axes[2].set_title('Tanjant Fonksiyonu')\n",
        "axes[2].set_xlabel('x')\n",
        "axes[2].set_ylabel('tan(x)')\n",
        "axes[2].grid(True)\n",
        "axes[2].set_ylim(-3, 3)\n",
        "\n"
      ]
    },
    {
      "cell_type": "markdown",
      "metadata": {},
      "source": [
        "Alt grafik 4\n"
      ]
    },
    {
      "cell_type": "code",
      "execution_count": null,
      "metadata": {},
      "outputs": [],
      "source": [
        "axes[3].plot(x, y4, 'm')\n",
        "axes[3].set_title('Üstel Fonksiyon')\n",
        "axes[3].set_xlabel('x')\n",
        "axes[3].set_ylabel('exp(-x/10)')\n",
        "axes[3].grid(True)\n",
        "\n",
        "plt.tight_layout()\n",
        "plt.savefig('Matplotlib101/oo_alt_grafikler.png')\n",
        "plt.close()\n",
        "\n",
        "print(\"Nesne yönelimli alt grafikler oluşturuldu.\")\n",
        "\n"
      ]
    },
    {
      "cell_type": "markdown",
      "metadata": {},
      "source": [
        "## Farklı Boyutta Alt Grafikler\n"
      ]
    },
    {
      "cell_type": "markdown",
      "metadata": {},
      "source": [
        "Alt grafiklerin boyutlarını değiştirebilirsiniz.\n"
      ]
    },
    {
      "cell_type": "markdown",
      "metadata": {},
      "source": [
        "### GridSpec Kullanımı\n"
      ]
    },
    {
      "cell_type": "code",
      "execution_count": null,
      "metadata": {},
      "outputs": [],
      "source": [
        "\n",
        "import matplotlib.gridspec as gridspec\n",
        "\n",
        "fig = plt.figure(figsize=(12, 10))\n",
        "\n"
      ]
    },
    {
      "cell_type": "markdown",
      "metadata": {},
      "source": [
        "3x3 GridSpec oluştur\n"
      ]
    },
    {
      "cell_type": "code",
      "execution_count": null,
      "metadata": {},
      "outputs": [],
      "source": [
        "gs = gridspec.GridSpec(3, 3)\n",
        "\n"
      ]
    },
    {
      "cell_type": "markdown",
      "metadata": {},
      "source": [
        "Alt grafik 1: İlk satır, tüm sütunlar\n"
      ]
    },
    {
      "cell_type": "code",
      "execution_count": null,
      "metadata": {},
      "outputs": [],
      "source": [
        "ax1 = fig.add_subplot(gs[0, :])\n",
        "ax1.plot(x, y1, 'r')\n",
        "ax1.set_title('İlk Satır: Tüm Sütunlar')\n",
        "ax1.grid(True)\n",
        "\n"
      ]
    },
    {
      "cell_type": "markdown",
      "metadata": {},
      "source": [
        "Alt grafik 2: İkinci satır, ilk iki sütun\n"
      ]
    },
    {
      "cell_type": "code",
      "execution_count": null,
      "metadata": {},
      "outputs": [],
      "source": [
        "ax2 = fig.add_subplot(gs[1, :2])\n",
        "ax2.plot(x, y2, 'g')\n",
        "ax2.set_title('İkinci Satır: İlk İki Sütun')\n",
        "ax2.grid(True)\n",
        "\n"
      ]
    },
    {
      "cell_type": "markdown",
      "metadata": {},
      "source": [
        "Alt grafik 3: İkinci satır, son sütun\n"
      ]
    },
    {
      "cell_type": "code",
      "execution_count": null,
      "metadata": {},
      "outputs": [],
      "source": [
        "ax3 = fig.add_subplot(gs[1, 2])\n",
        "ax3.plot(x, y3, 'b')\n",
        "ax3.set_title('İkinci Satır: Son Sütun')\n",
        "ax3.grid(True)\n",
        "\n"
      ]
    },
    {
      "cell_type": "markdown",
      "metadata": {},
      "source": [
        "Alt grafik 4: Üçüncü satır, tüm sütunlar\n"
      ]
    },
    {
      "cell_type": "code",
      "execution_count": null,
      "metadata": {},
      "outputs": [],
      "source": [
        "ax4 = fig.add_subplot(gs[2, :])\n",
        "ax4.plot(x, y4, 'm')\n",
        "ax4.set_title('Üçüncü Satır: Tüm Sütunlar')\n",
        "ax4.grid(True)\n",
        "\n",
        "plt.tight_layout()\n",
        "plt.savefig('Matplotlib101/gridspec_alt_grafikler.png')\n",
        "plt.close()\n",
        "\n",
        "print(\"GridSpec ile alt grafikler oluşturuldu.\")\n",
        "\n"
      ]
    },
    {
      "cell_type": "markdown",
      "metadata": {},
      "source": [
        "## Farklı Türde Alt Grafikler\n"
      ]
    },
    {
      "cell_type": "markdown",
      "metadata": {},
      "source": [
        "Bir figür içinde farklı grafik türlerini birleştirebilirsiniz.\n"
      ]
    },
    {
      "cell_type": "code",
      "execution_count": null,
      "metadata": {},
      "outputs": [],
      "source": [
        "\n",
        "np.random.seed(42)\n",
        "data = np.random.normal(0, 1, 1000)\n",
        "x_scatter = np.random.rand(50)\n",
        "y_scatter = np.random.rand(50)\n",
        "\n",
        "fig, axes = plt.subplots(2, 2, figsize=(12, 10))\n",
        "\n"
      ]
    },
    {
      "cell_type": "markdown",
      "metadata": {},
      "source": [
        "Çizgi Grafiği\n"
      ]
    },
    {
      "cell_type": "code",
      "execution_count": null,
      "metadata": {},
      "outputs": [],
      "source": [
        "axes[0, 0].plot(x, y1, 'r-')\n",
        "axes[0, 0].set_title('Çizgi Grafiği')\n",
        "axes[0, 0].grid(True)\n",
        "\n"
      ]
    },
    {
      "cell_type": "markdown",
      "metadata": {},
      "source": [
        "Saçılım Grafiği\n"
      ]
    },
    {
      "cell_type": "code",
      "execution_count": null,
      "metadata": {},
      "outputs": [],
      "source": [
        "axes[0, 1].scatter(x_scatter, y_scatter, c=x_scatter, cmap='viridis', s=100*y_scatter)\n",
        "axes[0, 1].set_title('Saçılım Grafiği')\n",
        "axes[0, 1].grid(True)\n",
        "\n"
      ]
    },
    {
      "cell_type": "markdown",
      "metadata": {},
      "source": [
        "Histogram\n"
      ]
    },
    {
      "cell_type": "code",
      "execution_count": null,
      "metadata": {},
      "outputs": [],
      "source": [
        "axes[1, 0].hist(data, bins=30, alpha=0.7, color='green')\n",
        "axes[1, 0].set_title('Histogram')\n",
        "axes[1, 0].grid(True)\n",
        "\n"
      ]
    },
    {
      "cell_type": "markdown",
      "metadata": {},
      "source": [
        "Çubuk Grafiği\n"
      ]
    },
    {
      "cell_type": "code",
      "execution_count": null,
      "metadata": {},
      "outputs": [],
      "source": [
        "categories = ['A', 'B', 'C', 'D', 'E']\n",
        "values = np.random.rand(5) * 10\n",
        "axes[1, 1].bar(categories, values, color='purple')\n",
        "axes[1, 1].set_title('Çubuk Grafiği')\n",
        "axes[1, 1].grid(True)\n",
        "\n",
        "plt.tight_layout()\n",
        "plt.savefig('Matplotlib101/farkli_tur_grafikler.png')\n",
        "plt.close()\n",
        "\n",
        "print(\"Farklı türde grafikler oluşturuldu.\")\n",
        "\n"
      ]
    },
    {
      "cell_type": "markdown",
      "metadata": {},
      "source": [
        "## Alt Grafikleri Paylaşma\n"
      ]
    },
    {
      "cell_type": "markdown",
      "metadata": {},
      "source": [
        "Alt grafikler, x ve y eksenlerini paylaşabilirler.\n"
      ]
    },
    {
      "cell_type": "markdown",
      "metadata": {},
      "source": [
        "X eksenini paylaşan alt grafikler\n"
      ]
    },
    {
      "cell_type": "code",
      "execution_count": null,
      "metadata": {},
      "outputs": [],
      "source": [
        "fig, (ax1, ax2, ax3) = plt.subplots(3, 1, figsize=(12, 10), sharex=True)\n",
        "\n",
        "ax1.plot(x, y1, 'r')\n",
        "ax1.set_title('Sinüs Fonksiyonu')\n",
        "ax1.grid(True)\n",
        "\n",
        "ax2.plot(x, y2, 'g')\n",
        "ax2.set_title('Kosinüs Fonksiyonu')\n",
        "ax2.grid(True)\n",
        "\n",
        "ax3.plot(x, y4, 'b')\n",
        "ax3.set_title('Üstel Fonksiyon')\n",
        "ax3.set_xlabel('X Ekseni (Paylaşılan)')\n",
        "ax3.grid(True)\n",
        "\n",
        "plt.tight_layout()\n",
        "plt.savefig('Matplotlib101/paylasilanx_alt_grafikler.png')\n",
        "plt.close()\n",
        "\n",
        "print(\"X eksenini paylaşan alt grafikler oluşturuldu.\")\n",
        "\n"
      ]
    },
    {
      "cell_type": "markdown",
      "metadata": {},
      "source": [
        "Y eksenini paylaşan alt grafikler\n"
      ]
    },
    {
      "cell_type": "code",
      "execution_count": null,
      "metadata": {},
      "outputs": [],
      "source": [
        "fig, (ax1, ax2, ax3) = plt.subplots(1, 3, figsize=(15, 5), sharey=True)\n",
        "\n",
        "ax1.plot(x, y1, 'r')\n",
        "ax1.set_title('Sinüs Fonksiyonu')\n",
        "ax1.set_ylabel('Y Ekseni (Paylaşılan)')\n",
        "ax1.grid(True)\n",
        "\n",
        "ax2.plot(x, y2, 'g')\n",
        "ax2.set_title('Kosinüs Fonksiyonu')\n",
        "ax2.grid(True)\n",
        "\n",
        "ax3.plot(x, y1 + y2, 'b')\n",
        "ax3.set_title('Sinüs + Kosinüs')\n",
        "ax3.grid(True)\n",
        "\n",
        "plt.tight_layout()\n",
        "plt.savefig('Matplotlib101/paylasilany_alt_grafikler.png')\n",
        "plt.close()\n",
        "\n",
        "print(\"Y eksenini paylaşan alt grafikler oluşturuldu.\")\n",
        "\n"
      ]
    },
    {
      "cell_type": "markdown",
      "metadata": {},
      "source": [
        "## İç İçe Alt Grafikler\n"
      ]
    },
    {
      "cell_type": "markdown",
      "metadata": {},
      "source": [
        "Bir grafik içine başka bir grafik yerleştirebilirsiniz.\n"
      ]
    },
    {
      "cell_type": "code",
      "execution_count": null,
      "metadata": {},
      "outputs": [],
      "source": [
        "\n",
        "fig, ax = plt.subplots(figsize=(10, 8))\n",
        "\n"
      ]
    },
    {
      "cell_type": "markdown",
      "metadata": {},
      "source": [
        "Ana grafik\n"
      ]
    },
    {
      "cell_type": "code",
      "execution_count": null,
      "metadata": {},
      "outputs": [],
      "source": [
        "ax.plot(x, y1, 'r', label='Sinüs')\n",
        "ax.set_title('Ana Grafik: Sinüs Fonksiyonu')\n",
        "ax.set_xlabel('X Ekseni')\n",
        "ax.set_ylabel('Y Ekseni')\n",
        "ax.legend(loc='upper right')\n",
        "ax.grid(True)\n",
        "\n"
      ]
    },
    {
      "cell_type": "markdown",
      "metadata": {},
      "source": [
        "İç grafik\n"
      ]
    },
    {
      "cell_type": "code",
      "execution_count": null,
      "metadata": {},
      "outputs": [],
      "source": [
        "axins = ax.inset_axes([0.6, 0.1, 0.35, 0.35])  # [sol, alt, genişlik, yükseklik]\n",
        "axins.plot(x, y2, 'g', label='Kosinüs')\n",
        "axins.set_title('İç Grafik: Kosinüs')\n",
        "axins.grid(True)\n",
        "axins.legend()\n",
        "\n"
      ]
    },
    {
      "cell_type": "markdown",
      "metadata": {},
      "source": [
        "Ana grafikte bir bölgeyi vurgulayalım\n"
      ]
    },
    {
      "cell_type": "code",
      "execution_count": null,
      "metadata": {},
      "outputs": [],
      "source": [
        "x1, x2, y1, y2 = 2, 4, -0.5, 0.5  # Vurgulanacak bölge\n",
        "ax.indicate_inset_zoom(axins)  # Ana grafikte kutu göster\n",
        "\n"
      ]
    },
    {
      "cell_type": "markdown",
      "metadata": {},
      "source": [
        "İç grafiğin sınırlarını ayarlayalım\n"
      ]
    },
    {
      "cell_type": "code",
      "execution_count": null,
      "metadata": {},
      "outputs": [],
      "source": [
        "axins.set_xlim(x1, x2)\n",
        "axins.set_ylim(y1, y2)\n",
        "\n",
        "plt.savefig('Matplotlib101/ic_ice_grafikler.png')\n",
        "plt.close()\n",
        "\n",
        "print(\"İç içe grafikler oluşturuldu.\")\n",
        "\n"
      ]
    },
    {
      "cell_type": "markdown",
      "metadata": {},
      "source": [
        "## 3D Alt Grafikler\n"
      ]
    },
    {
      "cell_type": "markdown",
      "metadata": {},
      "source": [
        "Matplotlib ile 3D grafikler de oluşturabilirsiniz.\n"
      ]
    },
    {
      "cell_type": "code",
      "execution_count": null,
      "metadata": {},
      "outputs": [],
      "source": [
        "\n",
        "from mpl_toolkits.mplot3d import Axes3D\n",
        "\n"
      ]
    },
    {
      "cell_type": "markdown",
      "metadata": {},
      "source": [
        "3D için veri oluşturalım\n"
      ]
    },
    {
      "cell_type": "code",
      "execution_count": null,
      "metadata": {},
      "outputs": [],
      "source": [
        "x = np.linspace(-5, 5, 50)\n",
        "y = np.linspace(-5, 5, 50)\n",
        "X, Y = np.meshgrid(x, y)\n",
        "Z1 = np.sin(np.sqrt(X**2 + Y**2))\n",
        "Z2 = np.cos(np.sqrt(X**2 + Y**2))\n",
        "\n",
        "fig = plt.figure(figsize=(15, 7))\n",
        "\n"
      ]
    },
    {
      "cell_type": "markdown",
      "metadata": {},
      "source": [
        "3D Yüzey grafiği\n"
      ]
    },
    {
      "cell_type": "code",
      "execution_count": null,
      "metadata": {},
      "outputs": [],
      "source": [
        "ax1 = fig.add_subplot(1, 2, 1, projection='3d')\n",
        "surf1 = ax1.plot_surface(X, Y, Z1, cmap='viridis')\n",
        "ax1.set_title('3D Yüzey: Sinüs')\n",
        "fig.colorbar(surf1, ax=ax1, shrink=0.5, aspect=5)\n",
        "\n"
      ]
    },
    {
      "cell_type": "markdown",
      "metadata": {},
      "source": [
        "3D Tel Kafes grafiği\n"
      ]
    },
    {
      "cell_type": "code",
      "execution_count": null,
      "metadata": {},
      "outputs": [],
      "source": [
        "ax2 = fig.add_subplot(1, 2, 2, projection='3d')\n",
        "surf2 = ax2.plot_wireframe(X, Y, Z2, color='red')\n",
        "ax2.set_title('3D Tel Kafes: Kosinüs')\n",
        "\n",
        "plt.tight_layout()\n",
        "plt.savefig('Matplotlib101/3d_alt_grafikler.png')\n",
        "plt.close()\n",
        "\n",
        "print(\"3D alt grafikler oluşturuldu.\")\n",
        "\n"
      ]
    },
    {
      "cell_type": "markdown",
      "metadata": {},
      "source": [
        "## Özet\n"
      ]
    },
    {
      "cell_type": "markdown",
      "metadata": {},
      "source": [
        "Bu notebook'ta:\n"
      ]
    },
    {
      "cell_type": "markdown",
      "metadata": {},
      "source": [
        "- Basit alt grafikler oluşturmayı\n"
      ]
    },
    {
      "cell_type": "markdown",
      "metadata": {},
      "source": [
        "- Nesne yönelimli alt grafik API'sini kullanmayı\n"
      ]
    },
    {
      "cell_type": "markdown",
      "metadata": {},
      "source": [
        "- GridSpec ile karmaşık düzenler oluşturmayı\n"
      ]
    },
    {
      "cell_type": "markdown",
      "metadata": {},
      "source": [
        "- Farklı grafik türlerini birleştirmeyi\n"
      ]
    },
    {
      "cell_type": "markdown",
      "metadata": {},
      "source": [
        "- Eksenleri paylaşan alt grafikler yapmayı\n"
      ]
    },
    {
      "cell_type": "markdown",
      "metadata": {},
      "source": [
        "- İç içe grafikler oluşturmayı\n"
      ]
    },
    {
      "cell_type": "markdown",
      "metadata": {},
      "source": [
        "- 3D alt grafikler oluşturmayı\n"
      ]
    },
    {
      "cell_type": "markdown",
      "metadata": {},
      "source": [
        "öğrendik.\n"
      ]
    },
    {
      "cell_type": "markdown",
      "metadata": {},
      "source": [
        "Alt grafikler, karmaşık verileri analiz etmek ve sunmak için çok değerli bir araçtır. \n"
      ]
    }
  ],
  "metadata": {
    "kernelspec": {
      "display_name": "Python 3",
      "language": "python",
      "name": "python3"
    },
    "language_info": {
      "codemirror_mode": {
        "name": "ipython",
        "version": 3
      },
      "file_extension": ".py",
      "mimetype": "text/x-python",
      "name": "python",
      "nbconvert_exporter": "python",
      "pygments_lexer": "ipython3",
      "version": "3.8.8"
    }
  },
  "nbformat": 4,
  "nbformat_minor": 5
}
