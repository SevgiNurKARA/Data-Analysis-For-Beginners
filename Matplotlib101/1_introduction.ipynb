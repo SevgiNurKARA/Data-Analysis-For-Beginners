{
  "cells": [
    {
      "cell_type": "markdown",
      "metadata": {},
      "source": [
        "# 1_introduction.py\n",
        "\n",
        "This notebook was automatically converted from a Python script."
      ]
    },
    {
      "cell_type": "markdown",
      "metadata": {},
      "source": [
        "# Matplotlib: Introduction\n"
      ]
    },
    {
      "cell_type": "markdown",
      "metadata": {},
      "source": [
        "Matplotlib, Python'da veri görselleştirme için en yaygın kullanılan kütüphanedir. Hem basit hem de karmaşık grafikleri oluşturmak için geniş bir yetenek yelpazesi sunar.\n"
      ]
    },
    {
      "cell_type": "markdown",
      "metadata": {},
      "source": [
        "## Matplotlib Nedir?\n"
      ]
    },
    {
      "cell_type": "markdown",
      "metadata": {},
      "source": [
        "Matplotlib, 2003 yılında John D. Hunter tarafından oluşturulmuş, MATLAB benzeri bir görselleştirme aracıdır. Ana özellikleri:\n"
      ]
    },
    {
      "cell_type": "markdown",
      "metadata": {},
      "source": [
        "- Python için kapsamlı bir görselleştirme kütüphanesi\n"
      ]
    },
    {
      "cell_type": "markdown",
      "metadata": {},
      "source": [
        "- Yayın kalitesinde grafikler üretir\n"
      ]
    },
    {
      "cell_type": "markdown",
      "metadata": {},
      "source": [
        "- Hem basit hem de karmaşık grafikler oluşturabilir\n"
      ]
    },
    {
      "cell_type": "markdown",
      "metadata": {},
      "source": [
        "- Çeşitli çıktı formatlarını destekler (PNG, PDF, SVG, EPS)\n"
      ]
    },
    {
      "cell_type": "markdown",
      "metadata": {},
      "source": [
        "- Farklı platformlarda çalışır (Windows, Linux, macOS)\n"
      ]
    },
    {
      "cell_type": "markdown",
      "metadata": {},
      "source": [
        "## Matplotlib Kurulumu\n"
      ]
    },
    {
      "cell_type": "markdown",
      "metadata": {},
      "source": [
        "Matplotlib, pip veya conda ile kolayca kurulabilir:\n"
      ]
    },
    {
      "cell_type": "markdown",
      "metadata": {},
      "source": [
        "```\n"
      ]
    },
    {
      "cell_type": "markdown",
      "metadata": {},
      "source": [
        "pip install matplotlib\n"
      ]
    },
    {
      "cell_type": "markdown",
      "metadata": {},
      "source": [
        "```\n"
      ]
    },
    {
      "cell_type": "markdown",
      "metadata": {},
      "source": [
        "veya\n"
      ]
    },
    {
      "cell_type": "markdown",
      "metadata": {},
      "source": [
        "```\n"
      ]
    },
    {
      "cell_type": "markdown",
      "metadata": {},
      "source": [
        "conda install matplotlib\n"
      ]
    },
    {
      "cell_type": "markdown",
      "metadata": {},
      "source": [
        "```\n"
      ]
    },
    {
      "cell_type": "markdown",
      "metadata": {},
      "source": [
        "## Temel Kullanım\n"
      ]
    },
    {
      "cell_type": "markdown",
      "metadata": {},
      "source": [
        "Matplotlib'i kullanmak için ilk olarak import etmeliyiz:\n"
      ]
    },
    {
      "cell_type": "code",
      "execution_count": null,
      "metadata": {},
      "outputs": [],
      "source": [
        "\n",
        "import matplotlib.pyplot as plt\n",
        "import numpy as np\n",
        "\n"
      ]
    },
    {
      "cell_type": "markdown",
      "metadata": {},
      "source": [
        "### Basit Bir Çizgi Grafiği\n"
      ]
    },
    {
      "cell_type": "markdown",
      "metadata": {},
      "source": [
        "Basit bir çizgi grafiği çizelim:\n"
      ]
    },
    {
      "cell_type": "code",
      "execution_count": null,
      "metadata": {},
      "outputs": [],
      "source": [
        "\n",
        "x = np.linspace(0, 10, 100)  # 0 ile 10 arasında 100 eşit aralıklı nokta\n",
        "y = np.sin(x)  # Sinüs fonksiyonu\n",
        "\n",
        "plt.figure(figsize=(10, 6))  # Grafik boyutunu ayarla\n",
        "plt.plot(x, y)  # Veriyi çiz\n",
        "plt.title(\"Sinüs Grafiği\")  # Başlık ekle\n",
        "plt.xlabel(\"X Değerleri\")  # X ekseni etiketi\n",
        "plt.ylabel(\"Sin(x)\")  # Y ekseni etiketi\n",
        "plt.grid(True)  # Izgara ekle\n",
        "plt.savefig(\"Matplotlib101/sinus_grafigi.png\")  # Grafiği kaydet\n",
        "plt.close()  # Grafiği kapat\n",
        "\n",
        "print(\"Sinüs grafiği oluşturuldu ve kaydedildi.\")\n",
        "\n"
      ]
    },
    {
      "cell_type": "markdown",
      "metadata": {},
      "source": [
        "## Matplotlib'in İki Farklı Arayüzü\n"
      ]
    },
    {
      "cell_type": "markdown",
      "metadata": {},
      "source": [
        "Matplotlib iki ana arayüz sunar:\n"
      ]
    },
    {
      "cell_type": "markdown",
      "metadata": {},
      "source": [
        "1. **Pyplot arayüzü (plt)**: Basit, MATLAB benzeri bir arayüz. Yukarıdaki örneklerde kullandığımız arayüz budur.\n"
      ]
    },
    {
      "cell_type": "markdown",
      "metadata": {},
      "source": [
        "2. **Nesne Yönelimli arayüz**: Daha fazla esneklik sağlar ve karmaşık grafikler için tercih edilir.\n"
      ]
    },
    {
      "cell_type": "markdown",
      "metadata": {},
      "source": [
        "### Nesne Yönelimli Arayüz Örneği\n"
      ]
    },
    {
      "cell_type": "code",
      "execution_count": null,
      "metadata": {},
      "outputs": [],
      "source": [
        "\n",
        "fig, ax = plt.subplots(figsize=(10, 6))  # Figure ve Axes nesnelerini oluştur\n",
        "ax.plot(x, y)  # Veriyi çiz\n",
        "ax.set_title(\"Sinüs Grafiği (OO Arayüzü)\")  # Başlık ekle\n",
        "ax.set_xlabel(\"X Değerleri\")  # X ekseni etiketi\n",
        "ax.set_ylabel(\"Sin(x)\")  # Y ekseni etiketi\n",
        "ax.grid(True)  # Izgara ekle\n",
        "plt.savefig(\"Matplotlib101/sinus_grafigi_oo.png\")  # Grafiği kaydet\n",
        "plt.close()  # Grafiği kapat\n",
        "\n",
        "print(\"Nesne yönelimli sinüs grafiği oluşturuldu ve kaydedildi.\")\n",
        "\n"
      ]
    },
    {
      "cell_type": "markdown",
      "metadata": {},
      "source": [
        "## Temel Grafik Türleri\n"
      ]
    },
    {
      "cell_type": "markdown",
      "metadata": {},
      "source": [
        "Matplotlib ile çeşitli grafik türleri oluşturabilirsiniz:\n"
      ]
    },
    {
      "cell_type": "markdown",
      "metadata": {},
      "source": [
        "- Çizgi grafikleri (`plot()`)\n"
      ]
    },
    {
      "cell_type": "markdown",
      "metadata": {},
      "source": [
        "- Saçılım grafikleri (`scatter()`)\n"
      ]
    },
    {
      "cell_type": "markdown",
      "metadata": {},
      "source": [
        "- Çubuk grafikleri (`bar()`, `barh()`)\n"
      ]
    },
    {
      "cell_type": "markdown",
      "metadata": {},
      "source": [
        "- Histogram (`hist()`)\n"
      ]
    },
    {
      "cell_type": "markdown",
      "metadata": {},
      "source": [
        "- Pasta grafikleri (`pie()`)\n"
      ]
    },
    {
      "cell_type": "markdown",
      "metadata": {},
      "source": [
        "- Kutu grafikleri (`boxplot()`)\n"
      ]
    },
    {
      "cell_type": "markdown",
      "metadata": {},
      "source": [
        "Ve daha birçok grafik türü...\n"
      ]
    },
    {
      "cell_type": "markdown",
      "metadata": {},
      "source": [
        "### Saçılım Grafiği Örneği\n"
      ]
    },
    {
      "cell_type": "markdown",
      "metadata": {},
      "source": [
        "Rastgele veri oluşturalım\n"
      ]
    },
    {
      "cell_type": "code",
      "execution_count": null,
      "metadata": {},
      "outputs": [],
      "source": [
        "np.random.seed(42)  # Tekrarlanabilirlik için seed\n",
        "x = np.random.rand(50)\n",
        "y = np.random.rand(50)\n",
        "colors = np.random.rand(50)\n",
        "sizes = 1000 * np.random.rand(50)\n",
        "\n",
        "plt.figure(figsize=(10, 6))\n",
        "plt.scatter(x, y, c=colors, s=sizes, alpha=0.5)\n",
        "plt.title(\"Saçılım Grafiği\")\n",
        "plt.xlabel(\"X Değerleri\")\n",
        "plt.ylabel(\"Y Değerleri\")\n",
        "plt.colorbar()  # Renk çubuğu ekle\n",
        "plt.savefig(\"Matplotlib101/sacilim_grafigi.png\")\n",
        "plt.close()\n",
        "\n",
        "print(\"Saçılım grafiği oluşturuldu ve kaydedildi.\")\n",
        "\n"
      ]
    },
    {
      "cell_type": "markdown",
      "metadata": {},
      "source": [
        "## Özet\n"
      ]
    },
    {
      "cell_type": "markdown",
      "metadata": {},
      "source": [
        "Bu notebook'ta:\n"
      ]
    },
    {
      "cell_type": "markdown",
      "metadata": {},
      "source": [
        "- Matplotlib'in ne olduğunu öğrendik\n"
      ]
    },
    {
      "cell_type": "markdown",
      "metadata": {},
      "source": [
        "- Temel kullanımını gördük\n"
      ]
    },
    {
      "cell_type": "markdown",
      "metadata": {},
      "source": [
        "- İki farklı arayüzünü inceledik\n"
      ]
    },
    {
      "cell_type": "markdown",
      "metadata": {},
      "source": [
        "- Bazı temel grafik türlerini öğrendik\n"
      ]
    },
    {
      "cell_type": "markdown",
      "metadata": {},
      "source": [
        "Sonraki notebooklarda daha ayrıntılı konulara gireceğiz. \n"
      ]
    }
  ],
  "metadata": {
    "kernelspec": {
      "display_name": "Python 3",
      "language": "python",
      "name": "python3"
    },
    "language_info": {
      "codemirror_mode": {
        "name": "ipython",
        "version": 3
      },
      "file_extension": ".py",
      "mimetype": "text/x-python",
      "name": "python",
      "nbconvert_exporter": "python",
      "pygments_lexer": "ipython3",
      "version": "3.8.8"
    }
  },
  "nbformat": 4,
  "nbformat_minor": 5
}
