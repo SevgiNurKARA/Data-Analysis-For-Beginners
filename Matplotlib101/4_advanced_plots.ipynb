{
  "cells": [
    {
      "cell_type": "markdown",
      "metadata": {},
      "source": [
        "# 4_advanced_plots.py\n",
        "\n",
        "This notebook was automatically converted from a Python script."
      ]
    },
    {
      "cell_type": "markdown",
      "metadata": {},
      "source": [
        "# Matplotlib: İleri Seviye Grafikler\n"
      ]
    },
    {
      "cell_type": "markdown",
      "metadata": {},
      "source": [
        "Bu notebook'ta, Matplotlib ile oluşturabileceğiniz daha ileri düzey grafik türlerini inceleyeceğiz.\n"
      ]
    },
    {
      "cell_type": "markdown",
      "metadata": {},
      "source": [
        "## Gerekli Kütüphaneleri İçe Aktarma\n"
      ]
    },
    {
      "cell_type": "code",
      "execution_count": null,
      "metadata": {},
      "outputs": [],
      "source": [
        "\n",
        "import matplotlib.pyplot as plt\n",
        "import numpy as np\n",
        "import matplotlib.cm as cm\n",
        "from matplotlib.colors import LinearSegmentedColormap\n",
        "import matplotlib.patches as patches\n",
        "from matplotlib.collections import PatchCollection\n",
        "import matplotlib.animation as animation\n",
        "from mpl_toolkits.mplot3d import Axes3D\n",
        "\n"
      ]
    },
    {
      "cell_type": "markdown",
      "metadata": {},
      "source": [
        "## Kontur Grafikleri\n"
      ]
    },
    {
      "cell_type": "markdown",
      "metadata": {},
      "source": [
        "Kontur grafikleri, 3 boyutlu verileri 2 boyutta görselleştirmek için kullanılır.\n"
      ]
    },
    {
      "cell_type": "markdown",
      "metadata": {},
      "source": [
        "Örnek veri oluşturalım\n"
      ]
    },
    {
      "cell_type": "code",
      "execution_count": null,
      "metadata": {},
      "outputs": [],
      "source": [
        "x = np.linspace(-5, 5, 100)\n",
        "y = np.linspace(-5, 5, 100)\n",
        "X, Y = np.meshgrid(x, y)\n",
        "Z = np.sin(np.sqrt(X**2 + Y**2))\n",
        "\n",
        "plt.figure(figsize=(12, 5))\n",
        "\n"
      ]
    },
    {
      "cell_type": "markdown",
      "metadata": {},
      "source": [
        "İlk alt grafik: Kontur çizgileri\n"
      ]
    },
    {
      "cell_type": "code",
      "execution_count": null,
      "metadata": {},
      "outputs": [],
      "source": [
        "plt.subplot(1, 2, 1)\n",
        "CS = plt.contour(X, Y, Z, 10, colors='k')  # 10 kontur seviyesi, siyah çizgiler\n",
        "plt.clabel(CS, inline=True, fontsize=10)  # Kontur etiketleri\n",
        "plt.title('Kontur Çizgileri')\n",
        "plt.xlabel('X')\n",
        "plt.ylabel('Y')\n",
        "plt.grid(True)\n",
        "\n"
      ]
    },
    {
      "cell_type": "markdown",
      "metadata": {},
      "source": [
        "İkinci alt grafik: Dolgulu konturlar\n"
      ]
    },
    {
      "cell_type": "code",
      "execution_count": null,
      "metadata": {},
      "outputs": [],
      "source": [
        "plt.subplot(1, 2, 2)\n",
        "CS2 = plt.contourf(X, Y, Z, 20, cmap='viridis')  # 20 seviye, renkli\n",
        "plt.colorbar(CS2)  # Renk çubuğu ekle\n",
        "plt.title('Dolgulu Konturlar')\n",
        "plt.xlabel('X')\n",
        "plt.ylabel('Y')\n",
        "plt.grid(True)\n",
        "\n",
        "plt.tight_layout()\n",
        "plt.savefig('Matplotlib101/kontur_grafikleri.png')\n",
        "plt.close()\n",
        "\n",
        "print(\"Kontur grafikleri oluşturuldu.\")\n",
        "\n"
      ]
    },
    {
      "cell_type": "markdown",
      "metadata": {},
      "source": [
        "## Isı Haritaları (Heatmaps)\n"
      ]
    },
    {
      "cell_type": "markdown",
      "metadata": {},
      "source": [
        "Isı haritaları, 2D verileri renk skalasında göstermek için kullanılır.\n"
      ]
    },
    {
      "cell_type": "markdown",
      "metadata": {},
      "source": [
        "Örnek veri matrisi oluşturalım\n"
      ]
    },
    {
      "cell_type": "code",
      "execution_count": null,
      "metadata": {},
      "outputs": [],
      "source": [
        "np.random.seed(42)\n",
        "data = np.random.rand(10, 12)\n",
        "\n",
        "plt.figure(figsize=(10, 8))\n",
        "plt.imshow(data, cmap='hot', interpolation='nearest')\n",
        "plt.colorbar(label='Değerler')\n",
        "plt.title('Isı Haritası Örneği')\n",
        "plt.xlabel('X Ekseni')\n",
        "plt.ylabel('Y Ekseni')\n",
        "\n"
      ]
    },
    {
      "cell_type": "markdown",
      "metadata": {},
      "source": [
        "Eksen etiketlerini özelleştirelim\n"
      ]
    },
    {
      "cell_type": "code",
      "execution_count": null,
      "metadata": {},
      "outputs": [],
      "source": [
        "plt.xticks(np.arange(12), [f'X{i+1}' for i in range(12)])\n",
        "plt.yticks(np.arange(10), [f'Y{i+1}' for i in range(10)])\n",
        "\n"
      ]
    },
    {
      "cell_type": "markdown",
      "metadata": {},
      "source": [
        "Hücre değerlerini gösterelim\n"
      ]
    },
    {
      "cell_type": "code",
      "execution_count": null,
      "metadata": {},
      "outputs": [],
      "source": [
        "for i in range(10):\n",
        "    for j in range(12):\n",
        "        plt.text(j, i, f'{data[i, j]:.2f}', \n",
        "                 ha=\"center\", va=\"center\", color=\"black\" if data[i, j] > 0.5 else \"white\")\n",
        "\n",
        "plt.tight_layout()\n",
        "plt.savefig('Matplotlib101/isi_haritasi.png')\n",
        "plt.close()\n",
        "\n",
        "print(\"Isı haritası oluşturuldu.\")\n",
        "\n"
      ]
    },
    {
      "cell_type": "markdown",
      "metadata": {},
      "source": [
        "## Vektör Alan Grafikleri\n"
      ]
    },
    {
      "cell_type": "markdown",
      "metadata": {},
      "source": [
        "Vektör alanları, her noktadaki akış yönünü ve büyüklüğünü gösteren grafiklerdir.\n"
      ]
    },
    {
      "cell_type": "markdown",
      "metadata": {},
      "source": [
        "Vektör alanı için veri oluşturalım\n"
      ]
    },
    {
      "cell_type": "code",
      "execution_count": null,
      "metadata": {},
      "outputs": [],
      "source": [
        "n = 20\n",
        "x = np.linspace(-3, 3, n)\n",
        "y = np.linspace(-3, 3, n)\n",
        "X, Y = np.meshgrid(x, y)\n",
        "\n"
      ]
    },
    {
      "cell_type": "markdown",
      "metadata": {},
      "source": [
        "Vektör bileşenlerini hesaplayalım (örnek: dairesel akış)\n"
      ]
    },
    {
      "cell_type": "code",
      "execution_count": null,
      "metadata": {},
      "outputs": [],
      "source": [
        "U = -Y  # X yönündeki bileşen\n",
        "V = X   # Y yönündeki bileşen\n",
        "\n",
        "plt.figure(figsize=(12, 10))\n",
        "\n"
      ]
    },
    {
      "cell_type": "markdown",
      "metadata": {},
      "source": [
        "Alt grafik 1: Ok grafikleri (quiver)\n"
      ]
    },
    {
      "cell_type": "code",
      "execution_count": null,
      "metadata": {},
      "outputs": [],
      "source": [
        "plt.subplot(2, 1, 1)\n",
        "plt.quiver(X, Y, U, V, np.sqrt(U**2 + V**2), cmap='viridis', pivot='mid')\n",
        "plt.colorbar(label='Vektör Büyüklüğü')\n",
        "plt.title('Vektör Alanı (Quiver)')\n",
        "plt.xlabel('X')\n",
        "plt.ylabel('Y')\n",
        "plt.grid(True)\n",
        "\n"
      ]
    },
    {
      "cell_type": "markdown",
      "metadata": {},
      "source": [
        "Alt grafik 2: Akış çizgileri (streamplot)\n"
      ]
    },
    {
      "cell_type": "code",
      "execution_count": null,
      "metadata": {},
      "outputs": [],
      "source": [
        "plt.subplot(2, 1, 2)\n",
        "speed = np.sqrt(U**2 + V**2)\n",
        "plt.streamplot(X, Y, U, V, color=speed, cmap='autumn', \n",
        "               density=1.5, linewidth=2*speed/speed.max())\n",
        "plt.colorbar(label='Akış Hızı')\n",
        "plt.title('Akış Çizgileri (Streamplot)')\n",
        "plt.xlabel('X')\n",
        "plt.ylabel('Y')\n",
        "plt.grid(True)\n",
        "\n",
        "plt.tight_layout()\n",
        "plt.savefig('Matplotlib101/vektor_alan_grafikleri.png')\n",
        "plt.close()\n",
        "\n",
        "print(\"Vektör alan grafikleri oluşturuldu.\")\n",
        "\n"
      ]
    },
    {
      "cell_type": "markdown",
      "metadata": {},
      "source": [
        "## Kutupsal Grafikler\n"
      ]
    },
    {
      "cell_type": "markdown",
      "metadata": {},
      "source": [
        "Kutupsal grafikler, açı ve yarıçap cinsinden verileri göstermek için kullanılır.\n"
      ]
    },
    {
      "cell_type": "markdown",
      "metadata": {},
      "source": [
        "Kutupsal veri oluşturalım\n"
      ]
    },
    {
      "cell_type": "code",
      "execution_count": null,
      "metadata": {},
      "outputs": [],
      "source": [
        "theta = np.linspace(0, 2*np.pi, 100)  # Açılar (0 ile 2π arası)\n",
        "\n"
      ]
    },
    {
      "cell_type": "markdown",
      "metadata": {},
      "source": [
        "Farklı kutupsal fonksiyonlar\n"
      ]
    },
    {
      "cell_type": "code",
      "execution_count": null,
      "metadata": {},
      "outputs": [],
      "source": [
        "r1 = np.abs(np.sin(3*theta))  # Üç yapraklı gül\n",
        "r2 = 1 + np.cos(theta)        # Kardiyoid\n",
        "r3 = 2 + np.sin(5*theta)      # Dalgalı daire\n",
        "\n",
        "plt.figure(figsize=(15, 5))\n",
        "\n"
      ]
    },
    {
      "cell_type": "markdown",
      "metadata": {},
      "source": [
        "Üç yapraklı gül\n"
      ]
    },
    {
      "cell_type": "code",
      "execution_count": null,
      "metadata": {},
      "outputs": [],
      "source": [
        "plt.subplot(1, 3, 1, projection='polar')\n",
        "plt.polar(theta, r1)\n",
        "plt.title('Üç Yapraklı Gül')\n",
        "plt.grid(True)\n",
        "\n"
      ]
    },
    {
      "cell_type": "markdown",
      "metadata": {},
      "source": [
        "Kardiyoid\n"
      ]
    },
    {
      "cell_type": "code",
      "execution_count": null,
      "metadata": {},
      "outputs": [],
      "source": [
        "plt.subplot(1, 3, 2, projection='polar')\n",
        "plt.polar(theta, r2)\n",
        "plt.title('Kardiyoid')\n",
        "plt.grid(True)\n",
        "\n"
      ]
    },
    {
      "cell_type": "markdown",
      "metadata": {},
      "source": [
        "Dalgalı daire\n"
      ]
    },
    {
      "cell_type": "code",
      "execution_count": null,
      "metadata": {},
      "outputs": [],
      "source": [
        "plt.subplot(1, 3, 3, projection='polar')\n",
        "plt.polar(theta, r3)\n",
        "plt.title('Dalgalı Daire')\n",
        "plt.grid(True)\n",
        "\n",
        "plt.tight_layout()\n",
        "plt.savefig('Matplotlib101/kutupsal_grafikler.png')\n",
        "plt.close()\n",
        "\n",
        "print(\"Kutupsal grafikler oluşturuldu.\")\n",
        "\n"
      ]
    },
    {
      "cell_type": "markdown",
      "metadata": {},
      "source": [
        "## 3D Yüzey Grafikleri\n"
      ]
    },
    {
      "cell_type": "markdown",
      "metadata": {},
      "source": [
        "3D yüzeyler, üç boyutlu verileri görselleştirmek için kullanılır.\n"
      ]
    },
    {
      "cell_type": "markdown",
      "metadata": {},
      "source": [
        "3D yüzey için veri oluşturalım\n"
      ]
    },
    {
      "cell_type": "code",
      "execution_count": null,
      "metadata": {},
      "outputs": [],
      "source": [
        "x = np.linspace(-5, 5, 50)\n",
        "y = np.linspace(-5, 5, 50)\n",
        "X, Y = np.meshgrid(x, y)\n",
        "\n"
      ]
    },
    {
      "cell_type": "markdown",
      "metadata": {},
      "source": [
        "Farklı 3D yüzeyler\n"
      ]
    },
    {
      "cell_type": "code",
      "execution_count": null,
      "metadata": {},
      "outputs": [],
      "source": [
        "Z1 = np.sin(np.sqrt(X**2 + Y**2))  # Dairesel dalgalı yüzey\n",
        "Z2 = X**2 - Y**2                   # Hiperbolik paraboloid\n",
        "Z3 = X*np.exp(-X**2-Y**2)           # Dağ benzeri yüzey\n",
        "\n",
        "fig = plt.figure(figsize=(15, 5))\n",
        "\n"
      ]
    },
    {
      "cell_type": "markdown",
      "metadata": {},
      "source": [
        "Dairesel dalgalı yüzey\n"
      ]
    },
    {
      "cell_type": "code",
      "execution_count": null,
      "metadata": {},
      "outputs": [],
      "source": [
        "ax1 = fig.add_subplot(1, 3, 1, projection='3d')\n",
        "surf1 = ax1.plot_surface(X, Y, Z1, cmap='viridis', edgecolor='none')\n",
        "ax1.set_title('Dairesel Dalgalı Yüzey')\n",
        "fig.colorbar(surf1, ax=ax1, shrink=0.5, aspect=5)\n",
        "\n"
      ]
    },
    {
      "cell_type": "markdown",
      "metadata": {},
      "source": [
        "Hiperbolik paraboloid\n"
      ]
    },
    {
      "cell_type": "code",
      "execution_count": null,
      "metadata": {},
      "outputs": [],
      "source": [
        "ax2 = fig.add_subplot(1, 3, 2, projection='3d')\n",
        "surf2 = ax2.plot_surface(X, Y, Z2, cmap='plasma', edgecolor='none')\n",
        "ax2.set_title('Hiperbolik Paraboloid')\n",
        "fig.colorbar(surf2, ax=ax2, shrink=0.5, aspect=5)\n",
        "\n"
      ]
    },
    {
      "cell_type": "markdown",
      "metadata": {},
      "source": [
        "Dağ benzeri yüzey\n"
      ]
    },
    {
      "cell_type": "code",
      "execution_count": null,
      "metadata": {},
      "outputs": [],
      "source": [
        "ax3 = fig.add_subplot(1, 3, 3, projection='3d')\n",
        "surf3 = ax3.plot_surface(X, Y, Z3, cmap='inferno', edgecolor='none')\n",
        "ax3.set_title('Dağ Benzeri Yüzey')\n",
        "fig.colorbar(surf3, ax=ax3, shrink=0.5, aspect=5)\n",
        "\n",
        "plt.tight_layout()\n",
        "plt.savefig('Matplotlib101/3d_yuzey_grafikleri.png')\n",
        "plt.close()\n",
        "\n",
        "print(\"3D yüzey grafikleri oluşturuldu.\")\n",
        "\n"
      ]
    },
    {
      "cell_type": "markdown",
      "metadata": {},
      "source": [
        "## Çoklu Eksenli Grafikler\n"
      ]
    },
    {
      "cell_type": "markdown",
      "metadata": {},
      "source": [
        "Farklı ölçeklerde verileri aynı grafikte göstermek için çoklu eksenler kullanılabilir.\n"
      ]
    },
    {
      "cell_type": "markdown",
      "metadata": {},
      "source": [
        "Örnek veri oluşturalım\n"
      ]
    },
    {
      "cell_type": "code",
      "execution_count": null,
      "metadata": {},
      "outputs": [],
      "source": [
        "x = np.linspace(0, 10, 100)\n",
        "y1 = np.sin(x)           # -1 ile 1 arasında değerler\n",
        "y2 = 100 * np.cos(x)     # -100 ile 100 arasında değerler\n",
        "y3 = np.exp(x/10)        # Giderek artan değerler\n",
        "\n",
        "fig, ax1 = plt.subplots(figsize=(12, 6))\n",
        "\n"
      ]
    },
    {
      "cell_type": "markdown",
      "metadata": {},
      "source": [
        "İlk eksen (sol)\n"
      ]
    },
    {
      "cell_type": "code",
      "execution_count": null,
      "metadata": {},
      "outputs": [],
      "source": [
        "color1 = 'tab:blue'\n",
        "ax1.set_xlabel('X Değerleri')\n",
        "ax1.set_ylabel('Sinüs', color=color1)\n",
        "ax1.plot(x, y1, color=color1, label='sin(x)')\n",
        "ax1.tick_params(axis='y', labelcolor=color1)\n",
        "ax1.grid(True)\n",
        "\n"
      ]
    },
    {
      "cell_type": "markdown",
      "metadata": {},
      "source": [
        "İkinci eksen (sağ)\n"
      ]
    },
    {
      "cell_type": "code",
      "execution_count": null,
      "metadata": {},
      "outputs": [],
      "source": [
        "ax2 = ax1.twinx()\n",
        "color2 = 'tab:red'\n",
        "ax2.set_ylabel('Kosinüs', color=color2)\n",
        "ax2.plot(x, y2, color=color2, label='100*cos(x)')\n",
        "ax2.tick_params(axis='y', labelcolor=color2)\n",
        "\n"
      ]
    },
    {
      "cell_type": "markdown",
      "metadata": {},
      "source": [
        "Üçüncü eksen (en sağ)\n"
      ]
    },
    {
      "cell_type": "code",
      "execution_count": null,
      "metadata": {},
      "outputs": [],
      "source": [
        "ax3 = ax1.twinx()\n",
        "ax3.spines['right'].set_position(('outward', 60))  # İkinci sağ ekseni kaydır\n",
        "color3 = 'tab:green'\n",
        "ax3.set_ylabel('Üstel', color=color3)\n",
        "ax3.plot(x, y3, color=color3, label='exp(x/10)')\n",
        "ax3.tick_params(axis='y', labelcolor=color3)\n",
        "\n"
      ]
    },
    {
      "cell_type": "markdown",
      "metadata": {},
      "source": [
        "Başlık ve açıklama\n"
      ]
    },
    {
      "cell_type": "code",
      "execution_count": null,
      "metadata": {},
      "outputs": [],
      "source": [
        "plt.title('Çoklu Eksenli Grafik')\n",
        "lines1, labels1 = ax1.get_legend_handles_labels()\n",
        "lines2, labels2 = ax2.get_legend_handles_labels()\n",
        "lines3, labels3 = ax3.get_legend_handles_labels()\n",
        "ax1.legend(lines1 + lines2 + lines3, labels1 + labels2 + labels3, loc='upper left')\n",
        "\n",
        "plt.tight_layout()\n",
        "plt.savefig('Matplotlib101/coklu_eksenli_grafik.png')\n",
        "plt.close()\n",
        "\n",
        "print(\"Çoklu eksenli grafik oluşturuldu.\")\n",
        "\n"
      ]
    },
    {
      "cell_type": "markdown",
      "metadata": {},
      "source": [
        "## Özel Şekiller ve Oklar\n"
      ]
    },
    {
      "cell_type": "markdown",
      "metadata": {},
      "source": [
        "Matplotlib ile özel şekiller, oklar ve açıklamalar ekleyebilirsiniz.\n"
      ]
    },
    {
      "cell_type": "code",
      "execution_count": null,
      "metadata": {},
      "outputs": [],
      "source": [
        "\n",
        "fig, ax = plt.subplots(figsize=(10, 8))\n",
        "\n"
      ]
    },
    {
      "cell_type": "markdown",
      "metadata": {},
      "source": [
        "Arka plan\n"
      ]
    },
    {
      "cell_type": "code",
      "execution_count": null,
      "metadata": {},
      "outputs": [],
      "source": [
        "ax.set_xlim(0, 10)\n",
        "ax.set_ylim(0, 10)\n",
        "ax.set_title(\"Özel Şekiller ve Oklar\")\n",
        "ax.set_aspect('equal')\n",
        "\n"
      ]
    },
    {
      "cell_type": "markdown",
      "metadata": {},
      "source": [
        "Dikdörtgen\n"
      ]
    },
    {
      "cell_type": "code",
      "execution_count": null,
      "metadata": {},
      "outputs": [],
      "source": [
        "rect = patches.Rectangle((1, 1), 2, 1, linewidth=1, edgecolor='black', facecolor='blue', alpha=0.3)\n",
        "ax.add_patch(rect)\n",
        "ax.text(2, 1.5, \"Dikdörtgen\", ha='center', va='center')\n",
        "\n"
      ]
    },
    {
      "cell_type": "markdown",
      "metadata": {},
      "source": [
        "Daire\n"
      ]
    },
    {
      "cell_type": "code",
      "execution_count": null,
      "metadata": {},
      "outputs": [],
      "source": [
        "circle = patches.Circle((7, 7), 1.5, linewidth=1, edgecolor='black', facecolor='red', alpha=0.3)\n",
        "ax.add_patch(circle)\n",
        "ax.text(7, 7, \"Daire\", ha='center', va='center')\n",
        "\n"
      ]
    },
    {
      "cell_type": "markdown",
      "metadata": {},
      "source": [
        "Elips\n"
      ]
    },
    {
      "cell_type": "code",
      "execution_count": null,
      "metadata": {},
      "outputs": [],
      "source": [
        "ellipse = patches.Ellipse((3, 7), 2, 1, linewidth=1, edgecolor='black', facecolor='green', alpha=0.3)\n",
        "ax.add_patch(ellipse)\n",
        "ax.text(3, 7, \"Elips\", ha='center', va='center')\n",
        "\n"
      ]
    },
    {
      "cell_type": "markdown",
      "metadata": {},
      "source": [
        "Çokgen\n"
      ]
    },
    {
      "cell_type": "code",
      "execution_count": null,
      "metadata": {},
      "outputs": [],
      "source": [
        "polygon = patches.RegularPolygon((7, 3), 5, radius=1, linewidth=1, edgecolor='black', facecolor='purple', alpha=0.3)\n",
        "ax.add_patch(polygon)\n",
        "ax.text(7, 3, \"Beşgen\", ha='center', va='center')\n",
        "\n"
      ]
    },
    {
      "cell_type": "markdown",
      "metadata": {},
      "source": [
        "Ok\n"
      ]
    },
    {
      "cell_type": "code",
      "execution_count": null,
      "metadata": {},
      "outputs": [],
      "source": [
        "ax.arrow(2, 2.5, 0, 3, head_width=0.3, head_length=0.5, fc='black', ec='black')\n",
        "ax.text(2.5, 4, \"Ok\", ha='left', va='center')\n",
        "\n"
      ]
    },
    {
      "cell_type": "markdown",
      "metadata": {},
      "source": [
        "Çizgi\n"
      ]
    },
    {
      "cell_type": "code",
      "execution_count": null,
      "metadata": {},
      "outputs": [],
      "source": [
        "ax.plot([3, 6], [3, 6], 'k-', linewidth=2)\n",
        "ax.text(4.5, 5, \"Çizgi\", ha='center', va='bottom', rotation=45)\n",
        "\n"
      ]
    },
    {
      "cell_type": "markdown",
      "metadata": {},
      "source": [
        "Açıklama kutusu\n"
      ]
    },
    {
      "cell_type": "code",
      "execution_count": null,
      "metadata": {},
      "outputs": [],
      "source": [
        "ax.text(5, 1, \"Bu bir açıklama kutusudur.\", ha='center', va='center',\n",
        "        bbox=dict(boxstyle=\"round,pad=0.5\", fc=\"yellow\", alpha=0.3))\n",
        "\n",
        "plt.grid(True)\n",
        "plt.savefig('Matplotlib101/ozel_sekiller.png')\n",
        "plt.close()\n",
        "\n",
        "print(\"Özel şekiller ve oklar grafiği oluşturuldu.\")\n",
        "\n"
      ]
    },
    {
      "cell_type": "markdown",
      "metadata": {},
      "source": [
        "## Görüntü İşleme\n"
      ]
    },
    {
      "cell_type": "markdown",
      "metadata": {},
      "source": [
        "Matplotlib ile görüntüleri işleyebilir ve gösterebilirsiniz.\n"
      ]
    },
    {
      "cell_type": "markdown",
      "metadata": {},
      "source": [
        "Örnek bir görüntü oluşturalım (Mandelbrot kümesi)\n"
      ]
    },
    {
      "cell_type": "code",
      "execution_count": null,
      "metadata": {},
      "outputs": [],
      "source": [
        "def mandelbrot(h, w, max_iters):\n",
        "    y, x = np.ogrid[-1.4:1.4:h*1j, -2:0.8:w*1j]\n",
        "    c = x + y*1j\n",
        "    z = c\n",
        "    divtime = max_iters + np.zeros(z.shape, dtype=int)\n",
        "    \n",
        "    for i in range(max_iters):\n",
        "        z = z**2 + c\n",
        "        diverge = z*np.conj(z) > 2**2\n",
        "        div_now = diverge & (divtime == max_iters)\n",
        "        divtime[div_now] = i\n",
        "        z[diverge] = 2\n",
        "        \n",
        "    return divtime\n",
        "\n",
        "h, w = 800, 1200\n",
        "max_iters = 100\n",
        "mandelbrot_set = mandelbrot(h, w, max_iters)\n",
        "\n",
        "plt.figure(figsize=(12, 8))\n",
        "plt.imshow(mandelbrot_set, cmap='hot', extent=[-2, 0.8, -1.4, 1.4])\n",
        "plt.title(\"Mandelbrot Kümesi\")\n",
        "plt.xlabel(\"Re(c)\")\n",
        "plt.ylabel(\"Im(c)\")\n",
        "plt.colorbar(label=\"Yakınsama İterasyonu\")\n",
        "plt.tight_layout()\n",
        "plt.savefig('Matplotlib101/mandelbrot.png')\n",
        "plt.close()\n",
        "\n",
        "print(\"Mandelbrot kümesi görüntüsü oluşturuldu.\")\n",
        "\n"
      ]
    },
    {
      "cell_type": "markdown",
      "metadata": {},
      "source": [
        "## Özet\n"
      ]
    },
    {
      "cell_type": "markdown",
      "metadata": {},
      "source": [
        "Bu notebook'ta şu ileri seviye grafik türlerini inceledik:\n"
      ]
    },
    {
      "cell_type": "markdown",
      "metadata": {},
      "source": [
        "- Kontur grafikleri\n"
      ]
    },
    {
      "cell_type": "markdown",
      "metadata": {},
      "source": [
        "- Isı haritaları\n"
      ]
    },
    {
      "cell_type": "markdown",
      "metadata": {},
      "source": [
        "- Vektör alan grafikleri\n"
      ]
    },
    {
      "cell_type": "markdown",
      "metadata": {},
      "source": [
        "- Kutupsal grafikler\n"
      ]
    },
    {
      "cell_type": "markdown",
      "metadata": {},
      "source": [
        "- 3D yüzey grafikleri\n"
      ]
    },
    {
      "cell_type": "markdown",
      "metadata": {},
      "source": [
        "- Çoklu eksenli grafikler\n"
      ]
    },
    {
      "cell_type": "markdown",
      "metadata": {},
      "source": [
        "- Özel şekiller ve oklar\n"
      ]
    },
    {
      "cell_type": "markdown",
      "metadata": {},
      "source": [
        "- Görüntü işleme\n"
      ]
    },
    {
      "cell_type": "markdown",
      "metadata": {},
      "source": [
        "Bu grafik türleri, karmaşık veri setlerini görselleştirmek için güçlü araçlardır. \n"
      ]
    }
  ],
  "metadata": {
    "kernelspec": {
      "display_name": "Python 3",
      "language": "python",
      "name": "python3"
    },
    "language_info": {
      "codemirror_mode": {
        "name": "ipython",
        "version": 3
      },
      "file_extension": ".py",
      "mimetype": "text/x-python",
      "name": "python",
      "nbconvert_exporter": "python",
      "pygments_lexer": "ipython3",
      "version": "3.8.8"
    }
  },
  "nbformat": 4,
  "nbformat_minor": 5
}
