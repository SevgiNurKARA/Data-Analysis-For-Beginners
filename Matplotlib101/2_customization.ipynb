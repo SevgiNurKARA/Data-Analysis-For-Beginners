{
  "cells": [
    {
      "cell_type": "markdown",
      "metadata": {},
      "source": [
        "# 2_customization.py\n",
        "\n",
        "This notebook was automatically converted from a Python script."
      ]
    },
    {
      "cell_type": "markdown",
      "metadata": {},
      "source": [
        "# Matplotlib: Özelleştirme\n"
      ]
    },
    {
      "cell_type": "markdown",
      "metadata": {},
      "source": [
        "Matplotlib grafiklerini özelleştirmek, verileri daha etkili bir şekilde sunmak için önemlidir. Bu notebook'ta, grafikleri nasıl özelleştirebileceğimizi öğreneceğiz.\n"
      ]
    },
    {
      "cell_type": "markdown",
      "metadata": {},
      "source": [
        "## Gerekli Kütüphaneleri İçe Aktarma\n"
      ]
    },
    {
      "cell_type": "code",
      "execution_count": null,
      "metadata": {},
      "outputs": [],
      "source": [
        "\n",
        "import matplotlib.pyplot as plt\n",
        "import numpy as np\n",
        "import matplotlib as mpl\n",
        "\n"
      ]
    },
    {
      "cell_type": "markdown",
      "metadata": {},
      "source": [
        "## Renk ve Stil Özelleştirme\n"
      ]
    },
    {
      "cell_type": "markdown",
      "metadata": {},
      "source": [
        "Matplotlib, grafikleri özelleştirmek için çeşitli renk ve stil seçenekleri sunar.\n"
      ]
    },
    {
      "cell_type": "markdown",
      "metadata": {},
      "source": [
        "### Renk Kullanımı\n"
      ]
    },
    {
      "cell_type": "markdown",
      "metadata": {},
      "source": [
        "Basit bir örnek oluşturalım\n"
      ]
    },
    {
      "cell_type": "code",
      "execution_count": null,
      "metadata": {},
      "outputs": [],
      "source": [
        "x = np.linspace(0, 10, 100)\n",
        "y1 = np.sin(x)\n",
        "y2 = np.cos(x)\n",
        "\n",
        "plt.figure(figsize=(10, 6))\n",
        "\n"
      ]
    },
    {
      "cell_type": "markdown",
      "metadata": {},
      "source": [
        "Farklı renk seçenekleri:\n"
      ]
    },
    {
      "cell_type": "markdown",
      "metadata": {},
      "source": [
        "1. Renk adları: 'red', 'blue', 'green', vb.\n"
      ]
    },
    {
      "cell_type": "markdown",
      "metadata": {},
      "source": [
        "2. Kısaltmalar: 'r', 'b', 'g', vb.\n"
      ]
    },
    {
      "cell_type": "markdown",
      "metadata": {},
      "source": [
        "3. Hex kodları: '#FF0000', '#0000FF', vb.\n"
      ]
    },
    {
      "cell_type": "markdown",
      "metadata": {},
      "source": [
        "4. RGB değerleri: (1.0, 0.0, 0.0), vb.\n"
      ]
    },
    {
      "cell_type": "code",
      "execution_count": null,
      "metadata": {},
      "outputs": [],
      "source": [
        "\n",
        "plt.plot(x, y1, color='red', label='Sinüs')  # Renk adı\n",
        "plt.plot(x, y2, color='#0000FF', label='Kosinüs')  # Hex kodu\n",
        "plt.plot(x, y1 + y2, color=(0, 0.5, 0), label='Toplamı')  # RGB değeri\n",
        "\n",
        "plt.title('Farklı Renk Seçenekleri')\n",
        "plt.xlabel('X Ekseni')\n",
        "plt.ylabel('Y Ekseni')\n",
        "plt.legend()\n",
        "plt.grid(True)\n",
        "plt.savefig('Matplotlib101/renk_secenekleri.png')\n",
        "plt.close()\n",
        "\n",
        "print(\"Renk seçenekleri grafiği oluşturuldu.\")\n",
        "\n"
      ]
    },
    {
      "cell_type": "markdown",
      "metadata": {},
      "source": [
        "### Çizgi Stilleri\n"
      ]
    },
    {
      "cell_type": "code",
      "execution_count": null,
      "metadata": {},
      "outputs": [],
      "source": [
        "\n",
        "plt.figure(figsize=(10, 6))\n",
        "\n"
      ]
    },
    {
      "cell_type": "markdown",
      "metadata": {},
      "source": [
        "Farklı çizgi stilleri\n"
      ]
    },
    {
      "cell_type": "code",
      "execution_count": null,
      "metadata": {},
      "outputs": [],
      "source": [
        "plt.plot(x, y1, linestyle='-', linewidth=2, label='Düz Çizgi')\n",
        "plt.plot(x, y2, linestyle='--', linewidth=2, label='Kesikli Çizgi')\n",
        "plt.plot(x, y1 + y2, linestyle='-.', linewidth=2, label='Noktalı Kesikli Çizgi')\n",
        "plt.plot(x, y1 - y2, linestyle=':', linewidth=2, label='Noktalı Çizgi')\n",
        "\n",
        "plt.title('Farklı Çizgi Stilleri')\n",
        "plt.xlabel('X Ekseni')\n",
        "plt.ylabel('Y Ekseni')\n",
        "plt.legend()\n",
        "plt.grid(True)\n",
        "plt.savefig('Matplotlib101/cizgi_stilleri.png')\n",
        "plt.close()\n",
        "\n",
        "print(\"Çizgi stilleri grafiği oluşturuldu.\")\n",
        "\n"
      ]
    },
    {
      "cell_type": "markdown",
      "metadata": {},
      "source": [
        "### İşaretçiler (Markers)\n"
      ]
    },
    {
      "cell_type": "code",
      "execution_count": null,
      "metadata": {},
      "outputs": [],
      "source": [
        "\n",
        "plt.figure(figsize=(10, 6))\n",
        "\n"
      ]
    },
    {
      "cell_type": "markdown",
      "metadata": {},
      "source": [
        "Farklı işaretçi tipleri\n"
      ]
    },
    {
      "cell_type": "code",
      "execution_count": null,
      "metadata": {},
      "outputs": [],
      "source": [
        "plt.plot(x[::10], y1[::10], marker='o', linestyle='-', label='Daire')\n",
        "plt.plot(x[::10], y2[::10], marker='s', linestyle='-', label='Kare')\n",
        "plt.plot(x[::10], y1[::10] + y2[::10], marker='^', linestyle='-', label='Üçgen')\n",
        "plt.plot(x[::10], y1[::10] - y2[::10], marker='*', linestyle='-', label='Yıldız')\n",
        "\n",
        "plt.title('Farklı İşaretçi Tipleri')\n",
        "plt.xlabel('X Ekseni')\n",
        "plt.ylabel('Y Ekseni')\n",
        "plt.legend()\n",
        "plt.grid(True)\n",
        "plt.savefig('Matplotlib101/isaretci_tipleri.png')\n",
        "plt.close()\n",
        "\n",
        "print(\"İşaretçi tipleri grafiği oluşturuldu.\")\n",
        "\n"
      ]
    },
    {
      "cell_type": "markdown",
      "metadata": {},
      "source": [
        "## Stil Şablonları\n"
      ]
    },
    {
      "cell_type": "markdown",
      "metadata": {},
      "source": [
        "Matplotlib, yerleşik stil şablonları sunar. Bu şablonlar, grafiğin genel görünümünü hızlıca değiştirmenizi sağlar.\n"
      ]
    },
    {
      "cell_type": "markdown",
      "metadata": {},
      "source": [
        "Mevcut stil şablonlarını görüntüle\n"
      ]
    },
    {
      "cell_type": "code",
      "execution_count": null,
      "metadata": {},
      "outputs": [],
      "source": [
        "print(\"\\nMevcut stil şablonları:\")\n",
        "print(plt.style.available)\n",
        "\n"
      ]
    },
    {
      "cell_type": "markdown",
      "metadata": {},
      "source": [
        "Farklı stilleri kullanalım\n"
      ]
    },
    {
      "cell_type": "code",
      "execution_count": null,
      "metadata": {},
      "outputs": [],
      "source": [
        "styles = ['default', 'ggplot', 'seaborn', 'dark_background', 'bmh']\n",
        "\n",
        "for i, style in enumerate(styles):\n",
        "    plt.figure(figsize=(8, 5))\n",
        "    plt.style.use(style)\n",
        "    \n",
        "    plt.plot(x, y1, label='Sinüs')\n",
        "    plt.plot(x, y2, label='Kosinüs')\n",
        "    \n",
        "    plt.title(f'{style} Stili')\n",
        "    plt.xlabel('X Ekseni')\n",
        "    plt.ylabel('Y Ekseni')\n",
        "    plt.legend()\n",
        "    plt.savefig(f'Matplotlib101/stil_{style}.png')\n",
        "    plt.close()\n",
        "    \n",
        "    print(f\"{style} stil grafiği oluşturuldu.\")\n",
        "\n"
      ]
    },
    {
      "cell_type": "markdown",
      "metadata": {},
      "source": [
        "Stili sıfırlayalım\n"
      ]
    },
    {
      "cell_type": "code",
      "execution_count": null,
      "metadata": {},
      "outputs": [],
      "source": [
        "plt.style.use('default')\n",
        "\n"
      ]
    },
    {
      "cell_type": "markdown",
      "metadata": {},
      "source": [
        "## Metin ve Yazı Tipi Özelleştirme\n"
      ]
    },
    {
      "cell_type": "code",
      "execution_count": null,
      "metadata": {},
      "outputs": [],
      "source": [
        "\n",
        "plt.figure(figsize=(10, 6))\n",
        "\n",
        "plt.plot(x, y1)\n",
        "\n"
      ]
    },
    {
      "cell_type": "markdown",
      "metadata": {},
      "source": [
        "Başlık ve etiketleri özelleştirelim\n"
      ]
    },
    {
      "cell_type": "code",
      "execution_count": null,
      "metadata": {},
      "outputs": [],
      "source": [
        "plt.title('Özelleştirilmiş Başlık', fontsize=20, fontweight='bold')\n",
        "plt.xlabel('X Ekseni', fontsize=14, fontstyle='italic')\n",
        "plt.ylabel('Y Ekseni', fontsize=14, fontfamily='serif')\n",
        "\n"
      ]
    },
    {
      "cell_type": "markdown",
      "metadata": {},
      "source": [
        "Metin ekleyelim\n"
      ]
    },
    {
      "cell_type": "code",
      "execution_count": null,
      "metadata": {},
      "outputs": [],
      "source": [
        "plt.text(5, 0.5, 'Özel Metin', fontsize=16, color='red', \n",
        "         bbox=dict(facecolor='yellow', alpha=0.3))\n",
        "\n"
      ]
    },
    {
      "cell_type": "markdown",
      "metadata": {},
      "source": [
        "Matematiksel ifadeler (LaTeX)\n"
      ]
    },
    {
      "cell_type": "code",
      "execution_count": null,
      "metadata": {},
      "outputs": [],
      "source": [
        "plt.text(2, -0.5, r'$\\sin(x) = \\sum_{n=0}^{\\infty} \\frac{(-1)^n}{(2n+1)!} x^{2n+1}$', \n",
        "         fontsize=14, color='blue')\n",
        "\n",
        "plt.grid(True)\n",
        "plt.savefig('Matplotlib101/metin_ozellestirme.png')\n",
        "plt.close()\n",
        "\n",
        "print(\"Metin özelleştirme grafiği oluşturuldu.\")\n",
        "\n"
      ]
    },
    {
      "cell_type": "markdown",
      "metadata": {},
      "source": [
        "## Eksenleri Özelleştirme\n"
      ]
    },
    {
      "cell_type": "code",
      "execution_count": null,
      "metadata": {},
      "outputs": [],
      "source": [
        "\n",
        "plt.figure(figsize=(10, 6))\n",
        "\n",
        "plt.plot(x, y1)\n",
        "\n"
      ]
    },
    {
      "cell_type": "markdown",
      "metadata": {},
      "source": [
        "Eksen sınırlarını ayarlama\n"
      ]
    },
    {
      "cell_type": "code",
      "execution_count": null,
      "metadata": {},
      "outputs": [],
      "source": [
        "plt.xlim(0, 8)\n",
        "plt.ylim(-1.5, 1.5)\n",
        "\n"
      ]
    },
    {
      "cell_type": "markdown",
      "metadata": {},
      "source": [
        "Izgara çizgilerini özelleştirme\n"
      ]
    },
    {
      "cell_type": "code",
      "execution_count": null,
      "metadata": {},
      "outputs": [],
      "source": [
        "plt.grid(True, linestyle='--', linewidth=0.5, alpha=0.7)\n",
        "\n"
      ]
    },
    {
      "cell_type": "markdown",
      "metadata": {},
      "source": [
        "Kenar çizgilerini özelleştirme\n"
      ]
    },
    {
      "cell_type": "code",
      "execution_count": null,
      "metadata": {},
      "outputs": [],
      "source": [
        "ax = plt.gca()  # Geçerli eksenleri al\n",
        "ax.spines['top'].set_visible(False)  # Üst çizgiyi gizle\n",
        "ax.spines['right'].set_visible(False)  # Sağ çizgiyi gizle\n",
        "ax.spines['left'].set_linewidth(2)  # Sol çizgi kalınlığı\n",
        "ax.spines['bottom'].set_linewidth(2)  # Alt çizgi kalınlığı\n",
        "\n"
      ]
    },
    {
      "cell_type": "markdown",
      "metadata": {},
      "source": [
        "Eksen değerlerini özelleştirme\n"
      ]
    },
    {
      "cell_type": "code",
      "execution_count": null,
      "metadata": {},
      "outputs": [],
      "source": [
        "plt.xticks(np.arange(0, 9, 2), fontsize=12)\n",
        "plt.yticks(np.arange(-1.5, 1.6, 0.5), fontsize=12)\n",
        "\n",
        "plt.title('Özelleştirilmiş Eksenler')\n",
        "plt.xlabel('X Ekseni')\n",
        "plt.ylabel('Y Ekseni')\n",
        "plt.savefig('Matplotlib101/eksen_ozellestirme.png')\n",
        "plt.close()\n",
        "\n",
        "print(\"Eksen özelleştirme grafiği oluşturuldu.\")\n",
        "\n"
      ]
    },
    {
      "cell_type": "markdown",
      "metadata": {},
      "source": [
        "## Renk Haritaları (Colormaps)\n"
      ]
    },
    {
      "cell_type": "markdown",
      "metadata": {},
      "source": [
        "Matplotlib, veri görselleştirmede kullanılan çeşitli renk haritaları sunar.\n"
      ]
    },
    {
      "cell_type": "markdown",
      "metadata": {},
      "source": [
        "Mevcut renk haritalarından bazıları\n"
      ]
    },
    {
      "cell_type": "code",
      "execution_count": null,
      "metadata": {},
      "outputs": [],
      "source": [
        "cmaps = ['viridis', 'plasma', 'inferno', 'magma', 'cividis', \n",
        "         'Spectral', 'coolwarm', 'bwr', 'seismic']\n",
        "\n"
      ]
    },
    {
      "cell_type": "markdown",
      "metadata": {},
      "source": [
        "Renk haritalarını gösteren bir ısı haritası oluşturalım\n"
      ]
    },
    {
      "cell_type": "code",
      "execution_count": null,
      "metadata": {},
      "outputs": [],
      "source": [
        "np.random.seed(42)\n",
        "data = np.random.rand(20, 20)\n",
        "\n",
        "fig, axes = plt.subplots(3, 3, figsize=(15, 15))\n",
        "axes = axes.flatten()\n",
        "\n",
        "for i, cmap_name in enumerate(cmaps):\n",
        "    im = axes[i].imshow(data, cmap=cmap_name)\n",
        "    axes[i].set_title(cmap_name)\n",
        "    axes[i].axis('off')\n",
        "    fig.colorbar(im, ax=axes[i], fraction=0.046, pad=0.04)\n",
        "\n",
        "plt.tight_layout()\n",
        "plt.savefig('Matplotlib101/renk_haritalari.png')\n",
        "plt.close()\n",
        "\n",
        "print(\"Renk haritaları grafiği oluşturuldu.\")\n",
        "\n"
      ]
    },
    {
      "cell_type": "markdown",
      "metadata": {},
      "source": [
        "## Grafiği Kaydetme Seçenekleri\n"
      ]
    },
    {
      "cell_type": "markdown",
      "metadata": {},
      "source": [
        "Matplotlib, grafikleri çeşitli formatlarda kaydetme olanağı sunar.\n"
      ]
    },
    {
      "cell_type": "markdown",
      "metadata": {},
      "source": [
        "Örnek bir grafik oluşturalım\n"
      ]
    },
    {
      "cell_type": "code",
      "execution_count": null,
      "metadata": {},
      "outputs": [],
      "source": [
        "plt.figure(figsize=(10, 6))\n",
        "plt.plot(x, y1, label='Sinüs')\n",
        "plt.plot(x, y2, label='Kosinüs')\n",
        "plt.title('Kaydetme Formatları Örneği')\n",
        "plt.xlabel('X Ekseni')\n",
        "plt.ylabel('Y Ekseni')\n",
        "plt.legend()\n",
        "plt.grid(True)\n",
        "\n"
      ]
    },
    {
      "cell_type": "markdown",
      "metadata": {},
      "source": [
        "Farklı formatlarda kaydetme\n"
      ]
    },
    {
      "cell_type": "code",
      "execution_count": null,
      "metadata": {},
      "outputs": [],
      "source": [
        "formats = ['png', 'pdf', 'svg', 'jpg']\n",
        "for fmt in formats:\n",
        "    plt.savefig(f'Matplotlib101/kaydetme_ornegi.{fmt}', format=fmt, dpi=300)\n",
        "    \n",
        "plt.close()\n",
        "print(\"Grafik farklı formatlarda kaydedildi.\")\n",
        "\n"
      ]
    },
    {
      "cell_type": "markdown",
      "metadata": {},
      "source": [
        "## Özet\n"
      ]
    },
    {
      "cell_type": "markdown",
      "metadata": {},
      "source": [
        "Bu notebook'ta:\n"
      ]
    },
    {
      "cell_type": "markdown",
      "metadata": {},
      "source": [
        "- Renk ve çizgi stillerini özelleştirmeyi\n"
      ]
    },
    {
      "cell_type": "markdown",
      "metadata": {},
      "source": [
        "- Farklı işaretçi tiplerini kullanmayı\n"
      ]
    },
    {
      "cell_type": "markdown",
      "metadata": {},
      "source": [
        "- Stil şablonlarını uygulamayı\n"
      ]
    },
    {
      "cell_type": "markdown",
      "metadata": {},
      "source": [
        "- Metin ve yazı tiplerini özelleştirmeyi\n"
      ]
    },
    {
      "cell_type": "markdown",
      "metadata": {},
      "source": [
        "- Eksenleri özelleştirmeyi\n"
      ]
    },
    {
      "cell_type": "markdown",
      "metadata": {},
      "source": [
        "- Renk haritalarını kullanmayı\n"
      ]
    },
    {
      "cell_type": "markdown",
      "metadata": {},
      "source": [
        "- Grafikleri farklı formatlarda kaydetmeyi\n"
      ]
    },
    {
      "cell_type": "markdown",
      "metadata": {},
      "source": [
        "öğrendik.\n"
      ]
    },
    {
      "cell_type": "markdown",
      "metadata": {},
      "source": [
        "Bu özelleştirmeler, verilerinizi daha etkili ve profesyonel bir şekilde sunmanıza yardımcı olur. \n"
      ]
    }
  ],
  "metadata": {
    "kernelspec": {
      "display_name": "Python 3",
      "language": "python",
      "name": "python3"
    },
    "language_info": {
      "codemirror_mode": {
        "name": "ipython",
        "version": 3
      },
      "file_extension": ".py",
      "mimetype": "text/x-python",
      "name": "python",
      "nbconvert_exporter": "python",
      "pygments_lexer": "ipython3",
      "version": "3.8.8"
    }
  },
  "nbformat": 4,
  "nbformat_minor": 5
}
