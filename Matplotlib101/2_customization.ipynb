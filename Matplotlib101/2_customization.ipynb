{
  "cells": [
    {
      "cell_type": "markdown",
      "metadata": {},
      "source": [
        "# 2_customization.py\n",
        "\n",
        "This notebook was automatically converted from a Python script."
      ]
    },
    {
      "cell_type": "code",
      "metadata": {},
      "source": [
        "#!/usr/bin/env python\n"
      ],
      "execution_count": null,
      "outputs": []
    },
    {
      "cell_type": "markdown",
      "metadata": {},
      "source": [
        "coding: utf-8\n"
      ]
    },
    {
      "cell_type": "code",
      "metadata": {},
      "source": [
        "\n"
      ],
      "execution_count": null,
      "outputs": []
    },
    {
      "cell_type": "markdown",
      "metadata": {},
      "source": [
        "# Matplotlib: \u00d6zelle\u015ftirme\n"
      ]
    },
    {
      "cell_type": "markdown",
      "metadata": {},
      "source": [
        "\n"
      ]
    },
    {
      "cell_type": "markdown",
      "metadata": {},
      "source": [
        "Matplotlib grafiklerini \u00f6zelle\u015ftirmek, verileri daha etkili bir \u015fekilde sunmak i\u00e7in \u00f6nemlidir. Bu notebook'ta, grafikleri nas\u0131l \u00f6zelle\u015ftirebilece\u011fimizi \u00f6\u011frenece\u011fiz.\n"
      ]
    },
    {
      "cell_type": "code",
      "metadata": {},
      "source": [
        "\n"
      ],
      "execution_count": null,
      "outputs": []
    },
    {
      "cell_type": "markdown",
      "metadata": {},
      "source": [
        "## Gerekli K\u00fct\u00fcphaneleri \u0130\u00e7e Aktarma\n"
      ]
    },
    {
      "cell_type": "code",
      "metadata": {},
      "source": [
        "\n",
        "import matplotlib.pyplot as plt\n",
        "import numpy as np\n",
        "import matplotlib as mpl\n",
        "\n"
      ],
      "execution_count": null,
      "outputs": []
    },
    {
      "cell_type": "markdown",
      "metadata": {},
      "source": [
        "## Renk ve Stil \u00d6zelle\u015ftirme\n"
      ]
    },
    {
      "cell_type": "markdown",
      "metadata": {},
      "source": [
        "\n"
      ]
    },
    {
      "cell_type": "markdown",
      "metadata": {},
      "source": [
        "Matplotlib, grafikleri \u00f6zelle\u015ftirmek i\u00e7in \u00e7e\u015fitli renk ve stil se\u00e7enekleri sunar.\n"
      ]
    },
    {
      "cell_type": "code",
      "metadata": {},
      "source": [
        "\n"
      ],
      "execution_count": null,
      "outputs": []
    },
    {
      "cell_type": "markdown",
      "metadata": {},
      "source": [
        "### Renk Kullan\u0131m\u0131\n"
      ]
    },
    {
      "cell_type": "code",
      "metadata": {},
      "source": [
        "\n"
      ],
      "execution_count": null,
      "outputs": []
    },
    {
      "cell_type": "markdown",
      "metadata": {},
      "source": [
        "Basit bir \u00f6rnek olu\u015ftural\u0131m\n"
      ]
    },
    {
      "cell_type": "code",
      "metadata": {},
      "source": [
        "x = np.linspace(0, 10, 100)\n",
        "y1 = np.sin(x)\n",
        "y2 = np.cos(x)\n",
        "\n",
        "plt.figure(figsize=(10, 6))\n",
        "\n"
      ],
      "execution_count": null,
      "outputs": []
    },
    {
      "cell_type": "markdown",
      "metadata": {},
      "source": [
        "Farkl\u0131 renk se\u00e7enekleri:\n"
      ]
    },
    {
      "cell_type": "markdown",
      "metadata": {},
      "source": [
        "1. Renk adlar\u0131: 'red', 'blue', 'green', vb.\n"
      ]
    },
    {
      "cell_type": "markdown",
      "metadata": {},
      "source": [
        "2. K\u0131saltmalar: 'r', 'b', 'g', vb.\n"
      ]
    },
    {
      "cell_type": "markdown",
      "metadata": {},
      "source": [
        "3. Hex kodlar\u0131: '#FF0000', '#0000FF', vb.\n"
      ]
    },
    {
      "cell_type": "markdown",
      "metadata": {},
      "source": [
        "4. RGB de\u011ferleri: (1.0, 0.0, 0.0), vb.\n"
      ]
    },
    {
      "cell_type": "code",
      "metadata": {},
      "source": [
        "\n",
        "plt.plot(x, y1, color='red', label='Sin\u00fcs')  # Renk ad\u0131\n",
        "plt.plot(x, y2, color='#0000FF', label='Kosin\u00fcs')  # Hex kodu\n",
        "plt.plot(x, y1 + y2, color=(0, 0.5, 0), label='Toplam\u0131')  # RGB de\u011feri\n",
        "\n",
        "plt.title('Farkl\u0131 Renk Se\u00e7enekleri')\n",
        "plt.xlabel('X Ekseni')\n",
        "plt.ylabel('Y Ekseni')\n",
        "plt.legend()\n",
        "plt.grid(True)\n",
        "plt.savefig('Matplotlib101/renk_secenekleri.png')\n",
        "plt.close()\n",
        "\n",
        "print(\"Renk se\u00e7enekleri grafi\u011fi olu\u015fturuldu.\")\n",
        "\n"
      ],
      "execution_count": null,
      "outputs": []
    },
    {
      "cell_type": "markdown",
      "metadata": {},
      "source": [
        "### \u00c7izgi Stilleri\n"
      ]
    },
    {
      "cell_type": "code",
      "metadata": {},
      "source": [
        "\n",
        "plt.figure(figsize=(10, 6))\n",
        "\n"
      ],
      "execution_count": null,
      "outputs": []
    },
    {
      "cell_type": "markdown",
      "metadata": {},
      "source": [
        "Farkl\u0131 \u00e7izgi stilleri\n"
      ]
    },
    {
      "cell_type": "code",
      "metadata": {},
      "source": [
        "plt.plot(x, y1, linestyle='-', linewidth=2, label='D\u00fcz \u00c7izgi')\n",
        "plt.plot(x, y2, linestyle='--', linewidth=2, label='Kesikli \u00c7izgi')\n",
        "plt.plot(x, y1 + y2, linestyle='-.', linewidth=2, label='Noktal\u0131 Kesikli \u00c7izgi')\n",
        "plt.plot(x, y1 - y2, linestyle=':', linewidth=2, label='Noktal\u0131 \u00c7izgi')\n",
        "\n",
        "plt.title('Farkl\u0131 \u00c7izgi Stilleri')\n",
        "plt.xlabel('X Ekseni')\n",
        "plt.ylabel('Y Ekseni')\n",
        "plt.legend()\n",
        "plt.grid(True)\n",
        "plt.savefig('Matplotlib101/cizgi_stilleri.png')\n",
        "plt.close()\n",
        "\n",
        "print(\"\u00c7izgi stilleri grafi\u011fi olu\u015fturuldu.\")\n",
        "\n"
      ],
      "execution_count": null,
      "outputs": []
    },
    {
      "cell_type": "markdown",
      "metadata": {},
      "source": [
        "### \u0130\u015faret\u00e7iler (Markers)\n"
      ]
    },
    {
      "cell_type": "code",
      "metadata": {},
      "source": [
        "\n",
        "plt.figure(figsize=(10, 6))\n",
        "\n"
      ],
      "execution_count": null,
      "outputs": []
    },
    {
      "cell_type": "markdown",
      "metadata": {},
      "source": [
        "Farkl\u0131 i\u015faret\u00e7i tipleri\n"
      ]
    },
    {
      "cell_type": "code",
      "metadata": {},
      "source": [
        "plt.plot(x[::10], y1[::10], marker='o', linestyle='-', label='Daire')\n",
        "plt.plot(x[::10], y2[::10], marker='s', linestyle='-', label='Kare')\n",
        "plt.plot(x[::10], y1[::10] + y2[::10], marker='^', linestyle='-', label='\u00dc\u00e7gen')\n",
        "plt.plot(x[::10], y1[::10] - y2[::10], marker='*', linestyle='-', label='Y\u0131ld\u0131z')\n",
        "\n",
        "plt.title('Farkl\u0131 \u0130\u015faret\u00e7i Tipleri')\n",
        "plt.xlabel('X Ekseni')\n",
        "plt.ylabel('Y Ekseni')\n",
        "plt.legend()\n",
        "plt.grid(True)\n",
        "plt.savefig('Matplotlib101/isaretci_tipleri.png')\n",
        "plt.close()\n",
        "\n",
        "print(\"\u0130\u015faret\u00e7i tipleri grafi\u011fi olu\u015fturuldu.\")\n",
        "\n"
      ],
      "execution_count": null,
      "outputs": []
    },
    {
      "cell_type": "markdown",
      "metadata": {},
      "source": [
        "## Stil \u015eablonlar\u0131\n"
      ]
    },
    {
      "cell_type": "markdown",
      "metadata": {},
      "source": [
        "\n"
      ]
    },
    {
      "cell_type": "markdown",
      "metadata": {},
      "source": [
        "Matplotlib, yerle\u015fik stil \u015fablonlar\u0131 sunar. Bu \u015fablonlar, grafi\u011fin genel g\u00f6r\u00fcn\u00fcm\u00fcn\u00fc h\u0131zl\u0131ca de\u011fi\u015ftirmenizi sa\u011flar.\n"
      ]
    },
    {
      "cell_type": "code",
      "metadata": {},
      "source": [
        "\n"
      ],
      "execution_count": null,
      "outputs": []
    },
    {
      "cell_type": "markdown",
      "metadata": {},
      "source": [
        "Mevcut stil \u015fablonlar\u0131n\u0131 g\u00f6r\u00fcnt\u00fcle\n"
      ]
    },
    {
      "cell_type": "code",
      "metadata": {},
      "source": [
        "print(\"\\nMevcut stil \u015fablonlar\u0131:\")\n",
        "print(plt.style.available)\n",
        "\n"
      ],
      "execution_count": null,
      "outputs": []
    },
    {
      "cell_type": "markdown",
      "metadata": {},
      "source": [
        "Farkl\u0131 stilleri kullanal\u0131m\n"
      ]
    },
    {
      "cell_type": "code",
      "metadata": {},
      "source": [
        "styles = ['default', 'ggplot', 'seaborn', 'dark_background', 'bmh']\n",
        "\n",
        "for i, style in enumerate(styles):\n",
        "    plt.figure(figsize=(8, 5))\n",
        "    plt.style.use(style)\n",
        "    \n",
        "    plt.plot(x, y1, label='Sin\u00fcs')\n",
        "    plt.plot(x, y2, label='Kosin\u00fcs')\n",
        "    \n",
        "    plt.title(f'{style} Stili')\n",
        "    plt.xlabel('X Ekseni')\n",
        "    plt.ylabel('Y Ekseni')\n",
        "    plt.legend()\n",
        "    plt.savefig(f'Matplotlib101/stil_{style}.png')\n",
        "    plt.close()\n",
        "    \n",
        "    print(f\"{style} stil grafi\u011fi olu\u015fturuldu.\")\n",
        "\n"
      ],
      "execution_count": null,
      "outputs": []
    },
    {
      "cell_type": "markdown",
      "metadata": {},
      "source": [
        "Stili s\u0131f\u0131rlayal\u0131m\n"
      ]
    },
    {
      "cell_type": "code",
      "metadata": {},
      "source": [
        "plt.style.use('default')\n",
        "\n"
      ],
      "execution_count": null,
      "outputs": []
    },
    {
      "cell_type": "markdown",
      "metadata": {},
      "source": [
        "## Metin ve Yaz\u0131 Tipi \u00d6zelle\u015ftirme\n"
      ]
    },
    {
      "cell_type": "code",
      "metadata": {},
      "source": [
        "\n",
        "plt.figure(figsize=(10, 6))\n",
        "\n",
        "plt.plot(x, y1)\n",
        "\n"
      ],
      "execution_count": null,
      "outputs": []
    },
    {
      "cell_type": "markdown",
      "metadata": {},
      "source": [
        "Ba\u015fl\u0131k ve etiketleri \u00f6zelle\u015ftirelim\n"
      ]
    },
    {
      "cell_type": "code",
      "metadata": {},
      "source": [
        "plt.title('\u00d6zelle\u015ftirilmi\u015f Ba\u015fl\u0131k', fontsize=20, fontweight='bold')\n",
        "plt.xlabel('X Ekseni', fontsize=14, fontstyle='italic')\n",
        "plt.ylabel('Y Ekseni', fontsize=14, fontfamily='serif')\n",
        "\n"
      ],
      "execution_count": null,
      "outputs": []
    },
    {
      "cell_type": "markdown",
      "metadata": {},
      "source": [
        "Metin ekleyelim\n"
      ]
    },
    {
      "cell_type": "code",
      "metadata": {},
      "source": [
        "plt.text(5, 0.5, '\u00d6zel Metin', fontsize=16, color='red', \n",
        "         bbox=dict(facecolor='yellow', alpha=0.3))\n",
        "\n"
      ],
      "execution_count": null,
      "outputs": []
    },
    {
      "cell_type": "markdown",
      "metadata": {},
      "source": [
        "Matematiksel ifadeler (LaTeX)\n"
      ]
    },
    {
      "cell_type": "code",
      "metadata": {},
      "source": [
        "plt.text(2, -0.5, r'$\\sin(x) = \\sum_{n=0}^{\\infty} \\frac{(-1)^n}{(2n+1)!} x^{2n+1}$', \n",
        "         fontsize=14, color='blue')\n",
        "\n",
        "plt.grid(True)\n",
        "plt.savefig('Matplotlib101/metin_ozellestirme.png')\n",
        "plt.close()\n",
        "\n",
        "print(\"Metin \u00f6zelle\u015ftirme grafi\u011fi olu\u015fturuldu.\")\n",
        "\n"
      ],
      "execution_count": null,
      "outputs": []
    },
    {
      "cell_type": "markdown",
      "metadata": {},
      "source": [
        "## Eksenleri \u00d6zelle\u015ftirme\n"
      ]
    },
    {
      "cell_type": "code",
      "metadata": {},
      "source": [
        "\n",
        "plt.figure(figsize=(10, 6))\n",
        "\n",
        "plt.plot(x, y1)\n",
        "\n"
      ],
      "execution_count": null,
      "outputs": []
    },
    {
      "cell_type": "markdown",
      "metadata": {},
      "source": [
        "Eksen s\u0131n\u0131rlar\u0131n\u0131 ayarlama\n"
      ]
    },
    {
      "cell_type": "code",
      "metadata": {},
      "source": [
        "plt.xlim(0, 8)\n",
        "plt.ylim(-1.5, 1.5)\n",
        "\n"
      ],
      "execution_count": null,
      "outputs": []
    },
    {
      "cell_type": "markdown",
      "metadata": {},
      "source": [
        "Izgara \u00e7izgilerini \u00f6zelle\u015ftirme\n"
      ]
    },
    {
      "cell_type": "code",
      "metadata": {},
      "source": [
        "plt.grid(True, linestyle='--', linewidth=0.5, alpha=0.7)\n",
        "\n"
      ],
      "execution_count": null,
      "outputs": []
    },
    {
      "cell_type": "markdown",
      "metadata": {},
      "source": [
        "Kenar \u00e7izgilerini \u00f6zelle\u015ftirme\n"
      ]
    },
    {
      "cell_type": "code",
      "metadata": {},
      "source": [
        "ax = plt.gca()  # Ge\u00e7erli eksenleri al\n",
        "ax.spines['top'].set_visible(False)  # \u00dcst \u00e7izgiyi gizle\n",
        "ax.spines['right'].set_visible(False)  # Sa\u011f \u00e7izgiyi gizle\n",
        "ax.spines['left'].set_linewidth(2)  # Sol \u00e7izgi kal\u0131nl\u0131\u011f\u0131\n",
        "ax.spines['bottom'].set_linewidth(2)  # Alt \u00e7izgi kal\u0131nl\u0131\u011f\u0131\n",
        "\n"
      ],
      "execution_count": null,
      "outputs": []
    },
    {
      "cell_type": "markdown",
      "metadata": {},
      "source": [
        "Eksen de\u011ferlerini \u00f6zelle\u015ftirme\n"
      ]
    },
    {
      "cell_type": "code",
      "metadata": {},
      "source": [
        "plt.xticks(np.arange(0, 9, 2), fontsize=12)\n",
        "plt.yticks(np.arange(-1.5, 1.6, 0.5), fontsize=12)\n",
        "\n",
        "plt.title('\u00d6zelle\u015ftirilmi\u015f Eksenler')\n",
        "plt.xlabel('X Ekseni')\n",
        "plt.ylabel('Y Ekseni')\n",
        "plt.savefig('Matplotlib101/eksen_ozellestirme.png')\n",
        "plt.close()\n",
        "\n",
        "print(\"Eksen \u00f6zelle\u015ftirme grafi\u011fi olu\u015fturuldu.\")\n",
        "\n"
      ],
      "execution_count": null,
      "outputs": []
    },
    {
      "cell_type": "markdown",
      "metadata": {},
      "source": [
        "## Renk Haritalar\u0131 (Colormaps)\n"
      ]
    },
    {
      "cell_type": "markdown",
      "metadata": {},
      "source": [
        "\n"
      ]
    },
    {
      "cell_type": "markdown",
      "metadata": {},
      "source": [
        "Matplotlib, veri g\u00f6rselle\u015ftirmede kullan\u0131lan \u00e7e\u015fitli renk haritalar\u0131 sunar.\n"
      ]
    },
    {
      "cell_type": "code",
      "metadata": {},
      "source": [
        "\n"
      ],
      "execution_count": null,
      "outputs": []
    },
    {
      "cell_type": "markdown",
      "metadata": {},
      "source": [
        "Mevcut renk haritalar\u0131ndan baz\u0131lar\u0131\n"
      ]
    },
    {
      "cell_type": "code",
      "metadata": {},
      "source": [
        "cmaps = ['viridis', 'plasma', 'inferno', 'magma', 'cividis', \n",
        "         'Spectral', 'coolwarm', 'bwr', 'seismic']\n",
        "\n"
      ],
      "execution_count": null,
      "outputs": []
    },
    {
      "cell_type": "markdown",
      "metadata": {},
      "source": [
        "Renk haritalar\u0131n\u0131 g\u00f6steren bir \u0131s\u0131 haritas\u0131 olu\u015ftural\u0131m\n"
      ]
    },
    {
      "cell_type": "code",
      "metadata": {},
      "source": [
        "np.random.seed(42)\n",
        "data = np.random.rand(20, 20)\n",
        "\n",
        "fig, axes = plt.subplots(3, 3, figsize=(15, 15))\n",
        "axes = axes.flatten()\n",
        "\n",
        "for i, cmap_name in enumerate(cmaps):\n",
        "    im = axes[i].imshow(data, cmap=cmap_name)\n",
        "    axes[i].set_title(cmap_name)\n",
        "    axes[i].axis('off')\n",
        "    fig.colorbar(im, ax=axes[i], fraction=0.046, pad=0.04)\n",
        "\n",
        "plt.tight_layout()\n",
        "plt.savefig('Matplotlib101/renk_haritalari.png')\n",
        "plt.close()\n",
        "\n",
        "print(\"Renk haritalar\u0131 grafi\u011fi olu\u015fturuldu.\")\n",
        "\n"
      ],
      "execution_count": null,
      "outputs": []
    },
    {
      "cell_type": "markdown",
      "metadata": {},
      "source": [
        "## Grafi\u011fi Kaydetme Se\u00e7enekleri\n"
      ]
    },
    {
      "cell_type": "markdown",
      "metadata": {},
      "source": [
        "\n"
      ]
    },
    {
      "cell_type": "markdown",
      "metadata": {},
      "source": [
        "Matplotlib, grafikleri \u00e7e\u015fitli formatlarda kaydetme olana\u011f\u0131 sunar.\n"
      ]
    },
    {
      "cell_type": "code",
      "metadata": {},
      "source": [
        "\n"
      ],
      "execution_count": null,
      "outputs": []
    },
    {
      "cell_type": "markdown",
      "metadata": {},
      "source": [
        "\u00d6rnek bir grafik olu\u015ftural\u0131m\n"
      ]
    },
    {
      "cell_type": "code",
      "metadata": {},
      "source": [
        "plt.figure(figsize=(10, 6))\n",
        "plt.plot(x, y1, label='Sin\u00fcs')\n",
        "plt.plot(x, y2, label='Kosin\u00fcs')\n",
        "plt.title('Kaydetme Formatlar\u0131 \u00d6rne\u011fi')\n",
        "plt.xlabel('X Ekseni')\n",
        "plt.ylabel('Y Ekseni')\n",
        "plt.legend()\n",
        "plt.grid(True)\n",
        "\n"
      ],
      "execution_count": null,
      "outputs": []
    },
    {
      "cell_type": "markdown",
      "metadata": {},
      "source": [
        "Farkl\u0131 formatlarda kaydetme\n"
      ]
    },
    {
      "cell_type": "code",
      "metadata": {},
      "source": [
        "formats = ['png', 'pdf', 'svg', 'jpg']\n",
        "for fmt in formats:\n",
        "    plt.savefig(f'Matplotlib101/kaydetme_ornegi.{fmt}', format=fmt, dpi=300)\n",
        "    \n",
        "plt.close()\n",
        "print(\"Grafik farkl\u0131 formatlarda kaydedildi.\")\n",
        "\n"
      ],
      "execution_count": null,
      "outputs": []
    },
    {
      "cell_type": "markdown",
      "metadata": {},
      "source": [
        "## \u00d6zet\n"
      ]
    },
    {
      "cell_type": "markdown",
      "metadata": {},
      "source": [
        "\n"
      ]
    },
    {
      "cell_type": "markdown",
      "metadata": {},
      "source": [
        "Bu notebook'ta:\n"
      ]
    },
    {
      "cell_type": "markdown",
      "metadata": {},
      "source": [
        "\n"
      ]
    },
    {
      "cell_type": "markdown",
      "metadata": {},
      "source": [
        "- Renk ve \u00e7izgi stillerini \u00f6zelle\u015ftirmeyi\n"
      ]
    },
    {
      "cell_type": "markdown",
      "metadata": {},
      "source": [
        "- Farkl\u0131 i\u015faret\u00e7i tiplerini kullanmay\u0131\n"
      ]
    },
    {
      "cell_type": "markdown",
      "metadata": {},
      "source": [
        "- Stil \u015fablonlar\u0131n\u0131 uygulamay\u0131\n"
      ]
    },
    {
      "cell_type": "markdown",
      "metadata": {},
      "source": [
        "- Metin ve yaz\u0131 tiplerini \u00f6zelle\u015ftirmeyi\n"
      ]
    },
    {
      "cell_type": "markdown",
      "metadata": {},
      "source": [
        "- Eksenleri \u00f6zelle\u015ftirmeyi\n"
      ]
    },
    {
      "cell_type": "markdown",
      "metadata": {},
      "source": [
        "- Renk haritalar\u0131n\u0131 kullanmay\u0131\n"
      ]
    },
    {
      "cell_type": "markdown",
      "metadata": {},
      "source": [
        "- Grafikleri farkl\u0131 formatlarda kaydetmeyi\n"
      ]
    },
    {
      "cell_type": "markdown",
      "metadata": {},
      "source": [
        "\n"
      ]
    },
    {
      "cell_type": "markdown",
      "metadata": {},
      "source": [
        "\u00f6\u011frendik.\n"
      ]
    },
    {
      "cell_type": "markdown",
      "metadata": {},
      "source": [
        "\n"
      ]
    },
    {
      "cell_type": "markdown",
      "metadata": {},
      "source": [
        "Bu \u00f6zelle\u015ftirmeler, verilerinizi daha etkili ve profesyonel bir \u015fekilde sunman\u0131za yard\u0131mc\u0131 olur. \n"
      ]
    }
  ],
  "metadata": {
    "kernelspec": {
      "display_name": "Python 3",
      "language": "python",
      "name": "python3"
    },
    "language_info": {
      "codemirror_mode": {
        "name": "ipython",
        "version": 3
      },
      "file_extension": ".py",
      "mimetype": "text/x-python",
      "name": "python",
      "nbconvert_exporter": "python",
      "pygments_lexer": "ipython3",
      "version": "3.8.8"
    }
  },
  "nbformat": 4,
  "nbformat_minor": 5
}