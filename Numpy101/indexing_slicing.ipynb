{
 "cells": [
  {
   "cell_type": "markdown",
   "metadata": {},
   "source": [
    "Bu dosyada numpyda dizi işlemleri yapılırken spesifik bir elemana veya elemanlara ulaşma çalışmaları yapacağız."
   ]
  },
  {
   "cell_type": "markdown",
   "metadata": {},
   "source": [
    "Dizi indeksleme, bir dizi öğesine erişimle aynıdır.\n",
    "\n",
    "Bir dizi öğesine, dizin numarasına başvurarak erişebilirsiniz.\n",
    "\n",
    "NumPy dizilerindeki dizinler 0 ile başlar, yani ilk öğenin dizini 0, ikinci öğenin dizini 1 vb.'dir."
   ]
  },
  {
   "cell_type": "code",
   "execution_count": 1,
   "metadata": {},
   "outputs": [],
   "source": [
    "import numpy as np"
   ]
  },
  {
   "cell_type": "code",
   "execution_count": 3,
   "metadata": {},
   "outputs": [
    {
     "name": "stdout",
     "output_type": "stream",
     "text": [
      "1\n"
     ]
    }
   ],
   "source": [
    "arr = np.array([1, 2, 3, 4, 5])\n",
    "\n",
    "print(arr[0])"
   ]
  },
  {
   "cell_type": "code",
   "execution_count": 5,
   "metadata": {},
   "outputs": [
    {
     "name": "stdout",
     "output_type": "stream",
     "text": [
      "2nci dizinin 1nci elemanı : 7\n",
      "1nci dizinin 3nci elemanı : 4\n",
      "2nci dizinin 4nci elemanı : 10\n"
     ]
    }
   ],
   "source": [
    "#Birden fazla boyutlu dizilerde, dizinleme için birden fazla indeks kullanılabilir.\n",
    "\n",
    "arr = np.array([[1,2,3,4,5], [6,7,8,9,10]])\n",
    "\n",
    "print('2nci dizinin 1nci elemanı :', arr[1, 1])\n",
    "print('1nci dizinin 3nci elemanı :', arr[0, 3])\n",
    "print('2nci dizinin 4nci elemanı :', arr[1, 4])"
   ]
  },
  {
   "cell_type": "code",
   "execution_count": 6,
   "metadata": {},
   "outputs": [
    {
     "name": "stdout",
     "output_type": "stream",
     "text": [
      "Son eleman : 10\n"
     ]
    }
   ],
   "source": [
    "#Negatif indeksleme\n",
    "\n",
    "arr = np.array([[1,2,3,4,5], [6,7,8,9,10]])\n",
    "\n",
    "print('Son eleman :', arr[-1, -1])\n"
   ]
  },
  {
   "cell_type": "markdown",
   "metadata": {},
   "source": [
    "*Slicing*\n",
    "\n",
    "Python'da dilimleme, elemanları verilen bir indeksten verilen başka bir indekse taşımak anlamına gelir.\n",
    "\n",
    "Dizin yerine dilimi şu şekilde geçiririz: [başlangıç:bitiş].\n",
    "\n",
    "Adımı da şu şekilde tanımlayabiliriz: [başlangıç:bitiş:adım]\n",
    "\n",
    "NOT: Başlangıç adımı dahilken, bitiş adımı dahil değildir."
   ]
  },
  {
   "cell_type": "code",
   "execution_count": 8,
   "metadata": {},
   "outputs": [
    {
     "name": "stdout",
     "output_type": "stream",
     "text": [
      "[2 3 4 5]\n"
     ]
    }
   ],
   "source": [
    "arr = np.array([1, 2, 3, 4, 5, 6, 7])\n",
    "\n",
    "print(arr[1:5])"
   ]
  },
  {
   "cell_type": "code",
   "execution_count": 15,
   "metadata": {},
   "outputs": [
    {
     "name": "stdout",
     "output_type": "stream",
     "text": [
      "4ncü elemandan sonuna kadar : [5 6 7]\n"
     ]
    }
   ],
   "source": [
    "arr = np.array([1, 2, 3, 4, 5, 6, 7])\n",
    "print(\"4ncü elemandan sonuna kadar :\", arr[4:])"
   ]
  },
  {
   "cell_type": "code",
   "execution_count": 16,
   "metadata": {},
   "outputs": [
    {
     "name": "stdout",
     "output_type": "stream",
     "text": [
      "1nci elemandan 4ncü elemana kadar : [1 2 3 4]\n"
     ]
    }
   ],
   "source": [
    "arr = np.array([1, 2, 3, 4, 5, 6, 7])\n",
    "\n",
    "print(\"1nci elemandan 4ncü elemana kadar :\", arr[:4])"
   ]
  },
  {
   "cell_type": "code",
   "execution_count": 10,
   "metadata": {},
   "outputs": [
    {
     "name": "stdout",
     "output_type": "stream",
     "text": [
      "2nci dizinin 1nci elemanından 4ncü elemanına kadar : [7 8 9]\n"
     ]
    }
   ],
   "source": [
    "#Slicing 2-D Diziler\n",
    "\n",
    "arr = np.array([[1, 2, 3, 4, 5], [6, 7, 8, 9, 10]])\n",
    "\n",
    "print(\"2nci dizinin 1nci elemanından 4ncü elemanına kadar :\", arr[1, 1:4])\n"
   ]
  },
  {
   "cell_type": "code",
   "execution_count": 11,
   "metadata": {},
   "outputs": [
    {
     "name": "stdout",
     "output_type": "stream",
     "text": [
      "1nci dizinin 2nci dizinin 3ncü elemanı : 6\n"
     ]
    }
   ],
   "source": [
    "#Slicing 3-D Diziler\n",
    "\n",
    "arr = np.array([[[1, 2, 3], [4, 5, 6]], [[7, 8, 9], [10, 11, 12]]])\n",
    "\n",
    "print(\"1nci dizinin 2nci dizinin 3ncü elemanı :\", arr[0, 1, 2])"
   ]
  },
  {
   "cell_type": "code",
   "execution_count": 12,
   "metadata": {},
   "outputs": [
    {
     "name": "stdout",
     "output_type": "stream",
     "text": [
      "[ 1 99 99  4  5]\n"
     ]
    }
   ],
   "source": [
    "#Slicing ile Dizileri Değiştirme\n",
    "\n",
    "arr = np.array([1, 2, 3, 4, 5])\n",
    "\n",
    "arr[1:3] = [99, 99]\n",
    "\n",
    "print(arr)"
   ]
  },
  {
   "cell_type": "code",
   "execution_count": 13,
   "metadata": {},
   "outputs": [
    {
     "name": "stdout",
     "output_type": "stream",
     "text": [
      "[1 2 3]\n"
     ]
    }
   ],
   "source": [
    "#Slicing ile Dizileri Kopyalama\n",
    "\n",
    "arr = np.array([1, 2, 3, 4, 5])\n",
    "\n",
    "arr_copy = arr[0:3].copy()\n",
    "\n",
    "print(arr_copy)"
   ]
  },
  {
   "cell_type": "code",
   "execution_count": 14,
   "metadata": {},
   "outputs": [
    {
     "name": "stdout",
     "output_type": "stream",
     "text": [
      "[1 2 3]\n"
     ]
    }
   ],
   "source": [
    "#Slicing ile Dizileri Kopyalama\n",
    "\n",
    "arr = np.array([1, 2, 3, 4, 5])\n",
    "\n",
    "arr_copy = arr[0:3].copy()\n",
    "\n",
    "print(arr_copy) "
   ]
  },
  {
   "cell_type": "code",
   "execution_count": 17,
   "metadata": {},
   "outputs": [
    {
     "name": "stdout",
     "output_type": "stream",
     "text": [
      "3ncü elemandan 5nci elemana kadar : [5 6]\n"
     ]
    }
   ],
   "source": [
    "#Negatif Slicing\n",
    "arr = np.array([1, 2, 3, 4, 5, 6, 7])\n",
    "\n",
    "print(\"3ncü elemandan 5nci elemana kadar :\", arr[-3:-1])"
   ]
  }
 ],
 "metadata": {
  "kernelspec": {
   "display_name": "Python 3",
   "language": "python",
   "name": "python3"
  },
  "language_info": {
   "codemirror_mode": {
    "name": "ipython",
    "version": 3
   },
   "file_extension": ".py",
   "mimetype": "text/x-python",
   "name": "python",
   "nbconvert_exporter": "python",
   "pygments_lexer": "ipython3",
   "version": "3.12.4"
  }
 },
 "nbformat": 4,
 "nbformat_minor": 2
}
