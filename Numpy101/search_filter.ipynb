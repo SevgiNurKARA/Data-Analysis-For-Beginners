{
  "cells": [
    {
      "cell_type": "markdown",
      "metadata": {},
      "source": [
        "# NumPy Arama ve Filtreleme İşlemleri\n",
        "\n",
        "Bu notebook, NumPy kütüphanesinde array'lerde arama (search) ve filtreleme (filter) işlemleri ve teknikleri göstermektedir.\n"
      ]
    },
    {
      "cell_type": "markdown",
      "metadata": {},
      "source": [
        "## 1. NumPy Kütüphanesini İçe Aktarma\n"
      ]
    },
    {
      "cell_type": "code",
      "execution_count": null,
      "metadata": {},
      "outputs": [],
      "source": [
        "import numpy as np\n"
      ]
    },
    {
      "cell_type": "markdown",
      "metadata": {},
      "source": [
        "## 2. Koşullu Filtreleme (Boolean Indexing)\n"
      ]
    },
    {
      "cell_type": "code",
      "execution_count": null,
      "metadata": {},
      "outputs": [],
      "source": [
        "# Temel boolean filtreleme\n",
        "arr = np.array([1, 2, 3, 4, 5, 6, 7, 8, 9, 10])\n",
        "print(\"Orijinal array:\", arr)\n",
        "\n",
        "# 5'den büyük elemanları filtreleme\n",
        "mask = arr > 5\n",
        "print(\"Koşul maskeleri (arr > 5):\", mask)\n",
        "filtered = arr[mask]\n",
        "print(\"Filtrelenmiş array (5'den büyük):\", filtered)\n",
        "\n",
        "# Kısa yol\n",
        "filtered_short = arr[arr > 5]\n",
        "print(\"Kısa yol filtreleme:\", filtered_short)\n",
        "\n",
        "# Çift sayıları filtreleme\n",
        "even_nums = arr[arr % 2 == 0]\n",
        "print(\"Çift sayılar:\", even_nums)\n",
        "\n",
        "# Tek sayıları filtreleme\n",
        "odd_nums = arr[arr % 2 != 0]\n",
        "print(\"Tek sayılar:\", odd_nums)\n"
      ]
    },
    {
      "cell_type": "code",
      "execution_count": null,
      "metadata": {},
      "outputs": [],
      "source": [
        "# 2D array'lerde boolean filtreleme\n",
        "arr_2d = np.array([[1, 2, 3], [4, 5, 6], [7, 8, 9]])\n",
        "print(\"2D array:\")\n",
        "print(arr_2d)\n",
        "\n",
        "# 5'den büyük elemanları filtreleme\n",
        "mask_2d = arr_2d > 5\n",
        "print(\"\\nKoşul maskeleri (arr_2d > 5):\")\n",
        "print(mask_2d)\n",
        "\n",
        "# 5'den büyük tüm elemanları alma (1D array elde edilir)\n",
        "filtered_2d = arr_2d[mask_2d]\n",
        "print(\"\\nFiltrelenmiş array (5'den büyük):\", filtered_2d)\n",
        "\n",
        "# 5'den büyük değerlerin olduğu satırları alma\n",
        "row_mask = np.any(arr_2d > 5, axis=1)\n",
        "print(\"\\nHerhangi bir elemanı 5'ten büyük olan satırlar (any):\")\n",
        "print(arr_2d[row_mask])\n",
        "\n",
        "# Tüm elemanları 5'den büyük olan satırları alma\n",
        "all_row_mask = np.all(arr_2d > 5, axis=1)\n",
        "print(\"\\nTüm elemanları 5'ten büyük olan satırlar (all):\")\n",
        "print(arr_2d[all_row_mask])\n"
      ]
    },
    {
      "cell_type": "code",
      "execution_count": null,
      "metadata": {},
      "outputs": [],
      "source": [
        "# Çoklu koşul filtreleme\n",
        "arr = np.array([1, 2, 3, 4, 5, 6, 7, 8, 9, 10])\n",
        "print(\"Orijinal array:\", arr)\n",
        "\n",
        "# 3'ten büyük VE 8'den küçük\n",
        "mask1 = (arr > 3) & (arr < 8)\n",
        "print(\"\\n3'ten büyük VE 8'den küçük:\", arr[mask1])\n",
        "\n",
        "# 3'ten küçük VEYA 8'den büyük\n",
        "mask2 = (arr < 3) | (arr > 8)\n",
        "print(\"3'ten küçük VEYA 8'den büyük:\", arr[mask2])\n",
        "\n",
        "# NOT: Parantezleri kullanmayı unutmayın - & ve | operatörleri \n",
        "# karşılaştırma operatörlerinden (>, <, ==) önce işlenir\n",
        "\n"
      ]
    },
    {
      "cell_type": "markdown",
      "metadata": {},
      "source": [
        "## 3. where() - Koşullu Değer Atama\n"
      ]
    },
    {
      "cell_type": "code",
      "execution_count": null,
      "metadata": {},
      "outputs": [],
      "source": [
        "# np.where() - koşula göre farklı değerler seçme\n",
        "arr = np.array([1, 2, 3, 4, 5, 6, 7, 8, 9, 10])\n",
        "print(\"Orijinal array:\", arr)\n",
        "\n",
        "# 5'ten büyük değerleri 1, diğerlerini 0 yap\n",
        "result = np.where(arr > 5, 1, 0)\n",
        "print(\"\\n5'ten büyükse 1, değilse 0:\", result)\n",
        "\n",
        "# Çift sayıları kendisiyle, tek sayıları kareleriyle değiştir\n",
        "result = np.where(arr % 2 == 0, arr, arr**2)\n",
        "print(\"\\nÇift sayılar aynı, tek sayılar kare:\", result)\n"
      ]
    },
    {
      "cell_type": "code",
      "execution_count": null,
      "metadata": {},
      "outputs": [],
      "source": [
        "# 2D array'lerde where kullanımı\n",
        "arr_2d = np.array([[1, 2, 3], [4, 5, 6], [7, 8, 9]])\n",
        "print(\"2D array:\")\n",
        "print(arr_2d)\n",
        "\n",
        "# 5'ten büyük değerleri 10 yap, diğerlerini olduğu gibi bırak\n",
        "result_2d = np.where(arr_2d > 5, 10, arr_2d)\n",
        "print(\"\\n5'ten büyükse 10, değilse aynı kalsın:\")\n",
        "print(result_2d)\n",
        "\n",
        "# Çift sayıları -1, tek sayıları 1 yap\n",
        "result_2d = np.where(arr_2d % 2 == 0, -1, 1)\n",
        "print(\"\\nÇift sayıları -1, tek sayıları 1 yap:\")\n",
        "print(result_2d)\n"
      ]
    },
    {
      "cell_type": "markdown",
      "metadata": {},
      "source": [
        "## 4. select() - Çoklu Koşullu Değer Atama\n"
      ]
    },
    {
      "cell_type": "code",
      "execution_count": null,
      "metadata": {},
      "outputs": [],
      "source": [
        "# np.select() - birden fazla koşula göre değer atama\n",
        "arr = np.array([1, 2, 3, 4, 5, 6, 7, 8, 9, 10])\n",
        "print(\"Orijinal array:\", arr)\n",
        "\n",
        "# Koşullar listesi\n",
        "conditions = [\n",
        "    arr < 3,    # 3'ten küçük\n",
        "    (arr >= 3) & (arr < 7),  # 3 ile 6 arasında\n",
        "    arr >= 7    # 7 ve üzeri\n",
        "]\n",
        "\n",
        "# Her koşula uygun değerler\n",
        "choices = [\n",
        "    0,  # 3'ten küçükse 0\n",
        "    10,  # 3 ile 6 arasındaysa 10\n",
        "    20  # 7 ve üzeriyse 20\n",
        "]\n",
        "\n",
        "# select() ile koşullu atama\n",
        "result = np.select(conditions, choices)\n",
        "print(\"\\nFarklı koşullara göre değer atama:\")\n",
        "print(result)\n",
        "\n",
        "# Varsayılan değer ekleme (hiçbir koşul sağlanmazsa)\n",
        "result = np.select(conditions, choices, default=-1)\n",
        "print(\"\\nVarsayılan değerli select() sonucu:\")\n",
        "print(result)\n"
      ]
    },
    {
      "cell_type": "markdown",
      "metadata": {},
      "source": [
        "## 5. searchsorted() - Sıralı Dizide Arama\n"
      ]
    },
    {
      "cell_type": "code",
      "execution_count": null,
      "metadata": {},
      "outputs": [],
      "source": [
        "# searchsorted() - sıralı bir dizide değerlerin yerleştirileceği indeksleri bulma\n",
        "sorted_arr = np.array([1, 3, 5, 7, 9, 11, 13, 15])\n",
        "print(\"Sıralı array:\", sorted_arr)\n",
        "\n",
        "# Tek bir değer ekleme pozisyonu\n",
        "idx = np.searchsorted(sorted_arr, 6)\n",
        "print(\"\\n6 değeri için ekleme pozisyonu:\", idx)\n",
        "\n",
        "# Birden fazla değer için arama\n",
        "values = np.array([2, 6, 10, 14])\n",
        "indices = np.searchsorted(sorted_arr, values)\n",
        "print(f\"\\n{values} değerleri için ekleme pozisyonları:\", indices)\n",
        "\n",
        "# 'right' seçeneği ile sağ taraftan arama\n",
        "indices_right = np.searchsorted(sorted_arr, values, side='right')\n",
        "print(f\"\\n{values} değerleri için sağ taraftan arama (side='right'):\", indices_right)\n"
      ]
    },
    {
      "cell_type": "code",
      "execution_count": null,
      "metadata": {},
      "outputs": [],
      "source": [
        "# searchsorted() uygulaması - histogram benzeri işlem\n",
        "data = np.random.randint(0, 100, 20)  # 0-100 arası 20 rastgele sayı\n",
        "print(\"Veri:\", data)\n",
        "\n",
        "# Histogram için özel sınır değerleri\n",
        "bins = np.array([0, 25, 50, 75, 100])\n",
        "print(\"\\nSınır değerleri:\", bins)\n",
        "\n",
        "# Her verinin hangi gruba ait olduğunu bulma\n",
        "bin_indices = np.searchsorted(bins, data)\n",
        "print(\"\\nGrup indeksleri:\", bin_indices)\n",
        "\n",
        "# Grupları sayma (histogram)\n",
        "unique, counts = np.unique(bin_indices, return_counts=True)\n",
        "print(\"\\nGruplara göre sayım:\")\n",
        "for i, count in zip(unique, counts):\n",
        "    if i > 0 and i < len(bins):\n",
        "        print(f\"{bins[i-1]}-{bins[i]} arası: {count}\")\n"
      ]
    },
    {
      "cell_type": "markdown",
      "metadata": {},
      "source": [
        "## 6. argmax(), argmin() - En Büyük ve En Küçük Değerlerin İndeksleri\n"
      ]
    },
    {
      "cell_type": "code",
      "execution_count": null,
      "metadata": {},
      "outputs": [],
      "source": [
        "# argmax(), argmin() - en büyük ve en küçük değerlerin indekslerini bulma\n",
        "arr = np.array([3, 1, 4, 1, 5, 9, 2, 6])\n",
        "print(\"Array:\", arr)\n",
        "\n",
        "# En büyük değerin indeksi\n",
        "max_idx = np.argmax(arr)\n",
        "print(f\"\\nEn büyük değer {arr[max_idx]} ve indeksi: {max_idx}\")\n",
        "\n",
        "# En küçük değerin indeksi\n",
        "min_idx = np.argmin(arr)\n",
        "print(f\"En küçük değer {arr[min_idx]} ve indeksi: {min_idx}\")\n",
        "\n",
        "# 2D array'lerde argmax() ve argmin()\n",
        "arr_2d = np.array([[3, 1, 4], [1, 5, 9], [2, 6, 5]])\n",
        "print(\"\\n2D array:\")\n",
        "print(arr_2d)\n",
        "\n",
        "# Tüm array üzerinde en büyük/küçük elemanın düzleştirilmiş indeksi\n",
        "max_idx_flat = np.argmax(arr_2d)\n",
        "min_idx_flat = np.argmin(arr_2d)\n",
        "print(f\"\\nTüm array'deki en büyük değerin düzleştirilmiş indeksi: {max_idx_flat}\")\n",
        "print(f\"Tüm array'deki en küçük değerin düzleştirilmiş indeksi: {min_idx_flat}\")\n",
        "\n",
        "# Düzleştirilmiş indeksi 2D indekse dönüştürme\n",
        "max_2d_idx = np.unravel_index(max_idx_flat, arr_2d.shape)\n",
        "min_2d_idx = np.unravel_index(min_idx_flat, arr_2d.shape)\n",
        "print(f\"En büyük değerin 2D indeksi: {max_2d_idx}\")\n",
        "print(f\"En küçük değerin 2D indeksi: {min_2d_idx}\")\n",
        "\n",
        "# Her satır için en büyük/küçük değerin indeksi\n",
        "row_max_idx = np.argmax(arr_2d, axis=1)\n",
        "row_min_idx = np.argmin(arr_2d, axis=1)\n",
        "print(f\"\\nHer satırdaki en büyük değerlerin indeksleri: {row_max_idx}\")\n",
        "print(f\"Her satırdaki en küçük değerlerin indeksleri: {row_min_idx}\")\n",
        "\n",
        "# Her sütun için en büyük/küçük değerin indeksi\n",
        "col_max_idx = np.argmax(arr_2d, axis=0)\n",
        "col_min_idx = np.argmin(arr_2d, axis=0)\n",
        "print(f\"\\nHer sütundaki en büyük değerlerin indeksleri: {col_max_idx}\")\n",
        "print(f\"Her sütundaki en küçük değerlerin indeksleri: {col_min_idx}\")\n"
      ]
    },
    {
      "cell_type": "markdown",
      "metadata": {},
      "source": [
        "## 7. nonzero() - Sıfır Olmayan Değerlerin İndeksleri\n"
      ]
    },
    {
      "cell_type": "code",
      "execution_count": null,
      "metadata": {},
      "outputs": [],
      "source": [
        "# nonzero() - sıfır olmayan elemanların indekslerini bulma\n",
        "arr = np.array([0, 1, 0, 0, 4, 0, 5, 0])\n",
        "print(\"Array:\", arr)\n",
        "\n",
        "# Sıfır olmayan değerlerin indeksleri\n",
        "non_zero_idx = np.nonzero(arr)\n",
        "print(\"\\nSıfır olmayan değerlerin indeksleri:\", non_zero_idx[0])\n",
        "print(\"Bu indekslerdeki değerler:\", arr[non_zero_idx])\n",
        "\n",
        "# Boolean koşullarla nonzero() kullanımı\n",
        "arr = np.array([1, 2, 3, 4, 5, 6, 7, 8, 9, 10])\n",
        "print(\"\\nArray:\", arr)\n",
        "\n",
        "# 5'ten büyük değerlerin indeksleri\n",
        "gt_5_idx = np.nonzero(arr > 5)\n",
        "print(\"5'ten büyük değerlerin indeksleri:\", gt_5_idx[0])\n",
        "print(\"Bu indekslerdeki değerler:\", arr[gt_5_idx])\n",
        "\n",
        "# Çift sayıların indeksleri\n",
        "even_idx = np.nonzero(arr % 2 == 0)\n",
        "print(\"\\nÇift sayıların indeksleri:\", even_idx[0])\n",
        "print(\"Bu indekslerdeki değerler:\", arr[even_idx])\n"
      ]
    },
    {
      "cell_type": "code",
      "execution_count": null,
      "metadata": {},
      "outputs": [],
      "source": [
        "# 2D array'lerde nonzero()\n",
        "arr_2d = np.array([[0, 1, 0], [2, 0, 3], [0, 0, 4]])\n",
        "print(\"2D array:\")\n",
        "print(arr_2d)\n",
        "\n",
        "# Sıfır olmayan değerlerin indeksleri (satır ve sütun indeksleri ayrı dizilerde)\n",
        "nz_rows, nz_cols = np.nonzero(arr_2d)\n",
        "print(\"\\nSıfır olmayan değerlerin satır indeksleri:\", nz_rows)\n",
        "print(\"Sıfır olmayan değerlerin sütun indeksleri:\", nz_cols)\n",
        "\n",
        "print(\"\\nSıfır olmayan değerler ve konumları:\")\n",
        "for i in range(len(nz_rows)):\n",
        "    print(f\"Değer {arr_2d[nz_rows[i], nz_cols[i]]} konumu: ({nz_rows[i]}, {nz_cols[i]})\")\n",
        "\n",
        "# Koşul ile filtreleme ve nonzero() birleşimi\n",
        "gt_2_rows, gt_2_cols = np.nonzero(arr_2d > 2)\n",
        "print(\"\\n2'den büyük değerlerin konumları:\")\n",
        "for i in range(len(gt_2_rows)):\n",
        "    print(f\"Değer {arr_2d[gt_2_rows[i], gt_2_cols[i]]} konumu: ({gt_2_rows[i]}, {gt_2_cols[i]})\")\n"
      ]
    },
    {
      "cell_type": "markdown",
      "metadata": {},
      "source": [
        "## 8. extract() - Koşulu Sağlayan Elemanları Çıkarma\n"
      ]
    },
    {
      "cell_type": "code",
      "execution_count": null,
      "metadata": {},
      "outputs": [],
      "source": [
        "# extract() - koşula göre elemanları çıkarma\n",
        "arr = np.array([1, 2, 3, 4, 5, 6, 7, 8, 9, 10])\n",
        "print(\"Array:\", arr)\n",
        "\n",
        "# 3'ün katı olan elemanları çıkar\n",
        "condition = (arr % 3 == 0)\n",
        "extracted = np.extract(condition, arr)\n",
        "print(\"\\n3'ün katı olan elemanlar:\", extracted)\n",
        "\n",
        "# Hem 2'ye hem de 3'e bölünebilen sayıları çıkar\n",
        "condition = (arr % 2 == 0) & (arr % 3 == 0)\n",
        "extracted = np.extract(condition, arr)\n",
        "print(\"\\nHem 2'ye hem de 3'e bölünebilen sayılar:\", extracted)\n"
      ]
    },
    {
      "cell_type": "code",
      "execution_count": null,
      "metadata": {},
      "outputs": [],
      "source": [
        "# 2D array ile extract()\n",
        "arr_2d = np.array([[1, 2, 3], [4, 5, 6], [7, 8, 9]])\n",
        "print(\"2D array:\")\n",
        "print(arr_2d)\n",
        "\n",
        "# 5'ten büyük elemanları çıkar\n",
        "condition = arr_2d > 5\n",
        "extracted = np.extract(condition, arr_2d)\n",
        "print(\"\\n5'ten büyük elemanlar:\", extracted)\n",
        "\n",
        "# Çift sayıları çıkar\n",
        "condition = arr_2d % 2 == 0\n",
        "extracted = np.extract(condition, arr_2d)\n",
        "print(\"\\nÇift sayılar:\", extracted)\n",
        "\n",
        "# Not: extract() her zaman 1D sonuç döndürür, orijinal array yapısını korumaz\n"
      ]
    },
    {
      "cell_type": "markdown",
      "metadata": {},
      "source": [
        "## 9. Maskeleme İşlemleri ve Gelişmiş Filtreleme\n"
      ]
    },
    {
      "cell_type": "code",
      "execution_count": null,
      "metadata": {},
      "outputs": [],
      "source": [
        "# Maskeleme işlemleri - maskelenmiş array oluşturma\n",
        "arr = np.array([1, 2, 3, 4, 5, 6, 7, 8, 9, 10])\n",
        "print(\"Array:\", arr)\n",
        "\n",
        "# numpy.ma modülünü import edelim\n",
        "import numpy.ma as ma\n",
        "\n",
        "# 5'ten büyük değerleri maskele\n",
        "mask = arr > 5\n",
        "masked_arr = ma.masked_array(arr, mask)\n",
        "print(\"\\n5'ten büyük değerler maskelenmiş:\", masked_arr)\n",
        "\n",
        "# Çift sayıları maskele\n",
        "mask = arr % 2 == 0\n",
        "masked_arr = ma.masked_array(arr, mask)\n",
        "print(\"Çift sayılar maskelenmiş:\", masked_arr)\n",
        "\n",
        "# Maskelenmiş değerleri özel bir değerle dolduralım\n",
        "filled_arr = masked_arr.filled(-999)\n",
        "print(\"Maskelenmiş değerler -999 ile doldurulmuş:\", filled_arr)\n"
      ]
    },
    {
      "cell_type": "code",
      "execution_count": null,
      "metadata": {},
      "outputs": [],
      "source": [
        "# Gelişmiş filtreleme örnekleri\n",
        "arr = np.array([1, 2, 3, 4, 5, 6, 7, 8, 9, 10])\n",
        "print(\"Array:\", arr)\n",
        "\n",
        "# İşlev tabanlı filtreleme (fonksiyon ile)\n",
        "def is_prime(x):\n",
        "    if x < 2:\n",
        "        return False\n",
        "    for i in range(2, int(np.sqrt(x)) + 1):\n",
        "        if x % i == 0:\n",
        "            return False\n",
        "    return True\n",
        "\n",
        "# NumPy'ın vectorize() fonksiyonu ile özel bir fonksiyonu vektörel hale getirme\n",
        "vfunc = np.vectorize(is_prime)\n",
        "prime_mask = vfunc(arr)\n",
        "prime_numbers = arr[prime_mask]\n",
        "print(\"\\nAsal sayılar:\", prime_numbers)\n",
        "\n",
        "# İlk ve son elemanları filtreleme\n",
        "n = 3  # İlk ve son 3 eleman\n",
        "first_n = arr[:n]\n",
        "last_n = arr[-n:]\n",
        "print(f\"\\nİlk {n} eleman:\", first_n)\n",
        "print(f\"Son {n} eleman:\", last_n)\n",
        "\n",
        "# En büyük/küçük N elemanı bulma\n",
        "n = 3\n",
        "# En büyük n eleman\n",
        "largest_n = arr[np.argsort(arr)[-n:]]\n",
        "print(f\"\\nEn büyük {n} eleman:\", largest_n)\n",
        "\n",
        "# En küçük n eleman\n",
        "smallest_n = arr[np.argsort(arr)[:n]]\n",
        "print(f\"En küçük {n} eleman:\", smallest_n)\n"
      ]
    },
    {
      "cell_type": "markdown",
      "metadata": {},
      "source": [
        "## 10. isnan(), isinf() - Sayısal Kontroller\n"
      ]
    },
    {
      "cell_type": "code",
      "execution_count": null,
      "metadata": {},
      "outputs": [],
      "source": [
        "# NaN ve Infinity değerlerini bulma ve filtreleme\n",
        "# NaN (Not a Number) ve Infinity değerlerini içeren bir array oluşturalım\n",
        "arr = np.array([1.0, 2.0, np.nan, 4.0, np.inf, 6.0, -np.inf])\n",
        "print(\"Array:\", arr)\n",
        "\n",
        "# NaN değerlerini bulma\n",
        "nan_mask = np.isnan(arr)\n",
        "print(\"\\nNaN maskeleri:\", nan_mask)\n",
        "print(\"NaN değerlerin indeksleri:\", np.nonzero(nan_mask)[0])\n",
        "\n",
        "# Infinity değerlerini bulma\n",
        "inf_mask = np.isinf(arr)\n",
        "print(\"\\nInfinity maskeleri:\", inf_mask)\n",
        "print(\"Infinity değerlerin indeksleri:\", np.nonzero(inf_mask)[0])\n",
        "\n",
        "# Geçerli sayıları filtreleme (NaN ve Infinity olmayan)\n",
        "valid_mask = ~(np.isnan(arr) | np.isinf(arr))  # ~ operatörü ile boolean değeri tersine çeviriyoruz\n",
        "valid_values = arr[valid_mask]\n",
        "print(\"\\nGeçerli sayılar:\", valid_values)\n",
        "\n",
        "# NaN veya Infinity değerleri yerine başka bir değer koyma\n",
        "fixed_arr = np.copy(arr)\n",
        "fixed_arr[np.isnan(fixed_arr)] = 0  # NaN yerine 0\n",
        "fixed_arr[np.isinf(fixed_arr)] = 999  # Infinity yerine 999\n",
        "print(\"\\nDüzeltilmiş array:\", fixed_arr)\n"
      ]
    },
    {
      "cell_type": "markdown",
      "metadata": {},
      "source": [
        "## 11. isclose() - Yaklaşık Eşitlik Kontrolü\n"
      ]
    },
    {
      "cell_type": "code",
      "execution_count": null,
      "metadata": {},
      "outputs": [],
      "source": [
        "# Yaklaşık eşitlik kontrolü\n",
        "# Ondalık sayılarla çalışırken tam eşitlik kontrolü yerine yaklaşık eşitlik daha kullanışlıdır\n",
        "a = np.array([1.0, 1.0001, 1.001, 1.01, 1.1])\n",
        "b = np.ones(5)  # [1.0, 1.0, 1.0, 1.0, 1.0]\n",
        "\n",
        "print(\"A:\", a)\n",
        "print(\"B:\", b)\n",
        "\n",
        "# Tam eşitlik kontrolü\n",
        "exact_equal = (a == b)\n",
        "print(\"\\nTam eşitlik:\", exact_equal)\n",
        "\n",
        "# Yaklaşık eşitlik kontrolü\n",
        "close_default = np.isclose(a, b)\n",
        "print(\"\\nVarsayılan yaklaşık eşitlik:\", close_default)\n",
        "\n",
        "# Tolerans değerlerini ayarlama\n",
        "close_custom = np.isclose(a, b, rtol=0.01, atol=0.01)  # Daha yüksek tolerans\n",
        "print(\"\\nÖzel toleransla yaklaşık eşitlik:\", close_custom)\n",
        "\n",
        "# Yaklaşık eşit olan değerleri filtreleme\n",
        "filtered = a[close_default]\n",
        "print(\"\\nYaklaşık 1.0'a eşit değerler:\", filtered)\n"
      ]
    },
    {
      "cell_type": "markdown",
      "metadata": {},
      "source": [
        "## 12. unique() ve İlgili Fonksiyonlar - Benzersiz Değerler\n"
      ]
    },
    {
      "cell_type": "code",
      "execution_count": null,
      "metadata": {},
      "outputs": [],
      "source": [
        "# unique() - benzersiz değerleri bulma\n",
        "arr = np.array([1, 2, 2, 3, 1, 4, 2, 5, 5, 6, 4])\n",
        "print(\"Array:\", arr)\n",
        "\n",
        "# Benzersiz değerleri bulma\n",
        "unique_vals = np.unique(arr)\n",
        "print(\"\\nBenzersiz değerler:\", unique_vals)\n",
        "\n",
        "# Benzersiz değerleri ve frekanslarını bulma\n",
        "unique_vals, counts = np.unique(arr, return_counts=True)\n",
        "print(\"\\nBenzersiz değerler ve frekansları:\")\n",
        "for val, count in zip(unique_vals, counts):\n",
        "    print(f\"{val}: {count} kez\")\n",
        "\n",
        "# En çok tekrar eden değeri bulma\n",
        "most_frequent_index = np.argmax(counts)\n",
        "most_frequent_val = unique_vals[most_frequent_index]\n",
        "most_frequent_count = counts[most_frequent_index]\n",
        "print(f\"\\nEn çok tekrar eden değer: {most_frequent_val} ({most_frequent_count} kez)\")\n",
        "\n",
        "# Benzersiz değerlerin orijinal konumlarını bulma\n",
        "unique_vals, indices = np.unique(arr, return_index=True)\n",
        "print(\"\\nBenzersiz değerler ve ilk görüldükleri konumlar:\")\n",
        "for val, idx in zip(unique_vals, indices):\n",
        "    print(f\"{val}: {idx}. indekste ilk görülme\")\n"
      ]
    },
    {
      "cell_type": "code",
      "execution_count": null,
      "metadata": {},
      "outputs": [],
      "source": [
        "# 2D array'lerde unique\n",
        "arr_2d = np.array([[1, 2, 3], [2, 3, 4], [3, 4, 5]])\n",
        "print(\"2D array:\")\n",
        "print(arr_2d)\n",
        "\n",
        "# Tüm benzersiz değerleri bulma (düzleştirilmiş array'de)\n",
        "unique_flat = np.unique(arr_2d)\n",
        "print(\"\\nTüm benzersiz değerler:\", unique_flat)\n",
        "\n",
        "# Satır bazında benzersiz değerler\n",
        "unique_rows = np.unique(arr_2d, axis=0)\n",
        "print(\"\\nBenzersiz satırlar:\")\n",
        "print(unique_rows)\n",
        "\n",
        "# Sütun bazında benzersiz değerler\n",
        "unique_cols = np.unique(arr_2d, axis=1)\n",
        "print(\"\\nBenzersiz sütunlar:\")\n",
        "print(unique_cols)\n"
      ]
    },
    {
      "cell_type": "code",
      "execution_count": null,
      "metadata": {},
      "outputs": [],
      "source": [
        "# in1d() - Bir array'in elemanlarının başka bir array'de olup olmadığını kontrol etme\n",
        "arr1 = np.array([1, 2, 3, 4, 5])\n",
        "arr2 = np.array([2, 4, 6])\n",
        "print(\"Array 1:\", arr1)\n",
        "print(\"Array 2:\", arr2)\n",
        "\n",
        "# arr1'in elemanlarının arr2'de olup olmadığını kontrol etme\n",
        "mask = np.in1d(arr1, arr2)\n",
        "print(\"\\narr1'in elemanları arr2'de var mı:\", mask)\n",
        "print(\"arr2'de bulunan arr1 elemanları:\", arr1[mask])\n",
        "print(\"arr2'de bulunmayan arr1 elemanları:\", arr1[~mask])\n",
        "\n",
        "# intersect1d() - İki array'in kesişimi\n",
        "intersection = np.intersect1d(arr1, arr2)\n",
        "print(\"\\nKesişim (intersect1d):\", intersection)\n",
        "\n",
        "# setdiff1d() - İki array'in farkı (arr1'de olup arr2'de olmayanlar)\n",
        "difference = np.setdiff1d(arr1, arr2)\n",
        "print(\"Fark (setdiff1d):\", difference)\n",
        "\n",
        "# union1d() - İki array'in birleşimi (benzersiz değerler)\n",
        "union = np.union1d(arr1, arr2)\n",
        "print(\"Birleşim (union1d):\", union)\n"
      ]
    }
  ],
  "metadata": {
    "kernelspec": {
      "display_name": "Python 3",
      "language": "python",
      "name": "python3"
    },
    "language_info": {
      "codemirror_mode": {
        "name": "ipython",
        "version": 3
      },
      "file_extension": ".py",
      "mimetype": "text/x-python",
      "name": "python",
      "nbconvert_exporter": "python",
      "pygments_lexer": "ipython3",
      "version": "3.8.10"
    }
  },
  "nbformat": 4,
  "nbformat_minor": 4
}