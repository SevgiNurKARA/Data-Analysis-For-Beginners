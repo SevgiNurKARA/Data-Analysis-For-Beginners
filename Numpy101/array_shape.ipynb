{
  "cells": [
    {
      "cell_type": "markdown",
      "metadata": {},
      "source": [
        "# NumPy Array Shape \u0130\u015flemleri\n",
        "\n",
        "Bu notebook, NumPy k\u00fct\u00fcphanesinde array'lerin shape \u00f6zellikleri ve bunlarla ilgili temel i\u015flemleri g\u00f6stermektedir.\n"
      ]
    },
    {
      "cell_type": "markdown",
      "metadata": {},
      "source": [
        "## 1. NumPy K\u00fct\u00fcphanesini \u0130\u00e7e Aktarma\n"
      ]
    },
    {
      "cell_type": "code",
      "execution_count": null,
      "metadata": {},
      "outputs": [],
      "source": [
        "import numpy as np\n"
      ]
    },
    {
      "cell_type": "markdown",
      "metadata": {},
      "source": [
        "## 2. Array Olu\u015fturma ve Shape \u00d6zelli\u011fini G\u00f6r\u00fcnt\u00fcleme\n"
      ]
    },
    {
      "cell_type": "code",
      "execution_count": null,
      "metadata": {},
      "outputs": [],
      "source": [
        "# 1D array olu\u015fturma\n",
        "arr_1d = np.array([1, 2, 3, 4, 5])\n",
        "print(\"1D Array:\", arr_1d)\n",
        "print(\"Shape:\", arr_1d.shape)\n"
      ]
    },
    {
      "cell_type": "code",
      "execution_count": null,
      "metadata": {},
      "outputs": [],
      "source": [
        "# 2D array olu\u015fturma\n",
        "arr_2d = np.array([[1, 2, 3], [4, 5, 6]])\n",
        "print(\"2D Array:\\n\", arr_2d)\n",
        "print(\"Shape:\", arr_2d.shape)\n"
      ]
    },
    {
      "cell_type": "code",
      "execution_count": null,
      "metadata": {},
      "outputs": [],
      "source": [
        "# 3D array olu\u015fturma\n",
        "arr_3d = np.array([[[1, 2], [3, 4]], [[5, 6], [7, 8]]])\n",
        "print(\"3D Array:\\n\", arr_3d)\n",
        "print(\"Shape:\", arr_3d.shape)\n"
      ]
    },
    {
      "cell_type": "markdown",
      "metadata": {},
      "source": [
        "## 3. reshape() - Array \u015eeklini De\u011fi\u015ftirme\n"
      ]
    },
    {
      "cell_type": "code",
      "execution_count": null,
      "metadata": {},
      "outputs": [],
      "source": [
        "# 1D array'i 2D array'e d\u00f6n\u00fc\u015ft\u00fcrme\n",
        "arr = np.array([1, 2, 3, 4, 5, 6])\n",
        "reshaped_arr = arr.reshape(2, 3)\n",
        "print(\"Orijinal array:\", arr)\n",
        "print(\"Yeniden \u015fekillendirilen array:\\n\", reshaped_arr)\n"
      ]
    },
    {
      "cell_type": "code",
      "execution_count": null,
      "metadata": {},
      "outputs": [],
      "source": [
        "# -1 kullanarak otomatik boyut hesaplama\n",
        "arr = np.array([1, 2, 3, 4, 5, 6, 7, 8])\n",
        "reshaped_arr = arr.reshape(2, -1)  # \u0130kinci boyut otomatik hesaplan\u0131r\n",
        "print(\"Yeniden \u015fekillendirilen array:\\n\", reshaped_arr)\n",
        "print(\"Shape:\", reshaped_arr.shape)\n"
      ]
    },
    {
      "cell_type": "markdown",
      "metadata": {},
      "source": [
        "## 4. resize() - Array Boyutunu De\u011fi\u015ftirme (In-place)\n"
      ]
    },
    {
      "cell_type": "code",
      "execution_count": null,
      "metadata": {},
      "outputs": [],
      "source": [
        "arr = np.array([1, 2, 3, 4, 5, 6])\n",
        "print(\"Orijinal array:\", arr)\n",
        "\n",
        "# resize array'in kendisini de\u011fi\u015ftirir (in-place)\n",
        "arr.resize(2, 3)\n",
        "print(\"Yeniden boyutland\u0131r\u0131lan array:\\n\", arr)\n"
      ]
    },
    {
      "cell_type": "markdown",
      "metadata": {},
      "source": [
        "## 5. flatten() ve ravel() - \u00c7ok Boyutlu Array'i D\u00fczle\u015ftirme\n"
      ]
    },
    {
      "cell_type": "code",
      "execution_count": null,
      "metadata": {},
      "outputs": [],
      "source": [
        "arr_2d = np.array([[1, 2, 3], [4, 5, 6]])\n",
        "print(\"Orijinal 2D array:\\n\", arr_2d)\n",
        "\n",
        "# flatten() her zaman bir kopya d\u00f6nd\u00fcr\u00fcr\n",
        "flattened = arr_2d.flatten()\n",
        "print(\"flatten() ile d\u00fczle\u015ftirilmi\u015f array:\", flattened)\n"
      ]
    },
    {
      "cell_type": "code",
      "execution_count": null,
      "metadata": {},
      "outputs": [],
      "source": [
        "# ravel() m\u00fcmk\u00fcnse g\u00f6r\u00fcn\u00fcm (view) d\u00f6nd\u00fcr\u00fcr\n",
        "raveled = arr_2d.ravel()\n",
        "print(\"ravel() ile d\u00fczle\u015ftirilmi\u015f array:\", raveled)\n",
        "\n",
        "# raveled array de\u011fi\u015firse, orijinal array'de de\u011fi\u015febilir\n",
        "raveled[0] = 99\n",
        "print(\"De\u011fi\u015fiklikten sonra raveled array:\", raveled)\n",
        "print(\"De\u011fi\u015fiklikten sonra orijinal array:\\n\", arr_2d)\n"
      ]
    },
    {
      "cell_type": "markdown",
      "metadata": {},
      "source": [
        "## 6. transpose() ve T - Array'in Transpozu\n"
      ]
    },
    {
      "cell_type": "code",
      "execution_count": null,
      "metadata": {},
      "outputs": [],
      "source": [
        "arr_2d = np.array([[1, 2, 3], [4, 5, 6]])\n",
        "print(\"Orijinal array:\\n\", arr_2d)\n",
        "print(\"Shape:\", arr_2d.shape)\n",
        "\n",
        "# transpose() metodunu kullanarak\n",
        "transposed = arr_2d.transpose()\n",
        "print(\"\\nTranspoze (transpose()):\\n\", transposed)\n",
        "print(\"Shape:\", transposed.shape)\n"
      ]
    },
    {
      "cell_type": "code",
      "execution_count": null,
      "metadata": {},
      "outputs": [],
      "source": [
        "# T \u00f6zelli\u011fini kullanarak\n",
        "transposed = arr_2d.T\n",
        "print(\"Transpoze (T \u00f6zelli\u011fi):\\n\", transposed)\n",
        "print(\"Shape:\", transposed.shape)\n"
      ]
    },
    {
      "cell_type": "markdown",
      "metadata": {},
      "source": [
        "## 7. swapaxes() - Eksenleri De\u011fi\u015ftirme\n"
      ]
    },
    {
      "cell_type": "code",
      "execution_count": null,
      "metadata": {},
      "outputs": [],
      "source": [
        "arr_3d = np.array([[[1, 2], [3, 4]], [[5, 6], [7, 8]]])\n",
        "print(\"Orijinal 3D array:\\n\", arr_3d)\n",
        "print(\"Shape:\", arr_3d.shape)  # (2, 2, 2)\n",
        "\n",
        "# 0. ve 2. eksenleri de\u011fi\u015ftirme\n",
        "swapped = arr_3d.swapaxes(0, 2)\n",
        "print(\"\\nswapaxes(0, 2) sonras\u0131:\\n\", swapped)\n",
        "print(\"Shape:\", swapped.shape)\n"
      ]
    },
    {
      "cell_type": "markdown",
      "metadata": {},
      "source": [
        "## 8. expand_dims() - Yeni Boyut Ekleme\n"
      ]
    },
    {
      "cell_type": "code",
      "execution_count": null,
      "metadata": {},
      "outputs": [],
      "source": [
        "arr_1d = np.array([1, 2, 3, 4])\n",
        "print(\"Orijinal array:\", arr_1d)\n",
        "print(\"Shape:\", arr_1d.shape)  # (4,)\n",
        "\n",
        "# Yeni eksen ekleme (axis=0)\n",
        "expanded_0 = np.expand_dims(arr_1d, axis=0)\n",
        "print(\"\\naxis=0 i\u00e7in expand_dims:\\n\", expanded_0)\n",
        "print(\"Shape:\", expanded_0.shape)  # (1, 4)\n",
        "\n",
        "# Yeni eksen ekleme (axis=1)\n",
        "expanded_1 = np.expand_dims(arr_1d, axis=1)\n",
        "print(\"\\naxis=1 i\u00e7in expand_dims:\\n\", expanded_1)\n",
        "print(\"Shape:\", expanded_1.shape)  # (4, 1)\n"
      ]
    },
    {
      "cell_type": "markdown",
      "metadata": {},
      "source": [
        "## 9. squeeze() - Boyut 1 Olan Eksenleri Kald\u0131rma\n"
      ]
    },
    {
      "cell_type": "code",
      "execution_count": null,
      "metadata": {},
      "outputs": [],
      "source": [
        "# Boyutu 1 olan eksenler i\u00e7eren array\n",
        "arr = np.array([[[1], [2], [3]]])\n",
        "print(\"Orijinal array:\\n\", arr)\n",
        "print(\"Shape:\", arr.shape)  # (1, 3, 1)\n",
        "\n",
        "# T\u00fcm boyutu 1 olan eksenleri kald\u0131rma\n",
        "squeezed = np.squeeze(arr)\n",
        "print(\"\\nsqueeze() sonras\u0131:\\n\", squeezed)\n",
        "print(\"Shape:\", squeezed.shape)  # (3,)\n",
        "\n",
        "# Belirli bir ekseni kald\u0131rma\n",
        "squeezed_axis0 = np.squeeze(arr, axis=0)\n",
        "print(\"\\nsqueeze(axis=0) sonras\u0131:\\n\", squeezed_axis0)\n",
        "print(\"Shape:\", squeezed_axis0.shape)  # (3, 1)\n"
      ]
    },
    {
      "cell_type": "markdown",
      "metadata": {},
      "source": [
        "## 10. concatenate() - Array'leri Birle\u015ftirme\n"
      ]
    },
    {
      "cell_type": "code",
      "execution_count": null,
      "metadata": {},
      "outputs": [],
      "source": [
        "arr1 = np.array([[1, 2], [3, 4]])\n",
        "arr2 = np.array([[5, 6], [7, 8]])\n",
        "\n",
        "print(\"Array 1:\\n\", arr1)\n",
        "print(\"Array 2:\\n\", arr2)\n",
        "\n",
        "# Axis=0 boyunca birle\u015ftirme (sat\u0131rlar\u0131 birle\u015ftirme)\n",
        "concat_0 = np.concatenate((arr1, arr2), axis=0)\n",
        "print(\"\\nAxis=0 boyunca birle\u015ftirme:\\n\", concat_0)\n",
        "print(\"Shape:\", concat_0.shape)\n",
        "\n",
        "# Axis=1 boyunca birle\u015ftirme (s\u00fctunlar\u0131 birle\u015ftirme)\n",
        "concat_1 = np.concatenate((arr1, arr2), axis=1)\n",
        "print(\"\\nAxis=1 boyunca birle\u015ftirme:\\n\", concat_1)\n",
        "print(\"Shape:\", concat_1.shape)\n"
      ]
    },
    {
      "cell_type": "markdown",
      "metadata": {},
      "source": [
        "## 11. stack(), vstack(), hstack() - Array'leri \u0130stifleme\n"
      ]
    },
    {
      "cell_type": "code",
      "execution_count": null,
      "metadata": {},
      "outputs": [],
      "source": [
        "arr1 = np.array([1, 2, 3])\n",
        "arr2 = np.array([4, 5, 6])\n",
        "\n",
        "print(\"Array 1:\", arr1)\n",
        "print(\"Array 2:\", arr2)\n",
        "\n",
        "# stack() - Yeni bir eksen boyunca istifleme\n",
        "stacked = np.stack((arr1, arr2))\n",
        "print(\"\\nstack() ile istifleme:\\n\", stacked)\n",
        "print(\"Shape:\", stacked.shape)  # (2, 3)\n"
      ]
    },
    {
      "cell_type": "code",
      "execution_count": null,
      "metadata": {},
      "outputs": [],
      "source": [
        "# vstack() - Dikey istifleme\n",
        "v_stacked = np.vstack((arr1, arr2))\n",
        "print(\"vstack() ile istifleme:\\n\", v_stacked)\n",
        "print(\"Shape:\", v_stacked.shape)  # (2, 3)\n"
      ]
    },
    {
      "cell_type": "code",
      "execution_count": null,
      "metadata": {},
      "outputs": [],
      "source": [
        "# hstack() - Yatay istifleme\n",
        "h_stacked = np.hstack((arr1, arr2))\n",
        "print(\"hstack() ile istifleme:\", h_stacked)\n",
        "print(\"Shape:\", h_stacked.shape)  # (6,)\n"
      ]
    },
    {
      "cell_type": "markdown",
      "metadata": {},
      "source": [
        "## 12. split(), hsplit(), vsplit() - Array'leri B\u00f6lme\n"
      ]
    },
    {
      "cell_type": "code",
      "execution_count": null,
      "metadata": {},
      "outputs": [],
      "source": [
        "arr = np.array([[1, 2, 3, 4], [5, 6, 7, 8], [9, 10, 11, 12]])\n",
        "print(\"Orijinal array:\\n\", arr)\n",
        "print(\"Shape:\", arr.shape)  # (3, 4)\n",
        "\n",
        "# Yatay olarak 2 par\u00e7aya b\u00f6lme (s\u00fctunlar \u00fczerinde)\n",
        "h_splits = np.hsplit(arr, 2)\n",
        "print(\"\\nhsplit() ile b\u00f6lme:\")\n",
        "print(\"1. par\u00e7a:\\n\", h_splits[0])\n",
        "print(\"2. par\u00e7a:\\n\", h_splits[1])\n"
      ]
    },
    {
      "cell_type": "code",
      "execution_count": null,
      "metadata": {},
      "outputs": [],
      "source": [
        "# Dikey olarak 3 par\u00e7aya b\u00f6lme (sat\u0131rlar \u00fczerinde)\n",
        "v_splits = np.vsplit(arr, 3)\n",
        "print(\"vsplit() ile b\u00f6lme:\")\n",
        "print(\"1. par\u00e7a:\\n\", v_splits[0])\n",
        "print(\"2. par\u00e7a:\\n\", v_splits[1])\n",
        "print(\"3. par\u00e7a:\\n\", v_splits[2])\n"
      ]
    },
    {
      "cell_type": "code",
      "execution_count": null,
      "metadata": {},
      "outputs": [],
      "source": [
        "# Genel split() fonksiyonu ile belirli bir eksen \u00fczerinde b\u00f6lme\n",
        "splits = np.split(arr, 3, axis=0)  # vsplit ile ayn\u0131\n",
        "print(\"split(axis=0) ile b\u00f6lme:\")\n",
        "for i, split in enumerate(splits):\n",
        "    print(f\"{i+1}. par\u00e7a:\\n\", split)\n"
      ]
    },
    {
      "cell_type": "markdown",
      "metadata": {},
      "source": [
        "## 13. newaxis - Yeni Eksen Ekleme\n"
      ]
    },
    {
      "cell_type": "code",
      "execution_count": null,
      "metadata": {},
      "outputs": [],
      "source": [
        "arr = np.array([1, 2, 3, 4])\n",
        "print(\"Orijinal array:\", arr)\n",
        "print(\"Shape:\", arr.shape)  # (4,)\n",
        "\n",
        "# np.newaxis ile yeni boyut ekleme\n",
        "column_vector = arr[:, np.newaxis]\n",
        "print(\"\\nS\u00fctun vekt\u00f6r\u00fc:\\n\", column_vector)\n",
        "print(\"Shape:\", column_vector.shape)  # (4, 1)\n",
        "\n",
        "row_vector = arr[np.newaxis, :]\n",
        "print(\"\\nSat\u0131r vekt\u00f6r\u00fc:\\n\", row_vector)\n",
        "print(\"Shape:\", row_vector.shape)  # (1, 4)\n"
      ]
    },
    {
      "cell_type": "markdown",
      "metadata": {},
      "source": [
        "## 14. Broadcasting - Farkl\u0131 Boyutlardaki Array'lerle \u0130\u015flem Yapma\n"
      ]
    },
    {
      "cell_type": "code",
      "execution_count": null,
      "metadata": {},
      "outputs": [],
      "source": [
        "# Broadcasting \u00f6rne\u011fi\n",
        "arr_2d = np.array([[1, 2, 3], [4, 5, 6]])\n",
        "arr_1d = np.array([10, 20, 30])\n",
        "\n",
        "print(\"2D Array:\\n\", arr_2d)\n",
        "print(\"1D Array:\", arr_1d)\n",
        "\n",
        "# Broadcasting ile toplama\n",
        "result = arr_2d + arr_1d\n",
        "print(\"\\nSonu\u00e7 (Broadcasting ile):\\n\", result)\n"
      ]
    },
    {
      "cell_type": "markdown",
      "metadata": {},
      "source": [
        "## 15. ndim ve size - Boyut ve Eleman Say\u0131s\u0131\n"
      ]
    },
    {
      "cell_type": "code",
      "execution_count": null,
      "metadata": {},
      "outputs": [],
      "source": [
        "arr_1d = np.array([1, 2, 3])\n",
        "arr_2d = np.array([[1, 2], [3, 4], [5, 6]])\n",
        "arr_3d = np.array([[[1, 2], [3, 4]], [[5, 6], [7, 8]]])\n",
        "\n",
        "print(\"1D Array:\", arr_1d)\n",
        "print(\"Boyut say\u0131s\u0131 (ndim):\", arr_1d.ndim)\n",
        "print(\"Eleman say\u0131s\u0131 (size):\", arr_1d.size)\n",
        "print(\"Shape:\", arr_1d.shape)\n",
        "\n",
        "print(\"\\n2D Array:\\n\", arr_2d)\n",
        "print(\"Boyut say\u0131s\u0131 (ndim):\", arr_2d.ndim)\n",
        "print(\"Eleman say\u0131s\u0131 (size):\", arr_2d.size)\n",
        "print(\"Shape:\", arr_2d.shape)\n",
        "\n",
        "print(\"\\n3D Array:\\n\", arr_3d)\n",
        "print(\"Boyut say\u0131s\u0131 (ndim):\", arr_3d.ndim)\n",
        "print(\"Eleman say\u0131s\u0131 (size):\", arr_3d.size)\n",
        "print(\"Shape:\", arr_3d.shape)\n"
      ]
    }
  ],
  "metadata": {
    "kernelspec": {
      "display_name": "Python 3",
      "language": "python",
      "name": "python3"
    },
    "language_info": {
      "codemirror_mode": {
        "name": "ipython",
        "version": 3
      },
      "file_extension": ".py",
      "mimetype": "text/x-python",
      "name": "python",
      "nbconvert_exporter": "python",
      "pygments_lexer": "ipython3",
      "version": "3.8.10"
    }
  },
  "nbformat": 4,
  "nbformat_minor": 4
}