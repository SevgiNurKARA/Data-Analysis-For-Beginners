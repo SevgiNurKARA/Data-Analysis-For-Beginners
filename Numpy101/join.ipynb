{
  "cells": [
    {
      "cell_type": "markdown",
      "metadata": {},
      "source": [
        "# NumPy Join \u0130\u015flemleri\n",
        "\n",
        "Bu notebook, NumPy k\u00fct\u00fcphanesinde array'leri birle\u015ftirme (join) i\u015flemleri ve teknikleri g\u00f6stermektedir.\n"
      ]
    },
    {
      "cell_type": "markdown",
      "metadata": {},
      "source": [
        "## 1. NumPy K\u00fct\u00fcphanesini \u0130\u00e7e Aktarma\n"
      ]
    },
    {
      "cell_type": "code",
      "execution_count": null,
      "metadata": {},
      "outputs": [],
      "source": [
        "import numpy as np\n"
      ]
    },
    {
      "cell_type": "markdown",
      "metadata": {},
      "source": [
        "## 2. concatenate() - Array'leri Birle\u015ftirme\n"
      ]
    },
    {
      "cell_type": "code",
      "execution_count": null,
      "metadata": {},
      "outputs": [],
      "source": [
        "# 1D array'leri birle\u015ftirme\n",
        "arr1 = np.array([1, 2, 3])\n",
        "arr2 = np.array([4, 5, 6])\n",
        "print(\"Array 1:\", arr1)\n",
        "print(\"Array 2:\", arr2)\n",
        "\n",
        "# concatenate() ile birle\u015ftirme\n",
        "joined_arr = np.concatenate((arr1, arr2))\n",
        "print(\"\\nBirle\u015ftirilmi\u015f array:\", joined_arr)\n"
      ]
    },
    {
      "cell_type": "code",
      "execution_count": null,
      "metadata": {},
      "outputs": [],
      "source": [
        "# 2D array'leri birle\u015ftirme\n",
        "arr1 = np.array([[1, 2], [3, 4]])\n",
        "arr2 = np.array([[5, 6], [7, 8]])\n",
        "print(\"Array 1:\")\n",
        "print(arr1)\n",
        "print(\"\\nArray 2:\")\n",
        "print(arr2)\n",
        "\n",
        "# Sat\u0131rlar boyunca birle\u015ftirme (axis=0)\n",
        "joined_rows = np.concatenate((arr1, arr2), axis=0)\n",
        "print(\"\\nSat\u0131rlar boyunca birle\u015ftirme (axis=0):\")\n",
        "print(joined_rows)\n",
        "\n",
        "# S\u00fctunlar boyunca birle\u015ftirme (axis=1)\n",
        "joined_cols = np.concatenate((arr1, arr2), axis=1)\n",
        "print(\"\\nS\u00fctunlar boyunca birle\u015ftirme (axis=1):\")\n",
        "print(joined_cols)\n"
      ]
    },
    {
      "cell_type": "code",
      "execution_count": null,
      "metadata": {},
      "outputs": [],
      "source": [
        "# Farkl\u0131 boyutlardaki array'leri birle\u015ftirme (boyutlar\u0131 uygun olmal\u0131)\n",
        "arr1 = np.array([[1, 2], [3, 4]])\n",
        "arr2 = np.array([[5, 6]])\n",
        "\n",
        "print(\"Array 1:\")\n",
        "print(arr1)\n",
        "print(\"\\nArray 2:\")\n",
        "print(arr2)\n",
        "\n",
        "# Sat\u0131rlar boyunca birle\u015ftirme (boyutlar\u0131 uyumlu olmal\u0131: s\u00fctun say\u0131lar\u0131 ayn\u0131 olmal\u0131)\n",
        "try:\n",
        "    # Boyutlar\u0131 uyumlu hale getirme (arr2'yi yeniden \u015fekillendirme)\n",
        "    arr2_reshaped = arr2.reshape(1, 2)\n",
        "    print(\"\\nYeniden \u015fekillendirilmi\u015f Array 2:\")\n",
        "    print(arr2_reshaped)\n",
        "    \n",
        "    # \u015eimdi birle\u015ftirebiliriz\n",
        "    joined = np.concatenate((arr1, arr2_reshaped), axis=0)\n",
        "    print(\"\\nBirle\u015ftirilmi\u015f array:\")\n",
        "    print(joined)\n",
        "except ValueError as e:\n",
        "    print(\"\\nHata:\", e)\n"
      ]
    },
    {
      "cell_type": "markdown",
      "metadata": {},
      "source": [
        "## 3. stack(), vstack(), hstack() - Array \u0130stifleme\n"
      ]
    },
    {
      "cell_type": "code",
      "execution_count": null,
      "metadata": {},
      "outputs": [],
      "source": [
        "# stack() - Yeni bir eksen olu\u015fturarak istifleme\n",
        "arr1 = np.array([1, 2, 3])\n",
        "arr2 = np.array([4, 5, 6])\n",
        "print(\"Array 1:\", arr1)\n",
        "print(\"Array 2:\", arr2)\n",
        "\n",
        "# Dikey olarak istifleme (yeni bir eksen olu\u015fturur)\n",
        "stacked = np.stack((arr1, arr2))\n",
        "print(\"\\nstack() ile istiflenmi\u015f array:\")\n",
        "print(stacked)\n",
        "print(\"Shape:\", stacked.shape)\n",
        "\n",
        "# Eksen belirterek istifleme\n",
        "stacked_axis1 = np.stack((arr1, arr2), axis=1)\n",
        "print(\"\\nstack(axis=1) ile istiflenmi\u015f array:\")\n",
        "print(stacked_axis1)\n",
        "print(\"Shape:\", stacked_axis1.shape)\n"
      ]
    },
    {
      "cell_type": "code",
      "execution_count": null,
      "metadata": {},
      "outputs": [],
      "source": [
        "# vstack() - Dikey istifleme (sat\u0131rlar boyunca)\n",
        "arr1 = np.array([1, 2, 3])\n",
        "arr2 = np.array([4, 5, 6])\n",
        "print(\"Array 1:\", arr1)\n",
        "print(\"Array 2:\", arr2)\n",
        "\n",
        "# Dikey istifleme\n",
        "vstacked = np.vstack((arr1, arr2))\n",
        "print(\"\\nvstack() ile istiflenmi\u015f array:\")\n",
        "print(vstacked)\n",
        "print(\"Shape:\", vstacked.shape)\n",
        "\n",
        "# 2D arrays ile vstack\n",
        "arr3 = np.array([[7, 8, 9], [10, 11, 12]])\n",
        "print(\"\\nArray 3:\")\n",
        "print(arr3)\n",
        "\n",
        "vstacked_2d = np.vstack((vstacked, arr3))\n",
        "print(\"\\nvstack() ile 2D array ekleme:\")\n",
        "print(vstacked_2d)\n",
        "print(\"Shape:\", vstacked_2d.shape)\n"
      ]
    },
    {
      "cell_type": "code",
      "execution_count": null,
      "metadata": {},
      "outputs": [],
      "source": [
        "# hstack() - Yatay istifleme (s\u00fctunlar boyunca)\n",
        "arr1 = np.array([1, 2, 3])\n",
        "arr2 = np.array([4, 5, 6])\n",
        "print(\"Array 1:\", arr1)\n",
        "print(\"Array 2:\", arr2)\n",
        "\n",
        "# Yatay istifleme\n",
        "hstacked = np.hstack((arr1, arr2))\n",
        "print(\"\\nhstack() ile istiflenmi\u015f array:\")\n",
        "print(hstacked)\n",
        "print(\"Shape:\", hstacked.shape)\n",
        "\n",
        "# 2D arrays ile hstack\n",
        "arr1_2d = np.array([[1, 2], [3, 4]])\n",
        "arr2_2d = np.array([[5, 6], [7, 8]])\n",
        "print(\"\\nArray 1 (2D):\")\n",
        "print(arr1_2d)\n",
        "print(\"Array 2 (2D):\")\n",
        "print(arr2_2d)\n",
        "\n",
        "hstacked_2d = np.hstack((arr1_2d, arr2_2d))\n",
        "print(\"\\nhstack() ile 2D arrays birle\u015ftirme:\")\n",
        "print(hstacked_2d)\n",
        "print(\"Shape:\", hstacked_2d.shape)\n"
      ]
    },
    {
      "cell_type": "markdown",
      "metadata": {},
      "source": [
        "## 4. dstack() - Derinlik Boyunca \u0130stifleme\n"
      ]
    },
    {
      "cell_type": "code",
      "execution_count": null,
      "metadata": {},
      "outputs": [],
      "source": [
        "# dstack() - Derinlik boyunca (\u00fc\u00e7\u00fcnc\u00fc eksen) istifleme\n",
        "arr1 = np.array([1, 2, 3])\n",
        "arr2 = np.array([4, 5, 6])\n",
        "print(\"Array 1:\", arr1)\n",
        "print(\"Array 2:\", arr2)\n",
        "\n",
        "# Derinlik boyunca istifleme\n",
        "dstacked = np.dstack((arr1, arr2))\n",
        "print(\"\\ndstack() ile istiflenmi\u015f array:\")\n",
        "print(dstacked)\n",
        "print(\"Shape:\", dstacked.shape)  # (1, 3, 2)\n",
        "\n",
        "# 2D arrays ile dstack\n",
        "arr1_2d = np.array([[1, 2], [3, 4]])\n",
        "arr2_2d = np.array([[5, 6], [7, 8]])\n",
        "print(\"\\nArray 1 (2D):\")\n",
        "print(arr1_2d)\n",
        "print(\"Array 2 (2D):\")\n",
        "print(arr2_2d)\n",
        "\n",
        "dstacked_2d = np.dstack((arr1_2d, arr2_2d))\n",
        "print(\"\\ndstack() ile 2D arrays birle\u015ftirme:\")\n",
        "print(dstacked_2d)\n",
        "print(\"Shape:\", dstacked_2d.shape)  # (2, 2, 2)\n"
      ]
    },
    {
      "cell_type": "markdown",
      "metadata": {},
      "source": [
        "## 5. column_stack() ve row_stack() - S\u00fctun ve Sat\u0131r \u0130stifleme\n"
      ]
    },
    {
      "cell_type": "code",
      "execution_count": null,
      "metadata": {},
      "outputs": [],
      "source": [
        "# column_stack() - 1D array'leri s\u00fctun olarak istifleme\n",
        "arr1 = np.array([1, 2, 3])\n",
        "arr2 = np.array([4, 5, 6])\n",
        "print(\"Array 1:\", arr1)\n",
        "print(\"Array 2:\", arr2)\n",
        "\n",
        "# S\u00fctun olarak istifleme\n",
        "col_stacked = np.column_stack((arr1, arr2))\n",
        "print(\"\\ncolumn_stack() ile istiflenmi\u015f array:\")\n",
        "print(col_stacked)\n",
        "print(\"Shape:\", col_stacked.shape)\n",
        "\n",
        "# hstack ile kar\u015f\u0131la\u015ft\u0131rma\n",
        "hstacked = np.hstack((arr1.reshape(-1, 1), arr2.reshape(-1, 1)))\n",
        "print(\"\\nhstack() ile istiflenmi\u015f array (s\u00fctunlar olarak):\")\n",
        "print(hstacked)\n",
        "print(\"Shape:\", hstacked.shape)\n"
      ]
    },
    {
      "cell_type": "code",
      "execution_count": null,
      "metadata": {},
      "outputs": [],
      "source": [
        "# row_stack() - 1D array'leri sat\u0131r olarak istifleme (asl\u0131nda vstack ile ayn\u0131)\n",
        "arr1 = np.array([1, 2, 3])\n",
        "arr2 = np.array([4, 5, 6])\n",
        "print(\"Array 1:\", arr1)\n",
        "print(\"Array 2:\", arr2)\n",
        "\n",
        "# Sat\u0131r olarak istifleme\n",
        "row_stacked = np.row_stack((arr1, arr2))\n",
        "print(\"\\nrow_stack() ile istiflenmi\u015f array:\")\n",
        "print(row_stacked)\n",
        "print(\"Shape:\", row_stacked.shape)\n",
        "\n",
        "# vstack ile kar\u015f\u0131la\u015ft\u0131rma\n",
        "vstacked = np.vstack((arr1, arr2))\n",
        "print(\"\\nvstack() ile istiflenmi\u015f array:\")\n",
        "print(vstacked)\n",
        "print(\"Shape:\", vstacked.shape)\n"
      ]
    },
    {
      "cell_type": "markdown",
      "metadata": {},
      "source": [
        "## 6. Farkl\u0131 Veri Tipindeki Array'lerin Birle\u015ftirilmesi\n"
      ]
    },
    {
      "cell_type": "code",
      "execution_count": null,
      "metadata": {},
      "outputs": [],
      "source": [
        "# Farkl\u0131 veri tiplerindeki array'leri birle\u015ftirme\n",
        "arr1 = np.array([1, 2, 3], dtype=np.int32)\n",
        "arr2 = np.array([4.5, 5.5, 6.5], dtype=np.float64)\n",
        "print(\"Array 1:\", arr1, \"Veri tipi:\", arr1.dtype)\n",
        "print(\"Array 2:\", arr2, \"Veri tipi:\", arr2.dtype)\n",
        "\n",
        "# Birle\u015ftirme - NumPy, ortak veri tipini se\u00e7er (upcasting)\n",
        "joined = np.concatenate((arr1, arr2))\n",
        "print(\"\\nBirle\u015ftirilmi\u015f array:\", joined)\n",
        "print(\"Veri tipi:\", joined.dtype)  # float64 olacak (upcasting)\n"
      ]
    },
    {
      "cell_type": "code",
      "execution_count": null,
      "metadata": {},
      "outputs": [],
      "source": [
        "# astype() ile veri tipini de\u011fi\u015ftirerek birle\u015ftirme\n",
        "arr1 = np.array([1, 2, 3], dtype=np.int32)\n",
        "arr2 = np.array([4.5, 5.5, 6.5], dtype=np.float64)\n",
        "\n",
        "# arr2'yi int'e d\u00f6n\u00fc\u015ft\u00fcr\u00fcp birle\u015ftirme\n",
        "joined_as_int = np.concatenate((arr1, arr2.astype(np.int32)))\n",
        "print(\"Int olarak birle\u015ftirilmi\u015f array:\", joined_as_int)\n",
        "print(\"Veri tipi:\", joined_as_int.dtype)  # int32 olacak\n",
        "\n",
        "# arr1'i float'a d\u00f6n\u00fc\u015ft\u00fcr\u00fcp birle\u015ftirme\n",
        "joined_as_float = np.concatenate((arr1.astype(np.float64), arr2))\n",
        "print(\"\\nFloat olarak birle\u015ftirilmi\u015f array:\", joined_as_float)\n",
        "print(\"Veri tipi:\", joined_as_float.dtype)  # float64 olacak\n"
      ]
    },
    {
      "cell_type": "markdown",
      "metadata": {},
      "source": [
        "## 7. append() - Array'e Eleman Ekleme\n"
      ]
    },
    {
      "cell_type": "code",
      "execution_count": null,
      "metadata": {},
      "outputs": [],
      "source": [
        "# append() - Array'e eleman ekleme (her zaman 1D sonu\u00e7 d\u00f6nd\u00fcr\u00fcr)\n",
        "arr = np.array([1, 2, 3, 4, 5])\n",
        "print(\"Orijinal array:\", arr)\n",
        "\n",
        "# Tek bir eleman ekleme\n",
        "new_arr = np.append(arr, 6)\n",
        "print(\"\\nappend() ile 6 ekleme:\", new_arr)\n",
        "\n",
        "# Birden fazla eleman ekleme\n",
        "new_arr = np.append(arr, [6, 7, 8])\n",
        "print(\"\\nappend() ile [6, 7, 8] ekleme:\", new_arr)\n"
      ]
    },
    {
      "cell_type": "code",
      "execution_count": null,
      "metadata": {},
      "outputs": [],
      "source": [
        "# 2D array'lere append (axis belirtilerek)\n",
        "arr_2d = np.array([[1, 2, 3], [4, 5, 6]])\n",
        "print(\"Orijinal 2D array:\")\n",
        "print(arr_2d)\n",
        "\n",
        "# Yeni bir sat\u0131r ekleme\n",
        "new_row = np.array([[7, 8, 9]])\n",
        "arr_with_new_row = np.append(arr_2d, new_row, axis=0)\n",
        "print(\"\\nYeni sat\u0131r eklendikten sonra:\")\n",
        "print(arr_with_new_row)\n",
        "\n",
        "# Yeni bir s\u00fctun ekleme\n",
        "new_col = np.array([[10], [11]])\n",
        "arr_with_new_col = np.append(arr_2d, new_col, axis=1)\n",
        "print(\"\\nYeni s\u00fctun eklendikten sonra:\")\n",
        "print(arr_with_new_col)\n"
      ]
    },
    {
      "cell_type": "markdown",
      "metadata": {},
      "source": [
        "## 8. insert() - Belirli Bir Konuma Eleman Ekleme\n"
      ]
    },
    {
      "cell_type": "code",
      "execution_count": null,
      "metadata": {},
      "outputs": [],
      "source": [
        "# insert() - Belirli bir konuma eleman ekleme\n",
        "arr = np.array([1, 2, 3, 4, 5])\n",
        "print(\"Orijinal array:\", arr)\n",
        "\n",
        "# 2. indekse (3. eleman) yeni eleman ekleme\n",
        "new_arr = np.insert(arr, 2, 10)\n",
        "print(\"\\ninsert(arr, 2, 10) sonucu:\", new_arr)\n",
        "\n",
        "# \u0130lk konuma (0. indeks) yeni eleman ekleme\n",
        "new_arr = np.insert(arr, 0, -5)\n",
        "print(\"\\ninsert(arr, 0, -5) sonucu:\", new_arr)\n",
        "\n",
        "# Son konuma yeni eleman ekleme\n",
        "new_arr = np.insert(arr, len(arr), 99)\n",
        "print(\"\\ninsert(arr, len(arr), 99) sonucu:\", new_arr)\n"
      ]
    },
    {
      "cell_type": "code",
      "execution_count": null,
      "metadata": {},
      "outputs": [],
      "source": [
        "# 2D array'lere insert (axis belirtilerek)\n",
        "arr_2d = np.array([[1, 2, 3], [4, 5, 6]])\n",
        "print(\"Orijinal 2D array:\")\n",
        "print(arr_2d)\n",
        "\n",
        "# Yeni bir sat\u0131r ekleme (1. indekse)\n",
        "new_arr = np.insert(arr_2d, 1, [10, 11, 12], axis=0)\n",
        "print(\"\\nYeni sat\u0131r eklendikten sonra:\")\n",
        "print(new_arr)\n",
        "\n",
        "# Yeni bir s\u00fctun ekleme (2. indekse)\n",
        "new_arr = np.insert(arr_2d, 2, [10, 11], axis=1)\n",
        "print(\"\\nYeni s\u00fctun eklendikten sonra:\")\n",
        "print(new_arr)\n"
      ]
    },
    {
      "cell_type": "markdown",
      "metadata": {},
      "source": [
        "## 9. Maskeli Array'lerin Birle\u015ftirilmesi\n"
      ]
    },
    {
      "cell_type": "code",
      "execution_count": null,
      "metadata": {},
      "outputs": [],
      "source": [
        "# Maske kullanarak array'leri birle\u015ftirme\n",
        "arr1 = np.array([1, 2, 3, 4, 5])\n",
        "arr2 = np.array([10, 20, 30, 40, 50])\n",
        "print(\"Array 1:\", arr1)\n",
        "print(\"Array 2:\", arr2)\n",
        "\n",
        "# Ko\u015fullu birle\u015ftirme: arr1'in \u00e7ift elemanlar\u0131, arr2'nin tek elemanlar\u0131\n",
        "mask = np.array([i % 2 == 0 for i in range(5)])  # [True, False, True, False, True]\n",
        "print(\"Maske:\", mask)\n",
        "\n",
        "result = np.where(mask, arr1, arr2)\n",
        "print(\"\\nwhere() ile ko\u015fullu birle\u015ftirme:\", result)\n",
        "\n",
        "# A\u00e7\u0131klama:\n",
        "# where(condition, x, y) fonksiyonu, condition True oldu\u011funda x'ten, False oldu\u011funda y'den de\u011fer al\u0131r\n",
        "# Sonu\u00e7: [1, 20, 3, 40, 5] olacak\n"
      ]
    },
    {
      "cell_type": "code",
      "execution_count": null,
      "metadata": {},
      "outputs": [],
      "source": [
        "# Farkl\u0131 bir \u00f6rnek: de\u011ferleri kar\u015f\u0131la\u015ft\u0131rarak birle\u015ftirme\n",
        "arr1 = np.array([8, 2, 9, 4, 5])\n",
        "arr2 = np.array([1, 12, 3, 14, 5])\n",
        "print(\"Array 1:\", arr1)\n",
        "print(\"Array 2:\", arr2)\n",
        "\n",
        "# Her iki array'den de b\u00fcy\u00fck olan\u0131 se\u00e7me\n",
        "result = np.maximum(arr1, arr2)\n",
        "print(\"\\nmaximum() ile birle\u015ftirme:\", result)\n",
        "\n",
        "# Her iki array'den de k\u00fc\u00e7\u00fck olan\u0131 se\u00e7me\n",
        "result = np.minimum(arr1, arr2)\n",
        "print(\"minimum() ile birle\u015ftirme:\", result)\n"
      ]
    },
    {
      "cell_type": "markdown",
      "metadata": {},
      "source": [
        "## 10. Uygulama: Veri Manip\u00fclasyonu\n"
      ]
    },
    {
      "cell_type": "code",
      "execution_count": null,
      "metadata": {},
      "outputs": [],
      "source": [
        "# \u0130ki farkl\u0131 veri setini birle\u015ftirme \u00f6rne\u011fi\n",
        "# \u0130lk veri seti: \u00d6\u011frenci adlar\u0131 ve ya\u015flar\u0131\n",
        "names = np.array(['Ali', 'Ay\u015fe', 'Mehmet', 'Zeynep'])\n",
        "ages = np.array([23, 21, 24, 22])\n",
        "\n",
        "print(\"\u0130simler:\", names)\n",
        "print(\"Ya\u015flar:\", ages)\n",
        "\n",
        "# \u0130kinci veri seti: \u00d6\u011frenci puanlar\u0131\n",
        "scores_math = np.array([85, 90, 78, 92])\n",
        "scores_science = np.array([92, 88, 75, 95])\n",
        "\n",
        "print(\"\\nMatematik Puanlar\u0131:\", scores_math)\n",
        "print(\"Fen Puanlar\u0131:\", scores_science)\n",
        "\n",
        "# \u0130ki puan setini birle\u015ftirme (s\u00fctun olarak)\n",
        "scores = np.column_stack((scores_math, scores_science))\n",
        "print(\"\\nBirle\u015ftirilmi\u015f puanlar:\")\n",
        "print(scores)\n",
        "\n",
        "# Ortalama puanlar\u0131 hesaplama\n",
        "avg_scores = np.mean(scores, axis=1)\n",
        "print(\"\\nOrtalama puanlar:\", avg_scores)\n",
        "\n",
        "# T\u00fcm verileri birle\u015ftirme (isimler, ya\u015flar, ortalama puanlar)\n",
        "# NumPy, farkl\u0131 veri tiplerini birle\u015ftirmek i\u00e7in structured arrays veya\n",
        "# daha iyisi pandas DataFrame'leri kullan\u0131l\u0131r, ama burada basit olarak g\u00f6sterelim\n",
        "print(\"\\n\u00d6\u011frenci Raporu:\")\n",
        "for i in range(len(names)):\n",
        "    print(f\"{names[i]}, {ages[i]} ya\u015f\u0131nda, Ortalama: {avg_scores[i]:.1f}\")\n"
      ]
    },
    {
      "cell_type": "markdown",
      "metadata": {},
      "source": [
        "## 11. Yeniden \u015eekillendirme ve Birle\u015ftirme\n"
      ]
    },
    {
      "cell_type": "code",
      "execution_count": null,
      "metadata": {},
      "outputs": [],
      "source": [
        "# Farkl\u0131 \u015fekilli array'leri birle\u015ftirmek i\u00e7in yeniden \u015fekillendirme\n",
        "arr1 = np.array([1, 2, 3, 4])\n",
        "arr2 = np.array([[5, 6], [7, 8]])\n",
        "print(\"Array 1:\", arr1, \"Shape:\", arr1.shape)\n",
        "print(\"Array 2:\")\n",
        "print(arr2)\n",
        "print(\"Shape:\", arr2.shape)\n",
        "\n",
        "# arr1'i (2,2) \u015feklinde yeniden \u015fekillendirme\n",
        "arr1_reshaped = arr1.reshape(2, 2)\n",
        "print(\"\\nYeniden \u015fekillendirilmi\u015f Array 1:\")\n",
        "print(arr1_reshaped)\n",
        "\n",
        "# \u015eimdi iki array'i birle\u015ftirebiliriz\n",
        "joined = np.concatenate((arr1_reshaped, arr2), axis=0)\n",
        "print(\"\\nSat\u0131rlar boyunca birle\u015ftirilmi\u015f array:\")\n",
        "print(joined)\n"
      ]
    },
    {
      "cell_type": "markdown",
      "metadata": {},
      "source": [
        "## 12. meshgrid() - Koordinat Matrislerini Olu\u015fturma\n"
      ]
    },
    {
      "cell_type": "code",
      "execution_count": null,
      "metadata": {},
      "outputs": [],
      "source": [
        "# meshgrid() - 2D koordinat matrislerini olu\u015fturma\n",
        "x = np.array([1, 2, 3])\n",
        "y = np.array([4, 5, 6, 7])\n",
        "\n",
        "# X ve Y koordinat matrislerini olu\u015ftur\n",
        "X, Y = np.meshgrid(x, y)\n",
        "print(\"X matrisi:\")\n",
        "print(X)\n",
        "print(\"\\nY matrisi:\")\n",
        "print(Y)\n",
        "\n",
        "# Bu matrisleri kullanarak bir 2D fonksiyon hesaplama\n",
        "Z = X**2 + Y**2\n",
        "print(\"\\nZ = X^2 + Y^2:\")\n",
        "print(Z)\n",
        "\n",
        "# Sonu\u00e7lar\u0131 bir araya getirme (X, Y, Z koordinatlar\u0131)\n",
        "points = np.column_stack((X.flat, Y.flat, Z.flat))\n",
        "print(\"\\nT\u00fcm noktalar (X, Y, Z):\")\n",
        "print(points[:10])  # \u0130lk 10 noktay\u0131 g\u00f6steriyoruz\n"
      ]
    }
  ],
  "metadata": {
    "kernelspec": {
      "display_name": "Python 3",
      "language": "python",
      "name": "python3"
    },
    "language_info": {
      "codemirror_mode": {
        "name": "ipython",
        "version": 3
      },
      "file_extension": ".py",
      "mimetype": "text/x-python",
      "name": "python",
      "nbconvert_exporter": "python",
      "pygments_lexer": "ipython3",
      "version": "3.8.10"
    }
  },
  "nbformat": 4,
  "nbformat_minor": 4
}