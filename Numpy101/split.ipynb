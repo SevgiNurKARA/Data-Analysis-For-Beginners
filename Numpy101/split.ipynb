{
  "cells": [
    {
      "cell_type": "markdown",
      "metadata": {},
      "source": [
        "# NumPy Split \u0130\u015flemleri\n",
        "\n",
        "Bu notebook, NumPy k\u00fct\u00fcphanesinde array'leri b\u00f6lme (split) i\u015flemleri ve teknikleri g\u00f6stermektedir.\n"
      ]
    },
    {
      "cell_type": "markdown",
      "metadata": {},
      "source": [
        "## 1. NumPy K\u00fct\u00fcphanesini \u0130\u00e7e Aktarma\n"
      ]
    },
    {
      "cell_type": "code",
      "execution_count": null,
      "metadata": {},
      "outputs": [],
      "source": [
        "import numpy as np\n"
      ]
    },
    {
      "cell_type": "markdown",
      "metadata": {},
      "source": [
        "## 2. Temel Array Split \u0130\u015flemleri\n"
      ]
    },
    {
      "cell_type": "code",
      "execution_count": null,
      "metadata": {},
      "outputs": [],
      "source": [
        "# 1D array b\u00f6lme\n",
        "arr = np.array([1, 2, 3, 4, 5, 6])\n",
        "print(\"Orijinal array:\", arr)\n",
        "\n",
        "# 3 e\u015fit par\u00e7aya b\u00f6lme\n",
        "split_arr = np.array_split(arr, 3)\n",
        "print(\"\\n3 par\u00e7aya b\u00f6l\u00fcnm\u00fc\u015f array:\")\n",
        "for i, part in enumerate(split_arr):\n",
        "    print(f\"Par\u00e7a {i+1}:\", part)\n"
      ]
    },
    {
      "cell_type": "code",
      "execution_count": null,
      "metadata": {},
      "outputs": [],
      "source": [
        "# E\u015fit olmayan b\u00f6lme (eleman say\u0131s\u0131 b\u00f6l\u00fcnmeye uygun de\u011filse)\n",
        "arr = np.array([1, 2, 3, 4, 5, 6, 7, 8])\n",
        "print(\"Orijinal array:\", arr)\n",
        "\n",
        "# 3 par\u00e7aya b\u00f6lme (e\u015fit b\u00f6l\u00fcnmez: 8/3)\n",
        "split_arr = np.array_split(arr, 3)\n",
        "print(\"\\n3 par\u00e7aya b\u00f6l\u00fcnm\u00fc\u015f array:\")\n",
        "for i, part in enumerate(split_arr):\n",
        "    print(f\"Par\u00e7a {i+1}:\", part)\n",
        "\n",
        "# split() fonksiyonu e\u015fit b\u00f6l\u00fcnemeyen durumlarda hata verir, array_split() vermez\n",
        "try:\n",
        "    # Bu hata verecek: 8 eleman\u0131 3'e e\u015fit b\u00f6lemeyiz\n",
        "    split_arr = np.split(arr, 3)\n",
        "except ValueError as e:\n",
        "    print(\"\\nHata:\", e)\n"
      ]
    },
    {
      "cell_type": "code",
      "execution_count": null,
      "metadata": {},
      "outputs": [],
      "source": [
        "# Belirli indekslerde b\u00f6lme\n",
        "arr = np.array([1, 2, 3, 4, 5, 6, 7, 8, 9, 10])\n",
        "print(\"Orijinal array:\", arr)\n",
        "\n",
        "# \u0130ndeks 2 ve 5'ten b\u00f6lme\n",
        "split_at_indices = np.split(arr, [2, 5])\n",
        "print(\"\\n\u0130ndeksler [2, 5]'ten b\u00f6lme:\")\n",
        "for i, part in enumerate(split_at_indices):\n",
        "    print(f\"Par\u00e7a {i+1}:\", part)\n",
        "\n",
        "# A\u00e7\u0131klama:\n",
        "# 1. Par\u00e7a: 0'dan 2'ye kadar (2 dahil de\u011fil) - [1, 2]\n",
        "# 2. Par\u00e7a: 2'den 5'e kadar (5 dahil de\u011fil) - [3, 4, 5]\n",
        "# 3. Par\u00e7a: 5'ten sona kadar - [6, 7, 8, 9, 10]\n"
      ]
    },
    {
      "cell_type": "markdown",
      "metadata": {},
      "source": [
        "## 3. 2D Array B\u00f6lme \u0130\u015flemleri\n"
      ]
    },
    {
      "cell_type": "code",
      "execution_count": null,
      "metadata": {},
      "outputs": [],
      "source": [
        "# 2D array olu\u015ftural\u0131m\n",
        "arr_2d = np.array([[1, 2, 3, 4],\n",
        "                   [5, 6, 7, 8],\n",
        "                   [9, 10, 11, 12],\n",
        "                   [13, 14, 15, 16]])\n",
        "print(\"Orijinal 2D array:\")\n",
        "print(arr_2d)\n"
      ]
    },
    {
      "cell_type": "code",
      "execution_count": null,
      "metadata": {},
      "outputs": [],
      "source": [
        "# Sat\u0131rlar boyunca b\u00f6lme (yatay b\u00f6lme) - axis=0\n",
        "row_split = np.split(arr_2d, 2, axis=0)\n",
        "print(\"\\nSat\u0131rlar boyunca 2 par\u00e7aya b\u00f6lme (axis=0):\")\n",
        "print(\"Par\u00e7a 1:\")\n",
        "print(row_split[0])\n",
        "print(\"\\nPar\u00e7a 2:\")\n",
        "print(row_split[1])\n"
      ]
    },
    {
      "cell_type": "code",
      "execution_count": null,
      "metadata": {},
      "outputs": [],
      "source": [
        "# S\u00fctunlar boyunca b\u00f6lme (dikey b\u00f6lme) - axis=1\n",
        "col_split = np.split(arr_2d, 2, axis=1)\n",
        "print(\"\\nS\u00fctunlar boyunca 2 par\u00e7aya b\u00f6lme (axis=1):\")\n",
        "print(\"Par\u00e7a 1:\")\n",
        "print(col_split[0])\n",
        "print(\"\\nPar\u00e7a 2:\")\n",
        "print(col_split[1])\n"
      ]
    },
    {
      "cell_type": "code",
      "execution_count": null,
      "metadata": {},
      "outputs": [],
      "source": [
        "# Sat\u0131r ve s\u00fctunlarda farkl\u0131 indekslerde b\u00f6lme\n",
        "arr_2d = np.array([[1, 2, 3, 4, 5],\n",
        "                  [6, 7, 8, 9, 10],\n",
        "                  [11, 12, 13, 14, 15]])\n",
        "print(\"Orijinal 2D array:\")\n",
        "print(arr_2d)\n",
        "\n",
        "# S\u00fctunlar\u0131 indeks 1, 3'te b\u00f6lme\n",
        "col_split = np.split(arr_2d, [1, 3], axis=1)\n",
        "print(\"\\nS\u00fctunlar\u0131 indeks [1, 3]'ten b\u00f6lme:\")\n",
        "for i, part in enumerate(col_split):\n",
        "    print(f\"Par\u00e7a {i+1}:\")\n",
        "    print(part)\n"
      ]
    },
    {
      "cell_type": "markdown",
      "metadata": {},
      "source": [
        "## 4. vsplit(), hsplit(), dsplit() - Y\u00f6nlere G\u00f6re B\u00f6lme\n"
      ]
    },
    {
      "cell_type": "code",
      "execution_count": null,
      "metadata": {},
      "outputs": [],
      "source": [
        "# vsplit - dikey b\u00f6lme (sat\u0131rlar boyunca, axis=0)\n",
        "arr_2d = np.array([[1, 2, 3],\n",
        "                  [4, 5, 6],\n",
        "                  [7, 8, 9],\n",
        "                  [10, 11, 12]])\n",
        "print(\"Orijinal 2D array:\")\n",
        "print(arr_2d)\n",
        "\n",
        "# 2 par\u00e7aya dikey b\u00f6lme\n",
        "vsplit_arr = np.vsplit(arr_2d, 2)\n",
        "print(\"\\nvsplit ile 2 par\u00e7aya b\u00f6lme:\")\n",
        "for i, part in enumerate(vsplit_arr):\n",
        "    print(f\"Par\u00e7a {i+1}:\")\n",
        "    print(part)\n"
      ]
    },
    {
      "cell_type": "code",
      "execution_count": null,
      "metadata": {},
      "outputs": [],
      "source": [
        "# hsplit - yatay b\u00f6lme (s\u00fctunlar boyunca, axis=1)\n",
        "arr_2d = np.array([[1, 2, 3, 4, 5, 6],\n",
        "                  [7, 8, 9, 10, 11, 12]])\n",
        "print(\"Orijinal 2D array:\")\n",
        "print(arr_2d)\n",
        "\n",
        "# 3 par\u00e7aya yatay b\u00f6lme\n",
        "hsplit_arr = np.hsplit(arr_2d, 3)\n",
        "print(\"\\nhsplit ile 3 par\u00e7aya b\u00f6lme:\")\n",
        "for i, part in enumerate(hsplit_arr):\n",
        "    print(f\"Par\u00e7a {i+1}:\")\n",
        "    print(part)\n"
      ]
    },
    {
      "cell_type": "code",
      "execution_count": null,
      "metadata": {},
      "outputs": [],
      "source": [
        "# hsplit ve vsplit ile belirli indekslerde b\u00f6lme\n",
        "arr_2d = np.array([[1, 2, 3, 4, 5],\n",
        "                  [6, 7, 8, 9, 10],\n",
        "                  [11, 12, 13, 14, 15],\n",
        "                  [16, 17, 18, 19, 20]])\n",
        "print(\"Orijinal 2D array:\")\n",
        "print(arr_2d)\n",
        "\n",
        "# Yatay olarak indeks 2 ve 4'ten b\u00f6lme\n",
        "hsplit_arr = np.hsplit(arr_2d, [2, 4])\n",
        "print(\"\\nhsplit ile indeks [2, 4]'ten b\u00f6lme:\")\n",
        "for i, part in enumerate(hsplit_arr):\n",
        "    print(f\"Par\u00e7a {i+1}:\")\n",
        "    print(part)\n"
      ]
    },
    {
      "cell_type": "code",
      "execution_count": null,
      "metadata": {},
      "outputs": [],
      "source": [
        "# 3D array'lerde dsplit kullan\u0131m\u0131\n",
        "arr_3d = np.array([[[1, 2], [3, 4]],\n",
        "                  [[5, 6], [7, 8]],\n",
        "                  [[9, 10], [11, 12]],\n",
        "                  [[13, 14], [15, 16]]])\n",
        "print(\"Orijinal 3D array:\")\n",
        "print(arr_3d)\n",
        "print(\"\\nShape:\", arr_3d.shape)  # (4, 2, 2)\n",
        "\n",
        "# Derinlik ekseni boyunca b\u00f6lme (axis=2)\n",
        "dsplit_arr = np.dsplit(arr_3d, 2)\n",
        "print(\"\\ndsplit ile derinlik ekseni boyunca b\u00f6lme:\")\n",
        "for i, part in enumerate(dsplit_arr):\n",
        "    print(f\"Par\u00e7a {i+1}:\")\n",
        "    print(part)\n",
        "    print(\"Shape:\", part.shape)\n"
      ]
    },
    {
      "cell_type": "markdown",
      "metadata": {},
      "source": [
        "## 5. array_split() - E\u015fit B\u00f6l\u00fcnmeyen Durumlarda Kullan\u0131m\n"
      ]
    },
    {
      "cell_type": "code",
      "execution_count": null,
      "metadata": {},
      "outputs": [],
      "source": [
        "# E\u015fit b\u00f6l\u00fcnmeyen 1D array\n",
        "arr = np.array([1, 2, 3, 4, 5, 6, 7, 8, 9, 10])\n",
        "print(\"Orijinal array:\", arr)\n",
        "\n",
        "# 3 par\u00e7aya array_split ile b\u00f6lme\n",
        "split_arr = np.array_split(arr, 3)\n",
        "print(\"\\narray_split ile 3 par\u00e7aya b\u00f6lme:\")\n",
        "for i, part in enumerate(split_arr):\n",
        "    print(f\"Par\u00e7a {i+1}:\", part)\n",
        "\n",
        "# K\u0131yaslama: split() ile e\u015fit olmayan b\u00f6lme (hata verir)\n",
        "try:\n",
        "    split_arr = np.split(arr, 3)\n",
        "    print(\"\\nsplit ile b\u00f6lme ba\u015far\u0131l\u0131 (beklenmeyen durum)\")\n",
        "except ValueError as e:\n",
        "    print(\"\\nsplit ile hata:\", e)\n"
      ]
    },
    {
      "cell_type": "code",
      "execution_count": null,
      "metadata": {},
      "outputs": [],
      "source": [
        "# E\u015fit b\u00f6l\u00fcnmeyen 2D array\n",
        "arr_2d = np.array([[1, 2, 3],\n",
        "                  [4, 5, 6],\n",
        "                  [7, 8, 9],\n",
        "                  [10, 11, 12],\n",
        "                  [13, 14, 15]])\n",
        "print(\"Orijinal 2D array:\")\n",
        "print(arr_2d)\n",
        "\n",
        "# 2 par\u00e7aya array_split ile b\u00f6lme (sat\u0131rlar boyunca)\n",
        "split_arr = np.array_split(arr_2d, 2, axis=0)\n",
        "print(\"\\narray_split ile sat\u0131rlar boyunca 2 par\u00e7aya b\u00f6lme:\")\n",
        "for i, part in enumerate(split_arr):\n",
        "    print(f\"Par\u00e7a {i+1}:\")\n",
        "    print(part)\n",
        "\n",
        "# 3 par\u00e7aya array_split ile b\u00f6lme (sat\u0131rlar boyunca)\n",
        "split_arr = np.array_split(arr_2d, 3, axis=0)\n",
        "print(\"\\narray_split ile sat\u0131rlar boyunca 3 par\u00e7aya b\u00f6lme:\")\n",
        "for i, part in enumerate(split_arr):\n",
        "    print(f\"Par\u00e7a {i+1}:\")\n",
        "    print(part)\n"
      ]
    },
    {
      "cell_type": "markdown",
      "metadata": {},
      "source": [
        "## 6. Maskelenmi\u015f Array'leri B\u00f6lme\n"
      ]
    },
    {
      "cell_type": "code",
      "execution_count": null,
      "metadata": {},
      "outputs": [],
      "source": [
        "# Maskeleme ile array'i b\u00f6lme\n",
        "arr = np.array([1, 2, 3, 4, 5, 6, 7, 8, 9, 10])\n",
        "print(\"Orijinal array:\", arr)\n",
        "\n",
        "# \u00c7ift ve tek say\u0131lar\u0131 ay\u0131rma\n",
        "mask = arr % 2 == 0  # \u00c7ift say\u0131lar i\u00e7in True de\u011feri i\u00e7eren maske\n",
        "evens = arr[mask]\n",
        "odds = arr[~mask]  # ~ operat\u00f6r\u00fc maskeyi tersine \u00e7evirir\n",
        "\n",
        "print(\"\\n\u00c7ift say\u0131lar:\", evens)\n",
        "print(\"Tek say\u0131lar:\", odds)\n",
        "\n",
        "# 3'e b\u00f6l\u00fcnebilen ve b\u00f6l\u00fcnemeyen say\u0131lar\u0131 ay\u0131rma\n",
        "divisible_by_3 = arr[arr % 3 == 0]\n",
        "not_divisible_by_3 = arr[arr % 3 != 0]\n",
        "\n",
        "print(\"\\n3'e b\u00f6l\u00fcnebilenler:\", divisible_by_3)\n",
        "print(\"3'e b\u00f6l\u00fcnemeyenler:\", not_divisible_by_3)\n"
      ]
    },
    {
      "cell_type": "code",
      "execution_count": null,
      "metadata": {},
      "outputs": [],
      "source": [
        "# 2D array'lerde maskeleme ile b\u00f6lme\n",
        "arr_2d = np.array([[1, 2, 3],\n",
        "                  [4, 5, 6],\n",
        "                  [7, 8, 9]])\n",
        "print(\"Orijinal 2D array:\")\n",
        "print(arr_2d)\n",
        "\n",
        "# 5'ten b\u00fcy\u00fck ve k\u00fc\u00e7\u00fck de\u011ferleri ay\u0131rma\n",
        "mask = arr_2d > 5\n",
        "greater_than_5 = arr_2d[mask]\n",
        "less_than_or_equal_5 = arr_2d[~mask]\n",
        "\n",
        "print(\"\\n5'ten b\u00fcy\u00fck de\u011ferler:\", greater_than_5)\n",
        "print(\"5'ten k\u00fc\u00e7\u00fck veya e\u015fit de\u011ferler:\", less_than_or_equal_5)\n",
        "\n",
        "# Sat\u0131r baz\u0131nda b\u00f6lme - 1. sat\u0131r, 2. sat\u0131r, 3. sat\u0131r\n",
        "print(\"\\nSat\u0131r baz\u0131nda b\u00f6lme:\")\n",
        "print(\"1. sat\u0131r:\", arr_2d[0, :])\n",
        "print(\"2. sat\u0131r:\", arr_2d[1, :])\n",
        "print(\"3. sat\u0131r:\", arr_2d[2, :])\n",
        "\n",
        "# S\u00fctun baz\u0131nda b\u00f6lme - 1. s\u00fctun, 2. s\u00fctun, 3. s\u00fctun\n",
        "print(\"\\nS\u00fctun baz\u0131nda b\u00f6lme:\")\n",
        "print(\"1. s\u00fctun:\", arr_2d[:, 0])\n",
        "print(\"2. s\u00fctun:\", arr_2d[:, 1])\n",
        "print(\"3. s\u00fctun:\", arr_2d[:, 2])\n"
      ]
    },
    {
      "cell_type": "markdown",
      "metadata": {},
      "source": [
        "## 7. Karma\u015f\u0131k B\u00f6lme \u00d6rnekleri\n"
      ]
    },
    {
      "cell_type": "code",
      "execution_count": null,
      "metadata": {},
      "outputs": [],
      "source": [
        "# Karma\u015f\u0131k 2D array b\u00f6lme \u00f6rne\u011fi\n",
        "arr_2d = np.arange(1, 26).reshape(5, 5)\n",
        "print(\"Orijinal 5x5 array:\")\n",
        "print(arr_2d)\n",
        "\n",
        "# \u00dcst-sol 2x2, \u00fcst-sa\u011f 2x3, alt-sol 3x2 ve alt-sa\u011f 3x3 alt-matrislere b\u00f6lme\n",
        "row_split = np.split(arr_2d, [2], axis=0)\n",
        "top = row_split[0]  # \u00dcstteki 2 sat\u0131r\n",
        "bottom = row_split[1]  # Alttaki 3 sat\u0131r\n",
        "\n",
        "top_split = np.split(top, [2], axis=1)\n",
        "top_left = top_split[0]  # \u00dcst-sol 2x2\n",
        "top_right = top_split[1]  # \u00dcst-sa\u011f 2x3\n",
        "\n",
        "bottom_split = np.split(bottom, [2], axis=1)\n",
        "bottom_left = bottom_split[0]  # Alt-sol 3x2\n",
        "bottom_right = bottom_split[1]  # Alt-sa\u011f 3x3\n",
        "\n",
        "print(\"\\n\u00dcst-sol 2x2 matris:\")\n",
        "print(top_left)\n",
        "print(\"\\n\u00dcst-sa\u011f 2x3 matris:\")\n",
        "print(top_right)\n",
        "print(\"\\nAlt-sol 3x2 matris:\")\n",
        "print(bottom_left)\n",
        "print(\"\\nAlt-sa\u011f 3x3 matris:\")\n",
        "print(bottom_right)\n"
      ]
    },
    {
      "cell_type": "code",
      "execution_count": null,
      "metadata": {},
      "outputs": [],
      "source": [
        "# Hem sat\u0131r hem s\u00fctunlarda birden \u00e7ok b\u00f6lme\n",
        "arr_2d = np.arange(1, 37).reshape(6, 6)\n",
        "print(\"Orijinal 6x6 array:\")\n",
        "print(arr_2d)\n",
        "\n",
        "# \u00d6nce sat\u0131rlar\u0131 3 e\u015fit par\u00e7aya b\u00f6lelim\n",
        "row_splits = np.split(arr_2d, 3, axis=0)\n",
        "\n",
        "# Sonra her par\u00e7an\u0131n s\u00fctunlar\u0131n\u0131 2 e\u015fit par\u00e7aya b\u00f6lelim\n",
        "parts = []\n",
        "for row_part in row_splits:\n",
        "    col_splits = np.split(row_part, 2, axis=1)\n",
        "    parts.extend(col_splits)\n",
        "\n",
        "print(\"\\n6x6 matrisi 3x2=6 e\u015fit par\u00e7aya b\u00f6ld\u00fck:\")\n",
        "for i, part in enumerate(parts):\n",
        "    print(f\"Par\u00e7a {i+1}:\")\n",
        "    print(part)\n"
      ]
    },
    {
      "cell_type": "markdown",
      "metadata": {},
      "source": [
        "## 8. Blok B\u00f6lme ve Yeniden D\u00fczenleme\n"
      ]
    },
    {
      "cell_type": "code",
      "execution_count": null,
      "metadata": {},
      "outputs": [],
      "source": [
        "# Bir matrisi bloklara b\u00f6lme ve yeniden d\u00fczenleme\n",
        "# \u00d6nce 4x4 matris olu\u015ftural\u0131m\n",
        "mat = np.arange(1, 17).reshape(4, 4)\n",
        "print(\"Orijinal 4x4 matris:\")\n",
        "print(mat)\n",
        "\n",
        "# Matrisi 2x2 bloklara b\u00f6lme\n",
        "top_left = mat[:2, :2]\n",
        "top_right = mat[:2, 2:]\n",
        "bottom_left = mat[2:, :2]\n",
        "bottom_right = mat[2:, 2:]\n",
        "\n",
        "print(\"\\n\u00dcst-sol 2x2 blok:\")\n",
        "print(top_left)\n",
        "print(\"\\n\u00dcst-sa\u011f 2x2 blok:\")\n",
        "print(top_right)\n",
        "print(\"\\nAlt-sol 2x2 blok:\")\n",
        "print(bottom_left)\n",
        "print(\"\\nAlt-sa\u011f 2x2 blok:\")\n",
        "print(bottom_right)\n",
        "\n",
        "# Bloklar\u0131n yerlerini de\u011fi\u015ftirerek yeni matris olu\u015fturma\n",
        "# \u00dcst-sol ile alt-sa\u011f, \u00fcst-sa\u011f ile alt-sol yer de\u011fi\u015ftiriyor\n",
        "new_mat = np.zeros_like(mat)\n",
        "new_mat[:2, :2] = bottom_right\n",
        "new_mat[:2, 2:] = bottom_left\n",
        "new_mat[2:, :2] = top_right\n",
        "new_mat[2:, 2:] = top_left\n",
        "\n",
        "print(\"\\nYer de\u011fi\u015ftirme sonras\u0131 matris:\")\n",
        "print(new_mat)\n"
      ]
    },
    {
      "cell_type": "markdown",
      "metadata": {},
      "source": [
        "## 9. Veri Analizi Uygulamas\u0131: E\u011fitim ve Test Veri Seti B\u00f6lme\n"
      ]
    },
    {
      "cell_type": "code",
      "execution_count": null,
      "metadata": {},
      "outputs": [],
      "source": [
        "# Bir veri setini e\u011fitim ve test k\u00fcmelerine b\u00f6lme \u00f6rne\u011fi\n",
        "# \u00d6nce rastgele bir veri seti olu\u015ftural\u0131m\n",
        "np.random.seed(42)  # Tekrarlanabilirlik i\u00e7in\n",
        "data = np.random.randn(100, 4)  # 100 \u00f6rnek, 4 \u00f6zellik\n",
        "print(\"Veri seti boyutu:\", data.shape)\n",
        "\n",
        "# Veriyi %80 e\u011fitim, %20 test olarak b\u00f6lme\n",
        "split_idx = int(0.8 * len(data))\n",
        "train_data = data[:split_idx]\n",
        "test_data = data[split_idx:]\n",
        "\n",
        "print(\"\\nE\u011fitim seti boyutu:\", train_data.shape)\n",
        "print(\"Test seti boyutu:\", test_data.shape)\n",
        "\n",
        "# Veriyi rastgele kar\u0131\u015ft\u0131r\u0131p sonra b\u00f6lme\n",
        "# \u00d6nce indeksleri kar\u0131\u015ft\u0131r\n",
        "indices = np.arange(len(data))\n",
        "np.random.shuffle(indices)\n",
        "shuffled_data = data[indices]\n",
        "\n",
        "# Sonra kar\u0131\u015ft\u0131r\u0131lm\u0131\u015f veriyi b\u00f6l\n",
        "train_data_shuffled = shuffled_data[:split_idx]\n",
        "test_data_shuffled = shuffled_data[split_idx:]\n",
        "\n",
        "print(\"\\nKar\u0131\u015ft\u0131r\u0131lm\u0131\u015f veri ile:\")\n",
        "print(\"E\u011fitim seti boyutu:\", train_data_shuffled.shape)\n",
        "print(\"Test seti boyutu:\", test_data_shuffled.shape)\n"
      ]
    },
    {
      "cell_type": "code",
      "execution_count": null,
      "metadata": {},
      "outputs": [],
      "source": [
        "# K-fold Cross Validation i\u00e7in veri b\u00f6lme \u00f6rne\u011fi\n",
        "data = np.arange(20)  # 0-19 aras\u0131 20 \u00f6rnek\n",
        "print(\"Veri:\", data)\n",
        "\n",
        "# 5-fold Cross Validation i\u00e7in veriyi 5 e\u015fit par\u00e7aya b\u00f6lelim\n",
        "k_folds = 5\n",
        "folds = np.array_split(data, k_folds)\n",
        "\n",
        "# Her bir fold'u ayr\u0131 ayr\u0131 g\u00f6sterelim\n",
        "for i, fold in enumerate(folds):\n",
        "    print(f\"\\nFold {i+1}:\", fold)\n",
        "    \n",
        "# K-fold Cross Validation i\u00e7in train ve validation setlerini g\u00f6sterme\n",
        "for i in range(k_folds):\n",
        "    # i. fold'u validation seti olarak kullan, geri kalan\u0131 training seti\n",
        "    validation_fold = folds[i]\n",
        "    \n",
        "    # Training setini olu\u015ftur (i. fold hari\u00e7 t\u00fcm fold'lar)\n",
        "    training_folds = []\n",
        "    for j in range(k_folds):\n",
        "        if j != i:\n",
        "            training_folds.append(folds[j])\n",
        "    \n",
        "    training_data = np.concatenate(training_folds)\n",
        "    \n",
        "    print(f\"\\n--- Fold {i+1} i\u00e7in train/validation b\u00f6l\u00fcnmesi ---\")\n",
        "    print(f\"Validation seti (Fold {i+1}):\", validation_fold)\n",
        "    print(\"Training seti:\", training_data)\n"
      ]
    }
  ],
  "metadata": {
    "kernelspec": {
      "display_name": "Python 3",
      "language": "python",
      "name": "python3"
    },
    "language_info": {
      "codemirror_mode": {
        "name": "ipython",
        "version": 3
      },
      "file_extension": ".py",
      "mimetype": "text/x-python",
      "name": "python",
      "nbconvert_exporter": "python",
      "pygments_lexer": "ipython3",
      "version": "3.8.10"
    }
  },
  "nbformat": 4,
  "nbformat_minor": 4
}