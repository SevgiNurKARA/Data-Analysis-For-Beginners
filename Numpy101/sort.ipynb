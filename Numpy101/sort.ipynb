{
  "cells": [
    {
      "cell_type": "markdown",
      "metadata": {},
      "source": [
        "# NumPy Sort \u0130\u015flemleri\n",
        "\n",
        "Bu notebook, NumPy k\u00fct\u00fcphanesinde array'leri s\u0131ralama (sort) i\u015flemleri ve teknikleri g\u00f6stermektedir.\n"
      ]
    },
    {
      "cell_type": "markdown",
      "metadata": {},
      "source": [
        "## 1. NumPy K\u00fct\u00fcphanesini \u0130\u00e7e Aktarma\n"
      ]
    },
    {
      "cell_type": "code",
      "execution_count": null,
      "metadata": {},
      "outputs": [],
      "source": [
        "import numpy as np\n"
      ]
    },
    {
      "cell_type": "markdown",
      "metadata": {},
      "source": [
        "## 2. sort() - Temel S\u0131ralama \u0130\u015flemleri\n"
      ]
    },
    {
      "cell_type": "code",
      "execution_count": null,
      "metadata": {},
      "outputs": [],
      "source": [
        "# 1D array s\u0131ralama\n",
        "arr = np.array([3, 1, 4, 1, 5, 9, 2, 6])\n",
        "print(\"Orijinal array:\", arr)\n",
        "\n",
        "# sort() metodu ile s\u0131ralama (artan s\u0131rada)\n",
        "sorted_arr = np.sort(arr)\n",
        "print(\"\\nS\u0131ralanm\u0131\u015f array:\", sorted_arr)\n",
        "print(\"Not: Orijinal array de\u011fi\u015fmez:\", arr)\n",
        "\n",
        "# Orijinal array'i de\u011fi\u015ftirmek i\u00e7in .sort() metodunu kullanabiliriz\n",
        "arr.sort()\n",
        "print(\"\\narr.sort() sonras\u0131:\", arr)\n"
      ]
    },
    {
      "cell_type": "code",
      "execution_count": null,
      "metadata": {},
      "outputs": [],
      "source": [
        "# 2D array s\u0131ralama\n",
        "arr_2d = np.array([[3, 1, 4], [1, 5, 9], [2, 6, 5]])\n",
        "print(\"Orijinal 2D array:\")\n",
        "print(arr_2d)\n",
        "\n",
        "# Sat\u0131rlar\u0131 kendi i\u00e7inde s\u0131ralama (axis=1)\n",
        "sorted_rows = np.sort(arr_2d, axis=1)\n",
        "print(\"\\nSat\u0131rlar\u0131 kendi i\u00e7inde s\u0131ralama (axis=1):\")\n",
        "print(sorted_rows)\n",
        "\n",
        "# S\u00fctunlar\u0131 kendi i\u00e7inde s\u0131ralama (axis=0)\n",
        "sorted_cols = np.sort(arr_2d, axis=0)\n",
        "print(\"\\nS\u00fctunlar\u0131 kendi i\u00e7inde s\u0131ralama (axis=0):\")\n",
        "print(sorted_cols)\n"
      ]
    },
    {
      "cell_type": "code",
      "execution_count": null,
      "metadata": {},
      "outputs": [],
      "source": [
        "# Azalan s\u0131rada s\u0131ralama\n",
        "arr = np.array([3, 1, 4, 1, 5, 9, 2, 6])\n",
        "print(\"Orijinal array:\", arr)\n",
        "\n",
        "# Azalan s\u0131rada s\u0131ralama (sort metodu ile tersten)\n",
        "desc_sorted = np.sort(arr)[::-1]\n",
        "print(\"\\nAzalan s\u0131rada:\", desc_sorted)\n",
        "\n",
        "# flip kullanarak da yapabiliriz\n",
        "desc_sorted_2 = np.flip(np.sort(arr))\n",
        "print(\"flip ile azalan s\u0131rada:\", desc_sorted_2)\n"
      ]
    },
    {
      "cell_type": "markdown",
      "metadata": {},
      "source": [
        "## 3. argsort() - \u0130ndeks Tabanl\u0131 S\u0131ralama\n"
      ]
    },
    {
      "cell_type": "code",
      "execution_count": null,
      "metadata": {},
      "outputs": [],
      "source": [
        "# argsort() - s\u0131ralama indekslerini d\u00f6nd\u00fcrme\n",
        "arr = np.array([3, 1, 4, 1, 5, 9, 2, 6])\n",
        "print(\"Orijinal array:\", arr)\n",
        "\n",
        "# argsort() ile s\u0131ralama indekslerini bulma\n",
        "indices = np.argsort(arr)\n",
        "print(\"\\nargsort() ile s\u0131ralama indeksleri:\", indices)\n",
        "\n",
        "# Bu indeksleri kullanarak array'i s\u0131ralama\n",
        "sorted_arr = arr[indices]\n",
        "print(\"Bu indekslerle array'i s\u0131ralama:\", sorted_arr)\n",
        "\n",
        "# Azalan s\u0131rada s\u0131ralama indeksleri\n",
        "desc_indices = np.argsort(arr)[::-1]\n",
        "print(\"\\nAzalan s\u0131rada s\u0131ralama indeksleri:\", desc_indices)\n",
        "print(\"Bu indekslerle array'i azalan s\u0131rada s\u0131ralama:\", arr[desc_indices])\n"
      ]
    },
    {
      "cell_type": "code",
      "execution_count": null,
      "metadata": {},
      "outputs": [],
      "source": [
        "# \u0130ndeks s\u0131ralaman\u0131n uygulamas\u0131 - ili\u015fkili array'leri s\u0131ralama\n",
        "names = np.array(['Ali', 'Zeynep', 'Mehmet', 'Ay\u015fe', 'Fatma'])\n",
        "scores = np.array([85, 92, 78, 90, 88])\n",
        "print(\"\u0130simler:\", names)\n",
        "print(\"Puanlar:\", scores)\n",
        "\n",
        "# Puanlara g\u00f6re isimleri s\u0131ralama (en y\u00fcksekten en d\u00fc\u015f\u00fc\u011fe)\n",
        "score_indices = np.argsort(scores)[::-1]\n",
        "sorted_names = names[score_indices]\n",
        "sorted_scores = scores[score_indices]\n",
        "\n",
        "print(\"\\nPuanlara g\u00f6re s\u0131ralanm\u0131\u015f isimler:\")\n",
        "for i in range(len(sorted_names)):\n",
        "    print(f\"{sorted_names[i]}: {sorted_scores[i]}\")\n"
      ]
    },
    {
      "cell_type": "markdown",
      "metadata": {},
      "source": [
        "## 4. lexsort() - \u00c7oklu Anahtar S\u0131ralama\n"
      ]
    },
    {
      "cell_type": "code",
      "execution_count": null,
      "metadata": {},
      "outputs": [],
      "source": [
        "# lexsort() - birden fazla anahtara g\u00f6re s\u0131ralama\n",
        "# \u00d6rnek: \u00d6\u011frencileri \u00f6nce s\u0131n\u0131fa g\u00f6re sonra puana g\u00f6re s\u0131ralama\n",
        "names = np.array(['Ali', 'Zeynep', 'Mehmet', 'Ay\u015fe', 'Fatma', 'Ahmet'])\n",
        "grades = np.array([10, 9, 10, 9, 10, 9])  # S\u0131n\u0131flar\n",
        "scores = np.array([85, 92, 78, 90, 88, 95])  # Puanlar\n",
        "\n",
        "print(\"\u0130simler:\", names)\n",
        "print(\"S\u0131n\u0131flar:\", grades)\n",
        "print(\"Puanlar:\", scores)\n",
        "\n",
        "# \u00d6nce puanlara sonra s\u0131n\u0131flara g\u00f6re s\u0131ralama\n",
        "# Not: lexsort, s\u0131ralamalar\u0131 tersten yapar (son anahtardan ilkine do\u011fru)\n",
        "indices = np.lexsort((scores, grades))  # \u00d6nce scores, sonra grades\n",
        "print(\"\\nlexsort indeksleri:\", indices)\n",
        "\n",
        "print(\"\\nS\u0131n\u0131f ve puana g\u00f6re s\u0131ralanm\u0131\u015f:\")\n",
        "for i in indices:\n",
        "    print(f\"{names[i]}: S\u0131n\u0131f {grades[i]}, Puan {scores[i]}\")\n",
        "\n",
        "# S\u0131n\u0131flara g\u00f6re gruplay\u0131p, her s\u0131n\u0131f i\u00e7inde puanlara g\u00f6re azalan s\u0131rada s\u0131ralama\n",
        "# Bunun i\u00e7in \u00f6nce s\u0131n\u0131flara sonra -puanlara g\u00f6re s\u0131ralama\n",
        "indices = np.lexsort((-scores, grades))  # Puanlara g\u00f6re azalan, s\u0131n\u0131flara g\u00f6re artan\n",
        "\n",
        "print(\"\\nS\u0131n\u0131f i\u00e7inde puana g\u00f6re s\u0131ralanm\u0131\u015f (azalan):\")\n",
        "for i in indices:\n",
        "    print(f\"{names[i]}: S\u0131n\u0131f {grades[i]}, Puan {scores[i]}\")\n"
      ]
    },
    {
      "cell_type": "markdown",
      "metadata": {},
      "source": [
        "## 5. sort_complex() - Karma\u015f\u0131k Say\u0131lar\u0131 S\u0131ralama\n"
      ]
    },
    {
      "cell_type": "code",
      "execution_count": null,
      "metadata": {},
      "outputs": [],
      "source": [
        "# Karma\u015f\u0131k say\u0131lar\u0131 s\u0131ralama\n",
        "complex_arr = np.array([1+2j, 3-1j, 2+0j, 4-3j, 3+4j])\n",
        "print(\"Karma\u015f\u0131k say\u0131lar:\", complex_arr)\n",
        "\n",
        "# Karma\u015f\u0131k say\u0131lar\u0131 mutlak de\u011ferlerine g\u00f6re s\u0131ralama\n",
        "sorted_complex = np.sort_complex(complex_arr)\n",
        "print(\"\\nsort_complex() ile s\u0131ralanm\u0131\u015f:\", sorted_complex)\n",
        "\n",
        "# Mutlak de\u011ferleri g\u00f6r\u00fcnt\u00fcleme\n",
        "abs_values = np.abs(complex_arr)\n",
        "print(\"\\nMutlak de\u011ferler:\", abs_values)\n",
        "\n",
        "# Mutlak de\u011ferlere g\u00f6re manuel s\u0131ralama\n",
        "abs_indices = np.argsort(abs_values)\n",
        "manually_sorted = complex_arr[abs_indices]\n",
        "print(\"Mutlak de\u011fere g\u00f6re manuel s\u0131ralanm\u0131\u015f:\", manually_sorted)\n"
      ]
    },
    {
      "cell_type": "markdown",
      "metadata": {},
      "source": [
        "## 6. partition() - K\u0131smi S\u0131ralama\n"
      ]
    },
    {
      "cell_type": "code",
      "execution_count": null,
      "metadata": {},
      "outputs": [],
      "source": [
        "# partition() - k\u0131smi s\u0131ralama\n",
        "arr = np.array([3, 1, 4, 1, 5, 9, 2, 6])\n",
        "print(\"Orijinal array:\", arr)\n",
        "\n",
        "# 3. konuma g\u00f6re b\u00f6l\u00fcmleme (k=3)\n",
        "# 3. konumdan k\u00fc\u00e7\u00fck de\u011ferler solda, b\u00fcy\u00fck de\u011ferler sa\u011fda olacak\n",
        "partitioned = np.partition(arr, 3)\n",
        "print(\"\\npartition(arr, 3) sonucu:\", partitioned)\n",
        "# Not: 3. konumdaki eleman art\u0131k array'in 3. en k\u00fc\u00e7\u00fck eleman\u0131 (value 3)\n",
        "\n",
        "# k. en b\u00fcy\u00fck eleman\u0131 bulma i\u00e7in partition kullanma\n",
        "k = 2  # 2. en b\u00fcy\u00fck eleman\n",
        "kth_largest = np.partition(arr, -k)[-k]\n",
        "print(f\"\\n{k}. en b\u00fcy\u00fck eleman:\", kth_largest)\n",
        "\n",
        "# k. en k\u00fc\u00e7\u00fck eleman\u0131 bulma i\u00e7in partition kullanma\n",
        "k = 3  # 3. en k\u00fc\u00e7\u00fck eleman\n",
        "kth_smallest = np.partition(arr, k-1)[k-1]\n",
        "print(f\"{k}. en k\u00fc\u00e7\u00fck eleman:\", kth_smallest)\n"
      ]
    },
    {
      "cell_type": "code",
      "execution_count": null,
      "metadata": {},
      "outputs": [],
      "source": [
        "# 2D array'lerde partition\n",
        "arr_2d = np.array([[3, 1, 4], [1, 5, 9], [2, 6, 5]])\n",
        "print(\"Orijinal 2D array:\")\n",
        "print(arr_2d)\n",
        "\n",
        "# Sat\u0131rlar\u0131 kendi i\u00e7inde 1. konuma g\u00f6re b\u00f6l\u00fcmleme\n",
        "partitioned_rows = np.partition(arr_2d, 1, axis=1)\n",
        "print(\"\\nSat\u0131rlar\u0131 1. konuma g\u00f6re b\u00f6l\u00fcmleme:\")\n",
        "print(partitioned_rows)\n",
        "\n",
        "# S\u00fctunlar\u0131 kendi i\u00e7inde 1. konuma g\u00f6re b\u00f6l\u00fcmleme\n",
        "partitioned_cols = np.partition(arr_2d, 1, axis=0)\n",
        "print(\"\\nS\u00fctunlar\u0131 1. konuma g\u00f6re b\u00f6l\u00fcmleme:\")\n",
        "print(partitioned_cols)\n"
      ]
    },
    {
      "cell_type": "markdown",
      "metadata": {},
      "source": [
        "## 7. argpartition() - \u0130ndeks Tabanl\u0131 K\u0131smi S\u0131ralama\n"
      ]
    },
    {
      "cell_type": "code",
      "execution_count": null,
      "metadata": {},
      "outputs": [],
      "source": [
        "# argpartition() - k\u0131smi s\u0131ralama indekslerini d\u00f6nd\u00fcrme\n",
        "arr = np.array([3, 1, 4, 1, 5, 9, 2, 6])\n",
        "print(\"Orijinal array:\", arr)\n",
        "\n",
        "# 3. konuma g\u00f6re b\u00f6l\u00fcmleme indeksleri\n",
        "partition_indices = np.argpartition(arr, 3)\n",
        "print(\"\\nargpartition(arr, 3) indeksleri:\", partition_indices)\n",
        "print(\"Bu indekslerle k\u0131smi s\u0131ralanm\u0131\u015f array:\", arr[partition_indices])\n",
        "\n",
        "# En k\u00fc\u00e7\u00fck 3 eleman\u0131n indekslerini bulma\n",
        "smallest_3_indices = np.argpartition(arr, 3)[:3]\n",
        "print(\"\\nEn k\u00fc\u00e7\u00fck 3 eleman\u0131n indeksleri:\", smallest_3_indices)\n",
        "print(\"En k\u00fc\u00e7\u00fck 3 eleman:\", arr[smallest_3_indices])\n",
        "\n",
        "# En b\u00fcy\u00fck 3 eleman\u0131n indekslerini bulma\n",
        "largest_3_indices = np.argpartition(arr, -3)[-3:]\n",
        "print(\"\\nEn b\u00fcy\u00fck 3 eleman\u0131n indeksleri:\", largest_3_indices)\n",
        "print(\"En b\u00fcy\u00fck 3 eleman:\", arr[largest_3_indices])\n",
        "\n",
        "# Bu indeksleri kullanarak ili\u015fkili bir array'i de s\u0131ralayabilirsiniz\n",
        "names = np.array(['Ali', 'Zeynep', 'Mehmet', 'Ay\u015fe', 'Fatma', 'Ahmet', 'Selin', 'Kemal'])\n",
        "print(\"\\nEn y\u00fcksek 3 puan\u0131 alan \u00f6\u011frenciler:\")\n",
        "for i in largest_3_indices:\n",
        "    print(f\"{names[i]}: {arr[i]}\")\n"
      ]
    },
    {
      "cell_type": "markdown",
      "metadata": {},
      "source": [
        "## 8. \u00d6zel S\u0131ralama Algoritmalar\u0131 ve Parametreleri\n"
      ]
    },
    {
      "cell_type": "code",
      "execution_count": null,
      "metadata": {},
      "outputs": [],
      "source": [
        "# Farkl\u0131 s\u0131ralama algoritmalar\u0131\n",
        "# NumPy, sort() i\u00e7in \u00e7e\u015fitli algoritmalar sunar: 'quicksort', 'mergesort', 'heapsort', 'stable'\n",
        "arr = np.array([3, 1, 4, 1, 5, 9, 2, 6])\n",
        "print(\"Orijinal array:\", arr)\n",
        "\n",
        "# Farkl\u0131 algoritmalarla s\u0131ralama\n",
        "quicksort_result = np.sort(arr, kind='quicksort')\n",
        "mergesort_result = np.sort(arr, kind='mergesort')  # kararl\u0131 s\u0131ralama\n",
        "heapsort_result = np.sort(arr, kind='heapsort')\n",
        "\n",
        "print(\"\\nQuicksort ile:\", quicksort_result)\n",
        "print(\"Mergesort ile:\", mergesort_result)\n",
        "print(\"Heapsort ile:\", heapsort_result)\n",
        "\n",
        "# Performans kar\u015f\u0131la\u015ft\u0131rmas\u0131 i\u00e7in daha b\u00fcy\u00fck bir array olu\u015ftural\u0131m\n",
        "import time\n",
        "large_arr = np.random.randint(0, 1000, size=10000)\n",
        "\n",
        "algorithms = ['quicksort', 'mergesort', 'heapsort']\n",
        "for algo in algorithms:\n",
        "    start_time = time.time()\n",
        "    np.sort(large_arr, kind=algo)\n",
        "    end_time = time.time()\n",
        "    print(f\"\\n{algo} s\u00fcresi: {end_time - start_time:.6f} saniye\")\n"
      ]
    },
    {
      "cell_type": "markdown",
      "metadata": {},
      "source": [
        "## 9. searchsorted() - S\u0131ral\u0131 Array'de Arama\n"
      ]
    },
    {
      "cell_type": "code",
      "execution_count": null,
      "metadata": {},
      "outputs": [],
      "source": [
        "# searchsorted() - s\u0131ral\u0131 array'de bir de\u011ferin nereye yerle\u015ftirilece\u011fini bulma\n",
        "sorted_arr = np.array([1, 3, 5, 7, 9, 11, 13])\n",
        "print(\"S\u0131ral\u0131 array:\", sorted_arr)\n",
        "\n",
        "# 6 de\u011ferini nereye yerle\u015ftirmemiz gerekir?\n",
        "insert_pos = np.searchsorted(sorted_arr, 6)\n",
        "print(\"\\n6 de\u011feri i\u00e7in insert pozisyonu:\", insert_pos)\n",
        "\n",
        "# Birden fazla de\u011fer i\u00e7in arama\n",
        "values = np.array([2, 6, 10])\n",
        "insert_positions = np.searchsorted(sorted_arr, values)\n",
        "print(f\"\\n{values} de\u011ferleri i\u00e7in insert pozisyonlar\u0131:\", insert_positions)\n",
        "\n",
        "# Sa\u011fdan arama (right side)\n",
        "insert_pos_right = np.searchsorted(sorted_arr, 6, side='right')\n",
        "print(\"\\n6 de\u011feri i\u00e7in insert pozisyonu (side='right'):\", insert_pos_right)\n"
      ]
    },
    {
      "cell_type": "code",
      "execution_count": null,
      "metadata": {},
      "outputs": [],
      "source": [
        "# searchsorted() uygulamas\u0131: \u0130kili arama benzeri i\u015flevsellik\n",
        "sorted_arr = np.array([10, 20, 30, 40, 50, 60, 70, 80, 90])\n",
        "print(\"S\u0131ral\u0131 array:\", sorted_arr)\n",
        "\n",
        "# Bir de\u011fer array'de var m\u0131 kontrol\u00fc\n",
        "value = 30\n",
        "pos = np.searchsorted(sorted_arr, value)\n",
        "print(f\"\\n{value} i\u00e7in pozisyon:\", pos)\n",
        "\n",
        "if pos < len(sorted_arr) and sorted_arr[pos] == value:\n",
        "    print(f\"{value} array'de bulundu, indeks: {pos}\")\n",
        "else:\n",
        "    print(f\"{value} array'de bulunamad\u0131\")\n",
        "\n",
        "# Olmayan bir de\u011fer i\u00e7in deneme\n",
        "value = 35\n",
        "pos = np.searchsorted(sorted_arr, value)\n",
        "print(f\"\\n{value} i\u00e7in pozisyon:\", pos)\n",
        "\n",
        "if pos < len(sorted_arr) and sorted_arr[pos] == value:\n",
        "    print(f\"{value} array'de bulundu, indeks: {pos}\")\n",
        "else:\n",
        "    print(f\"{value} array'de bulunamad\u0131\")\n"
      ]
    },
    {
      "cell_type": "markdown",
      "metadata": {},
      "source": [
        "## 10. msort() ve Structured Array S\u0131ralamas\u0131\n"
      ]
    },
    {
      "cell_type": "code",
      "execution_count": null,
      "metadata": {},
      "outputs": [],
      "source": [
        "# msort() - mergesort algoritmas\u0131 ile s\u0131ralama\n",
        "arr = np.array([3, 1, 4, 1, 5, 9, 2, 6])\n",
        "print(\"Orijinal array:\", arr)\n",
        "\n",
        "# msort() ile s\u0131ralama (mergesort kullan\u0131r)\n",
        "sorted_arr = np.msort(arr)\n",
        "print(\"\\nmsort() ile s\u0131ralanm\u0131\u015f:\", sorted_arr)\n"
      ]
    },
    {
      "cell_type": "code",
      "execution_count": null,
      "metadata": {},
      "outputs": [],
      "source": [
        "# Structured arrays s\u0131ralama - \u00e7oklu alan s\u0131ralamas\u0131\n",
        "# \u00d6\u011frenci kay\u0131tlar\u0131 i\u00e7in structured array olu\u015fturma\n",
        "dtype = [('name', 'U10'), ('grade', int), ('score', float)]\n",
        "students = np.array([\n",
        "    ('Ali', 10, 85.5),\n",
        "    ('Zeynep', 9, 92.0),\n",
        "    ('Mehmet', 10, 78.5),\n",
        "    ('Ay\u015fe', 9, 90.0),\n",
        "    ('Fatma', 10, 88.0)\n",
        "], dtype=dtype)\n",
        "\n",
        "print(\"\u00d6\u011frenciler:\")\n",
        "for student in students:\n",
        "    print(student)\n",
        "\n",
        "# 'grade' alan\u0131na g\u00f6re s\u0131ralama\n",
        "grade_sorted = np.sort(students, order='grade')\n",
        "print(\"\\n'grade' alan\u0131na g\u00f6re s\u0131ralanm\u0131\u015f:\")\n",
        "for student in grade_sorted:\n",
        "    print(student)\n",
        "\n",
        "# \u00d6nce 'grade' sonra 'score' alanlar\u0131na g\u00f6re s\u0131ralama\n",
        "grade_score_sorted = np.sort(students, order=['grade', 'score'])\n",
        "print(\"\\n'grade' ve 'score' alanlar\u0131na g\u00f6re s\u0131ralanm\u0131\u015f:\")\n",
        "for student in grade_score_sorted:\n",
        "    print(student)\n",
        "\n",
        "# 'grade' alan\u0131na g\u00f6re artan, 'score' alan\u0131na g\u00f6re azalan s\u0131ralama\n",
        "# Bu biraz daha karma\u015f\u0131k - \u00f6nce kopyalay\u0131p, s\u0131rala, sonra tekrar s\u0131rala\n",
        "students_copy = students.copy()\n",
        "students_copy.sort(order='score')  # \u00d6nce score'a g\u00f6re s\u0131rala\n",
        "students_copy = students_copy[::-1]  # Tersine \u00e7evir (azalan score)\n",
        "students_copy.sort(order='grade', kind='mergesort')  # Kararl\u0131 s\u0131ralama ile grade'e g\u00f6re s\u0131rala\n",
        "\n",
        "print(\"\\n'grade' artan, 'score' azalan s\u0131ralanm\u0131\u015f:\")\n",
        "for student in students_copy:\n",
        "    print(student)\n"
      ]
    },
    {
      "cell_type": "markdown",
      "metadata": {},
      "source": [
        "## 11. unique() - Benzersiz De\u011ferleri Bulma ve S\u0131ralama\n"
      ]
    },
    {
      "cell_type": "code",
      "execution_count": null,
      "metadata": {},
      "outputs": [],
      "source": [
        "# unique() - benzersiz de\u011ferleri bulma ve s\u0131ralama\n",
        "arr = np.array([3, 1, 4, 1, 5, 9, 2, 6, 5, 3, 5])\n",
        "print(\"Orijinal array:\", arr)\n",
        "\n",
        "# Benzersiz de\u011ferleri bulma (s\u0131ral\u0131 olarak d\u00f6nd\u00fcr\u00fcr)\n",
        "unique_values = np.unique(arr)\n",
        "print(\"\\nBenzersiz de\u011ferler:\", unique_values)\n",
        "\n",
        "# S\u0131ralamadan benzersiz de\u011ferleri bulma\n",
        "unique_values_unsorted = np.unique(arr, return_index=True)\n",
        "print(\"\\nBenzersiz de\u011ferler (ilk g\u00f6r\u00fcld\u00fckleri indeksler ile):\")\n",
        "print(\"De\u011ferler:\", unique_values_unsorted[0])\n",
        "print(\"\u0130ndeksler:\", unique_values_unsorted[1])\n",
        "print(\"Orijinal s\u0131radaki ilk g\u00f6r\u00fcld\u00fckleri de\u011ferler:\", \n",
        "      arr[np.sort(unique_values_unsorted[1])])\n",
        "\n",
        "# Benzersiz de\u011ferlerin say\u0131s\u0131n\u0131 da d\u00f6nd\u00fcrme\n",
        "unique_counts = np.unique(arr, return_counts=True)\n",
        "print(\"\\nBenzersiz de\u011ferler ve say\u0131lar\u0131:\")\n",
        "for i in range(len(unique_counts[0])):\n",
        "    print(f\"{unique_counts[0][i]}: {unique_counts[1][i]} kez\")\n"
      ]
    },
    {
      "cell_type": "markdown",
      "metadata": {},
      "source": [
        "## 12. Uygulama: Veri Analizi ve S\u0131ralama\n"
      ]
    },
    {
      "cell_type": "code",
      "execution_count": null,
      "metadata": {},
      "outputs": [],
      "source": [
        "# \u00d6rnek veri seti: \u00d6\u011frenci notlar\u0131\n",
        "np.random.seed(42)  # Tekrarlanabilirlik i\u00e7in\n",
        "student_count = 20\n",
        "names = np.array(['\u00d6\u011frenci-' + str(i) for i in range(1, student_count+1)])\n",
        "exam1 = np.random.randint(40, 100, size=student_count)\n",
        "exam2 = np.random.randint(40, 100, size=student_count)\n",
        "final = np.random.randint(40, 100, size=student_count)\n",
        "\n",
        "# Final notlar\u0131n\u0131 hesaplama (%30 s\u0131nav1, %30 s\u0131nav2, %40 final)\n",
        "grades = 0.3*exam1 + 0.3*exam2 + 0.4*final\n",
        "\n",
        "print(\"\u00d6\u011frenci say\u0131s\u0131:\", student_count)\n",
        "print(\"Not aral\u0131\u011f\u0131:\", np.min(grades), \"-\", np.max(grades))\n",
        "\n",
        "# En y\u00fcksek 5 notu alan \u00f6\u011frencileri bulma\n",
        "top_5_indices = np.argsort(grades)[-5:][::-1]  # En y\u00fcksek 5 not indeksi (azalan s\u0131rada)\n",
        "print(\"\\nEn y\u00fcksek 5 not alan \u00f6\u011frenciler:\")\n",
        "for i, idx in enumerate(top_5_indices):\n",
        "    print(f\"{i+1}. {names[idx]}: {grades[idx]:.2f} (S\u0131nav1: {exam1[idx]}, S\u0131nav2: {exam2[idx]}, Final: {final[idx]})\")\n",
        "\n",
        "# Not aral\u0131klar\u0131na g\u00f6re \u00f6\u011frenci say\u0131lar\u0131\n",
        "grade_ranges = [\n",
        "    (90, 100, 'AA'),\n",
        "    (80, 90, 'BA'),\n",
        "    (70, 80, 'BB'),\n",
        "    (60, 70, 'CB'),\n",
        "    (50, 60, 'CC'),\n",
        "    (0, 50, 'FF')\n",
        "]\n",
        "\n",
        "print(\"\\nNot da\u011f\u0131l\u0131m\u0131:\")\n",
        "for min_grade, max_grade, letter in grade_ranges:\n",
        "    count = np.sum((grades >= min_grade) & (grades < max_grade))\n",
        "    print(f\"{letter} ({min_grade}-{max_grade}): {count} \u00f6\u011frenci\")\n"
      ]
    },
    {
      "cell_type": "code",
      "execution_count": null,
      "metadata": {},
      "outputs": [],
      "source": [
        "# Gruplara g\u00f6re s\u0131ralama ve analiz\n",
        "# \u00d6\u011frencileri s\u0131n\u0131flara ay\u0131ral\u0131m (1, 2 veya 3. s\u0131n\u0131f)\n",
        "grades = np.round(grades, 1)  # Notlar\u0131 yuvarlayal\u0131m\n",
        "student_years = np.random.randint(1, 4, size=student_count)  # Rastgele s\u0131n\u0131f atamas\u0131\n",
        "\n",
        "# Structured array olu\u015ftural\u0131m\n",
        "dtype = [('name', 'U10'), ('year', int), ('grade', float)]\n",
        "students = np.zeros(student_count, dtype=dtype)\n",
        "students['name'] = names\n",
        "students['year'] = student_years\n",
        "students['grade'] = grades\n",
        "\n",
        "# \u00d6nce s\u0131n\u0131fa sonra nota g\u00f6re s\u0131ralama\n",
        "sorted_students = np.sort(students, order=['year', 'grade'])[::-1]  # Notlar azalan s\u0131rada\n",
        "\n",
        "print(\"S\u0131n\u0131f ve nota g\u00f6re s\u0131ralanm\u0131\u015f \u00f6\u011frenciler:\")\n",
        "current_year = None\n",
        "for student in sorted_students:\n",
        "    if current_year != student['year']:\n",
        "        current_year = student['year']\n",
        "        print(f\"\\n{current_year}. S\u0131n\u0131f:\")\n",
        "    print(f\"{student['name']}: {student['grade']}\")\n",
        "\n",
        "# Her s\u0131n\u0131ftaki en y\u00fcksek not\n",
        "print(\"\\nHer s\u0131n\u0131ftaki en y\u00fcksek notlar:\")\n",
        "for year in range(1, 4):\n",
        "    year_mask = student_years == year\n",
        "    if np.any(year_mask):\n",
        "        max_grade = np.max(grades[year_mask])\n",
        "        max_idx = np.where((student_years == year) & (grades == max_grade))[0][0]\n",
        "        print(f\"{year}. S\u0131n\u0131f: {names[max_idx]} - {max_grade:.1f}\")\n"
      ]
    }
  ],
  "metadata": {
    "kernelspec": {
      "display_name": "Python 3",
      "language": "python",
      "name": "python3"
    },
    "language_info": {
      "codemirror_mode": {
        "name": "ipython",
        "version": 3
      },
      "file_extension": ".py",
      "mimetype": "text/x-python",
      "name": "python",
      "nbconvert_exporter": "python",
      "pygments_lexer": "ipython3",
      "version": "3.8.10"
    }
  },
  "nbformat": 4,
  "nbformat_minor": 4
}