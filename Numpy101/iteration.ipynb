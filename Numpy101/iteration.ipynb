{
  "cells": [
    {
      "cell_type": "markdown",
      "metadata": {},
      "source": [
        "# NumPy Iteration \u0130\u015flemleri\n",
        "\n",
        "Bu notebook, NumPy k\u00fct\u00fcphanesinde array'ler \u00fczerinde iterasyon (d\u00f6ng\u00fc) i\u015flemleri ve teknikleri g\u00f6stermektedir.\n"
      ]
    },
    {
      "cell_type": "markdown",
      "metadata": {},
      "source": [
        "## 1. NumPy K\u00fct\u00fcphanesini \u0130\u00e7e Aktarma\n"
      ]
    },
    {
      "cell_type": "code",
      "execution_count": null,
      "metadata": {},
      "outputs": [],
      "source": [
        "import numpy as np\n"
      ]
    },
    {
      "cell_type": "markdown",
      "metadata": {},
      "source": [
        "## 2. Temel D\u00f6ng\u00fc \u0130\u015flemleri (for d\u00f6ng\u00fcs\u00fc ile)\n"
      ]
    },
    {
      "cell_type": "code",
      "execution_count": null,
      "metadata": {},
      "outputs": [],
      "source": [
        "# 1D array \u00fczerinde iterasyon\n",
        "arr_1d = np.array([1, 2, 3, 4, 5])\n",
        "print(\"1D Array:\", arr_1d)\n",
        "\n",
        "print(\"\\n1D array \u00fczerinde iterasyon:\")\n",
        "for element in arr_1d:\n",
        "    print(element)\n"
      ]
    },
    {
      "cell_type": "code",
      "execution_count": null,
      "metadata": {},
      "outputs": [],
      "source": [
        "# 2D array \u00fczerinde iterasyon\n",
        "arr_2d = np.array([[1, 2, 3], [4, 5, 6]])\n",
        "print(\"2D Array:\\n\", arr_2d)\n",
        "\n",
        "print(\"\\n2D array \u00fczerinde iterasyon (sat\u0131r baz\u0131nda):\")\n",
        "for row in arr_2d:\n",
        "    print(row)\n",
        "    \n",
        "print(\"\\n2D array \u00fczerinde iterasyon (eleman baz\u0131nda):\")\n",
        "for row in arr_2d:\n",
        "    for element in row:\n",
        "        print(element)\n"
      ]
    },
    {
      "cell_type": "code",
      "execution_count": null,
      "metadata": {},
      "outputs": [],
      "source": [
        "# 3D array \u00fczerinde iterasyon\n",
        "arr_3d = np.array([[[1, 2], [3, 4]], [[5, 6], [7, 8]]])\n",
        "print(\"3D Array:\\n\", arr_3d)\n",
        "\n",
        "print(\"\\n3D array \u00fczerinde iterasyon:\")\n",
        "for matrix in arr_3d:\n",
        "    print(\"Matris:\")\n",
        "    for row in matrix:\n",
        "        print(row)\n"
      ]
    },
    {
      "cell_type": "markdown",
      "metadata": {},
      "source": [
        "## 3. nditer() - \u00c7ok Boyutlu Array Iterasyonu\n"
      ]
    },
    {
      "cell_type": "code",
      "execution_count": null,
      "metadata": {},
      "outputs": [],
      "source": [
        "# nditer ile d\u00fcz iterasyon\n",
        "arr_2d = np.array([[1, 2, 3], [4, 5, 6]])\n",
        "print(\"Array:\\n\", arr_2d)\n",
        "\n",
        "print(\"\\nnditer ile iterasyon:\")\n",
        "for element in np.nditer(arr_2d):\n",
        "    print(element)\n"
      ]
    },
    {
      "cell_type": "code",
      "execution_count": null,
      "metadata": {},
      "outputs": [],
      "source": [
        "# Farkl\u0131 iterasyon s\u0131ras\u0131 (C-order vs F-order)\n",
        "arr_2d = np.array([[1, 2, 3], [4, 5, 6]])\n",
        "print(\"Array:\\n\", arr_2d)\n",
        "\n",
        "print(\"\\nC-order (sat\u0131r \u00f6ncelikli) iterasyon:\")\n",
        "for element in np.nditer(arr_2d, order='C'):\n",
        "    print(element)\n",
        "    \n",
        "print(\"\\nF-order (s\u00fctun \u00f6ncelikli) iterasyon:\")\n",
        "for element in np.nditer(arr_2d, order='F'):\n",
        "    print(element)\n"
      ]
    },
    {
      "cell_type": "code",
      "execution_count": null,
      "metadata": {},
      "outputs": [],
      "source": [
        "# nditer ile de\u011fi\u015fiklik yapma (flags parametresi)\n",
        "arr = np.array([[1, 2, 3], [4, 5, 6]])\n",
        "print(\"Orijinal array:\\n\", arr)\n",
        "\n",
        "print(\"\\nnditer ile de\u011ferleri de\u011fi\u015ftirme:\")\n",
        "# De\u011fi\u015fiklik i\u00e7in 'writebacks' flag'ini a\u00e7mal\u0131y\u0131z\n",
        "for element in np.nditer(arr, op_flags=['readwrite']):\n",
        "    element[...] = element * 2\n",
        "    \n",
        "print(\"\\nDe\u011fi\u015fiklikten sonra array:\\n\", arr)\n"
      ]
    },
    {
      "cell_type": "markdown",
      "metadata": {},
      "source": [
        "## 4. ndenumerate() - \u0130ndeksli \u0130terasyon\n"
      ]
    },
    {
      "cell_type": "code",
      "execution_count": null,
      "metadata": {},
      "outputs": [],
      "source": [
        "# 1D array ile ndenumerate kullan\u0131m\u0131\n",
        "arr_1d = np.array([1, 2, 3, 4])\n",
        "print(\"1D Array:\", arr_1d)\n",
        "\n",
        "print(\"\\nndenumerate ile indeks ve de\u011fer iterasyonu:\")\n",
        "for idx, val in np.ndenumerate(arr_1d):\n",
        "    print(f\"\u0130ndeks: {idx}, De\u011fer: {val}\")\n"
      ]
    },
    {
      "cell_type": "code",
      "execution_count": null,
      "metadata": {},
      "outputs": [],
      "source": [
        "# 2D array ile ndenumerate kullan\u0131m\u0131\n",
        "arr_2d = np.array([[1, 2, 3], [4, 5, 6]])\n",
        "print(\"2D Array:\\n\", arr_2d)\n",
        "\n",
        "print(\"\\nndenumerate ile indeks ve de\u011fer iterasyonu:\")\n",
        "for idx, val in np.ndenumerate(arr_2d):\n",
        "    print(f\"\u0130ndeks: {idx}, De\u011fer: {val}\")\n"
      ]
    },
    {
      "cell_type": "markdown",
      "metadata": {},
      "source": [
        "## 5. Vekt\u00f6rizasyon - D\u00f6ng\u00fc Kullanmadan Array \u0130\u015flemleri\n"
      ]
    },
    {
      "cell_type": "code",
      "execution_count": null,
      "metadata": {},
      "outputs": [],
      "source": [
        "# D\u00f6ng\u00fc kullanarak 1 milyon eleman\u0131 i\u015fleme\n",
        "import time\n",
        "\n",
        "# B\u00fcy\u00fck bir array olu\u015ftural\u0131m\n",
        "arr = np.arange(1000000)\n",
        "\n",
        "# D\u00f6ng\u00fc ile her elemana 5 ekleme - Yava\u015f y\u00f6ntem\n",
        "start_time = time.time()\n",
        "\n",
        "result_loop = np.zeros_like(arr)\n",
        "for i in range(len(arr)):\n",
        "    result_loop[i] = arr[i] + 5\n",
        "    \n",
        "loop_time = time.time() - start_time\n",
        "print(f\"D\u00f6ng\u00fc s\u00fcresi: {loop_time:.6f} saniye\")\n",
        "\n",
        "# Vekt\u00f6rizasyon ile t\u00fcm elemanlara 5 ekleme - H\u0131zl\u0131 y\u00f6ntem\n",
        "start_time = time.time()\n",
        "\n",
        "result_vectorized = arr + 5\n",
        "\n",
        "vectorized_time = time.time() - start_time\n",
        "print(f\"Vekt\u00f6rizasyon s\u00fcresi: {vectorized_time:.6f} saniye\")\n",
        "print(f\"Vekt\u00f6rizasyon yakla\u015f\u0131k {loop_time/vectorized_time:.1f} kat daha h\u0131zl\u0131\")\n",
        "\n",
        "# Sonu\u00e7lar\u0131n e\u015fit oldu\u011funu do\u011frulama\n",
        "print(\"\\nSonu\u00e7lar e\u015fit mi?\", np.array_equal(result_loop, result_vectorized))\n"
      ]
    },
    {
      "cell_type": "markdown",
      "metadata": {},
      "source": [
        "## 6. Ko\u015fullu \u0130terasyon ve Eleman Se\u00e7imi\n"
      ]
    },
    {
      "cell_type": "code",
      "execution_count": null,
      "metadata": {},
      "outputs": [],
      "source": [
        "# Ko\u015fullu eleman se\u00e7imi\n",
        "arr = np.array([1, 2, 3, 4, 5, 6, 7, 8, 9, 10])\n",
        "print(\"Array:\", arr)\n",
        "\n",
        "# 5'ten b\u00fcy\u00fck elemanlar\u0131 se\u00e7me\n",
        "bigger_than_5 = arr[arr > 5]\n",
        "print(\"\\n5'ten b\u00fcy\u00fck elemanlar:\", bigger_than_5)\n",
        "\n",
        "# \u00c7ift say\u0131lar\u0131 se\u00e7me\n",
        "even_numbers = arr[arr % 2 == 0]\n",
        "print(\"\u00c7ift say\u0131lar:\", even_numbers)\n",
        "\n",
        "# Hem 3'e b\u00f6l\u00fcnebilen hem de 5'ten k\u00fc\u00e7\u00fck olan say\u0131lar\n",
        "condition = (arr % 3 == 0) & (arr < 5)\n",
        "selected = arr[condition]\n",
        "print(\"3'e b\u00f6l\u00fcnebilen VE 5'ten k\u00fc\u00e7\u00fck olanlar:\", selected)\n"
      ]
    },
    {
      "cell_type": "code",
      "execution_count": null,
      "metadata": {},
      "outputs": [],
      "source": [
        "# 2D array \u00fczerinde ko\u015fullu eleman se\u00e7imi\n",
        "arr_2d = np.array([[1, 2, 3], [4, 5, 6], [7, 8, 9]])\n",
        "print(\"2D Array:\\n\", arr_2d)\n",
        "\n",
        "# 5'ten b\u00fcy\u00fck elemanlar\u0131 se\u00e7me\n",
        "bigger_than_5 = arr_2d[arr_2d > 5]\n",
        "print(\"\\n5'ten b\u00fcy\u00fck elemanlar:\", bigger_than_5)\n",
        "\n",
        "# Ko\u015fullu de\u011fi\u015fiklik:\n",
        "# 5'ten b\u00fcy\u00fck de\u011ferleri -1 ile de\u011fi\u015ftirme\n",
        "arr_2d_copy = arr_2d.copy()\n",
        "arr_2d_copy[arr_2d_copy > 5] = -1\n",
        "print(\"\\n5'ten b\u00fcy\u00fck de\u011ferler -1 ile de\u011fi\u015ftirildi:\\n\", arr_2d_copy)\n"
      ]
    },
    {
      "cell_type": "markdown",
      "metadata": {},
      "source": [
        "## 7. Fonksiyon Uygulama - apply_along_axis()\n"
      ]
    },
    {
      "cell_type": "code",
      "execution_count": null,
      "metadata": {},
      "outputs": [],
      "source": [
        "# Sat\u0131r veya s\u00fctunlara fonksiyon uygulama\n",
        "arr_2d = np.array([[1, 2, 3], [4, 5, 6], [7, 8, 9]])\n",
        "print(\"2D Array:\\n\", arr_2d)\n",
        "\n",
        "# Her sat\u0131r\u0131n toplam\u0131n\u0131 hesaplama\n",
        "row_sums = np.apply_along_axis(np.sum, axis=1, arr=arr_2d)\n",
        "print(\"\\nSat\u0131r toplamlar\u0131:\", row_sums)\n",
        "\n",
        "# Her s\u00fctunun ortalamas\u0131n\u0131 hesaplama\n",
        "column_means = np.apply_along_axis(np.mean, axis=0, arr=arr_2d)\n",
        "print(\"S\u00fctun ortalamalar\u0131:\", column_means)\n"
      ]
    },
    {
      "cell_type": "code",
      "execution_count": null,
      "metadata": {},
      "outputs": [],
      "source": [
        "# \u00d6zel fonksiyon uygulama\n",
        "def element_analysis(arr):\n",
        "    return [np.min(arr), np.max(arr), np.mean(arr)]\n",
        "\n",
        "# Her sat\u0131ra \u00f6zel fonksiyon uygulama\n",
        "arr_2d = np.array([[1, 2, 3], [4, 5, 6], [7, 8, 9]])\n",
        "print(\"2D Array:\\n\", arr_2d)\n",
        "\n",
        "result = np.apply_along_axis(element_analysis, axis=1, arr=arr_2d)\n",
        "print(\"\\nHer sat\u0131r\u0131n [min, max, mean] de\u011ferleri:\\n\", result)\n"
      ]
    },
    {
      "cell_type": "markdown",
      "metadata": {},
      "source": [
        "## 8. fromiter() - \u0130terasyon Sonu\u00e7lar\u0131ndan Array Olu\u015fturma\n"
      ]
    },
    {
      "cell_type": "code",
      "execution_count": null,
      "metadata": {},
      "outputs": [],
      "source": [
        "# Generator ifadesinden array olu\u015fturma\n",
        "generator = (x**2 for x in range(10))\n",
        "arr_from_generator = np.fromiter(generator, dtype=int)\n",
        "print(\"Generator'dan olu\u015fturulan array:\", arr_from_generator)\n",
        "\n",
        "# Liste \u00fcreteci ile generator olu\u015fturma ve array'e d\u00f6n\u00fc\u015ft\u00fcrme\n",
        "squares = np.fromiter((x**2 for x in range(1, 6)), dtype=int)\n",
        "print(\"Kareleri i\u00e7eren array:\", squares)\n",
        "\n",
        "cubes = np.fromiter((x**3 for x in range(1, 6)), dtype=int)\n",
        "print(\"K\u00fcpleri i\u00e7eren array:\", cubes)\n"
      ]
    },
    {
      "cell_type": "markdown",
      "metadata": {},
      "source": [
        "## 9. \u00d6zel \u0130terat\u00f6rler ve Flat \u0130terasyon\n"
      ]
    },
    {
      "cell_type": "code",
      "execution_count": null,
      "metadata": {},
      "outputs": [],
      "source": [
        "# flat iterat\u00f6r kullan\u0131m\u0131\n",
        "arr_2d = np.array([[1, 2, 3], [4, 5, 6]])\n",
        "print(\"2D Array:\\n\", arr_2d)\n",
        "\n",
        "print(\"\\nflat iterat\u00f6r ile elemanlar\u0131 yazd\u0131rma:\")\n",
        "for item in arr_2d.flat:\n",
        "    print(item)\n",
        "\n",
        "# flat ile indeksleme\n",
        "flat_copy = arr_2d.flat.copy()\n",
        "print(\"\\nFlat kopyas\u0131:\", flat_copy)\n",
        "\n",
        "# 3. indeksteki eleman\u0131 de\u011fi\u015ftirme (0'dan ba\u015flayan indeks)\n",
        "arr_2d.flat[3] = 44\n",
        "print(\"\\nDe\u011fi\u015fiklikten sonra array:\\n\", arr_2d)\n"
      ]
    },
    {
      "cell_type": "markdown",
      "metadata": {},
      "source": [
        "## 10. \u0130terasyon Y\u00f6ntemlerinin Performans Kar\u015f\u0131la\u015ft\u0131rmas\u0131\n"
      ]
    },
    {
      "cell_type": "code",
      "execution_count": null,
      "metadata": {},
      "outputs": [],
      "source": [
        "# Farkl\u0131 iterasyon y\u00f6ntemlerinin performans\u0131n\u0131 kar\u015f\u0131la\u015ft\u0131rma\n",
        "import time\n",
        "\n",
        "# Test i\u00e7in 100x100 boyutunda bir array olu\u015ftural\u0131m\n",
        "arr = np.random.randint(0, 100, size=(100, 100))\n",
        "\n",
        "# 1. Standart nested for d\u00f6ng\u00fcs\u00fc\n",
        "start_time = time.time()\n",
        "total1 = 0\n",
        "for i in range(arr.shape[0]):\n",
        "    for j in range(arr.shape[1]):\n",
        "        total1 += arr[i, j]\n",
        "time1 = time.time() - start_time\n",
        "\n",
        "# 2. flat iterat\u00f6r\n",
        "start_time = time.time()\n",
        "total2 = 0\n",
        "for item in arr.flat:\n",
        "    total2 += item\n",
        "time2 = time.time() - start_time\n",
        "\n",
        "# 3. nditer\n",
        "start_time = time.time()\n",
        "total3 = 0\n",
        "for item in np.nditer(arr):\n",
        "    total3 += item\n",
        "time3 = time.time() - start_time\n",
        "\n",
        "# 4. Vekt\u00f6rizasyon (en h\u0131zl\u0131 y\u00f6ntem)\n",
        "start_time = time.time()\n",
        "total4 = np.sum(arr)\n",
        "time4 = time.time() - start_time\n",
        "\n",
        "print(f\"Nested for loop s\u00fcresi: {time1:.6f} saniye\")\n",
        "print(f\"flat iterat\u00f6r s\u00fcresi: {time2:.6f} saniye\")\n",
        "print(f\"nditer s\u00fcresi: {time3:.6f} saniye\")\n",
        "print(f\"Vekt\u00f6rize sum s\u00fcresi: {time4:.6f} saniye\")\n",
        "print(f\"Vekt\u00f6rizasyon, nested for loop'a g\u00f6re {time1/time4:.1f} kat daha h\u0131zl\u0131\")\n",
        "\n",
        "# T\u00fcm sonu\u00e7lar\u0131n ayn\u0131 oldu\u011funu kontrol etme\n",
        "print(\"\\nT\u00fcm sonu\u00e7lar ayn\u0131 m\u0131?\", total1 == total2 == total3 == total4)\n",
        "print(f\"Toplam: {total1}\")\n"
      ]
    }
  ],
  "metadata": {
    "kernelspec": {
      "display_name": "Python 3",
      "language": "python",
      "name": "python3"
    },
    "language_info": {
      "codemirror_mode": {
        "name": "ipython",
        "version": 3
      },
      "file_extension": ".py",
      "mimetype": "text/x-python",
      "name": "python",
      "nbconvert_exporter": "python",
      "pygments_lexer": "ipython3",
      "version": "3.8.10"
    }
  },
  "nbformat": 4,
  "nbformat_minor": 4
}