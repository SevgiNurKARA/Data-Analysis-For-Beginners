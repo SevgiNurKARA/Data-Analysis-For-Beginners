{
  "cells": [
    {
      "cell_type": "markdown",
      "id": "a556be41",
      "metadata": {},
      "source": [
        "# 1_pandas_introduction.py\n",
        "\n",
        "This notebook was automatically converted from a Python script."
      ]
    },
    {
      "cell_type": "markdown",
      "id": "8fbe929c",
      "metadata": {},
      "source": [
        "# Pandas: Introduction\n"
      ]
    },
    {
      "cell_type": "markdown",
      "id": "5a6039fe",
      "metadata": {},
      "source": [
        "Pandas is a powerful open-source data analysis and manipulation library for Python. It provides data structures for efficiently storing and manipulating tabular data, time series, and matrix data. Pandas is built on top of NumPy and is an essential tool for data analysis in Python.\n"
      ]
    },
    {
      "cell_type": "markdown",
      "id": "ef132c62",
      "metadata": {},
      "source": [
        "## Why Use Pandas?\n"
      ]
    },
    {
      "cell_type": "markdown",
      "id": "5f1b3e46",
      "metadata": {},
      "source": [
        "- Fast and efficient data manipulation with labeled axes\n"
      ]
    },
    {
      "cell_type": "markdown",
      "id": "e170d04f",
      "metadata": {},
      "source": [
        "- Handles missing data gracefully\n"
      ]
    },
    {
      "cell_type": "markdown",
      "id": "90a7f39c",
      "metadata": {},
      "source": [
        "- Easy data alignment and integration\n"
      ]
    },
    {
      "cell_type": "markdown",
      "id": "1f9bb582",
      "metadata": {},
      "source": [
        "- Powerful grouping and aggregation capabilities\n"
      ]
    },
    {
      "cell_type": "markdown",
      "id": "b38e112e",
      "metadata": {},
      "source": [
        "- Excel-like data analysis with Python\n"
      ]
    },
    {
      "cell_type": "markdown",
      "id": "67c51305",
      "metadata": {},
      "source": [
        "- Built-in data visualization\n"
      ]
    },
    {
      "cell_type": "markdown",
      "id": "293bb1c7",
      "metadata": {},
      "source": [
        "- Great for time series analysis\n"
      ]
    },
    {
      "cell_type": "markdown",
      "id": "3ebb7f21",
      "metadata": {},
      "source": [
        "Import pandas and numpy libraries\n"
      ]
    },
    {
      "cell_type": "code",
      "execution_count": null,
      "id": "44f26c50",
      "metadata": {},
      "outputs": [],
      "source": [
        "import pandas as pd\n",
        "import numpy as np\n",
        "\n"
      ]
    },
    {
      "cell_type": "markdown",
      "id": "2a0190ca",
      "metadata": {},
      "source": [
        "Check version\n"
      ]
    },
    {
      "cell_type": "code",
      "execution_count": null,
      "id": "60247de6",
      "metadata": {},
      "outputs": [],
      "source": [
        "print(f\"Pandas version: {pd.__version__}\")\n",
        "print(f\"NumPy version: {np.__version__}\")\n",
        "\n"
      ]
    },
    {
      "cell_type": "markdown",
      "id": "8b1d5e04",
      "metadata": {},
      "source": [
        "## Key Pandas Objects\n"
      ]
    },
    {
      "cell_type": "markdown",
      "id": "edeb5d0d",
      "metadata": {},
      "source": [
        "Pandas has two main data structures:\n"
      ]
    },
    {
      "cell_type": "markdown",
      "id": "cb2ee0ec",
      "metadata": {},
      "source": [
        "1. **Series**: One-dimensional array with labeled indexes\n"
      ]
    },
    {
      "cell_type": "markdown",
      "id": "9a053169",
      "metadata": {},
      "source": [
        "2. **DataFrame**: Two-dimensional table with rows and columns (similar to a spreadsheet)\n"
      ]
    },
    {
      "cell_type": "markdown",
      "id": "ba80485f",
      "metadata": {},
      "source": [
        "Let's create simple examples of each:\n"
      ]
    },
    {
      "cell_type": "markdown",
      "id": "b2d1f962",
      "metadata": {},
      "source": [
        "Create a simple Series\n"
      ]
    },
    {
      "cell_type": "code",
      "execution_count": null,
      "id": "8cd28a8a",
      "metadata": {},
      "outputs": [],
      "source": [
        "s = pd.Series([10, 20, 30, 40], index=['a', 'b', 'c', 'd'])\n",
        "print(\"Series example:\")\n",
        "print(s)\n",
        "\n"
      ]
    },
    {
      "cell_type": "markdown",
      "id": "c284720b",
      "metadata": {},
      "source": [
        "Create a simple DataFrame\n"
      ]
    },
    {
      "cell_type": "code",
      "execution_count": null,
      "id": "8b8bb0a3",
      "metadata": {},
      "outputs": [],
      "source": [
        "data = {\n",
        "    'Name': ['Ali', 'Ayşe', 'Mehmet', 'Zeynep'],\n",
        "    'Age': [25, 30, 35, 28],\n",
        "    'City': ['Istanbul', 'Ankara', 'Izmir', 'Bursa']\n",
        "}\n",
        "\n",
        "df = pd.DataFrame(data)\n",
        "print(\"\\nDataFrame example:\")\n",
        "print(df)\n",
        "\n"
      ]
    },
    {
      "cell_type": "markdown",
      "id": "6f05c965",
      "metadata": {},
      "source": [
        "## Basic Operations\n"
      ]
    },
    {
      "cell_type": "markdown",
      "id": "697f86cd",
      "metadata": {},
      "source": [
        "Let's look at some common operations in Pandas:\n"
      ]
    },
    {
      "cell_type": "markdown",
      "id": "e63e1f0b",
      "metadata": {},
      "source": [
        "View the first rows of DataFrame\n"
      ]
    },
    {
      "cell_type": "code",
      "execution_count": null,
      "id": "81f90ea4",
      "metadata": {},
      "outputs": [],
      "source": [
        "print(\"First 2 rows:\")\n",
        "print(df.head(2))\n",
        "\n"
      ]
    },
    {
      "cell_type": "markdown",
      "id": "1dca39c7",
      "metadata": {},
      "source": [
        "View basic statistics\n"
      ]
    },
    {
      "cell_type": "code",
      "execution_count": null,
      "id": "5c5cd814",
      "metadata": {},
      "outputs": [],
      "source": [
        "print(\"\\nBasic statistics:\")\n",
        "print(df.describe())\n",
        "\n"
      ]
    },
    {
      "cell_type": "markdown",
      "id": "cf052f3c",
      "metadata": {},
      "source": [
        "Get information about DataFrame\n"
      ]
    },
    {
      "cell_type": "code",
      "execution_count": null,
      "id": "d2e83a0a",
      "metadata": {},
      "outputs": [],
      "source": [
        "print(\"\\nDataFrame info:\")\n",
        "df.info()\n",
        "\n"
      ]
    },
    {
      "cell_type": "markdown",
      "id": "26b0d6e1",
      "metadata": {},
      "source": [
        "## Typical Pandas Workflow\n"
      ]
    },
    {
      "cell_type": "markdown",
      "id": "f946824d",
      "metadata": {},
      "source": [
        "A typical workflow using pandas generally includes:\n"
      ]
    },
    {
      "cell_type": "markdown",
      "id": "e6ee5bdf",
      "metadata": {},
      "source": [
        "1. **Loading data**: Import data from CSV, Excel, SQL, JSON, etc.\n"
      ]
    },
    {
      "cell_type": "markdown",
      "id": "e935d77c",
      "metadata": {},
      "source": [
        "2. **Exploring data**: Look at sample rows, check statistics, understand the structure\n"
      ]
    },
    {
      "cell_type": "markdown",
      "id": "4a563b7b",
      "metadata": {},
      "source": [
        "3. **Cleaning data**: Handle missing values, remove duplicates, fix data types\n"
      ]
    },
    {
      "cell_type": "markdown",
      "id": "d8bc3137",
      "metadata": {},
      "source": [
        "4. **Manipulating data**: Transform, filter, and organize data as needed\n"
      ]
    },
    {
      "cell_type": "markdown",
      "id": "69b8430a",
      "metadata": {},
      "source": [
        "5. **Analyzing data**: Perform calculations, grouping, and statistical analysis\n"
      ]
    },
    {
      "cell_type": "markdown",
      "id": "e3c2571a",
      "metadata": {},
      "source": [
        "6. **Visualizing data**: Create plots and charts to visualize findings\n"
      ]
    },
    {
      "cell_type": "markdown",
      "id": "34e6dd9d",
      "metadata": {},
      "source": [
        "7. **Saving results**: Export processed data or analysis results\n"
      ]
    },
    {
      "cell_type": "markdown",
      "id": "bd8203ef",
      "metadata": {},
      "source": [
        "Over the next few notebooks, we'll explore each of these steps in detail.\n"
      ]
    },
    {
      "cell_type": "markdown",
      "id": "241cecf8",
      "metadata": {},
      "source": [
        "Example: Create a simple dataset\n"
      ]
    },
    {
      "cell_type": "code",
      "execution_count": null,
      "id": "85bf8938",
      "metadata": {},
      "outputs": [],
      "source": [
        "np.random.seed(42)  # For reproducibility\n",
        "dates = pd.date_range('20230101', periods=6)\n",
        "df = pd.DataFrame(np.random.randn(6, 4), index=dates, columns=list('ABCD'))\n",
        "\n",
        "print(\"Example time-series data:\")\n",
        "print(df)\n",
        "\n"
      ]
    },
    {
      "cell_type": "markdown",
      "id": "1feeb2db",
      "metadata": {},
      "source": [
        "Simple analysis\n"
      ]
    },
    {
      "cell_type": "code",
      "execution_count": null,
      "id": "b1e7dc0a",
      "metadata": {},
      "outputs": [],
      "source": [
        "print(\"\\nColumn means:\")\n",
        "print(df.mean())\n",
        "\n"
      ]
    },
    {
      "cell_type": "markdown",
      "id": "b25216c8",
      "metadata": {},
      "source": [
        "Simple visualization\n"
      ]
    },
    {
      "cell_type": "code",
      "execution_count": null,
      "id": "0f6f49da",
      "metadata": {},
      "outputs": [],
      "source": [
        "import matplotlib.pyplot as plt\n"
      ]
    },
    {
      "cell_type": "markdown",
      "id": "3943b970",
      "metadata": {},
      "source": [
        "%matplotlib inline - This is for Jupyter notebooks\n"
      ]
    },
    {
      "cell_type": "code",
      "execution_count": null,
      "id": "03018bb7",
      "metadata": {},
      "outputs": [],
      "source": [
        "\n",
        "plt.figure(figsize=(10, 6))\n",
        "df.plot(figsize=(10, 6))\n",
        "plt.title('Random Time Series Data')\n",
        "plt.ylabel('Value')\n",
        "plt.grid(True)\n"
      ]
    },
    {
      "cell_type": "markdown",
      "id": "d46c3e82",
      "metadata": {},
      "source": [
        "plt.show() # Uncomment to show the plot when running as a script\n"
      ]
    },
    {
      "cell_type": "markdown",
      "id": "0dd4518a",
      "metadata": {},
      "source": [
        "## Conclusion\n"
      ]
    },
    {
      "cell_type": "markdown",
      "id": "333d77b1",
      "metadata": {},
      "source": [
        "This script provided a brief introduction to pandas and its capabilities. In the following scripts, we'll explore pandas data structures and operations in more detail:\n"
      ]
    },
    {
      "cell_type": "markdown",
      "id": "0759bc49",
      "metadata": {},
      "source": [
        "1. Series: One-dimensional labeled arrays\n"
      ]
    },
    {
      "cell_type": "markdown",
      "id": "757a78d0",
      "metadata": {},
      "source": [
        "2. DataFrames: Two-dimensional labeled data structures\n"
      ]
    },
    {
      "cell_type": "markdown",
      "id": "653a8506",
      "metadata": {},
      "source": [
        "3. Reading Data: Importing data from CSV and JSON files\n"
      ]
    },
    {
      "cell_type": "markdown",
      "id": "a9f408d3",
      "metadata": {},
      "source": [
        "4. Data Analysis: Techniques for exploring and analyzing data\n"
      ]
    },
    {
      "cell_type": "markdown",
      "id": "4a0c1035",
      "metadata": {},
      "source": [
        "Each script will build on these fundamentals and provide more in-depth examples. \n"
      ]
    }
  ],
  "metadata": {
    "kernelspec": {
      "display_name": "Python 3",
      "language": "python",
      "name": "python3"
    },
    "language_info": {
      "codemirror_mode": {
        "name": "ipython",
        "version": 3
      },
      "file_extension": ".py",
      "mimetype": "text/x-python",
      "name": "python",
      "nbconvert_exporter": "python",
      "pygments_lexer": "ipython3",
      "version": "3.8.8"
    }
  },
  "nbformat": 4,
  "nbformat_minor": 5
}
