{
  "cells": [
    {
      "cell_type": "markdown",
      "metadata": {},
      "source": [
        "# 5_analyzing_data.py\n",
        "\n",
        "This notebook was automatically converted from a Python script."
      ]
    },
    {
      "cell_type": "markdown",
      "metadata": {},
      "source": [
        "# Pandas ile Veri Analizi\n"
      ]
    },
    {
      "cell_type": "markdown",
      "metadata": {},
      "source": [
        "Pandas, veri analizi için güçlü ve esnek araçlar sunar. Bu bölümde, Pandas kullanarak veri analizi nasıl yapılır öğreneceğiz.\n"
      ]
    },
    {
      "cell_type": "markdown",
      "metadata": {},
      "source": [
        "## Veri Analizi Nedir?\n"
      ]
    },
    {
      "cell_type": "markdown",
      "metadata": {},
      "source": [
        "Veri analizi, ham verilerden anlamlı bilgiler çıkarmayı, sonuçları yorumlamayı ve karar vermeyi desteklemek amacıyla yapılan bir süreçtir. Bu süreç genellikle şu adımları içerir:\n"
      ]
    },
    {
      "cell_type": "markdown",
      "metadata": {},
      "source": [
        "1. Veriyi anlama ve keşfetme\n"
      ]
    },
    {
      "cell_type": "markdown",
      "metadata": {},
      "source": [
        "2. Veriyi temizleme ve hazırlama\n"
      ]
    },
    {
      "cell_type": "markdown",
      "metadata": {},
      "source": [
        "3. Veriyi dönüştürme ve zenginleştirme\n"
      ]
    },
    {
      "cell_type": "markdown",
      "metadata": {},
      "source": [
        "4. İstatistiksel analiz ve modelleme\n"
      ]
    },
    {
      "cell_type": "markdown",
      "metadata": {},
      "source": [
        "5. Sonuçları yorumlama ve görselleştirme\n"
      ]
    },
    {
      "cell_type": "markdown",
      "id": "042e1fad",
      "metadata": {},
      "source": [
        "Şimdi bu adımları Pandas kullanarak nasıl gerçekleştirebileceğimize bakalım.\n"
      ]
    },
    {
      "cell_type": "markdown",
      "metadata": {},
      "source": [
        "Gerekli kütüphaneleri import edelim\n"
      ]
    },
    {
      "cell_type": "code",
      "execution_count": null,
      "metadata": {},
      "outputs": [],
      "source": [
        "import pandas as pd\n",
        "import numpy as np\n",
        "import matplotlib.pyplot as plt\n",
        "import seaborn as sns\n",
        "\n"
      ]
    },
    {
      "cell_type": "markdown",
      "metadata": {},
      "source": [
        "Grafikleri not defterinde görüntülemek için (Jupyter Notebook'ta çalıştırılırsa gerekli)\n"
      ]
    },
    {
      "cell_type": "markdown",
      "metadata": {},
      "source": [
        "%matplotlib inline\n"
      ]
    },
    {
      "cell_type": "markdown",
      "metadata": {},
      "source": [
        "Rasgele verilerin tutarlı olması için seed ayarlayalım\n"
      ]
    },
    {
      "cell_type": "code",
      "execution_count": null,
      "metadata": {},
      "outputs": [],
      "source": [
        "np.random.seed(42)\n",
        "\n"
      ]
    },
    {
      "cell_type": "markdown",
      "metadata": {},
      "source": [
        "## Örnek Veri Seti Oluşturma\n"
      ]
    },
    {
      "cell_type": "markdown",
      "metadata": {},
      "source": [
        "Bir e-ticaret sitesinin satış verilerini simüle eden bir veri seti oluşturalım.\n"
      ]
    },
    {
      "cell_type": "markdown",
      "metadata": {},
      "source": [
        "Tarih aralığı oluşturma\n"
      ]
    },
    {
      "cell_type": "code",
      "execution_count": null,
      "metadata": {},
      "outputs": [],
      "source": [
        "tarihler = pd.date_range(start='2023-01-01', end='2023-12-31', freq='D')\n",
        "\n"
      ]
    },
    {
      "cell_type": "markdown",
      "metadata": {},
      "source": [
        "Kategoriler\n"
      ]
    },
    {
      "cell_type": "code",
      "execution_count": null,
      "metadata": {},
      "outputs": [],
      "source": [
        "kategoriler = ['Elektronik', 'Giyim', 'Kitap', 'Ev', 'Spor']\n",
        "\n"
      ]
    },
    {
      "cell_type": "markdown",
      "metadata": {},
      "source": [
        "Satış verileri oluşturma\n"
      ]
    },
    {
      "cell_type": "code",
      "execution_count": null,
      "metadata": {},
      "outputs": [],
      "source": [
        "n_rows = len(tarihler)\n",
        "data = {\n",
        "    'Tarih': tarihler,\n",
        "    'Kategori': np.random.choice(kategoriler, size=n_rows),\n",
        "    'Satış': np.random.randint(100, 10000, size=n_rows),\n",
        "    'Miktar': np.random.randint(1, 100, size=n_rows),\n",
        "    'İade': np.random.randint(0, 10, size=n_rows),\n",
        "    'Müşteri_ID': np.random.randint(1000, 5000, size=n_rows),\n",
        "    'Ödeme_Tipi': np.random.choice(['Kredi Kartı', 'Havale', 'Kapıda Ödeme'], size=n_rows)\n",
        "}\n",
        "\n"
      ]
    },
    {
      "cell_type": "markdown",
      "metadata": {},
      "source": [
        "DataFrame oluşturma\n"
      ]
    },
    {
      "cell_type": "code",
      "execution_count": null,
      "metadata": {},
      "outputs": [],
      "source": [
        "df = pd.DataFrame(data)\n",
        "\n"
      ]
    },
    {
      "cell_type": "markdown",
      "metadata": {},
      "source": [
        "Verilere biraz gürültü ve eksik değerler ekleyelim\n"
      ]
    },
    {
      "cell_type": "code",
      "execution_count": null,
      "metadata": {},
      "outputs": [],
      "source": [
        "df.loc[np.random.choice(df.index, 50), 'Satış'] = np.nan\n",
        "df.loc[np.random.choice(df.index, 30), 'Miktar'] = np.nan\n",
        "\n"
      ]
    },
    {
      "cell_type": "markdown",
      "metadata": {},
      "source": [
        "Veri setini görelim\n"
      ]
    },
    {
      "cell_type": "code",
      "execution_count": null,
      "metadata": {},
      "outputs": [],
      "source": [
        "print(\"Örnek veri seti:\")\n",
        "print(df.head())\n",
        "\n"
      ]
    },
    {
      "cell_type": "markdown",
      "metadata": {},
      "source": [
        "## 1. Veriyi Anlama ve Keşfetme\n"
      ]
    },
    {
      "cell_type": "markdown",
      "metadata": {},
      "source": [
        "Veri analizi sürecinin ilk adımı, elimizdeki veriyi anlamak ve keşfetmektir. Pandas, bunun için çeşitli araçlar sunar.\n"
      ]
    },
    {
      "cell_type": "code",
      "execution_count": null,
      "metadata": {},
      "outputs": [],
      "source": [
        "\n",
        "print(\"\\n--- Veriyi Anlama ve Keşfetme ---\")\n",
        "\n"
      ]
    },
    {
      "cell_type": "markdown",
      "metadata": {},
      "source": [
        "Verinin yapısını inceleme\n"
      ]
    },
    {
      "cell_type": "code",
      "execution_count": null,
      "metadata": {},
      "outputs": [],
      "source": [
        "print(\"\\nVeri seti boyutu:\", df.shape)\n",
        "print(\"\\nVeri seti sütunları:\", df.columns.tolist())\n",
        "print(\"\\nVeri seti bilgileri:\")\n",
        "df.info()\n",
        "\n"
      ]
    },
    {
      "cell_type": "markdown",
      "metadata": {},
      "source": [
        "İstatistiksel özet\n"
      ]
    },
    {
      "cell_type": "code",
      "execution_count": null,
      "metadata": {},
      "outputs": [],
      "source": [
        "print(\"\\nİstatistiksel özet:\")\n",
        "print(df.describe())\n",
        "\n"
      ]
    },
    {
      "cell_type": "markdown",
      "metadata": {},
      "source": [
        "Kategorik veri özetleri\n"
      ]
    },
    {
      "cell_type": "code",
      "execution_count": null,
      "metadata": {},
      "outputs": [],
      "source": [
        "print(\"\\nKategori dağılımı:\")\n",
        "print(df['Kategori'].value_counts())\n",
        "\n",
        "print(\"\\nÖdeme tipi dağılımı:\")\n",
        "print(df['Ödeme_Tipi'].value_counts(normalize=True))  # Yüzde olarak\n",
        "\n"
      ]
    },
    {
      "cell_type": "markdown",
      "metadata": {},
      "source": [
        "Zaman serisi verilerini anlama\n"
      ]
    },
    {
      "cell_type": "code",
      "execution_count": null,
      "metadata": {},
      "outputs": [],
      "source": [
        "print(\"\\nZaman bazlı özet:\")\n",
        "print(df.set_index('Tarih').resample('M')['Satış'].sum())\n",
        "\n"
      ]
    },
    {
      "cell_type": "markdown",
      "metadata": {},
      "source": [
        "## 2. Veriyi Temizleme ve Hazırlama\n"
      ]
    },
    {
      "cell_type": "markdown",
      "metadata": {},
      "source": [
        "Veri analizi sürecinde en çok zaman alan adımlardan biri veri temizleme ve hazırlamadır. Bu adım, eksik değerleri ele alma, aykırı değerleri tespit etme ve gereksiz sütunları kaldırma gibi işlemleri içerir.\n"
      ]
    },
    {
      "cell_type": "code",
      "execution_count": null,
      "metadata": {},
      "outputs": [],
      "source": [
        "\n",
        "print(\"\\n--- Veriyi Temizleme ve Hazırlama ---\")\n",
        "\n"
      ]
    },
    {
      "cell_type": "markdown",
      "metadata": {},
      "source": [
        "Eksik değerleri tespit etme\n"
      ]
    },
    {
      "cell_type": "code",
      "execution_count": null,
      "metadata": {},
      "outputs": [],
      "source": [
        "print(\"\\nEksik değerler:\")\n",
        "print(df.isnull().sum())\n",
        "\n"
      ]
    },
    {
      "cell_type": "markdown",
      "metadata": {},
      "source": [
        "Eksik değerleri doldurma\n"
      ]
    },
    {
      "cell_type": "code",
      "execution_count": null,
      "metadata": {},
      "outputs": [],
      "source": [
        "df_clean = df.copy()\n",
        "df_clean['Satış'] = df_clean['Satış'].fillna(df_clean['Satış'].mean())\n",
        "df_clean['Miktar'] = df_clean['Miktar'].fillna(df_clean['Miktar'].median())\n",
        "\n",
        "print(\"\\nEksik değerler doldurulduktan sonra:\")\n",
        "print(df_clean.isnull().sum())\n",
        "\n"
      ]
    },
    {
      "cell_type": "markdown",
      "metadata": {},
      "source": [
        "Aykırı değerleri tespit etme ve işleme\n"
      ]
    },
    {
      "cell_type": "markdown",
      "metadata": {},
      "source": [
        "Satış sütununun kutu grafiğini çizerek aykırı değerleri görebiliriz\n"
      ]
    },
    {
      "cell_type": "code",
      "execution_count": null,
      "metadata": {},
      "outputs": [],
      "source": [
        "plt.figure(figsize=(10, 6))\n",
        "sns.boxplot(x=df_clean['Satış'])\n",
        "plt.title('Satış Değerleri Dağılımı')\n",
        "plt.savefig('satis_boxplot.png')  # Grafiği kaydetme\n",
        "plt.close()\n",
        "\n"
      ]
    },
    {
      "cell_type": "markdown",
      "metadata": {},
      "source": [
        "Z-skoru ile aykırı değerleri tespit etme\n"
      ]
    },
    {
      "cell_type": "code",
      "execution_count": null,
      "metadata": {},
      "outputs": [],
      "source": [
        "def detect_outliers(df, column, threshold=3):\n",
        "    z_scores = np.abs((df[column] - df[column].mean()) / df[column].std())\n",
        "    return df[z_scores > threshold].index\n",
        "\n",
        "outliers_index = detect_outliers(df_clean, 'Satış')\n",
        "print(f\"\\nAykırı değerlerin sayısı: {len(outliers_index)}\")\n",
        "\n"
      ]
    },
    {
      "cell_type": "markdown",
      "metadata": {},
      "source": [
        "Aykırı değerleri işleme (IQR yöntemi)\n"
      ]
    },
    {
      "cell_type": "code",
      "execution_count": null,
      "metadata": {},
      "outputs": [],
      "source": [
        "Q1 = df_clean['Satış'].quantile(0.25)\n",
        "Q3 = df_clean['Satış'].quantile(0.75)\n",
        "IQR = Q3 - Q1\n",
        "lower_bound = Q1 - 1.5 * IQR\n",
        "upper_bound = Q3 + 1.5 * IQR\n",
        "\n"
      ]
    },
    {
      "cell_type": "markdown",
      "metadata": {},
      "source": [
        "Aykırı değerleri kırpma (capping)\n"
      ]
    },
    {
      "cell_type": "code",
      "execution_count": null,
      "metadata": {},
      "outputs": [],
      "source": [
        "df_clean['Satış_Capped'] = df_clean['Satış'].clip(lower_bound, upper_bound)\n",
        "\n",
        "print(\"\\nAykırı değerler işlendikten sonra istatistiksel özet:\")\n",
        "print(df_clean[['Satış', 'Satış_Capped']].describe())\n",
        "\n"
      ]
    },
    {
      "cell_type": "markdown",
      "metadata": {},
      "source": [
        "Veri tiplerini doğru şekilde ayarlama\n"
      ]
    },
    {
      "cell_type": "code",
      "execution_count": null,
      "metadata": {},
      "outputs": [],
      "source": [
        "df_clean['Tarih'] = pd.to_datetime(df_clean['Tarih'])\n",
        "df_clean['Yıl'] = df_clean['Tarih'].dt.year\n",
        "df_clean['Ay'] = df_clean['Tarih'].dt.month\n",
        "df_clean['Gün'] = df_clean['Tarih'].dt.day\n",
        "df_clean['Haftanın_Günü'] = df_clean['Tarih'].dt.day_name()\n",
        "\n",
        "print(\"\\nTarih bileşenleri eklendikten sonra:\")\n",
        "print(df_clean.head())\n",
        "\n"
      ]
    },
    {
      "cell_type": "markdown",
      "metadata": {},
      "source": [
        "## 3. Veriyi Dönüştürme ve Zenginleştirme\n"
      ]
    },
    {
      "cell_type": "markdown",
      "metadata": {},
      "source": [
        "Veri temizleme işleminin ardından, veriyi analiz için daha uygun hale getirmek amacıyla dönüştürme ve zenginleştirme işlemleri yapılır.\n"
      ]
    },
    {
      "cell_type": "code",
      "execution_count": null,
      "metadata": {},
      "outputs": [],
      "source": [
        "\n",
        "print(\"\\n--- Veriyi Dönüştürme ve Zenginleştirme ---\")\n",
        "\n"
      ]
    },
    {
      "cell_type": "markdown",
      "metadata": {},
      "source": [
        "Özellik mühendisliği: Yeni özellikler oluşturma\n"
      ]
    },
    {
      "cell_type": "code",
      "execution_count": null,
      "metadata": {},
      "outputs": [],
      "source": [
        "df_clean['Birim_Fiyat'] = df_clean['Satış'] / df_clean['Miktar']\n",
        "df_clean['İade_Oranı'] = df_clean['İade'] / df_clean['Miktar']\n",
        "df_clean['İade_Var_Mı'] = df_clean['İade'] > 0\n",
        "\n",
        "print(\"\\nYeni özellikler eklendikten sonra:\")\n",
        "print(df_clean.head())\n",
        "\n"
      ]
    },
    {
      "cell_type": "markdown",
      "metadata": {},
      "source": [
        "Kategorik verileri sayısal değerlere dönüştürme (one-hot encoding)\n"
      ]
    },
    {
      "cell_type": "code",
      "execution_count": null,
      "metadata": {},
      "outputs": [],
      "source": [
        "df_clean_encoded = pd.get_dummies(df_clean, columns=['Kategori', 'Ödeme_Tipi'], drop_first=True)\n",
        "print(\"\\nOne-hot encoding sonrası sütunlar:\")\n",
        "print(df_clean_encoded.columns.tolist())\n",
        "\n"
      ]
    },
    {
      "cell_type": "markdown",
      "metadata": {},
      "source": [
        "Veriyi normalize etme (ölçeklendirme)\n"
      ]
    },
    {
      "cell_type": "code",
      "execution_count": null,
      "metadata": {},
      "outputs": [],
      "source": [
        "from sklearn.preprocessing import MinMaxScaler\n",
        "\n",
        "scaler = MinMaxScaler()\n",
        "numeric_cols = ['Satış', 'Miktar', 'Birim_Fiyat']\n",
        "df_clean[numeric_cols + ['_Normalized']] = scaler.fit_transform(df_clean[numeric_cols])\n",
        "\n",
        "print(\"\\nNormalizasyon sonrası:\")\n",
        "print(df_clean[numeric_cols + ['_Normalized']].head())\n",
        "\n"
      ]
    },
    {
      "cell_type": "markdown",
      "metadata": {},
      "source": [
        "## 4. İstatistiksel Analiz\n"
      ]
    },
    {
      "cell_type": "markdown",
      "metadata": {},
      "source": [
        "Temizlenmiş ve hazırlanmış veriye çeşitli istatistiksel analizler uygulayabiliriz.\n"
      ]
    },
    {
      "cell_type": "code",
      "execution_count": null,
      "metadata": {},
      "outputs": [],
      "source": [
        "\n",
        "print(\"\\n--- İstatistiksel Analiz ---\")\n",
        "\n"
      ]
    },
    {
      "cell_type": "markdown",
      "metadata": {},
      "source": [
        "Korelasyon analizi\n"
      ]
    },
    {
      "cell_type": "code",
      "execution_count": null,
      "metadata": {},
      "outputs": [],
      "source": [
        "corr = df_clean[['Satış', 'Miktar', 'İade', 'Birim_Fiyat', 'İade_Oranı']].corr()\n",
        "print(\"\\nKorelasyon matrisi:\")\n",
        "print(corr)\n",
        "\n"
      ]
    },
    {
      "cell_type": "markdown",
      "metadata": {},
      "source": [
        "Korelasyon matrisini görselleştirme\n"
      ]
    },
    {
      "cell_type": "code",
      "execution_count": null,
      "metadata": {},
      "outputs": [],
      "source": [
        "plt.figure(figsize=(10, 8))\n",
        "sns.heatmap(corr, annot=True, cmap='coolwarm', linewidths=0.5)\n",
        "plt.title('Korelasyon Matrisi')\n",
        "plt.savefig('korelasyon_matrisi.png')\n",
        "plt.close()\n",
        "\n"
      ]
    },
    {
      "cell_type": "markdown",
      "metadata": {},
      "source": [
        "Kategori bazında analiz\n"
      ]
    },
    {
      "cell_type": "code",
      "execution_count": null,
      "metadata": {},
      "outputs": [],
      "source": [
        "kategori_analiz = df_clean.groupby('Kategori').agg({\n",
        "    'Satış': ['sum', 'mean', 'count'],\n",
        "    'Miktar': ['sum', 'mean'],\n",
        "    'İade': ['sum', 'mean'],\n",
        "    'İade_Oranı': 'mean'\n",
        "})\n",
        "\n",
        "print(\"\\nKategori bazında analiz:\")\n",
        "print(kategori_analiz)\n",
        "\n"
      ]
    },
    {
      "cell_type": "markdown",
      "metadata": {},
      "source": [
        "Zaman serisi analizi\n"
      ]
    },
    {
      "cell_type": "code",
      "execution_count": null,
      "metadata": {},
      "outputs": [],
      "source": [
        "aylık_satış = df_clean.set_index('Tarih').resample('M')['Satış'].sum()\n",
        "print(\"\\nAylık toplam satış:\")\n",
        "print(aylık_satış)\n",
        "\n"
      ]
    },
    {
      "cell_type": "markdown",
      "metadata": {},
      "source": [
        "Ödeme tipine göre satış analizi\n"
      ]
    },
    {
      "cell_type": "code",
      "execution_count": null,
      "metadata": {},
      "outputs": [],
      "source": [
        "odeme_analiz = df_clean.groupby('Ödeme_Tipi').agg({\n",
        "    'Satış': ['sum', 'mean', 'count'],\n",
        "    'Müşteri_ID': pd.Series.nunique\n",
        "}).sort_values(('Satış', 'sum'), ascending=False)\n",
        "\n",
        "print(\"\\nÖdeme tipine göre satış analizi:\")\n",
        "print(odeme_analiz)\n",
        "\n"
      ]
    },
    {
      "cell_type": "markdown",
      "metadata": {},
      "source": [
        "Haftalık satış trendi\n"
      ]
    },
    {
      "cell_type": "code",
      "execution_count": null,
      "metadata": {},
      "outputs": [],
      "source": [
        "haftalık_satış = df_clean.set_index('Tarih').resample('W-MON')['Satış'].sum()\n",
        "\n",
        "plt.figure(figsize=(14, 7))\n",
        "haftalık_satış.plot()\n",
        "plt.title('Haftalık Satış Trendi')\n",
        "plt.xlabel('Tarih')\n",
        "plt.ylabel('Toplam Satış')\n",
        "plt.grid(True)\n",
        "plt.savefig('haftalik_satis_trendi.png')\n",
        "plt.close()\n",
        "\n"
      ]
    },
    {
      "cell_type": "markdown",
      "metadata": {},
      "source": [
        "## 5. İleri Analiz Yöntemleri\n"
      ]
    },
    {
      "cell_type": "markdown",
      "metadata": {},
      "source": [
        "Pandas ile daha karmaşık analizler de yapabiliriz.\n"
      ]
    },
    {
      "cell_type": "code",
      "execution_count": null,
      "metadata": {},
      "outputs": [],
      "source": [
        "\n",
        "print(\"\\n--- İleri Analiz Yöntemleri ---\")\n",
        "\n"
      ]
    },
    {
      "cell_type": "markdown",
      "metadata": {},
      "source": [
        "Pivot tablolar\n"
      ]
    },
    {
      "cell_type": "code",
      "execution_count": null,
      "metadata": {},
      "outputs": [],
      "source": [
        "pivot = pd.pivot_table(df_clean, \n",
        "                     values='Satış',\n",
        "                     index='Ay',\n",
        "                     columns='Kategori',\n",
        "                     aggfunc='sum',\n",
        "                     fill_value=0)\n",
        "\n",
        "print(\"\\nAylara ve kategorilere göre satış pivot tablosu:\")\n",
        "print(pivot)\n",
        "\n"
      ]
    },
    {
      "cell_type": "markdown",
      "metadata": {},
      "source": [
        "Pivot tabloyu görselleştirme\n"
      ]
    },
    {
      "cell_type": "code",
      "execution_count": null,
      "metadata": {},
      "outputs": [],
      "source": [
        "plt.figure(figsize=(12, 8))\n",
        "sns.heatmap(pivot, annot=True, fmt='.0f', cmap='YlGnBu')\n",
        "plt.title('Aylara ve Kategorilere Göre Satış')\n",
        "plt.savefig('pivot_tablo.png')\n",
        "plt.close()\n",
        "\n"
      ]
    },
    {
      "cell_type": "markdown",
      "metadata": {},
      "source": [
        "Kategori ve ödeme tipine göre çapraz tablo\n"
      ]
    },
    {
      "cell_type": "code",
      "execution_count": null,
      "metadata": {},
      "outputs": [],
      "source": [
        "cross_tab = pd.crosstab(df_clean['Kategori'], df_clean['Ödeme_Tipi'], \n",
        "                        values=df_clean['Satış'], aggfunc='sum', normalize='index')\n",
        "\n",
        "print(\"\\nKategori ve ödeme tipine göre satış çapraz tablosu (yüzde):\")\n",
        "print(cross_tab)\n",
        "\n"
      ]
    },
    {
      "cell_type": "markdown",
      "metadata": {},
      "source": [
        "Satışların en yüksek olduğu müşteriler\n"
      ]
    },
    {
      "cell_type": "code",
      "execution_count": null,
      "metadata": {},
      "outputs": [],
      "source": [
        "top_customers = df_clean.groupby('Müşteri_ID').agg({\n",
        "    'Satış': 'sum',\n",
        "    'Miktar': 'sum',\n",
        "    'İade': 'sum'\n",
        "}).sort_values('Satış', ascending=False).head(10)\n",
        "\n",
        "print(\"\\nEn çok satış yapılan 10 müşteri:\")\n",
        "print(top_customers)\n",
        "\n"
      ]
    },
    {
      "cell_type": "markdown",
      "metadata": {},
      "source": [
        "Zamana göre büyüme analizi\n"
      ]
    },
    {
      "cell_type": "markdown",
      "metadata": {},
      "source": [
        "Aydan aya büyüme oranını hesaplama\n"
      ]
    },
    {
      "cell_type": "code",
      "execution_count": null,
      "metadata": {},
      "outputs": [],
      "source": [
        "aylık_satış_df = aylık_satış.reset_index()\n",
        "aylık_satış_df.columns = ['Tarih', 'Satış']\n",
        "aylık_satış_df['Önceki_Ay_Satış'] = aylık_satış_df['Satış'].shift(1)\n",
        "aylık_satış_df['Büyüme_Oranı'] = (aylık_satış_df['Satış'] - aylık_satış_df['Önceki_Ay_Satış']) / aylık_satış_df['Önceki_Ay_Satış'] * 100\n",
        "\n",
        "print(\"\\nAydan aya büyüme oranları:\")\n",
        "print(aylık_satış_df)\n",
        "\n"
      ]
    },
    {
      "cell_type": "markdown",
      "metadata": {},
      "source": [
        "## 6. Veri Görselleştirme\n"
      ]
    },
    {
      "cell_type": "markdown",
      "metadata": {},
      "source": [
        "Pandas, veri görselleştirme için matplotlib ve seaborn kütüphaneleri ile entegre çalışır.\n"
      ]
    },
    {
      "cell_type": "code",
      "execution_count": null,
      "metadata": {},
      "outputs": [],
      "source": [
        "\n",
        "print(\"\\n--- Veri Görselleştirme ---\")\n",
        "\n"
      ]
    },
    {
      "cell_type": "markdown",
      "metadata": {},
      "source": [
        "Kategorilere göre toplam satış grafiği\n"
      ]
    },
    {
      "cell_type": "code",
      "execution_count": null,
      "metadata": {},
      "outputs": [],
      "source": [
        "plt.figure(figsize=(12, 6))\n",
        "kategori_satış = df_clean.groupby('Kategori')['Satış'].sum().sort_values(ascending=False)\n",
        "kategori_satış.plot(kind='bar', color='skyblue')\n",
        "plt.title('Kategorilere Göre Toplam Satış')\n",
        "plt.xlabel('Kategori')\n",
        "plt.ylabel('Toplam Satış')\n",
        "plt.xticks(rotation=45)\n",
        "plt.tight_layout()\n",
        "plt.savefig('kategori_satis.png')\n",
        "plt.close()\n",
        "\n"
      ]
    },
    {
      "cell_type": "markdown",
      "metadata": {},
      "source": [
        "Aylara göre satış trendi\n"
      ]
    },
    {
      "cell_type": "code",
      "execution_count": null,
      "metadata": {},
      "outputs": [],
      "source": [
        "plt.figure(figsize=(14, 7))\n",
        "ay_satış = df_clean.groupby('Ay')['Satış'].sum()\n",
        "ay_satış.plot(kind='line', marker='o', color='green', linewidth=2)\n",
        "plt.title('Aylara Göre Satış Trendi')\n",
        "plt.xlabel('Ay')\n",
        "plt.ylabel('Toplam Satış')\n",
        "plt.grid(True, linestyle='--', alpha=0.7)\n",
        "plt.savefig('ay_satis_trendi.png')\n",
        "plt.close()\n",
        "\n"
      ]
    },
    {
      "cell_type": "markdown",
      "metadata": {},
      "source": [
        "Ödeme tipine göre satış dağılımı\n"
      ]
    },
    {
      "cell_type": "code",
      "execution_count": null,
      "metadata": {},
      "outputs": [],
      "source": [
        "plt.figure(figsize=(10, 7))\n",
        "df_clean.groupby('Ödeme_Tipi')['Satış'].sum().plot(kind='pie', autopct='%1.1f%%', startangle=90, explode=[0.05, 0, 0])\n",
        "plt.title('Ödeme Tipine Göre Satış Dağılımı')\n",
        "plt.ylabel('')\n",
        "plt.savefig('odeme_tipi_dagilimi.png')\n",
        "plt.close()\n",
        "\n"
      ]
    },
    {
      "cell_type": "markdown",
      "metadata": {},
      "source": [
        "Miktar ve satış ilişkisi\n"
      ]
    },
    {
      "cell_type": "code",
      "execution_count": null,
      "metadata": {},
      "outputs": [],
      "source": [
        "plt.figure(figsize=(10, 6))\n",
        "sns.scatterplot(data=df_clean, x='Miktar', y='Satış', hue='Kategori', alpha=0.6)\n",
        "plt.title('Miktar ve Satış İlişkisi')\n",
        "plt.savefig('miktar_satis_iliskisi.png')\n",
        "plt.close()\n",
        "\n"
      ]
    },
    {
      "cell_type": "markdown",
      "metadata": {},
      "source": [
        "Kutu grafikleri ile kategorilere göre satış dağılımı\n"
      ]
    },
    {
      "cell_type": "code",
      "execution_count": null,
      "metadata": {},
      "outputs": [],
      "source": [
        "plt.figure(figsize=(12, 8))\n",
        "sns.boxplot(x='Kategori', y='Satış', data=df_clean)\n",
        "plt.title('Kategorilere Göre Satış Dağılımı')\n",
        "plt.savefig('kategori_satis_dagilimi.png')\n",
        "plt.close()\n",
        "\n"
      ]
    },
    {
      "cell_type": "markdown",
      "metadata": {},
      "source": [
        "Haftanın günlerine göre satış yoğunluğu\n"
      ]
    },
    {
      "cell_type": "code",
      "execution_count": null,
      "metadata": {},
      "outputs": [],
      "source": [
        "plt.figure(figsize=(12, 6))\n",
        "gun_sırası = ['Monday', 'Tuesday', 'Wednesday', 'Thursday', 'Friday', 'Saturday', 'Sunday']\n",
        "gun_satış = df_clean.groupby('Haftanın_Günü')['Satış'].mean()\n",
        "gun_satış = gun_satış.reindex(gun_sırası)\n",
        "sns.barplot(x=gun_satış.index, y=gun_satış.values, palette='viridis')\n",
        "plt.title('Haftanın Günlerine Göre Ortalama Satış')\n",
        "plt.xlabel('Haftanın Günü')\n",
        "plt.ylabel('Ortalama Satış')\n",
        "plt.xticks(rotation=45)\n",
        "plt.tight_layout()\n",
        "plt.savefig('gun_satis.png')\n",
        "plt.close()\n",
        "\n"
      ]
    },
    {
      "cell_type": "markdown",
      "metadata": {},
      "source": [
        "## 7. Sonuçlar ve Çıkarımlar\n"
      ]
    },
    {
      "cell_type": "markdown",
      "metadata": {},
      "source": [
        "Analizlerimizden çıkan bazı önemli bulgular:\n"
      ]
    },
    {
      "cell_type": "code",
      "execution_count": null,
      "metadata": {},
      "outputs": [],
      "source": [
        "\n",
        "print(\"\\n--- Sonuçlar ve Çıkarımlar ---\")\n",
        "\n"
      ]
    },
    {
      "cell_type": "markdown",
      "metadata": {},
      "source": [
        "En çok satış yapılan kategori\n"
      ]
    },
    {
      "cell_type": "code",
      "execution_count": null,
      "metadata": {},
      "outputs": [],
      "source": [
        "print(f\"\\nEn çok satış yapılan kategori: {kategori_satış.index[0]}, Toplam Satış: {kategori_satış.iloc[0]:.2f}\")\n",
        "\n"
      ]
    },
    {
      "cell_type": "markdown",
      "metadata": {},
      "source": [
        "En çok satış yapılan ay\n"
      ]
    },
    {
      "cell_type": "code",
      "execution_count": null,
      "metadata": {},
      "outputs": [],
      "source": [
        "print(f\"En çok satış yapılan ay: {ay_satış.idxmax()}, Toplam Satış: {ay_satış.max():.2f}\")\n",
        "\n"
      ]
    },
    {
      "cell_type": "markdown",
      "metadata": {},
      "source": [
        "En yüksek ortalama satış olan ödeme tipi\n"
      ]
    },
    {
      "cell_type": "code",
      "execution_count": null,
      "metadata": {},
      "outputs": [],
      "source": [
        "ortalama_odeme = df_clean.groupby('Ödeme_Tipi')['Satış'].mean()\n",
        "print(f\"En yüksek ortalama satış olan ödeme tipi: {ortalama_odeme.idxmax()}, Ortalama Satış: {ortalama_odeme.max():.2f}\")\n",
        "\n"
      ]
    },
    {
      "cell_type": "markdown",
      "metadata": {},
      "source": [
        "İade oranı en yüksek olan kategori\n"
      ]
    },
    {
      "cell_type": "code",
      "execution_count": null,
      "metadata": {},
      "outputs": [],
      "source": [
        "iade_oranı = df_clean.groupby('Kategori')['İade_Oranı'].mean()\n",
        "print(f\"İade oranı en yüksek olan kategori: {iade_oranı.idxmax()}, Ortalama İade Oranı: {iade_oranı.max():.2%}\")\n",
        "\n"
      ]
    },
    {
      "cell_type": "markdown",
      "metadata": {},
      "source": [
        "Satış miktarı ve toplam satış arasındaki korelasyon\n"
      ]
    },
    {
      "cell_type": "code",
      "execution_count": null,
      "metadata": {},
      "outputs": [],
      "source": [
        "print(f\"Satış miktarı ve toplam satış arasındaki korelasyon: {df_clean['Miktar'].corr(df_clean['Satış']):.2f}\")\n",
        "\n"
      ]
    },
    {
      "cell_type": "markdown",
      "metadata": {},
      "source": [
        "## Özet\n"
      ]
    },
    {
      "cell_type": "markdown",
      "metadata": {},
      "source": [
        "Bu bölümde Pandas ile veri analizi sürecini adım adım öğrendik:\n"
      ]
    },
    {
      "cell_type": "markdown",
      "metadata": {},
      "source": [
        "1. Veriyi anlama ve keşfetme\n"
      ]
    },
    {
      "cell_type": "markdown",
      "metadata": {},
      "source": [
        "2. Veriyi temizleme ve hazırlama\n"
      ]
    },
    {
      "cell_type": "markdown",
      "metadata": {},
      "source": [
        "3. Veriyi dönüştürme ve zenginleştirme\n"
      ]
    },
    {
      "cell_type": "markdown",
      "metadata": {},
      "source": [
        "4. İstatistiksel analiz ve modelleme\n"
      ]
    },
    {
      "cell_type": "markdown",
      "metadata": {},
      "source": [
        "5. Sonuçları yorumlama ve görselleştirme\n"
      ]
    },
    {
      "cell_type": "markdown",
      "metadata": {},
      "source": [
        "Pandas, veri analizi sürecinin her adımında kullanışlı araçlar sunar. Bu örnekte gördüğümüz gibi, ham verileri alıp anlamlı sonuçlar ve görselleştirmeler elde edebilir, böylece veri odaklı kararlar verebiliriz.\n"
      ]
    },
    {
      "cell_type": "markdown",
      "metadata": {},
      "source": [
        "Veri analizi, özellikle iş dünyasında, pazarlamada, finansta ve bilimsel araştırmalarda kritik bir beceridir. Pandas kullanarak verileri analiz etme yeteneği, veri bilimciler, analistler ve araştırmacılar için vazgeçilmez bir araçtır. \n"
      ]
    }
  ],
  "metadata": {
    "kernelspec": {
      "display_name": "Python 3",
      "language": "python",
      "name": "python3"
    },
    "language_info": {
      "codemirror_mode": {
        "name": "ipython",
        "version": 3
      },
      "file_extension": ".py",
      "mimetype": "text/x-python",
      "name": "python",
      "nbconvert_exporter": "python",
      "pygments_lexer": "ipython3",
      "version": "3.8.8"
    }
  },
  "nbformat": 4,
  "nbformat_minor": 5
}
