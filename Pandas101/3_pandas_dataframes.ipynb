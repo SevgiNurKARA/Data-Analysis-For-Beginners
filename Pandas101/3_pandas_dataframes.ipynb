{
  "cells": [
    {
      "cell_type": "markdown",
      "metadata": {},
      "source": [
        "# 3_pandas_dataframes.py\n",
        "\n",
        "This notebook was automatically converted from a Python script."
      ]
    },
    {
      "cell_type": "markdown",
      "metadata": {},
      "source": [
        "# Pandas DataFrames\n"
      ]
    },
    {
      "cell_type": "markdown",
      "metadata": {},
      "source": [
        "DataFrame, Pandas'ın en temel ve en çok kullanılan veri yapısıdır. Bu bölümde DataFrame veri yapısını, özelliklerini ve temel işlemlerini inceleyeceğiz.\n"
      ]
    },
    {
      "cell_type": "markdown",
      "metadata": {},
      "source": [
        "## DataFrame Nedir?\n"
      ]
    },
    {
      "cell_type": "markdown",
      "metadata": {},
      "source": [
        "DataFrame, iki boyutlu, değiştirilebilir ve potansiyel olarak heterojen bir tablo veri yapısıdır. Satırlar ve sütunlar vardır:\n"
      ]
    },
    {
      "cell_type": "markdown",
      "metadata": {},
      "source": [
        "- Her sütun farklı bir veri tipi içerebilir (int, float, string, vb.)\n"
      ]
    },
    {
      "cell_type": "markdown",
      "metadata": {},
      "source": [
        "- Hem satırlar hem de sütunlar etiketlidir\n"
      ]
    },
    {
      "cell_type": "markdown",
      "metadata": {},
      "source": [
        "- Excel tablosu veya SQL tablosu benzeri bir yapıdır\n"
      ]
    },
    {
      "cell_type": "markdown",
      "metadata": {},
      "source": [
        "Gerekli kütüphaneleri import edelim\n"
      ]
    },
    {
      "cell_type": "code",
      "execution_count": null,
      "metadata": {},
      "outputs": [],
      "source": [
        "import pandas as pd\n",
        "import numpy as np\n",
        "\n"
      ]
    },
    {
      "cell_type": "markdown",
      "metadata": {},
      "source": [
        "## DataFrame Oluşturma\n"
      ]
    },
    {
      "cell_type": "markdown",
      "metadata": {},
      "source": [
        "Birkaç farklı yöntemle DataFrame oluşturalım:\n"
      ]
    },
    {
      "cell_type": "markdown",
      "metadata": {},
      "source": [
        "1. Sözlük (dictionary) kullanarak DataFrame oluşturma\n"
      ]
    },
    {
      "cell_type": "code",
      "execution_count": null,
      "metadata": {},
      "outputs": [],
      "source": [
        "data = {\n",
        "    'Ad': ['Ali', 'Ayşe', 'Mehmet', 'Zeynep', 'Ahmet'],\n",
        "    'Yaş': [25, 30, 35, 28, 42],\n",
        "    'Şehir': ['İstanbul', 'Ankara', 'İzmir', 'Bursa', 'Antalya'],\n",
        "    'Departman': ['IT', 'Pazarlama', 'İK', 'Finans', 'IT'],\n",
        "    'Maaş': [5000, 6000, 7500, 4500, 8000]\n",
        "}\n",
        "\n",
        "df = pd.DataFrame(data)\n",
        "print(\"Sözlük ile oluşturulan DataFrame:\")\n",
        "print(df)\n",
        "\n"
      ]
    },
    {
      "cell_type": "markdown",
      "metadata": {},
      "source": [
        "2. Sözlük listesi kullanarak DataFrame oluşturma\n"
      ]
    },
    {
      "cell_type": "code",
      "execution_count": null,
      "metadata": {},
      "outputs": [],
      "source": [
        "sozluk_listesi = [\n",
        "    {'Ad': 'Ali', 'Yaş': 25, 'Maaş': 5000},\n",
        "    {'Ad': 'Ayşe', 'Yaş': 30, 'Maaş': 6000},\n",
        "    {'Ad': 'Mehmet', 'Yaş': 35},  # Eksik değer\n",
        "    {'Ad': 'Zeynep', 'Maaş': 4500}  # Eksik değer\n",
        "]\n",
        "\n",
        "df2 = pd.DataFrame(sozluk_listesi)\n",
        "print(\"\\nSözlük listesi ile oluşturulan DataFrame:\")\n",
        "print(df2)\n",
        "\n"
      ]
    },
    {
      "cell_type": "markdown",
      "metadata": {},
      "source": [
        "3. NumPy dizisi kullanarak DataFrame oluşturma\n"
      ]
    },
    {
      "cell_type": "code",
      "execution_count": null,
      "metadata": {},
      "outputs": [],
      "source": [
        "array = np.random.randn(5, 4)  # 5 satır, 4 sütun random değerler\n",
        "df3 = pd.DataFrame(array, columns=['A', 'B', 'C', 'D'])\n",
        "print(\"\\nNumPy dizisi ile oluşturulan DataFrame:\")\n",
        "print(df3)\n",
        "\n"
      ]
    },
    {
      "cell_type": "markdown",
      "metadata": {},
      "source": [
        "4. Başka bir DataFrame'den oluşturma\n"
      ]
    },
    {
      "cell_type": "code",
      "execution_count": null,
      "metadata": {},
      "outputs": [],
      "source": [
        "df4 = pd.DataFrame(df[['Ad', 'Yaş']])\n",
        "print(\"\\nMevcut DataFrame'den yeni DataFrame oluşturma:\")\n",
        "print(df4)\n",
        "\n"
      ]
    },
    {
      "cell_type": "markdown",
      "metadata": {},
      "source": [
        "5. CSV dosyasından oluşturma (örnek olarak - dosya olmadığı için çalışmaz)\n"
      ]
    },
    {
      "cell_type": "markdown",
      "metadata": {},
      "source": [
        "df5 = pd.read_csv('ornek.csv')\n"
      ]
    },
    {
      "cell_type": "markdown",
      "metadata": {},
      "source": [
        "print(\"\\nCSV dosyasından oluşturulan DataFrame:\")\n"
      ]
    },
    {
      "cell_type": "markdown",
      "metadata": {},
      "source": [
        "print(df5)\n"
      ]
    },
    {
      "cell_type": "markdown",
      "metadata": {},
      "source": [
        "## DataFrame Özellikleri ve Bilgilerine Erişim\n"
      ]
    },
    {
      "cell_type": "markdown",
      "metadata": {},
      "source": [
        "DataFrame hakkında bilgi edinelim:\n"
      ]
    },
    {
      "cell_type": "code",
      "execution_count": null,
      "metadata": {},
      "outputs": [],
      "source": [
        "\n",
        "print(\"\\n--- DataFrame Özellikleri ---\")\n",
        "\n"
      ]
    },
    {
      "cell_type": "markdown",
      "metadata": {},
      "source": [
        "DataFrame boyutu\n"
      ]
    },
    {
      "cell_type": "code",
      "execution_count": null,
      "metadata": {},
      "outputs": [],
      "source": [
        "print(\"\\nDataFrame boyutu (satır, sütun):\", df.shape)\n",
        "\n"
      ]
    },
    {
      "cell_type": "markdown",
      "metadata": {},
      "source": [
        "DataFrame indeksleri\n"
      ]
    },
    {
      "cell_type": "code",
      "execution_count": null,
      "metadata": {},
      "outputs": [],
      "source": [
        "print(\"\\nDataFrame indeksleri:\", df.index.tolist())\n",
        "\n"
      ]
    },
    {
      "cell_type": "markdown",
      "metadata": {},
      "source": [
        "DataFrame sütunları\n"
      ]
    },
    {
      "cell_type": "code",
      "execution_count": null,
      "metadata": {},
      "outputs": [],
      "source": [
        "print(\"\\nDataFrame sütunları:\", df.columns.tolist())\n",
        "\n"
      ]
    },
    {
      "cell_type": "markdown",
      "metadata": {},
      "source": [
        "DataFrame değerleri (NumPy dizisi olarak)\n"
      ]
    },
    {
      "cell_type": "code",
      "execution_count": null,
      "metadata": {},
      "outputs": [],
      "source": [
        "print(\"\\nDataFrame değerleri (küçük bir kısmı):\")\n",
        "print(df.values[:2])  # Sadece ilk 2 satır\n",
        "\n"
      ]
    },
    {
      "cell_type": "markdown",
      "metadata": {},
      "source": [
        "DataFrame veri tipleri\n"
      ]
    },
    {
      "cell_type": "code",
      "execution_count": null,
      "metadata": {},
      "outputs": [],
      "source": [
        "print(\"\\nDataFrame veri tipleri:\")\n",
        "print(df.dtypes)\n",
        "\n"
      ]
    },
    {
      "cell_type": "markdown",
      "metadata": {},
      "source": [
        "DataFrame hakkında genel bilgi\n"
      ]
    },
    {
      "cell_type": "code",
      "execution_count": null,
      "metadata": {},
      "outputs": [],
      "source": [
        "print(\"\\nDataFrame hakkında genel bilgi:\")\n",
        "df.info()\n",
        "\n"
      ]
    },
    {
      "cell_type": "markdown",
      "metadata": {},
      "source": [
        "Temel istatistikler\n"
      ]
    },
    {
      "cell_type": "code",
      "execution_count": null,
      "metadata": {},
      "outputs": [],
      "source": [
        "print(\"\\nDataFrame istatistiksel özet:\")\n",
        "print(df.describe())\n",
        "\n"
      ]
    },
    {
      "cell_type": "markdown",
      "metadata": {},
      "source": [
        "## DataFrame'de Veri Seçme ve Filtreleme\n"
      ]
    },
    {
      "cell_type": "markdown",
      "metadata": {},
      "source": [
        "DataFrame'den veri seçme ve filtreleme yöntemlerini görelim:\n"
      ]
    },
    {
      "cell_type": "code",
      "execution_count": null,
      "metadata": {},
      "outputs": [],
      "source": [
        "\n",
        "print(\"\\n--- DataFrame'de Veri Seçme ve Filtreleme ---\")\n",
        "\n"
      ]
    },
    {
      "cell_type": "markdown",
      "metadata": {},
      "source": [
        "1. Tek bir sütunu seçme\n"
      ]
    },
    {
      "cell_type": "code",
      "execution_count": null,
      "metadata": {},
      "outputs": [],
      "source": [
        "print(\"\\nSadece 'Ad' sütunu:\")\n",
        "print(df['Ad'])\n",
        "\n"
      ]
    },
    {
      "cell_type": "markdown",
      "metadata": {},
      "source": [
        "2. Birden fazla sütunu seçme\n"
      ]
    },
    {
      "cell_type": "code",
      "execution_count": null,
      "metadata": {},
      "outputs": [],
      "source": [
        "print(\"\\n'Ad' ve 'Maaş' sütunları:\")\n",
        "print(df[['Ad', 'Maaş']])\n",
        "\n"
      ]
    },
    {
      "cell_type": "markdown",
      "metadata": {},
      "source": [
        "3. loc ile etiketlere göre veri seçme\n"
      ]
    },
    {
      "cell_type": "code",
      "execution_count": null,
      "metadata": {},
      "outputs": [],
      "source": [
        "print(\"\\nloc ile 0, 2, 4. satırlar:\")\n",
        "print(df.loc[[0, 2, 4]])\n",
        "\n",
        "print(\"\\nloc ile 1, 3. satırların 'Ad' ve 'Departman' sütunları:\")\n",
        "print(df.loc[[1, 3], ['Ad', 'Departman']])\n",
        "\n"
      ]
    },
    {
      "cell_type": "markdown",
      "metadata": {},
      "source": [
        "4. iloc ile konuma göre veri seçme\n"
      ]
    },
    {
      "cell_type": "code",
      "execution_count": null,
      "metadata": {},
      "outputs": [],
      "source": [
        "print(\"\\niloc ile ilk 2 satır:\")\n",
        "print(df.iloc[:2])\n",
        "\n",
        "print(\"\\niloc ile 2. satır ve 1, 3. sütunlar:\")\n",
        "print(df.iloc[2, [1, 3]])\n",
        "\n"
      ]
    },
    {
      "cell_type": "markdown",
      "metadata": {},
      "source": [
        "5. Koşullu filtreleme\n"
      ]
    },
    {
      "cell_type": "code",
      "execution_count": null,
      "metadata": {},
      "outputs": [],
      "source": [
        "print(\"\\nYaşı 30'dan büyük olanlar:\")\n",
        "print(df[df['Yaş'] > 30])\n",
        "\n",
        "print(\"\\nIT departmanında çalışanlar:\")\n",
        "print(df[df['Departman'] == 'IT'])\n",
        "\n",
        "print(\"\\nYaşı 30'dan büyük ve IT departmanında çalışanlar:\")\n",
        "print(df[(df['Yaş'] > 30) & (df['Departman'] == 'IT')])\n",
        "\n"
      ]
    },
    {
      "cell_type": "markdown",
      "metadata": {},
      "source": [
        "6. Benzersiz değerleri bulma\n"
      ]
    },
    {
      "cell_type": "code",
      "execution_count": null,
      "metadata": {},
      "outputs": [],
      "source": [
        "print(\"\\nDepartman sütunundaki benzersiz değerler:\", df['Departman'].unique())\n",
        "\n"
      ]
    },
    {
      "cell_type": "markdown",
      "metadata": {},
      "source": [
        "## DataFrame'de Veri Manipülasyonu\n"
      ]
    },
    {
      "cell_type": "markdown",
      "metadata": {},
      "source": [
        "DataFrame'deki verileri değiştirme ve manipüle etme yöntemlerini inceleyelim:\n"
      ]
    },
    {
      "cell_type": "code",
      "execution_count": null,
      "metadata": {},
      "outputs": [],
      "source": [
        "\n",
        "print(\"\\n--- DataFrame'de Veri Manipülasyonu ---\")\n",
        "\n"
      ]
    },
    {
      "cell_type": "markdown",
      "metadata": {},
      "source": [
        "DataFrame'in bir kopyasını oluşturalım\n"
      ]
    },
    {
      "cell_type": "code",
      "execution_count": null,
      "metadata": {},
      "outputs": [],
      "source": [
        "df_manipulasyon = df.copy()\n",
        "\n"
      ]
    },
    {
      "cell_type": "markdown",
      "metadata": {},
      "source": [
        "1. Yeni sütun ekleme\n"
      ]
    },
    {
      "cell_type": "code",
      "execution_count": null,
      "metadata": {},
      "outputs": [],
      "source": [
        "df_manipulasyon['Prim'] = [500, 600, 750, 450, 800]\n",
        "print(\"\\n'Prim' sütunu eklendi:\")\n",
        "print(df_manipulasyon)\n",
        "\n"
      ]
    },
    {
      "cell_type": "markdown",
      "metadata": {},
      "source": [
        "2. Hesaplanmış sütun ekleme\n"
      ]
    },
    {
      "cell_type": "code",
      "execution_count": null,
      "metadata": {},
      "outputs": [],
      "source": [
        "df_manipulasyon['Toplam Kazanç'] = df_manipulasyon['Maaş'] + df_manipulasyon['Prim']\n",
        "print(\"\\n'Toplam Kazanç' sütunu eklendi:\")\n",
        "print(df_manipulasyon)\n",
        "\n"
      ]
    },
    {
      "cell_type": "markdown",
      "metadata": {},
      "source": [
        "3. Sütun silme\n"
      ]
    },
    {
      "cell_type": "code",
      "execution_count": null,
      "metadata": {},
      "outputs": [],
      "source": [
        "df_manipulasyon = df_manipulasyon.drop('Prim', axis=1)\n",
        "print(\"\\n'Prim' sütunu silindi:\")\n",
        "print(df_manipulasyon)\n",
        "\n"
      ]
    },
    {
      "cell_type": "markdown",
      "metadata": {},
      "source": [
        "4. Satır silme\n"
      ]
    },
    {
      "cell_type": "code",
      "execution_count": null,
      "metadata": {},
      "outputs": [],
      "source": [
        "df_manipulasyon = df_manipulasyon.drop([1, 3], axis=0)\n",
        "print(\"\\n1. ve 3. satırlar silindi:\")\n",
        "print(df_manipulasyon)\n",
        "\n"
      ]
    },
    {
      "cell_type": "markdown",
      "metadata": {},
      "source": [
        "5. Sütunları yeniden adlandırma\n"
      ]
    },
    {
      "cell_type": "code",
      "execution_count": null,
      "metadata": {},
      "outputs": [],
      "source": [
        "df_manipulasyon = df_manipulasyon.rename(columns={'Yaş': 'Yas', 'Maaş': 'Maas'})\n",
        "print(\"\\nSütunlar yeniden adlandırıldı:\")\n",
        "print(df_manipulasyon)\n",
        "\n"
      ]
    },
    {
      "cell_type": "markdown",
      "metadata": {},
      "source": [
        "## Eksik Verileri İşleme\n"
      ]
    },
    {
      "cell_type": "markdown",
      "metadata": {},
      "source": [
        "DataFrame'deki eksik verileri işleme yöntemlerini görelim:\n"
      ]
    },
    {
      "cell_type": "code",
      "execution_count": null,
      "metadata": {},
      "outputs": [],
      "source": [
        "\n",
        "print(\"\\n--- Eksik Verileri İşleme ---\")\n",
        "\n"
      ]
    },
    {
      "cell_type": "markdown",
      "metadata": {},
      "source": [
        "Eksik değerler içeren DataFrame\n"
      ]
    },
    {
      "cell_type": "code",
      "execution_count": null,
      "metadata": {},
      "outputs": [],
      "source": [
        "eksik_data = {\n",
        "    'A': [1, 2, np.nan, 4, 5],\n",
        "    'B': [np.nan, 2, 3, 4, 5],\n",
        "    'C': [1, 2, 3, np.nan, np.nan]\n",
        "}\n",
        "\n",
        "df_eksik = pd.DataFrame(eksik_data)\n",
        "print(\"\\nEksik değerler içeren DataFrame:\")\n",
        "print(df_eksik)\n",
        "\n"
      ]
    },
    {
      "cell_type": "markdown",
      "metadata": {},
      "source": [
        "1. Eksik değerleri tespit etme\n"
      ]
    },
    {
      "cell_type": "code",
      "execution_count": null,
      "metadata": {},
      "outputs": [],
      "source": [
        "print(\"\\nEksik değerleri tespit etme:\")\n",
        "print(df_eksik.isnull())\n",
        "print(\"\\nSütunlardaki eksik değer sayısı:\")\n",
        "print(df_eksik.isnull().sum())\n",
        "\n"
      ]
    },
    {
      "cell_type": "markdown",
      "metadata": {},
      "source": [
        "2. Eksik değerleri doldurma\n"
      ]
    },
    {
      "cell_type": "markdown",
      "metadata": {},
      "source": [
        "2.1. Sabit değerle doldurma\n"
      ]
    },
    {
      "cell_type": "code",
      "execution_count": null,
      "metadata": {},
      "outputs": [],
      "source": [
        "df_eksik_sabit = df_eksik.fillna(0)\n",
        "print(\"\\nEksik değerler 0 ile dolduruldu:\")\n",
        "print(df_eksik_sabit)\n",
        "\n"
      ]
    },
    {
      "cell_type": "markdown",
      "metadata": {},
      "source": [
        "2.2. Sütun ortalaması ile doldurma\n"
      ]
    },
    {
      "cell_type": "code",
      "execution_count": null,
      "metadata": {},
      "outputs": [],
      "source": [
        "df_eksik_ortalama = df_eksik.fillna(df_eksik.mean())\n",
        "print(\"\\nEksik değerler sütun ortalamaları ile dolduruldu:\")\n",
        "print(df_eksik_ortalama)\n",
        "\n"
      ]
    },
    {
      "cell_type": "markdown",
      "metadata": {},
      "source": [
        "2.3. İleri veya geri yönlü doldurma\n"
      ]
    },
    {
      "cell_type": "code",
      "execution_count": null,
      "metadata": {},
      "outputs": [],
      "source": [
        "df_eksik_ffill = df_eksik.fillna(method='ffill')  # Forward fill\n",
        "print(\"\\nEksik değerler ileri yönlü dolduruldu:\")\n",
        "print(df_eksik_ffill)\n",
        "\n"
      ]
    },
    {
      "cell_type": "markdown",
      "metadata": {},
      "source": [
        "3. Eksik değer içeren satırları veya sütunları silme\n"
      ]
    },
    {
      "cell_type": "code",
      "execution_count": null,
      "metadata": {},
      "outputs": [],
      "source": [
        "df_eksik_dropna_satir = df_eksik.dropna()  # Eksik değer içeren tüm satırları sil\n",
        "print(\"\\nEksik değer içeren satırlar silindi:\")\n",
        "print(df_eksik_dropna_satir)\n",
        "\n",
        "df_eksik_dropna_sutun = df_eksik.dropna(axis=1)  # Eksik değer içeren tüm sütunları sil\n",
        "print(\"\\nEksik değer içeren sütunlar silindi:\")\n",
        "print(df_eksik_dropna_sutun)\n",
        "\n"
      ]
    },
    {
      "cell_type": "markdown",
      "metadata": {},
      "source": [
        "## Gruplama ve Agregasyon\n"
      ]
    },
    {
      "cell_type": "markdown",
      "metadata": {},
      "source": [
        "DataFrame'de gruplama ve agregasyon işlemlerini görelim:\n"
      ]
    },
    {
      "cell_type": "code",
      "execution_count": null,
      "metadata": {},
      "outputs": [],
      "source": [
        "\n",
        "print(\"\\n--- Gruplama ve Agregasyon ---\")\n",
        "\n"
      ]
    },
    {
      "cell_type": "markdown",
      "metadata": {},
      "source": [
        "Örnek veri\n"
      ]
    },
    {
      "cell_type": "code",
      "execution_count": null,
      "metadata": {},
      "outputs": [],
      "source": [
        "data_grup = {\n",
        "    'Kategori': ['A', 'B', 'A', 'C', 'B', 'A', 'C'],\n",
        "    'Değer1': [10, 20, 15, 30, 25, 5, 35],\n",
        "    'Değer2': [100, 200, 150, 300, 250, 50, 350]\n",
        "}\n",
        "\n",
        "df_grup = pd.DataFrame(data_grup)\n",
        "print(\"\\nGruplama için örnek DataFrame:\")\n",
        "print(df_grup)\n",
        "\n"
      ]
    },
    {
      "cell_type": "markdown",
      "metadata": {},
      "source": [
        "1. Kategoriye göre gruplama\n"
      ]
    },
    {
      "cell_type": "code",
      "execution_count": null,
      "metadata": {},
      "outputs": [],
      "source": [
        "grup = df_grup.groupby('Kategori')\n",
        "\n"
      ]
    },
    {
      "cell_type": "markdown",
      "metadata": {},
      "source": [
        "2. Gruplara göre toplamlama\n"
      ]
    },
    {
      "cell_type": "code",
      "execution_count": null,
      "metadata": {},
      "outputs": [],
      "source": [
        "print(\"\\nKategoriye göre toplam:\")\n",
        "print(grup.sum())\n",
        "\n"
      ]
    },
    {
      "cell_type": "markdown",
      "metadata": {},
      "source": [
        "3. Gruplara göre ortalama\n"
      ]
    },
    {
      "cell_type": "code",
      "execution_count": null,
      "metadata": {},
      "outputs": [],
      "source": [
        "print(\"\\nKategoriye göre ortalama:\")\n",
        "print(grup.mean())\n",
        "\n"
      ]
    },
    {
      "cell_type": "markdown",
      "metadata": {},
      "source": [
        "4. Gruplara göre birden fazla agregasyon\n"
      ]
    },
    {
      "cell_type": "code",
      "execution_count": null,
      "metadata": {},
      "outputs": [],
      "source": [
        "print(\"\\nKategoriye göre çoklu agregasyon:\")\n",
        "print(grup.agg(['sum', 'mean', 'min', 'max']))\n",
        "\n"
      ]
    },
    {
      "cell_type": "markdown",
      "metadata": {},
      "source": [
        "5. Farklı sütunlara farklı agregasyonlar uygulama\n"
      ]
    },
    {
      "cell_type": "code",
      "execution_count": null,
      "metadata": {},
      "outputs": [],
      "source": [
        "print(\"\\nFarklı sütunlara farklı agregasyonlar:\")\n",
        "print(grup.agg({'Değer1': 'sum', 'Değer2': 'mean'}))\n",
        "\n"
      ]
    },
    {
      "cell_type": "markdown",
      "metadata": {},
      "source": [
        "## Birleştirme ve Birleşim (Merge ve Join)\n"
      ]
    },
    {
      "cell_type": "markdown",
      "metadata": {},
      "source": [
        "DataFrame'leri birleştirme yöntemlerini görelim:\n"
      ]
    },
    {
      "cell_type": "code",
      "execution_count": null,
      "metadata": {},
      "outputs": [],
      "source": [
        "\n",
        "print(\"\\n--- Birleştirme ve Birleşim ---\")\n",
        "\n"
      ]
    },
    {
      "cell_type": "markdown",
      "metadata": {},
      "source": [
        "İki farklı DataFrame oluşturalım\n"
      ]
    },
    {
      "cell_type": "code",
      "execution_count": null,
      "metadata": {},
      "outputs": [],
      "source": [
        "df_sol = pd.DataFrame({\n",
        "    'ID': [1, 2, 3, 4, 5],\n",
        "    'Ad': ['Ali', 'Veli', 'Ayşe', 'Fatma', 'Mehmet'],\n",
        "    'Departman': ['IT', 'Pazarlama', 'İK', 'Finans', 'IT']\n",
        "})\n",
        "\n",
        "df_sag = pd.DataFrame({\n",
        "    'ID': [3, 4, 5, 6, 7],\n",
        "    'Maaş': [5000, 6000, 7000, 8000, 9000],\n",
        "    'Başlangıç': ['2018', '2019', '2017', '2020', '2016']\n",
        "})\n",
        "\n",
        "print(\"\\nSol DataFrame:\")\n",
        "print(df_sol)\n",
        "print(\"\\nSağ DataFrame:\")\n",
        "print(df_sag)\n",
        "\n"
      ]
    },
    {
      "cell_type": "markdown",
      "metadata": {},
      "source": [
        "1. İç birleşim (inner join)\n"
      ]
    },
    {
      "cell_type": "code",
      "execution_count": null,
      "metadata": {},
      "outputs": [],
      "source": [
        "df_ic = pd.merge(df_sol, df_sag, on='ID', how='inner')\n",
        "print(\"\\nİç birleşim (ID'ye göre):\")\n",
        "print(df_ic)\n",
        "\n"
      ]
    },
    {
      "cell_type": "markdown",
      "metadata": {},
      "source": [
        "2. Sol birleşim (left join)\n"
      ]
    },
    {
      "cell_type": "code",
      "execution_count": null,
      "metadata": {},
      "outputs": [],
      "source": [
        "df_sol_join = pd.merge(df_sol, df_sag, on='ID', how='left')\n",
        "print(\"\\nSol birleşim (ID'ye göre):\")\n",
        "print(df_sol_join)\n",
        "\n"
      ]
    },
    {
      "cell_type": "markdown",
      "metadata": {},
      "source": [
        "3. Sağ birleşim (right join)\n"
      ]
    },
    {
      "cell_type": "code",
      "execution_count": null,
      "metadata": {},
      "outputs": [],
      "source": [
        "df_sag_join = pd.merge(df_sol, df_sag, on='ID', how='right')\n",
        "print(\"\\nSağ birleşim (ID'ye göre):\")\n",
        "print(df_sag_join)\n",
        "\n"
      ]
    },
    {
      "cell_type": "markdown",
      "metadata": {},
      "source": [
        "4. Tam birleşim (full/outer join)\n"
      ]
    },
    {
      "cell_type": "code",
      "execution_count": null,
      "metadata": {},
      "outputs": [],
      "source": [
        "df_tam = pd.merge(df_sol, df_sag, on='ID', how='outer')\n",
        "print(\"\\nTam birleşim (ID'ye göre):\")\n",
        "print(df_tam)\n",
        "\n"
      ]
    },
    {
      "cell_type": "markdown",
      "metadata": {},
      "source": [
        "5. Concatenation (dikey birleştirme)\n"
      ]
    },
    {
      "cell_type": "code",
      "execution_count": null,
      "metadata": {},
      "outputs": [],
      "source": [
        "df_concat = pd.concat([df.iloc[:2], df.iloc[3:5]])\n",
        "print(\"\\nDikey birleştirme (concat):\")\n",
        "print(df_concat)\n",
        "\n"
      ]
    },
    {
      "cell_type": "markdown",
      "metadata": {},
      "source": [
        "## Pivot Tablolar\n"
      ]
    },
    {
      "cell_type": "markdown",
      "metadata": {},
      "source": [
        "Pivot tablo oluşturma örneklerini görelim:\n"
      ]
    },
    {
      "cell_type": "code",
      "execution_count": null,
      "metadata": {},
      "outputs": [],
      "source": [
        "\n",
        "print(\"\\n--- Pivot Tablolar ---\")\n",
        "\n"
      ]
    },
    {
      "cell_type": "markdown",
      "metadata": {},
      "source": [
        "Örnek veri\n"
      ]
    },
    {
      "cell_type": "code",
      "execution_count": null,
      "metadata": {},
      "outputs": [],
      "source": [
        "data_pivot = {\n",
        "    'Tarih': ['2023-01-01', '2023-01-01', '2023-01-02', '2023-01-02', '2023-01-03', '2023-01-03'],\n",
        "    'Kategori': ['A', 'B', 'A', 'B', 'A', 'B'],\n",
        "    'Değer': [100, 150, 200, 250, 300, 350]\n",
        "}\n",
        "\n",
        "df_pivot = pd.DataFrame(data_pivot)\n",
        "df_pivot['Tarih'] = pd.to_datetime(df_pivot['Tarih'])\n",
        "print(\"\\nPivot için örnek veri:\")\n",
        "print(df_pivot)\n",
        "\n"
      ]
    },
    {
      "cell_type": "markdown",
      "metadata": {},
      "source": [
        "Pivot tablo oluşturma\n"
      ]
    },
    {
      "cell_type": "code",
      "execution_count": null,
      "metadata": {},
      "outputs": [],
      "source": [
        "pivot = df_pivot.pivot(index='Tarih', columns='Kategori', values='Değer')\n",
        "print(\"\\nPivot tablo:\")\n",
        "print(pivot)\n",
        "\n"
      ]
    },
    {
      "cell_type": "markdown",
      "metadata": {},
      "source": [
        "## Özet ve İleri Konular\n"
      ]
    },
    {
      "cell_type": "markdown",
      "metadata": {},
      "source": [
        "DataFrame, pandas'ın en güçlü veri yapısıdır ve veri analizi için birçok fonksiyon sunar. Bu bölümde temel konuları ele aldık, ancak şu konular da ileri seviyede önemlidir:\n"
      ]
    },
    {
      "cell_type": "markdown",
      "metadata": {},
      "source": [
        "- Multiindex (çoklu indeks) kullanımı\n"
      ]
    },
    {
      "cell_type": "markdown",
      "metadata": {},
      "source": [
        "- Time Series (zaman serisi) verileriyle çalışma\n"
      ]
    },
    {
      "cell_type": "markdown",
      "metadata": {},
      "source": [
        "- apply(), map() ve applymap() fonksiyonları ile veri dönüşümleri\n"
      ]
    },
    {
      "cell_type": "markdown",
      "metadata": {},
      "source": [
        "- pandas ile veri görselleştirme\n"
      ]
    },
    {
      "cell_type": "markdown",
      "metadata": {},
      "source": [
        "- pandas ile doğrudan SQL sorguları çalıştırma\n"
      ]
    },
    {
      "cell_type": "markdown",
      "metadata": {},
      "source": [
        "- büyük veri kümeleri için verimli çalışma yöntemleri\n"
      ]
    },
    {
      "cell_type": "markdown",
      "metadata": {},
      "source": [
        "## Sonuç\n"
      ]
    },
    {
      "cell_type": "markdown",
      "metadata": {},
      "source": [
        "Bu bölümde pandas'ın temel veri yapısı olan DataFrame'i ve onunla ilgili temel işlemleri inceledik. DataFrame:\n"
      ]
    },
    {
      "cell_type": "markdown",
      "metadata": {},
      "source": [
        "- İki boyutlu, etiketli veri yapısıdır\n"
      ]
    },
    {
      "cell_type": "markdown",
      "metadata": {},
      "source": [
        "- Farklı veri tiplerini içerebilir\n"
      ]
    },
    {
      "cell_type": "markdown",
      "metadata": {},
      "source": [
        "- Veri seçme, filtreleme, manipülasyon, dönüştürme için güçlü araçlar sunar\n"
      ]
    },
    {
      "cell_type": "markdown",
      "metadata": {},
      "source": [
        "- Eksik veri işleme, gruplama, agregasyon ve birleştirme işlemlerini destekler\n"
      ]
    },
    {
      "cell_type": "markdown",
      "metadata": {},
      "source": [
        "- Veri analizi ve işleme süreçlerinde vazgeçilmezdir\n"
      ]
    },
    {
      "cell_type": "markdown",
      "metadata": {},
      "source": [
        "Bir sonraki bölümde, CSV ve JSON gibi dış kaynaklardan veri okuma ve bu kaynaklara veri yazma işlemlerini inceleyeceğiz. \n"
      ]
    }
  ],
  "metadata": {
    "kernelspec": {
      "display_name": "Python 3",
      "language": "python",
      "name": "python3"
    },
    "language_info": {
      "codemirror_mode": {
        "name": "ipython",
        "version": 3
      },
      "file_extension": ".py",
      "mimetype": "text/x-python",
      "name": "python",
      "nbconvert_exporter": "python",
      "pygments_lexer": "ipython3",
      "version": "3.8.8"
    }
  },
  "nbformat": 4,
  "nbformat_minor": 5
}
