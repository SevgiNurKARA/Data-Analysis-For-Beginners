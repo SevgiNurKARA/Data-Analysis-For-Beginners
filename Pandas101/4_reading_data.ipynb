{
  "cells": [
    {
      "cell_type": "markdown",
      "metadata": {},
      "source": [
        "# 4_reading_data.py\n",
        "\n",
        "This notebook was automatically converted from a Python script."
      ]
    },
    {
      "cell_type": "markdown",
      "metadata": {},
      "source": [
        "# Pandas ile Veri Okuma: CSV ve JSON\n"
      ]
    },
    {
      "cell_type": "markdown",
      "metadata": {},
      "source": [
        "Pandas, farklı formatlardaki verileri okumak ve yazmak için güçlü ve esnek fonksiyonlar sağlar. Bu bölümde, en yaygın kullanılan iki veri formatı olan CSV ve JSON dosyalarından veri okuma işlemlerini öğreneceğiz.\n"
      ]
    },
    {
      "cell_type": "markdown",
      "metadata": {},
      "source": [
        "## Veri Okumada Genel Prensipler\n"
      ]
    },
    {
      "cell_type": "markdown",
      "id": "7bdabdf2",
      "metadata": {},
      "source": [
        "Pandas ile veri okumanın genel yapısı şu şekildedir:\n"
      ]
    },
    {
      "cell_type": "markdown",
      "metadata": {},
      "source": [
        "1. İlgili `read_*` fonksiyonu çağrılır (örn: `read_csv`, `read_json`, `read_excel`)\n"
      ]
    },
    {
      "cell_type": "markdown",
      "metadata": {},
      "source": [
        "2. Gerekirse parameterler ile okuma işlemi özelleştirilir (ayraç, kodlama, vb.)\n"
      ]
    },
    {
      "cell_type": "markdown",
      "metadata": {},
      "source": [
        "3. Veriler bir DataFrame'e yüklenir\n"
      ]
    },
    {
      "cell_type": "markdown",
      "metadata": {},
      "source": [
        "4. Gerekirse yüklenen veri üzerinde temizleme ve dönüşüm işlemleri yapılır\n"
      ]
    },
    {
      "cell_type": "markdown",
      "metadata": {},
      "source": [
        "Gerekli kütüphaneleri import edelim\n"
      ]
    },
    {
      "cell_type": "code",
      "execution_count": null,
      "metadata": {},
      "outputs": [],
      "source": [
        "import pandas as pd\n",
        "import numpy as np\n",
        "import os\n",
        "\n"
      ]
    },
    {
      "cell_type": "markdown",
      "metadata": {},
      "source": [
        "## CSV Dosyalarından Veri Okuma\n"
      ]
    },
    {
      "cell_type": "markdown",
      "metadata": {},
      "source": [
        "CSV (Comma-Separated Values) dosyaları, verilerin virgülle (veya başka bir ayraçla) ayrıldığı düz metin dosyalarıdır. Pandas'ın `read_csv()` fonksiyonu bu dosyaları okumak için kullanılır.\n"
      ]
    },
    {
      "cell_type": "markdown",
      "metadata": {},
      "source": [
        "Örnek bir CSV dosyası oluşturalım\n"
      ]
    },
    {
      "cell_type": "code",
      "execution_count": null,
      "metadata": {},
      "outputs": [],
      "source": [
        "csv_data = '''Ad,Yaş,Şehir,Maaş\n",
        "Ali,25,İstanbul,5000\n",
        "Ayşe,30,Ankara,6000\n",
        "Mehmet,35,İzmir,7500\n",
        "Zeynep,28,Bursa,4500\n",
        "Ahmet,42,Antalya,8000\n",
        "'''\n",
        "\n",
        "with open('ornek.csv', 'w', encoding='utf-8') as f:\n",
        "    f.write(csv_data)\n",
        "\n"
      ]
    },
    {
      "cell_type": "markdown",
      "metadata": {},
      "source": [
        "### Temel CSV Okuma\n"
      ]
    },
    {
      "cell_type": "markdown",
      "metadata": {},
      "source": [
        "En basit haliyle CSV okuma\n"
      ]
    },
    {
      "cell_type": "code",
      "execution_count": null,
      "metadata": {},
      "outputs": [],
      "source": [
        "df_csv = pd.read_csv('ornek.csv')\n",
        "print(\"Temel CSV okuma:\")\n",
        "print(df_csv)\n",
        "\n"
      ]
    },
    {
      "cell_type": "markdown",
      "metadata": {},
      "source": [
        "### CSV Okuma Seçenekleri\n"
      ]
    },
    {
      "cell_type": "markdown",
      "metadata": {},
      "source": [
        "1. Farklı ayraç kullanma (noktalı virgül ile ayrılmış CSV)\n"
      ]
    },
    {
      "cell_type": "code",
      "execution_count": null,
      "metadata": {},
      "outputs": [],
      "source": [
        "csv_data_semicolon = '''Ad;Yaş;Şehir;Maaş\n",
        "Ali;25;İstanbul;5000\n",
        "Ayşe;30;Ankara;6000\n",
        "Mehmet;35;İzmir;7500\n",
        "Zeynep;28;Bursa;4500\n",
        "Ahmet;42;Antalya;8000\n",
        "'''\n",
        "\n",
        "with open('ornek_semicolon.csv', 'w', encoding='utf-8') as f:\n",
        "    f.write(csv_data_semicolon)\n",
        "\n",
        "df_csv_semicolon = pd.read_csv('ornek_semicolon.csv', sep=';')\n",
        "print(\"\\nNoktalı virgül ayraçlı CSV okuma:\")\n",
        "print(df_csv_semicolon)\n",
        "\n"
      ]
    },
    {
      "cell_type": "markdown",
      "metadata": {},
      "source": [
        "2. Belirli sütunları seçme\n"
      ]
    },
    {
      "cell_type": "code",
      "execution_count": null,
      "metadata": {},
      "outputs": [],
      "source": [
        "df_csv_cols = pd.read_csv('ornek.csv', usecols=['Ad', 'Maaş'])\n",
        "print(\"\\nSadece belirli sütunları okuma:\")\n",
        "print(df_csv_cols)\n",
        "\n"
      ]
    },
    {
      "cell_type": "markdown",
      "metadata": {},
      "source": [
        "3. Veri tiplerini belirleme\n"
      ]
    },
    {
      "cell_type": "code",
      "execution_count": null,
      "metadata": {},
      "outputs": [],
      "source": [
        "df_csv_dtypes = pd.read_csv('ornek.csv', dtype={'Yaş': str, 'Maaş': float})\n",
        "print(\"\\nVeri tiplerini belirleyerek okuma:\")\n",
        "print(df_csv_dtypes.dtypes)\n",
        "\n"
      ]
    },
    {
      "cell_type": "markdown",
      "metadata": {},
      "source": [
        "4. İlk satırı başlık olarak kullanmama\n"
      ]
    },
    {
      "cell_type": "code",
      "execution_count": null,
      "metadata": {},
      "outputs": [],
      "source": [
        "df_csv_no_header = pd.read_csv('ornek.csv', header=None)\n",
        "print(\"\\nBaşlıksız okuma:\")\n",
        "print(df_csv_no_header)\n",
        "\n"
      ]
    },
    {
      "cell_type": "markdown",
      "metadata": {},
      "source": [
        "5. Özel başlık isimleri atama\n"
      ]
    },
    {
      "cell_type": "code",
      "execution_count": null,
      "metadata": {},
      "outputs": [],
      "source": [
        "df_csv_names = pd.read_csv('ornek.csv', names=['İsim', 'Age', 'City', 'Salary'])\n",
        "print(\"\\nÖzel başlık isimleriyle okuma:\")\n",
        "print(df_csv_names)\n",
        "\n"
      ]
    },
    {
      "cell_type": "markdown",
      "metadata": {},
      "source": [
        "6. Satır indeksini belirli bir sütundan alma\n"
      ]
    },
    {
      "cell_type": "code",
      "execution_count": null,
      "metadata": {},
      "outputs": [],
      "source": [
        "df_csv_index = pd.read_csv('ornek.csv', index_col='Ad')\n",
        "print(\"\\nSütunu indeks olarak kullanma:\")\n",
        "print(df_csv_index)\n",
        "\n"
      ]
    },
    {
      "cell_type": "markdown",
      "metadata": {},
      "source": [
        "7. Belirli sayıda satır okuma\n"
      ]
    },
    {
      "cell_type": "code",
      "execution_count": null,
      "metadata": {},
      "outputs": [],
      "source": [
        "df_csv_nrows = pd.read_csv('ornek.csv', nrows=3)\n",
        "print(\"\\nSadece ilk 3 satırı okuma:\")\n",
        "print(df_csv_nrows)\n",
        "\n"
      ]
    },
    {
      "cell_type": "markdown",
      "metadata": {},
      "source": [
        "8. Eksik değerleri işleme\n"
      ]
    },
    {
      "cell_type": "code",
      "execution_count": null,
      "metadata": {},
      "outputs": [],
      "source": [
        "csv_data_missing = '''Ad,Yaş,Şehir,Maaş\n",
        "Ali,25,İstanbul,5000\n",
        "Ayşe,,Ankara,6000\n",
        "Mehmet,35,,7500\n",
        "Zeynep,28,Bursa,\n",
        ",42,Antalya,8000\n",
        "'''\n",
        "\n",
        "with open('ornek_missing.csv', 'w', encoding='utf-8') as f:\n",
        "    f.write(csv_data_missing)\n",
        "\n",
        "df_csv_missing = pd.read_csv('ornek_missing.csv')\n",
        "print(\"\\nEksik değerler ile CSV okuma:\")\n",
        "print(df_csv_missing)\n",
        "\n"
      ]
    },
    {
      "cell_type": "markdown",
      "metadata": {},
      "source": [
        "Eksik değerler için özel değerler atama\n"
      ]
    },
    {
      "cell_type": "code",
      "execution_count": null,
      "metadata": {},
      "outputs": [],
      "source": [
        "df_csv_na = pd.read_csv('ornek_missing.csv', na_values=['', 'NA', 'N/A'])\n",
        "print(\"\\nEksik değerleri belirleme:\")\n",
        "print(df_csv_na)\n",
        "\n"
      ]
    },
    {
      "cell_type": "markdown",
      "metadata": {},
      "source": [
        "9. Satır atlama\n"
      ]
    },
    {
      "cell_type": "code",
      "execution_count": null,
      "metadata": {},
      "outputs": [],
      "source": [
        "df_csv_skiprows = pd.read_csv('ornek.csv', skiprows=2)  # İlk 2 satırı atla\n",
        "print(\"\\nİlk 2 satırı atlayarak okuma:\")\n",
        "print(df_csv_skiprows)\n",
        "\n"
      ]
    },
    {
      "cell_type": "markdown",
      "metadata": {},
      "source": [
        "### Büyük CSV Dosyalarını Okuma\n"
      ]
    },
    {
      "cell_type": "markdown",
      "metadata": {},
      "source": [
        "Büyük CSV dosyalarını okumak için chunks kullanabiliriz.\n"
      ]
    },
    {
      "cell_type": "markdown",
      "metadata": {},
      "source": [
        "Büyük bir CSV dosyası simülasyonu\n"
      ]
    },
    {
      "cell_type": "code",
      "execution_count": null,
      "metadata": {},
      "outputs": [],
      "source": [
        "csv_data_large = \"Id,Value\\n\"\n",
        "for i in range(1000):\n",
        "    csv_data_large += f\"{i},{np.random.randint(1, 100)}\\n\"\n",
        "\n",
        "with open('large_data.csv', 'w') as f:\n",
        "    f.write(csv_data_large)\n",
        "\n"
      ]
    },
    {
      "cell_type": "markdown",
      "metadata": {},
      "source": [
        "Parça parça (chunks) okuma\n"
      ]
    },
    {
      "cell_type": "code",
      "execution_count": null,
      "metadata": {},
      "outputs": [],
      "source": [
        "chunk_size = 200\n",
        "chunks = pd.read_csv('large_data.csv', chunksize=chunk_size)\n",
        "\n"
      ]
    },
    {
      "cell_type": "markdown",
      "metadata": {},
      "source": [
        "Her bir parçayı işleme\n"
      ]
    },
    {
      "cell_type": "code",
      "execution_count": null,
      "metadata": {},
      "outputs": [],
      "source": [
        "results = []\n",
        "for i, chunk in enumerate(chunks):\n",
        "    # Örnek işlem: Her parçanın ortalamasını alma\n",
        "    avg = chunk['Value'].mean()\n",
        "    results.append(avg)\n",
        "    print(f\"Parça {i+1} ortalama değeri: {avg}\")\n",
        "\n",
        "print(\"\\nTüm parçaların ortalamaları:\", results)\n",
        "print(\"Genel ortalama:\", sum(results)/len(results))\n",
        "\n"
      ]
    },
    {
      "cell_type": "markdown",
      "metadata": {},
      "source": [
        "## JSON Dosyalarından Veri Okuma\n"
      ]
    },
    {
      "cell_type": "markdown",
      "metadata": {},
      "source": [
        "JSON (JavaScript Object Notation), yapılandırılmış verileri depolamak ve iletmek için yaygın olarak kullanılan bir formattır. Pandas'ın `read_json()` fonksiyonu bu dosyaları okumak için kullanılır.\n"
      ]
    },
    {
      "cell_type": "markdown",
      "metadata": {},
      "source": [
        "Örnek bir JSON dosyası oluşturalım\n"
      ]
    },
    {
      "cell_type": "code",
      "execution_count": null,
      "metadata": {},
      "outputs": [],
      "source": [
        "json_data = '''\n",
        "{\n",
        "  \"çalışanlar\": [\n",
        "    {\n",
        "      \"ad\": \"Ali\",\n",
        "      \"yaş\": 25,\n",
        "      \"şehir\": \"İstanbul\",\n",
        "      \"pozisyon\": \"Yazılım Geliştirici\",\n",
        "      \"maaş\": 5000\n",
        "    },\n",
        "    {\n",
        "      \"ad\": \"Ayşe\",\n",
        "      \"yaş\": 30,\n",
        "      \"şehir\": \"Ankara\",\n",
        "      \"pozisyon\": \"Veri Analisti\",\n",
        "      \"maaş\": 6000\n",
        "    },\n",
        "    {\n",
        "      \"ad\": \"Mehmet\",\n",
        "      \"yaş\": 35,\n",
        "      \"şehir\": \"İzmir\",\n",
        "      \"pozisyon\": \"Proje Yöneticisi\",\n",
        "      \"maaş\": 7500\n",
        "    }\n",
        "  ],\n",
        "  \"şirket\": {\n",
        "    \"isim\": \"Tech ABC\",\n",
        "    \"kuruluş\": 2010,\n",
        "    \"lokasyon\": \"İstanbul\"\n",
        "  }\n",
        "}\n",
        "'''\n",
        "\n",
        "with open('ornek.json', 'w', encoding='utf-8') as f:\n",
        "    f.write(json_data)\n",
        "\n"
      ]
    },
    {
      "cell_type": "markdown",
      "metadata": {},
      "source": [
        "### Temel JSON Okuma\n"
      ]
    },
    {
      "cell_type": "markdown",
      "metadata": {},
      "source": [
        "JSON dosyasını okuma\n"
      ]
    },
    {
      "cell_type": "code",
      "execution_count": null,
      "metadata": {},
      "outputs": [],
      "source": [
        "df_json = pd.read_json('ornek.json')\n",
        "print(\"\\nTemel JSON okuma:\")\n",
        "print(df_json)\n",
        "\n"
      ]
    },
    {
      "cell_type": "markdown",
      "metadata": {},
      "source": [
        "JSON içindeki belirli bir anahtarı okuma (normalleştirme)\n"
      ]
    },
    {
      "cell_type": "code",
      "execution_count": null,
      "metadata": {},
      "outputs": [],
      "source": [
        "df_json_normalized = pd.json_normalize(pd.read_json('ornek.json')['çalışanlar'])\n",
        "print(\"\\nJSON normalize kullanımı:\")\n",
        "print(df_json_normalized)\n",
        "\n"
      ]
    },
    {
      "cell_type": "markdown",
      "metadata": {},
      "source": [
        "### JSON Okuma Seçenekleri\n"
      ]
    },
    {
      "cell_type": "markdown",
      "metadata": {},
      "source": [
        "1. Orient parametresi ile farklı JSON yapılarını okuma\n"
      ]
    },
    {
      "cell_type": "code",
      "execution_count": null,
      "metadata": {},
      "outputs": [],
      "source": [
        "json_records = '''\n",
        "[\n",
        "  {\"ad\": \"Ali\", \"yaş\": 25, \"şehir\": \"İstanbul\"},\n",
        "  {\"ad\": \"Ayşe\", \"yaş\": 30, \"şehir\": \"Ankara\"},\n",
        "  {\"ad\": \"Mehmet\", \"yaş\": 35, \"şehir\": \"İzmir\"}\n",
        "]\n",
        "'''\n",
        "\n",
        "with open('records.json', 'w', encoding='utf-8') as f:\n",
        "    f.write(json_records)\n",
        "\n",
        "df_json_records = pd.read_json('records.json', orient='records')\n",
        "print(\"\\nRecords formatında JSON okuma:\")\n",
        "print(df_json_records)\n",
        "\n"
      ]
    },
    {
      "cell_type": "markdown",
      "metadata": {},
      "source": [
        "2. Split formatı (sütunlar ve veriler ayrı)\n"
      ]
    },
    {
      "cell_type": "code",
      "execution_count": null,
      "metadata": {},
      "outputs": [],
      "source": [
        "json_split = '''\n",
        "{\n",
        "  \"columns\": [\"ad\", \"yaş\", \"şehir\"],\n",
        "  \"data\": [\n",
        "    [\"Ali\", 25, \"İstanbul\"],\n",
        "    [\"Ayşe\", 30, \"Ankara\"],\n",
        "    [\"Mehmet\", 35, \"İzmir\"]\n",
        "  ]\n",
        "}\n",
        "'''\n",
        "\n",
        "with open('split.json', 'w', encoding='utf-8') as f:\n",
        "    f.write(json_split)\n",
        "\n",
        "df_json_split = pd.read_json('split.json', orient='split')\n",
        "print(\"\\nSplit formatında JSON okuma:\")\n",
        "print(df_json_split)\n",
        "\n"
      ]
    },
    {
      "cell_type": "markdown",
      "metadata": {},
      "source": [
        "3. Satırları indeks olarak kullanma\n"
      ]
    },
    {
      "cell_type": "code",
      "execution_count": null,
      "metadata": {},
      "outputs": [],
      "source": [
        "json_index = '''\n",
        "{\n",
        "  \"Ali\": {\"yaş\": 25, \"şehir\": \"İstanbul\"},\n",
        "  \"Ayşe\": {\"yaş\": 30, \"şehir\": \"Ankara\"},\n",
        "  \"Mehmet\": {\"yaş\": 35, \"şehir\": \"İzmir\"}\n",
        "}\n",
        "'''\n",
        "\n",
        "with open('index.json', 'w', encoding='utf-8') as f:\n",
        "    f.write(json_index)\n",
        "\n",
        "df_json_index = pd.read_json('index.json', orient='index')\n",
        "print(\"\\nIndex formatında JSON okuma:\")\n",
        "print(df_json_index)\n",
        "\n"
      ]
    },
    {
      "cell_type": "markdown",
      "metadata": {},
      "source": [
        "## URL'lerden Veri Okuma\n"
      ]
    },
    {
      "cell_type": "markdown",
      "metadata": {},
      "source": [
        "Pandas, internet üzerindeki CSV, JSON ve diğer veri dosyalarını doğrudan okuyabilir.\n"
      ]
    },
    {
      "cell_type": "markdown",
      "metadata": {},
      "source": [
        "Örnek URL'den CSV okuma (not: çalışabilirlik URL'e bağlıdır)\n"
      ]
    },
    {
      "cell_type": "code",
      "execution_count": null,
      "metadata": {},
      "outputs": [],
      "source": [
        "try:\n",
        "    url = \"https://raw.githubusercontent.com/pandas-dev/pandas/master/pandas/tests/data/iris.csv\"\n",
        "    df_url = pd.read_csv(url)\n",
        "    print(\"\\nURL'den CSV okuma:\")\n",
        "    print(df_url.head())\n",
        "except Exception as e:\n",
        "    print(f\"\\nURL'den okuma hatası: {e}\")\n",
        "\n"
      ]
    },
    {
      "cell_type": "markdown",
      "metadata": {},
      "source": [
        "## Diğer Veri Formatlarını Okuma\n"
      ]
    },
    {
      "cell_type": "markdown",
      "metadata": {},
      "source": [
        "Pandas ayrıca Excel, HTML, SQL, Parquet, HDF5 gibi birçok veri formatını da okuyabilir.\n"
      ]
    },
    {
      "cell_type": "markdown",
      "metadata": {},
      "source": [
        "Pandas'ın desteklediği diğer okuma fonksiyonları:\n"
      ]
    },
    {
      "cell_type": "code",
      "execution_count": null,
      "metadata": {},
      "outputs": [],
      "source": [
        "print(\"\\n--- Pandas'ın Desteklediği Diğer Okuma Fonksiyonları ---\")\n",
        "print(\"Excel: pd.read_excel()\")\n",
        "print(\"HTML: pd.read_html()\")\n",
        "print(\"SQL: pd.read_sql()\")\n",
        "print(\"Parquet: pd.read_parquet()\")\n",
        "print(\"HDF5: pd.read_hdf()\")\n",
        "print(\"Pickle: pd.read_pickle()\")\n",
        "print(\"SAS: pd.read_sas()\")\n",
        "print(\"SPSS: pd.read_spss()\")\n",
        "print(\"Stata: pd.read_stata()\")\n",
        "\n"
      ]
    },
    {
      "cell_type": "markdown",
      "metadata": {},
      "source": [
        "## Veri Yazmak (Kaydetmek)\n"
      ]
    },
    {
      "cell_type": "markdown",
      "metadata": {},
      "source": [
        "Pandas aynı zamanda DataFrames'leri çeşitli formatlara yazabilir.\n"
      ]
    },
    {
      "cell_type": "markdown",
      "metadata": {},
      "source": [
        "Veriyi CSV olarak kaydetme\n"
      ]
    },
    {
      "cell_type": "code",
      "execution_count": null,
      "metadata": {},
      "outputs": [],
      "source": [
        "df_csv.to_csv('exported.csv', index=False)\n",
        "print(\"\\nDataFrame CSV olarak kaydedildi: exported.csv\")\n",
        "\n"
      ]
    },
    {
      "cell_type": "markdown",
      "metadata": {},
      "source": [
        "Veriyi JSON olarak kaydetme\n"
      ]
    },
    {
      "cell_type": "code",
      "execution_count": null,
      "metadata": {},
      "outputs": [],
      "source": [
        "df_json_records.to_json('exported.json', orient='records')\n",
        "print(\"DataFrame JSON olarak kaydedildi: exported.json\")\n",
        "\n"
      ]
    },
    {
      "cell_type": "markdown",
      "metadata": {},
      "source": [
        "Veriyi Excel olarak kaydetme (openpyxl veya xlsxwriter kütüphanesi gerektirir)\n"
      ]
    },
    {
      "cell_type": "code",
      "execution_count": null,
      "metadata": {},
      "outputs": [],
      "source": [
        "try:\n",
        "    df_csv.to_excel('exported.xlsx', index=False)\n",
        "    print(\"DataFrame Excel olarak kaydedildi: exported.xlsx\")\n",
        "except ImportError:\n",
        "    print(\"Excel'e yazma için openpyxl veya xlsxwriter kütüphanesi gerekiyor.\")\n",
        "\n"
      ]
    },
    {
      "cell_type": "markdown",
      "metadata": {},
      "source": [
        "## Oluşturulan Dosyaları Temizleme\n"
      ]
    },
    {
      "cell_type": "markdown",
      "metadata": {},
      "source": [
        "Oluşturulan örnek dosyaları silelim\n"
      ]
    },
    {
      "cell_type": "code",
      "execution_count": null,
      "metadata": {},
      "outputs": [],
      "source": [
        "for file in ['ornek.csv', 'ornek_semicolon.csv', 'ornek_missing.csv', \n",
        "             'large_data.csv', 'ornek.json', 'records.json', 'split.json', \n",
        "             'index.json', 'exported.csv', 'exported.json']:\n",
        "    try:\n",
        "        os.remove(file)\n",
        "        print(f\"Dosya silindi: {file}\")\n",
        "    except:\n",
        "        pass\n",
        "\n",
        "try:\n",
        "    os.remove('exported.xlsx')\n",
        "    print(\"Dosya silindi: exported.xlsx\")\n",
        "except:\n",
        "    pass\n",
        "\n"
      ]
    },
    {
      "cell_type": "markdown",
      "metadata": {},
      "source": [
        "## Özet\n"
      ]
    },
    {
      "cell_type": "markdown",
      "metadata": {},
      "source": [
        "Bu bölümde pandas ile veri okuma ve yazma işlemlerini öğrendik:\n"
      ]
    },
    {
      "cell_type": "markdown",
      "metadata": {},
      "source": [
        "- CSV dosyalarını okuma ve yazma\n"
      ]
    },
    {
      "cell_type": "markdown",
      "metadata": {},
      "source": [
        "- JSON dosyalarını okuma ve yazma\n"
      ]
    },
    {
      "cell_type": "markdown",
      "metadata": {},
      "source": [
        "- URL'lerden veri okuma\n"
      ]
    },
    {
      "cell_type": "markdown",
      "metadata": {},
      "source": [
        "- Pandas'ın desteklediği diğer veri formatları\n"
      ]
    },
    {
      "cell_type": "markdown",
      "metadata": {},
      "source": [
        "- Veriyi farklı formatlarda kaydetme\n"
      ]
    },
    {
      "cell_type": "markdown",
      "metadata": {},
      "source": [
        "Pandas'ın esnek veri okuma ve yazma özellikleri, veri bilimi ve analizi projelerinde büyük bir kolaylık sağlar. Dosya formatı ne olursa olsun, Pandas sayesinde veriyi kolayca DataFrame'e dönüştürebilir ve işleyebilirsiniz.\n"
      ]
    },
    {
      "cell_type": "markdown",
      "metadata": {},
      "source": [
        "Bir sonraki bölümde, veri analizi tekniklerini ve yöntemlerini inceleyeceğiz. \n"
      ]
    }
  ],
  "metadata": {
    "kernelspec": {
      "display_name": "Python 3",
      "language": "python",
      "name": "python3"
    },
    "language_info": {
      "codemirror_mode": {
        "name": "ipython",
        "version": 3
      },
      "file_extension": ".py",
      "mimetype": "text/x-python",
      "name": "python",
      "nbconvert_exporter": "python",
      "pygments_lexer": "ipython3",
      "version": "3.8.8"
    }
  },
  "nbformat": 4,
  "nbformat_minor": 5
}
