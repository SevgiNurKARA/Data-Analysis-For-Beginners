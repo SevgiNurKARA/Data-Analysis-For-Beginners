{
  "cells": [
    {
      "cell_type": "markdown",
      "metadata": {},
      "source": [
        "# 2_pandas_series.py\n",
        "\n",
        "This notebook was automatically converted from a Python script."
      ]
    },
    {
      "cell_type": "markdown",
      "metadata": {},
      "source": [
        "# Pandas Series\n"
      ]
    },
    {
      "cell_type": "markdown",
      "metadata": {},
      "source": [
        "Series, Pandas kütüphanesinin temel veri yapılarından biridir. Bu bölümde Series veri yapısını, özelliklerini ve temel işlemleri öğreneceğiz.\n"
      ]
    },
    {
      "cell_type": "markdown",
      "metadata": {},
      "source": [
        "## Series Nedir?\n"
      ]
    },
    {
      "cell_type": "markdown",
      "metadata": {},
      "source": [
        "Series, tek boyutlu ve indekslenmiş bir veri yapısıdır. NumPy dizilerine benzer, ancak her değerin ilişkilendirildiği bir indeks değeri vardır. Bir Series, farklı veri tiplerini içerebilir (int, float, string, vb.).\n"
      ]
    },
    {
      "cell_type": "markdown",
      "metadata": {},
      "source": [
        "Gerekli kütüphaneleri import edelim\n"
      ]
    },
    {
      "cell_type": "code",
      "execution_count": null,
      "metadata": {},
      "outputs": [],
      "source": [
        "import pandas as pd\n",
        "import numpy as np\n",
        "\n"
      ]
    },
    {
      "cell_type": "markdown",
      "metadata": {},
      "source": [
        "## Series Oluşturma\n"
      ]
    },
    {
      "cell_type": "markdown",
      "metadata": {},
      "source": [
        "Birkaç farklı yöntemle Series oluşturalım:\n"
      ]
    },
    {
      "cell_type": "markdown",
      "metadata": {},
      "source": [
        "1. Liste kullanarak Series oluşturma\n"
      ]
    },
    {
      "cell_type": "code",
      "execution_count": null,
      "metadata": {},
      "outputs": [],
      "source": [
        "basit_seri = pd.Series([10, 20, 30, 40])\n",
        "print(\"Liste ile oluşturulan Series:\")\n",
        "print(basit_seri)\n",
        "\n"
      ]
    },
    {
      "cell_type": "markdown",
      "metadata": {},
      "source": [
        "2. Özel indekslerle Series oluşturma\n"
      ]
    },
    {
      "cell_type": "code",
      "execution_count": null,
      "metadata": {},
      "outputs": [],
      "source": [
        "indeksli_seri = pd.Series([10, 20, 30, 40], index=['a', 'b', 'c', 'd'])\n",
        "print(\"\\nÖzel indeksli Series:\")\n",
        "print(indeksli_seri)\n",
        "\n"
      ]
    },
    {
      "cell_type": "markdown",
      "metadata": {},
      "source": [
        "3. Sözlük (dictionary) kullanarak Series oluşturma\n"
      ]
    },
    {
      "cell_type": "code",
      "execution_count": null,
      "metadata": {},
      "outputs": [],
      "source": [
        "sozluk = {'istanbul': 16, 'ankara': 6, 'izmir': 4, 'bursa': 3}\n",
        "sehir_seri = pd.Series(sozluk)\n",
        "print(\"\\nSözlük ile oluşturulan Series:\")\n",
        "print(sehir_seri)\n",
        "\n"
      ]
    },
    {
      "cell_type": "markdown",
      "metadata": {},
      "source": [
        "4. Scalar değerle Series oluşturma\n"
      ]
    },
    {
      "cell_type": "code",
      "execution_count": null,
      "metadata": {},
      "outputs": [],
      "source": [
        "skaler_seri = pd.Series(5, index=['a', 'b', 'c'])\n",
        "print(\"\\nSkaler değerle oluşturulan Series:\")\n",
        "print(skaler_seri)\n",
        "\n"
      ]
    },
    {
      "cell_type": "markdown",
      "metadata": {},
      "source": [
        "5. NumPy dizisi ile Series oluşturma\n"
      ]
    },
    {
      "cell_type": "code",
      "execution_count": null,
      "metadata": {},
      "outputs": [],
      "source": [
        "numpy_seri = pd.Series(np.array([3, 6, 9, 12]))\n",
        "print(\"\\nNumPy dizisi ile oluşturulan Series:\")\n",
        "print(numpy_seri)\n",
        "\n"
      ]
    },
    {
      "cell_type": "markdown",
      "metadata": {},
      "source": [
        "## Series Özellikleri\n"
      ]
    },
    {
      "cell_type": "markdown",
      "metadata": {},
      "source": [
        "Series veri yapısının temel özelliklerini inceleyelim:\n"
      ]
    },
    {
      "cell_type": "markdown",
      "metadata": {},
      "source": [
        "Değerlere ve indekslere erişim\n"
      ]
    },
    {
      "cell_type": "code",
      "execution_count": null,
      "metadata": {},
      "outputs": [],
      "source": [
        "print(\"\\nSeries değerleri:\", indeksli_seri.values)\n",
        "print(\"Series indeksleri:\", indeksli_seri.index)\n",
        "\n"
      ]
    },
    {
      "cell_type": "markdown",
      "metadata": {},
      "source": [
        "Series boyutu\n"
      ]
    },
    {
      "cell_type": "code",
      "execution_count": null,
      "metadata": {},
      "outputs": [],
      "source": [
        "print(\"\\nSeries boyutu:\", len(indeksli_seri))\n",
        "\n"
      ]
    },
    {
      "cell_type": "markdown",
      "metadata": {},
      "source": [
        "Series veri tipi\n"
      ]
    },
    {
      "cell_type": "code",
      "execution_count": null,
      "metadata": {},
      "outputs": [],
      "source": [
        "print(\"Series veri tipi:\", indeksli_seri.dtype)\n",
        "\n"
      ]
    },
    {
      "cell_type": "markdown",
      "metadata": {},
      "source": [
        "Series ile ilgili istatistiksel bilgiler\n"
      ]
    },
    {
      "cell_type": "code",
      "execution_count": null,
      "metadata": {},
      "outputs": [],
      "source": [
        "print(\"\\nSeries istatistiksel bilgiler:\")\n",
        "print(\"Ortalama:\", indeksli_seri.mean())\n",
        "print(\"Minimum:\", indeksli_seri.min())\n",
        "print(\"Maksimum:\", indeksli_seri.max())\n",
        "print(\"Standart sapma:\", indeksli_seri.std())\n",
        "print(\"Özet istatistik:\", indeksli_seri.describe())\n",
        "\n"
      ]
    },
    {
      "cell_type": "markdown",
      "metadata": {},
      "source": [
        "## Series Erişim ve Dilimleme\n"
      ]
    },
    {
      "cell_type": "markdown",
      "metadata": {},
      "source": [
        "Series elemanlarına erişim ve dilimleme işlemleri:\n"
      ]
    },
    {
      "cell_type": "markdown",
      "metadata": {},
      "source": [
        "İndeks ile erişim\n"
      ]
    },
    {
      "cell_type": "code",
      "execution_count": null,
      "metadata": {},
      "outputs": [],
      "source": [
        "print(\"\\nİndeks ile erişim:\")\n",
        "print(\"'a' indeksli eleman:\", indeksli_seri['a'])\n",
        "print(\"'c' indeksli eleman:\", indeksli_seri['c'])\n",
        "\n"
      ]
    },
    {
      "cell_type": "markdown",
      "metadata": {},
      "source": [
        "Çoklu indeks ile erişim\n"
      ]
    },
    {
      "cell_type": "code",
      "execution_count": null,
      "metadata": {},
      "outputs": [],
      "source": [
        "print(\"\\nÇoklu indeks ile erişim:\")\n",
        "print(indeksli_seri[['a', 'c']])\n",
        "\n"
      ]
    },
    {
      "cell_type": "markdown",
      "metadata": {},
      "source": [
        "Pozisyon ile erişim\n"
      ]
    },
    {
      "cell_type": "code",
      "execution_count": null,
      "metadata": {},
      "outputs": [],
      "source": [
        "print(\"\\nPozisyon ile erişim:\")\n",
        "print(\"0. pozisyondaki eleman:\", indeksli_seri[0])\n",
        "print(\"2. pozisyondaki eleman:\", indeksli_seri[2])\n",
        "\n"
      ]
    },
    {
      "cell_type": "markdown",
      "metadata": {},
      "source": [
        "Dilimleme\n"
      ]
    },
    {
      "cell_type": "code",
      "execution_count": null,
      "metadata": {},
      "outputs": [],
      "source": [
        "print(\"\\nDilimleme:\")\n",
        "print(\"İlk 2 eleman:\", indeksli_seri[:2])\n",
        "print(\"Son 2 eleman:\", indeksli_seri[-2:])\n",
        "\n"
      ]
    },
    {
      "cell_type": "markdown",
      "metadata": {},
      "source": [
        "Boolean (koşullu) indeksleme\n"
      ]
    },
    {
      "cell_type": "code",
      "execution_count": null,
      "metadata": {},
      "outputs": [],
      "source": [
        "print(\"\\nBoolean indeksleme:\")\n",
        "print(\"20'den büyük elemanlar:\", indeksli_seri[indeksli_seri > 20])\n",
        "\n"
      ]
    },
    {
      "cell_type": "markdown",
      "metadata": {},
      "source": [
        "## Series İşlemleri\n"
      ]
    },
    {
      "cell_type": "markdown",
      "metadata": {},
      "source": [
        "Series üzerinde yapılabilecek temel işlemleri inceleyelim:\n"
      ]
    },
    {
      "cell_type": "markdown",
      "metadata": {},
      "source": [
        "Matematiksel işlemler\n"
      ]
    },
    {
      "cell_type": "code",
      "execution_count": null,
      "metadata": {},
      "outputs": [],
      "source": [
        "print(\"\\nMatematiksel işlemler:\")\n",
        "print(\"Series + 5:\", indeksli_seri + 5)\n",
        "print(\"Series * 2:\", indeksli_seri * 2)\n",
        "print(\"Series'in karesi:\", indeksli_seri ** 2)\n",
        "\n"
      ]
    },
    {
      "cell_type": "markdown",
      "metadata": {},
      "source": [
        "İki Series arasında işlemler\n"
      ]
    },
    {
      "cell_type": "code",
      "execution_count": null,
      "metadata": {},
      "outputs": [],
      "source": [
        "seri1 = pd.Series([1, 2, 3, 4], index=['a', 'b', 'c', 'd'])\n",
        "seri2 = pd.Series([10, 20, 30, 40], index=['a', 'b', 'c', 'd'])\n",
        "\n",
        "print(\"\\nİki Series arasında işlemler:\")\n",
        "print(\"Toplama:\", seri1 + seri2)\n",
        "print(\"Çıkarma:\", seri2 - seri1)\n",
        "print(\"Çarpma:\", seri1 * seri2)\n",
        "print(\"Bölme:\", seri2 / seri1)\n",
        "\n"
      ]
    },
    {
      "cell_type": "markdown",
      "metadata": {},
      "source": [
        "Farklı indekslere sahip Series'ler ile işlemler\n"
      ]
    },
    {
      "cell_type": "code",
      "execution_count": null,
      "metadata": {},
      "outputs": [],
      "source": [
        "seri3 = pd.Series([100, 200, 300], index=['a', 'e', 'c'])\n",
        "print(\"\\nFarklı indekslere sahip Series'ler ile işlemler:\")\n",
        "print(\"Toplama (otomatik hizalama):\", seri1 + seri3)\n",
        "\n"
      ]
    },
    {
      "cell_type": "markdown",
      "metadata": {},
      "source": [
        "## Series Fonksiyonları\n"
      ]
    },
    {
      "cell_type": "markdown",
      "metadata": {},
      "source": [
        "Series veri yapısının yararlı fonksiyonlarını inceleyelim:\n"
      ]
    },
    {
      "cell_type": "markdown",
      "metadata": {},
      "source": [
        "Elemanların benzersiz değerlerini bulma\n"
      ]
    },
    {
      "cell_type": "code",
      "execution_count": null,
      "metadata": {},
      "outputs": [],
      "source": [
        "seri4 = pd.Series([1, 2, 2, 3, 3, 3, 4, 4, 4, 4])\n",
        "print(\"\\nBenzersiz değerler:\", seri4.unique())\n",
        "print(\"Değer sayıları:\", seri4.value_counts())\n",
        "\n"
      ]
    },
    {
      "cell_type": "markdown",
      "metadata": {},
      "source": [
        "Eksik değerleri kontrol etme\n"
      ]
    },
    {
      "cell_type": "code",
      "execution_count": null,
      "metadata": {},
      "outputs": [],
      "source": [
        "seri5 = pd.Series([1, 2, np.nan, 4, 5, np.nan])\n",
        "print(\"\\nEksik değer kontrolü:\")\n",
        "print(\"Series:\", seri5)\n",
        "print(\"NaN kontrolü:\", seri5.isna())\n",
        "print(\"Eksik olmayan değer kontrolü:\", seri5.notna())\n",
        "print(\"Eksik değerleri doldurma:\", seri5.fillna(0))\n",
        "print(\"Eksik değerleri silme:\", seri5.dropna())\n",
        "\n"
      ]
    },
    {
      "cell_type": "markdown",
      "metadata": {},
      "source": [
        "Sıralama\n"
      ]
    },
    {
      "cell_type": "code",
      "execution_count": null,
      "metadata": {},
      "outputs": [],
      "source": [
        "seri6 = pd.Series([3, 1, 4, 2], index=['d', 'b', 'a', 'c'])\n",
        "print(\"\\nSıralama:\")\n",
        "print(\"Değere göre sıralama:\", seri6.sort_values())\n",
        "print(\"İndekse göre sıralama:\", seri6.sort_index())\n",
        "\n"
      ]
    },
    {
      "cell_type": "markdown",
      "metadata": {},
      "source": [
        "## Uygulama: Basit Veri Analizi\n"
      ]
    },
    {
      "cell_type": "markdown",
      "metadata": {},
      "source": [
        "Gerçek bir örnek üzerinde Series kullanımı:\n"
      ]
    },
    {
      "cell_type": "markdown",
      "metadata": {},
      "source": [
        "Yıllık sıcaklık verileri (Celsius)\n"
      ]
    },
    {
      "cell_type": "code",
      "execution_count": null,
      "metadata": {},
      "outputs": [],
      "source": [
        "temperatures = pd.Series({\n",
        "    'Ocak': 5.2,\n",
        "    'Şubat': 6.3,\n",
        "    'Mart': 10.8,\n",
        "    'Nisan': 15.3,\n",
        "    'Mayıs': 20.2,\n",
        "    'Haziran': 25.0,\n",
        "    'Temmuz': 28.5,\n",
        "    'Ağustos': 28.0,\n",
        "    'Eylül': 23.5,\n",
        "    'Ekim': 17.8,\n",
        "    'Kasım': 12.6,\n",
        "    'Aralık': 7.4\n",
        "})\n",
        "\n",
        "print(\"\\nAylık sıcaklık verileri:\")\n",
        "print(temperatures)\n",
        "\n"
      ]
    },
    {
      "cell_type": "markdown",
      "metadata": {},
      "source": [
        "Basit istatistikler\n"
      ]
    },
    {
      "cell_type": "code",
      "execution_count": null,
      "metadata": {},
      "outputs": [],
      "source": [
        "print(\"\\nYıllık ortalama sıcaklık:\", temperatures.mean())\n",
        "print(\"En soğuk ay:\", temperatures.idxmin(), \"ile\", temperatures.min(), \"derece\")\n",
        "print(\"En sıcak ay:\", temperatures.idxmax(), \"ile\", temperatures.max(), \"derece\")\n",
        "\n"
      ]
    },
    {
      "cell_type": "markdown",
      "metadata": {},
      "source": [
        "Mevsimsel analiz\n"
      ]
    },
    {
      "cell_type": "code",
      "execution_count": null,
      "metadata": {},
      "outputs": [],
      "source": [
        "yaz_sıcaklıkları = temperatures[['Haziran', 'Temmuz', 'Ağustos']]\n",
        "kış_sıcaklıkları = temperatures[['Aralık', 'Ocak', 'Şubat']]\n",
        "\n",
        "print(\"\\nYaz ayları ortalama sıcaklığı:\", yaz_sıcaklıkları.mean())\n",
        "print(\"Kış ayları ortalama sıcaklığı:\", kış_sıcaklıkları.mean())\n",
        "\n"
      ]
    },
    {
      "cell_type": "markdown",
      "metadata": {},
      "source": [
        "Sıcaklık filtresi\n"
      ]
    },
    {
      "cell_type": "code",
      "execution_count": null,
      "metadata": {},
      "outputs": [],
      "source": [
        "print(\"\\n20 dereceden yüksek sıcaklıklar:\")\n",
        "print(temperatures[temperatures > 20])\n",
        "\n"
      ]
    },
    {
      "cell_type": "markdown",
      "metadata": {},
      "source": [
        "## Özet\n"
      ]
    },
    {
      "cell_type": "markdown",
      "metadata": {},
      "source": [
        "Bu bölümde, pandas'ın Series veri yapısını ve temel özelliklerini öğrendik. Series:\n"
      ]
    },
    {
      "cell_type": "markdown",
      "metadata": {},
      "source": [
        "- 1 boyutlu, indekslenmiş bir veri yapısıdır\n"
      ]
    },
    {
      "cell_type": "markdown",
      "metadata": {},
      "source": [
        "- Farklı veri tiplerini içerebilir\n"
      ]
    },
    {
      "cell_type": "markdown",
      "metadata": {},
      "source": [
        "- Liste, sözlük ve NumPy dizileri ile oluşturulabilir\n"
      ]
    },
    {
      "cell_type": "markdown",
      "metadata": {},
      "source": [
        "- Matematiksel işlemler, indeksleme ve dilimleme destekler\n"
      ]
    },
    {
      "cell_type": "markdown",
      "metadata": {},
      "source": [
        "- Veri analizinde kullanışlı olan birçok yerleşik fonksiyon içerir\n"
      ]
    },
    {
      "cell_type": "markdown",
      "metadata": {},
      "source": [
        "Bir sonraki bölümde, iki boyutlu veri yapısı olan DataFrame'i inceleyeceğiz. \n"
      ]
    }
  ],
  "metadata": {
    "kernelspec": {
      "display_name": "Python 3",
      "language": "python",
      "name": "python3"
    },
    "language_info": {
      "codemirror_mode": {
        "name": "ipython",
        "version": 3
      },
      "file_extension": ".py",
      "mimetype": "text/x-python",
      "name": "python",
      "nbconvert_exporter": "python",
      "pygments_lexer": "ipython3",
      "version": "3.8.8"
    }
  },
  "nbformat": 4,
  "nbformat_minor": 5
}
