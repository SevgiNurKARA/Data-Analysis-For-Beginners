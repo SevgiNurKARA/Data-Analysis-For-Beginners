{
  "cells": [
    {
      "cell_type": "markdown",
      "metadata": {},
      "source": [
        "# integrate.py\n",
        "\n",
        "This notebook was automatically converted from a Python script."
      ]
    },
    {
      "cell_type": "markdown",
      "metadata": {},
      "source": [
        "# *SciPy İntegral Alma (scipy.integrate)*\n"
      ]
    },
    {
      "cell_type": "markdown",
      "metadata": {},
      "source": [
        "SciPy'ın integrate modülü, sayısal integrasyon (nümerik integral) ve diferansiyel denklemlerin çözümü için çeşitli yöntemler sunar. Bu modül, bilimsel ve mühendislik problemlerindeki integral işlemleri için önemli araçlar sağlar.\n"
      ]
    },
    {
      "cell_type": "markdown",
      "metadata": {},
      "source": [
        "Gerekli kütüphaneleri import edelim\n"
      ]
    },
    {
      "cell_type": "code",
      "execution_count": null,
      "metadata": {},
      "outputs": [],
      "source": [
        "import numpy as np\n",
        "from scipy import integrate\n",
        "import matplotlib.pyplot as plt\n",
        "\n"
      ]
    },
    {
      "cell_type": "markdown",
      "metadata": {},
      "source": [
        "## *1. Tek Değişkenli İntegrasyon*\n"
      ]
    },
    {
      "cell_type": "markdown",
      "metadata": {},
      "source": [
        "Tek değişkenli bir fonksiyonun belirli integrali, fonksiyonun bir aralık üzerindeki eğrisi ile x ekseni arasında kalan alanı verir.\n"
      ]
    },
    {
      "cell_type": "markdown",
      "metadata": {},
      "source": [
        "İntegral alınacak bir fonksiyon tanımlayalım\n"
      ]
    },
    {
      "cell_type": "code",
      "execution_count": null,
      "metadata": {},
      "outputs": [],
      "source": [
        "def f(x):\n",
        "    return np.sin(x)\n",
        "\n"
      ]
    },
    {
      "cell_type": "markdown",
      "metadata": {},
      "source": [
        "quad fonksiyonu ile sayısal integrasyon\n"
      ]
    },
    {
      "cell_type": "markdown",
      "metadata": {},
      "source": [
        "Sınırlar: 0'dan pi'ye kadar\n"
      ]
    },
    {
      "cell_type": "code",
      "execution_count": null,
      "metadata": {},
      "outputs": [],
      "source": [
        "result, error = integrate.quad(f, 0, np.pi)\n",
        "\n",
        "print(f\"∫sin(x)dx, x=0..π = {result} (hata tahmini: {error})\")\n",
        "print(f\"Gerçek değer = 2.0\")\n",
        "\n"
      ]
    },
    {
      "cell_type": "markdown",
      "metadata": {},
      "source": [
        "Grafikle gösterelim\n"
      ]
    },
    {
      "cell_type": "code",
      "execution_count": null,
      "metadata": {},
      "outputs": [],
      "source": [
        "x = np.linspace(0, np.pi, 100)\n",
        "y = f(x)\n",
        "\n",
        "plt.figure(figsize=(10, 6))\n",
        "plt.plot(x, y, 'b-', label='sin(x)')\n",
        "plt.fill_between(x, 0, y, alpha=0.3)\n",
        "plt.axhline(y=0, color='k', linestyle='-', alpha=0.3)\n",
        "plt.grid(True, alpha=0.3)\n",
        "plt.title('sin(x) fonksiyonunun 0 ile π arasındaki integrali')\n",
        "plt.xlabel('x')\n",
        "plt.ylabel('y')\n",
        "plt.legend()\n",
        "plt.show()\n",
        "\n"
      ]
    },
    {
      "cell_type": "markdown",
      "metadata": {},
      "source": [
        "### *1.1. Daha Karmaşık İntegraller*\n"
      ]
    },
    {
      "cell_type": "markdown",
      "metadata": {},
      "source": [
        "SciPy'ın integrate modülü, daha karmaşık integraller için de kullanılabilir.\n"
      ]
    },
    {
      "cell_type": "markdown",
      "metadata": {},
      "source": [
        "Gauss fonksiyonu\n"
      ]
    },
    {
      "cell_type": "code",
      "execution_count": null,
      "metadata": {},
      "outputs": [],
      "source": [
        "def gaussian(x, mu=0, sigma=1):\n",
        "    return 1/(sigma * np.sqrt(2 * np.pi)) * np.exp(-(x - mu)**2 / (2 * sigma**2))\n",
        "\n"
      ]
    },
    {
      "cell_type": "markdown",
      "metadata": {},
      "source": [
        "İntegrasyon parametreleri\n"
      ]
    },
    {
      "cell_type": "code",
      "execution_count": null,
      "metadata": {},
      "outputs": [],
      "source": [
        "mu, sigma = 0, 1  # Ortalama ve standart sapma\n",
        "lower_bound, upper_bound = -np.inf, np.inf  # Sonsuz sınırlar\n",
        "\n"
      ]
    },
    {
      "cell_type": "markdown",
      "metadata": {},
      "source": [
        "Sonsuz sınırlarla integrasyon\n"
      ]
    },
    {
      "cell_type": "code",
      "execution_count": null,
      "metadata": {},
      "outputs": [],
      "source": [
        "result, error = integrate.quad(gaussian, lower_bound, upper_bound, args=(mu, sigma))\n",
        "\n",
        "print(f\"∫gaussian(x)dx, x=-∞..∞ = {result} (hata tahmini: {error})\")\n",
        "print(f\"Beklenen değer = 1.0 (Olasılık yoğunluk fonksiyonu)\")\n",
        "\n"
      ]
    },
    {
      "cell_type": "markdown",
      "metadata": {},
      "source": [
        "Grafikle gösterelim\n"
      ]
    },
    {
      "cell_type": "code",
      "execution_count": null,
      "metadata": {},
      "outputs": [],
      "source": [
        "x = np.linspace(-4, 4, 1000)\n",
        "y = gaussian(x, mu, sigma)\n",
        "\n",
        "plt.figure(figsize=(10, 6))\n",
        "plt.plot(x, y, 'r-', label='Gaussian(x)')\n",
        "plt.fill_between(x, 0, y, alpha=0.3)\n",
        "plt.grid(True, alpha=0.3)\n",
        "plt.title('Gaussian fonksiyonunun integrali')\n",
        "plt.xlabel('x')\n",
        "plt.ylabel('Olasılık Yoğunluğu')\n",
        "plt.legend()\n",
        "plt.show()\n",
        "\n"
      ]
    },
    {
      "cell_type": "markdown",
      "metadata": {},
      "source": [
        "### *1.2. İmproper İntegraller*\n"
      ]
    },
    {
      "cell_type": "markdown",
      "metadata": {},
      "source": [
        "İmproper integraller, sonsuz sınırları olan veya integrandın belirli noktalarda tanımsız olduğu integrallerdir.\n"
      ]
    },
    {
      "cell_type": "markdown",
      "metadata": {},
      "source": [
        "İmproper integral örneği: ∫(1/sqrt(x))dx between 0 and 1\n"
      ]
    },
    {
      "cell_type": "code",
      "execution_count": null,
      "metadata": {},
      "outputs": [],
      "source": [
        "def improper_func(x):\n",
        "    return 1 / np.sqrt(x)\n",
        "\n"
      ]
    },
    {
      "cell_type": "markdown",
      "metadata": {},
      "source": [
        "0'da tanımsız bir fonksiyon, ama integral sonlu\n"
      ]
    },
    {
      "cell_type": "code",
      "execution_count": null,
      "metadata": {},
      "outputs": [],
      "source": [
        "result, error = integrate.quad(improper_func, 0, 1)\n",
        "\n",
        "print(f\"∫(1/sqrt(x))dx, x=0..1 = {result} (hata tahmini: {error})\")\n",
        "print(f\"Gerçek değer = 2.0\")\n",
        "\n"
      ]
    },
    {
      "cell_type": "markdown",
      "metadata": {},
      "source": [
        "Grafikle gösterelim\n"
      ]
    },
    {
      "cell_type": "code",
      "execution_count": null,
      "metadata": {},
      "outputs": [],
      "source": [
        "x = np.linspace(0.001, 1, 1000)  # 0'dan kaçınıyoruz\n",
        "y = improper_func(x)\n",
        "\n",
        "plt.figure(figsize=(10, 6))\n",
        "plt.plot(x, y, 'g-', label='1/sqrt(x)')\n",
        "plt.fill_between(x, 0, y, alpha=0.3)\n",
        "plt.grid(True, alpha=0.3)\n",
        "plt.title('1/sqrt(x) fonksiyonunun 0 ile 1 arasındaki integrali')\n",
        "plt.xlabel('x')\n",
        "plt.ylabel('y')\n",
        "plt.ylim(0, 20)  # y eksenini sınırlandıralım\n",
        "plt.legend()\n",
        "plt.show()\n",
        "\n"
      ]
    },
    {
      "cell_type": "markdown",
      "metadata": {},
      "source": [
        "## *2. Çok Değişkenli İntegrasyon*\n"
      ]
    },
    {
      "cell_type": "markdown",
      "metadata": {},
      "source": [
        "Çok değişkenli fonksiyonların integrali için SciPy farklı yöntemler sunar.\n"
      ]
    },
    {
      "cell_type": "markdown",
      "metadata": {},
      "source": [
        "İki değişkenli bir fonksiyon tanımlayalım\n"
      ]
    },
    {
      "cell_type": "code",
      "execution_count": null,
      "metadata": {},
      "outputs": [],
      "source": [
        "def f_2d(y, x):  # Dikkat: scipy.integrate.dblquad için ilk argüman y, ikincisi x\n",
        "    return np.sin(x) * np.cos(y)\n",
        "\n"
      ]
    },
    {
      "cell_type": "markdown",
      "metadata": {},
      "source": [
        "Çift katlı integral: ∫∫sin(x)cos(y)dxdy, x=[0,π], y=[0,π/2]\n"
      ]
    },
    {
      "cell_type": "code",
      "execution_count": null,
      "metadata": {},
      "outputs": [],
      "source": [
        "result, error = integrate.dblquad(f_2d, 0, np.pi, lambda x: 0, lambda x: np.pi/2)\n",
        "\n",
        "print(f\"∫∫sin(x)cos(y)dxdy, x=0..π, y=0..π/2 = {result} (hata tahmini: {error})\")\n",
        "print(f\"Gerçek değer = 1.0\")\n",
        "\n"
      ]
    },
    {
      "cell_type": "markdown",
      "metadata": {},
      "source": [
        "3D görselleştirme\n"
      ]
    },
    {
      "cell_type": "code",
      "execution_count": null,
      "metadata": {},
      "outputs": [],
      "source": [
        "x = np.linspace(0, np.pi, 30)\n",
        "y = np.linspace(0, np.pi/2, 30)\n",
        "X, Y = np.meshgrid(x, y)\n",
        "Z = np.sin(X) * np.cos(Y)\n",
        "\n",
        "fig = plt.figure(figsize=(12, 8))\n",
        "ax = fig.add_subplot(111, projection='3d')\n",
        "surf = ax.plot_surface(X, Y, Z, cmap='viridis', alpha=0.8)\n",
        "ax.set_xlabel('x')\n",
        "ax.set_ylabel('y')\n",
        "ax.set_zlabel('z = sin(x)cos(y)')\n",
        "ax.set_title('İki Değişkenli İntegral')\n",
        "plt.colorbar(surf, ax=ax, shrink=0.5, aspect=5)\n",
        "plt.show()\n",
        "\n"
      ]
    },
    {
      "cell_type": "markdown",
      "metadata": {},
      "source": [
        "### *2.1. Üç Değişkenli İntegrasyon*\n"
      ]
    },
    {
      "cell_type": "markdown",
      "metadata": {},
      "source": [
        "SciPy, üç değişkenli integrasyonu da destekler.\n"
      ]
    },
    {
      "cell_type": "markdown",
      "metadata": {},
      "source": [
        "Üç değişkenli bir fonksiyon tanımlayalım\n"
      ]
    },
    {
      "cell_type": "code",
      "execution_count": null,
      "metadata": {},
      "outputs": [],
      "source": [
        "def f_3d(z, y, x):  # Dikkat: scipy.integrate.tplquad için sıralama z, y, x\n",
        "    return np.sin(x) * np.cos(y) * np.exp(-z)\n",
        "\n"
      ]
    },
    {
      "cell_type": "markdown",
      "metadata": {},
      "source": [
        "Üçlü integral: ∫∫∫sin(x)cos(y)exp(-z)dxdydz, x=[0,π], y=[0,π/2], z=[0,1]\n"
      ]
    },
    {
      "cell_type": "code",
      "execution_count": null,
      "metadata": {},
      "outputs": [],
      "source": [
        "result, error = integrate.tplquad(f_3d, 0, np.pi, \n",
        "                                  lambda x: 0, lambda x: np.pi/2,\n",
        "                                  lambda x, y: 0, lambda x, y: 1)\n",
        "\n",
        "print(f\"∫∫∫sin(x)cos(y)exp(-z)dxdydz = {result} (hata tahmini: {error})\")\n",
        "print(f\"Gerçek değer = (1 - 1/e) ≈ {1 - 1/np.exp(1):.6f}\")\n",
        "\n"
      ]
    },
    {
      "cell_type": "markdown",
      "metadata": {},
      "source": [
        "## *3. Nümerik İntegrasyon Yöntemleri*\n"
      ]
    },
    {
      "cell_type": "markdown",
      "metadata": {},
      "source": [
        "SciPy, çeşitli nümerik integrasyon yöntemleri sunar.\n"
      ]
    },
    {
      "cell_type": "markdown",
      "metadata": {},
      "source": [
        "İntegral alınacak bir fonksiyon ve aralık tanımlayalım\n"
      ]
    },
    {
      "cell_type": "code",
      "execution_count": null,
      "metadata": {},
      "outputs": [],
      "source": [
        "def g(x):\n",
        "    return x**2 * np.exp(-x)\n",
        "\n",
        "a, b = 0, 5  # İntegral sınırları\n",
        "x = np.linspace(a, b, 100)\n",
        "y = g(x)\n",
        "\n"
      ]
    },
    {
      "cell_type": "markdown",
      "metadata": {},
      "source": [
        "Farklı nümerik integrasyon yöntemlerini karşılaştıralım\n"
      ]
    },
    {
      "cell_type": "code",
      "execution_count": null,
      "metadata": {},
      "outputs": [],
      "source": [
        "simpson_result = integrate.simps(y, x)\n",
        "trapz_result = integrate.trapz(y, x)\n",
        "romberg_result = integrate.romberg(g, a, b)\n",
        "quad_result, _ = integrate.quad(g, a, b)\n",
        "\n"
      ]
    },
    {
      "cell_type": "markdown",
      "metadata": {},
      "source": [
        "Analitik sonuç\n"
      ]
    },
    {
      "cell_type": "code",
      "execution_count": null,
      "metadata": {},
      "outputs": [],
      "source": [
        "def analytic_result(a, b):\n",
        "    # Integral of x^2 * exp(-x) = -exp(-x) * (x^2 + 2x + 2)\n",
        "    def F(x):\n",
        "        return -np.exp(-x) * (x**2 + 2*x + 2)\n",
        "    return F(b) - F(a)\n",
        "\n",
        "exact = analytic_result(a, b)\n",
        "\n",
        "print(\"Farklı yöntemlerle ∫x²e^(-x)dx, x=0..5:\")\n",
        "print(f\"Trapez Yöntemi    : {trapz_result:.10f}, Mutlak Hata: {abs(trapz_result - exact):.10f}\")\n",
        "print(f\"Simpson Yöntemi   : {simpson_result:.10f}, Mutlak Hata: {abs(simpson_result - exact):.10f}\")\n",
        "print(f\"Romberg Yöntemi   : {romberg_result:.10f}, Mutlak Hata: {abs(romberg_result - exact):.10f}\")\n",
        "print(f\"Quad Yöntemi      : {quad_result:.10f}, Mutlak Hata: {abs(quad_result - exact):.10f}\")\n",
        "print(f\"Analitik Sonuç    : {exact:.10f}\")\n",
        "\n"
      ]
    },
    {
      "cell_type": "markdown",
      "metadata": {},
      "source": [
        "Grafikle gösterelim\n"
      ]
    },
    {
      "cell_type": "code",
      "execution_count": null,
      "metadata": {},
      "outputs": [],
      "source": [
        "plt.figure(figsize=(10, 6))\n",
        "plt.plot(x, y, 'b-', label='x²e^(-x)')\n",
        "plt.fill_between(x, 0, y, alpha=0.3)\n",
        "plt.grid(True, alpha=0.3)\n",
        "plt.title('x²e^(-x) fonksiyonunun 0 ile 5 arasındaki integrali')\n",
        "plt.xlabel('x')\n",
        "plt.ylabel('y')\n",
        "plt.legend()\n",
        "plt.show()\n",
        "\n"
      ]
    },
    {
      "cell_type": "markdown",
      "metadata": {},
      "source": [
        "## *4. Diferansiyel Denklemlerin Çözümü*\n"
      ]
    },
    {
      "cell_type": "markdown",
      "metadata": {},
      "source": [
        "SciPy'ın integrate modülü, adi diferansiyel denklemlerin (ODE) çözümü için çeşitli yöntemler sunar.\n"
      ]
    },
    {
      "cell_type": "markdown",
      "metadata": {},
      "source": [
        "### *4.1. Basit ODE Çözümü*\n"
      ]
    },
    {
      "cell_type": "markdown",
      "metadata": {},
      "source": [
        "Önce basit bir diferansiyel denklem çözelim: dy/dt = -k*y\n"
      ]
    },
    {
      "cell_type": "markdown",
      "metadata": {},
      "source": [
        "Diferansiyel denklemin sağ tarafını tanımlayalım: dy/dt = -k*y\n"
      ]
    },
    {
      "cell_type": "code",
      "execution_count": null,
      "metadata": {},
      "outputs": [],
      "source": [
        "def exponential_decay(y, t, k):\n",
        "    \"\"\"Üstel azalma modeli: dy/dt = -k*y\"\"\"\n",
        "    return -k * y\n",
        "\n"
      ]
    },
    {
      "cell_type": "markdown",
      "metadata": {},
      "source": [
        "Parametre ve başlangıç değerleri\n"
      ]
    },
    {
      "cell_type": "code",
      "execution_count": null,
      "metadata": {},
      "outputs": [],
      "source": [
        "k = 0.3  # Bozunma sabiti\n",
        "y0 = 5.0  # Başlangıç değeri\n",
        "t = np.linspace(0, 10, 100)  # Zaman aralığı\n",
        "\n"
      ]
    },
    {
      "cell_type": "markdown",
      "metadata": {},
      "source": [
        "ODE çözümü\n"
      ]
    },
    {
      "cell_type": "code",
      "execution_count": null,
      "metadata": {},
      "outputs": [],
      "source": [
        "sol = integrate.solve_ivp(exponential_decay, [0, 10], [y0], args=(k,), t_eval=t)\n",
        "\n"
      ]
    },
    {
      "cell_type": "markdown",
      "metadata": {},
      "source": [
        "Analitik çözüm\n"
      ]
    },
    {
      "cell_type": "code",
      "execution_count": null,
      "metadata": {},
      "outputs": [],
      "source": [
        "y_analytic = y0 * np.exp(-k * t)\n",
        "\n"
      ]
    },
    {
      "cell_type": "markdown",
      "metadata": {},
      "source": [
        "Sonuçları görselleştirelim\n"
      ]
    },
    {
      "cell_type": "code",
      "execution_count": null,
      "metadata": {},
      "outputs": [],
      "source": [
        "plt.figure(figsize=(10, 6))\n",
        "plt.plot(sol.t, sol.y[0], 'b-', label='Nümerik Çözüm')\n",
        "plt.plot(t, y_analytic, 'r--', label='Analitik Çözüm: y = y0 * exp(-k*t)')\n",
        "plt.grid(True, alpha=0.3)\n",
        "plt.xlabel('Zaman (t)')\n",
        "plt.ylabel('y(t)')\n",
        "plt.title('Üstel Azalma: dy/dt = -k*y, y(0) = 5, k = 0.3')\n",
        "plt.legend()\n",
        "plt.show()\n",
        "\n"
      ]
    },
    {
      "cell_type": "markdown",
      "metadata": {},
      "source": [
        "### *4.2. Sistem ODE Çözümü - Lotka-Volterra (Avcı-Av) Modeli*\n"
      ]
    },
    {
      "cell_type": "markdown",
      "metadata": {},
      "source": [
        "Lotka-Volterra modeli, bir avcı-av ilişkisini tanımlayan iki diferansiyel denklemden oluşan bir sistemdir.\n"
      ]
    },
    {
      "cell_type": "markdown",
      "metadata": {},
      "source": [
        "Lotka-Volterra modelinin sağ tarafını tanımlayalım\n"
      ]
    },
    {
      "cell_type": "code",
      "execution_count": null,
      "metadata": {},
      "outputs": [],
      "source": [
        "def lotka_volterra(t, z, a, b, c, d):\n",
        "    \"\"\"\n",
        "    Lotka-Volterra (avcı-av) modeli:\n",
        "    dx/dt = a*x - b*x*y\n",
        "    dy/dt = -c*y + d*x*y\n",
        "    \n",
        "    Burada:\n",
        "    x: av (prey) popülasyonu\n",
        "    y: avcı (predator) popülasyonu\n",
        "    a, b, c, d: model parametreleri\n",
        "    \"\"\"\n",
        "    x, y = z\n",
        "    dx_dt = a * x - b * x * y\n",
        "    dy_dt = -c * y + d * x * y\n",
        "    return [dx_dt, dy_dt]\n",
        "\n"
      ]
    },
    {
      "cell_type": "markdown",
      "metadata": {},
      "source": [
        "Parametre ve başlangıç değerleri\n"
      ]
    },
    {
      "cell_type": "code",
      "execution_count": null,
      "metadata": {},
      "outputs": [],
      "source": [
        "a, b, c, d = 1.0, 0.1, 1.5, 0.075  # Model parametreleri\n",
        "z0 = [10.0, 5.0]  # Başlangıç değerleri: [x0, y0]\n",
        "t = np.linspace(0, 40, 1000)  # Zaman aralığı\n",
        "\n"
      ]
    },
    {
      "cell_type": "markdown",
      "metadata": {},
      "source": [
        "ODE sistemini çözelim\n"
      ]
    },
    {
      "cell_type": "code",
      "execution_count": null,
      "metadata": {},
      "outputs": [],
      "source": [
        "sol = integrate.solve_ivp(lotka_volterra, [0, 40], z0, args=(a, b, c, d), t_eval=t, method='RK45')\n",
        "\n"
      ]
    },
    {
      "cell_type": "markdown",
      "metadata": {},
      "source": [
        "Sonuçları görselleştirelim\n"
      ]
    },
    {
      "cell_type": "code",
      "execution_count": null,
      "metadata": {},
      "outputs": [],
      "source": [
        "plt.figure(figsize=(12, 10))\n",
        "\n"
      ]
    },
    {
      "cell_type": "markdown",
      "metadata": {},
      "source": [
        "Zaman serileri\n"
      ]
    },
    {
      "cell_type": "code",
      "execution_count": null,
      "metadata": {},
      "outputs": [],
      "source": [
        "plt.subplot(2, 1, 1)\n",
        "plt.plot(sol.t, sol.y[0], 'b-', label='Av (x)')\n",
        "plt.plot(sol.t, sol.y[1], 'r-', label='Avcı (y)')\n",
        "plt.grid(True, alpha=0.3)\n",
        "plt.xlabel('Zaman (t)')\n",
        "plt.ylabel('Popülasyon')\n",
        "plt.title('Lotka-Volterra Modeli: Zaman Serileri')\n",
        "plt.legend()\n",
        "\n"
      ]
    },
    {
      "cell_type": "markdown",
      "metadata": {},
      "source": [
        "Faz portresi\n"
      ]
    },
    {
      "cell_type": "code",
      "execution_count": null,
      "metadata": {},
      "outputs": [],
      "source": [
        "plt.subplot(2, 1, 2)\n",
        "plt.plot(sol.y[0], sol.y[1], 'g-')\n",
        "plt.plot(sol.y[0][0], sol.y[1][0], 'go', label='Başlangıç')  # Başlangıç noktası\n",
        "plt.grid(True, alpha=0.3)\n",
        "plt.xlabel('Av Popülasyonu (x)')\n",
        "plt.ylabel('Avcı Popülasyonu (y)')\n",
        "plt.title('Lotka-Volterra Modeli: Faz Portresi')\n",
        "plt.legend()\n",
        "\n",
        "plt.tight_layout()\n",
        "plt.show()\n",
        "\n"
      ]
    },
    {
      "cell_type": "markdown",
      "id": "1cffc31d",
      "metadata": {},
      "source": [
        "### *4.3. İkinci Dereceden ODE - Harmonik Salınıcı*\n"
      ]
    },
    {
      "cell_type": "markdown",
      "metadata": {},
      "source": [
        "İkinci dereceden diferansiyel denklemleri çözmek için, denklemi birinci dereceden iki denklem şeklinde yazabiliriz.\n"
      ]
    },
    {
      "cell_type": "markdown",
      "metadata": {},
      "source": [
        "Harmonik salınıcı modeli: d²x/dt² + ω²x = 0\n"
      ]
    },
    {
      "cell_type": "markdown",
      "metadata": {},
      "source": [
        "Birinci dereceden sistem olarak: \n"
      ]
    },
    {
      "cell_type": "markdown",
      "metadata": {},
      "source": [
        "dx/dt = v\n"
      ]
    },
    {
      "cell_type": "markdown",
      "metadata": {},
      "source": [
        "dv/dt = -ω²x\n"
      ]
    },
    {
      "cell_type": "code",
      "execution_count": null,
      "metadata": {},
      "outputs": [],
      "source": [
        "\n",
        "def harmonic_oscillator(t, z, omega):\n",
        "    \"\"\"\n",
        "    Harmonik salınıcı modeli:\n",
        "    d²x/dt² + ω²x = 0\n",
        "    \"\"\"\n",
        "    x, v = z\n",
        "    dx_dt = v\n",
        "    dv_dt = -omega**2 * x\n",
        "    return [dx_dt, dv_dt]\n",
        "\n"
      ]
    },
    {
      "cell_type": "markdown",
      "metadata": {},
      "source": [
        "Parametre ve başlangıç değerleri\n"
      ]
    },
    {
      "cell_type": "code",
      "execution_count": null,
      "metadata": {},
      "outputs": [],
      "source": [
        "omega = 2.0  # Açısal frekans\n",
        "z0 = [1.0, 0.0]  # Başlangıç değerleri: [x0, v0]\n",
        "t = np.linspace(0, 10, 1000)  # Zaman aralığı\n",
        "\n"
      ]
    },
    {
      "cell_type": "markdown",
      "metadata": {},
      "source": [
        "ODE sistemini çözelim\n"
      ]
    },
    {
      "cell_type": "code",
      "execution_count": null,
      "metadata": {},
      "outputs": [],
      "source": [
        "sol = integrate.solve_ivp(harmonic_oscillator, [0, 10], z0, args=(omega,), t_eval=t, method='RK45')\n",
        "\n"
      ]
    },
    {
      "cell_type": "markdown",
      "metadata": {},
      "source": [
        "Analitik çözüm\n"
      ]
    },
    {
      "cell_type": "code",
      "execution_count": null,
      "metadata": {},
      "outputs": [],
      "source": [
        "x_analytic = z0[0] * np.cos(omega * t)\n",
        "v_analytic = -z0[0] * omega * np.sin(omega * t)\n",
        "\n"
      ]
    },
    {
      "cell_type": "markdown",
      "metadata": {},
      "source": [
        "Sonuçları görselleştirelim\n"
      ]
    },
    {
      "cell_type": "code",
      "execution_count": null,
      "metadata": {},
      "outputs": [],
      "source": [
        "plt.figure(figsize=(12, 10))\n",
        "\n"
      ]
    },
    {
      "cell_type": "markdown",
      "metadata": {},
      "source": [
        "Konum-zaman grafiği\n"
      ]
    },
    {
      "cell_type": "code",
      "execution_count": null,
      "metadata": {},
      "outputs": [],
      "source": [
        "plt.subplot(3, 1, 1)\n",
        "plt.plot(sol.t, sol.y[0], 'b-', label='Nümerik Çözüm')\n",
        "plt.plot(t, x_analytic, 'r--', label='Analitik Çözüm: x = cos(ωt)')\n",
        "plt.grid(True, alpha=0.3)\n",
        "plt.xlabel('Zaman (t)')\n",
        "plt.ylabel('Konum (x)')\n",
        "plt.title('Harmonik Salınıcı: Konum vs Zaman')\n",
        "plt.legend()\n",
        "\n"
      ]
    },
    {
      "cell_type": "markdown",
      "metadata": {},
      "source": [
        "Hız-zaman grafiği\n"
      ]
    },
    {
      "cell_type": "code",
      "execution_count": null,
      "metadata": {},
      "outputs": [],
      "source": [
        "plt.subplot(3, 1, 2)\n",
        "plt.plot(sol.t, sol.y[1], 'g-', label='Nümerik Çözüm')\n",
        "plt.plot(t, v_analytic, 'm--', label='Analitik Çözüm: v = -ω*sin(ωt)')\n",
        "plt.grid(True, alpha=0.3)\n",
        "plt.xlabel('Zaman (t)')\n",
        "plt.ylabel('Hız (v)')\n",
        "plt.title('Harmonik Salınıcı: Hız vs Zaman')\n",
        "plt.legend()\n",
        "\n"
      ]
    },
    {
      "cell_type": "markdown",
      "metadata": {},
      "source": [
        "Faz portresi\n"
      ]
    },
    {
      "cell_type": "code",
      "execution_count": null,
      "metadata": {},
      "outputs": [],
      "source": [
        "plt.subplot(3, 1, 3)\n",
        "plt.plot(sol.y[0], sol.y[1], 'k-')\n",
        "plt.plot(sol.y[0][0], sol.y[1][0], 'ko', label='Başlangıç')  # Başlangıç noktası\n",
        "plt.grid(True, alpha=0.3)\n",
        "plt.xlabel('Konum (x)')\n",
        "plt.ylabel('Hız (v)')\n",
        "plt.title('Harmonik Salınıcı: Faz Portresi')\n",
        "plt.axis('equal')  # Daire şeklinde bir yörünge olmalı\n",
        "plt.legend()\n",
        "\n",
        "plt.tight_layout()\n",
        "plt.show()\n",
        "\n"
      ]
    },
    {
      "cell_type": "markdown",
      "metadata": {},
      "source": [
        "## *5. Adaptif İntegrasyon Kuralları*\n"
      ]
    },
    {
      "cell_type": "markdown",
      "metadata": {},
      "source": [
        "SciPy, düzensiz integraller için adaptif integrasyon yöntemleri sunar.\n"
      ]
    },
    {
      "cell_type": "markdown",
      "metadata": {},
      "source": [
        "Düzensiz bir fonksiyon tanımlayalım\n"
      ]
    },
    {
      "cell_type": "code",
      "execution_count": null,
      "metadata": {},
      "outputs": [],
      "source": [
        "def irregular_function(x):\n",
        "    \"\"\"Dar bir tepe içeren fonksiyon\"\"\"\n",
        "    return 1 / (1 + (10 * (x - 0.2))**2) + 1 / (1 + (100 * (x - 0.4))**2) + 1 / (1 + (1000 * (x - 0.6))**2)\n",
        "\n"
      ]
    },
    {
      "cell_type": "markdown",
      "metadata": {},
      "source": [
        "İntegrasyon için sınırlar\n"
      ]
    },
    {
      "cell_type": "code",
      "execution_count": null,
      "metadata": {},
      "outputs": [],
      "source": [
        "a, b = 0, 1\n",
        "\n"
      ]
    },
    {
      "cell_type": "markdown",
      "metadata": {},
      "source": [
        "Farklı yöntemlerle integrali hesaplayalım\n"
      ]
    },
    {
      "cell_type": "markdown",
      "metadata": {},
      "source": [
        "Not: Düşük nokta sayısıyla uniform örnekleme, keskin tepeler için sorun oluşturabilir\n"
      ]
    },
    {
      "cell_type": "code",
      "execution_count": null,
      "metadata": {},
      "outputs": [],
      "source": [
        "x_sparse = np.linspace(a, b, 50)\n",
        "y_sparse = irregular_function(x_sparse)\n",
        "trapz_result_sparse = integrate.trapz(y_sparse, x_sparse)\n",
        "\n"
      ]
    },
    {
      "cell_type": "markdown",
      "metadata": {},
      "source": [
        "Daha yoğun örnekleme\n"
      ]
    },
    {
      "cell_type": "code",
      "execution_count": null,
      "metadata": {},
      "outputs": [],
      "source": [
        "x_dense = np.linspace(a, b, 1000)\n",
        "y_dense = irregular_function(x_dense)\n",
        "trapz_result_dense = integrate.trapz(y_dense, x_dense)\n",
        "\n"
      ]
    },
    {
      "cell_type": "markdown",
      "metadata": {},
      "source": [
        "Adaptif quadrature\n"
      ]
    },
    {
      "cell_type": "code",
      "execution_count": null,
      "metadata": {},
      "outputs": [],
      "source": [
        "quad_result, quad_error = integrate.quad(irregular_function, a, b)\n",
        "\n",
        "print(\"Düzensiz fonksiyonun integrali:\")\n",
        "print(f\"Trapez (50 nokta)  : {trapz_result_sparse:.10f}\")\n",
        "print(f\"Trapez (1000 nokta): {trapz_result_dense:.10f}\")\n",
        "print(f\"Adaptive Quad      : {quad_result:.10f} (hata tahmini: {quad_error:.10e})\")\n",
        "\n"
      ]
    },
    {
      "cell_type": "markdown",
      "metadata": {},
      "source": [
        "Görselleştirme\n"
      ]
    },
    {
      "cell_type": "code",
      "execution_count": null,
      "metadata": {},
      "outputs": [],
      "source": [
        "plt.figure(figsize=(12, 8))\n",
        "\n"
      ]
    },
    {
      "cell_type": "markdown",
      "metadata": {},
      "source": [
        "Fonksiyon grafiği\n"
      ]
    },
    {
      "cell_type": "code",
      "execution_count": null,
      "metadata": {},
      "outputs": [],
      "source": [
        "plt.subplot(2, 1, 1)\n",
        "x_plot = np.linspace(a, b, 1000)\n",
        "y_plot = irregular_function(x_plot)\n",
        "plt.plot(x_plot, y_plot, 'b-', label='f(x)')\n",
        "plt.scatter(x_sparse, y_sparse, color='red', s=10, alpha=0.5, label='Seyrek Örnekleme (50 nokta)')\n",
        "plt.grid(True, alpha=0.3)\n",
        "plt.title('Düzensiz Fonksiyon ve Örnekleme Noktaları')\n",
        "plt.xlabel('x')\n",
        "plt.ylabel('f(x)')\n",
        "plt.legend()\n",
        "\n"
      ]
    },
    {
      "cell_type": "markdown",
      "metadata": {},
      "source": [
        "Lokal görünüm - tepe noktaları\n"
      ]
    },
    {
      "cell_type": "code",
      "execution_count": null,
      "metadata": {},
      "outputs": [],
      "source": [
        "plt.subplot(2, 1, 2)\n",
        "plt.plot(x_plot, y_plot, 'b-', label='f(x)')\n",
        "plt.scatter(x_sparse, y_sparse, color='red', s=10, alpha=0.5, label='Seyrek Örnekleme (50 nokta)')\n",
        "plt.grid(True, alpha=0.3)\n",
        "plt.title('Düzensiz Fonksiyon - Tepe Noktaları (Yakınlaştırılmış)')\n",
        "plt.xlabel('x')\n",
        "plt.ylabel('f(x)')\n",
        "plt.ylim(0, 10)  # Tepe noktalarını daha iyi görmek için\n",
        "plt.legend()\n",
        "\n",
        "plt.tight_layout()\n",
        "plt.show()\n",
        "\n"
      ]
    },
    {
      "cell_type": "markdown",
      "metadata": {},
      "source": [
        "## *Sonuç*\n"
      ]
    },
    {
      "cell_type": "markdown",
      "metadata": {},
      "source": [
        "SciPy'ın integrate modülü, sayısal integrasyon ve diferansiyel denklem çözümleri için güçlü araçlar sunar:\n"
      ]
    },
    {
      "cell_type": "markdown",
      "metadata": {},
      "source": [
        "1. Tek değişkenli ve çok değişkenli fonksiyonların sayısal integrasyonu\n"
      ]
    },
    {
      "cell_type": "markdown",
      "metadata": {},
      "source": [
        "2. Farklı nümerik integrasyon yöntemleri (trapez, Simpson, Romberg, vb.)\n"
      ]
    },
    {
      "cell_type": "markdown",
      "metadata": {},
      "source": [
        "3. Adaptif integrasyon yöntemleri\n"
      ]
    },
    {
      "cell_type": "markdown",
      "metadata": {},
      "source": [
        "4. Adi diferansiyel denklemlerin (ODE) çözümü\n"
      ]
    },
    {
      "cell_type": "markdown",
      "metadata": {},
      "source": [
        "5. Diferansiyel denklem sistemlerinin çözümü\n"
      ]
    },
    {
      "cell_type": "markdown",
      "metadata": {},
      "source": [
        "Bu araçlar, fizik, mühendislik, ekonomi ve diğer alanlardaki matematiksel modellerin analizi için temel yapı taşlarıdır. \n"
      ]
    }
  ],
  "metadata": {
    "kernelspec": {
      "display_name": "Python 3",
      "language": "python",
      "name": "python3"
    },
    "language_info": {
      "codemirror_mode": {
        "name": "ipython",
        "version": 3
      },
      "file_extension": ".py",
      "mimetype": "text/x-python",
      "name": "python",
      "nbconvert_exporter": "python",
      "pygments_lexer": "ipython3",
      "version": "3.8.8"
    }
  },
  "nbformat": 4,
  "nbformat_minor": 5
}
