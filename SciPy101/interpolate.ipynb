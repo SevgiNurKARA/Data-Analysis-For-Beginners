{
  "cells": [
    {
      "cell_type": "markdown",
      "metadata": {},
      "source": [
        "# interpolate.py\n",
        "\n",
        "This notebook was automatically converted from a Python script."
      ]
    },
    {
      "cell_type": "markdown",
      "metadata": {},
      "source": [
        "# *SciPy Interpolasyon (scipy.interpolate)*\n"
      ]
    },
    {
      "cell_type": "markdown",
      "metadata": {},
      "source": [
        "Interpolasyon, bilinen veri noktaları arasındaki değerleri tahmin etme işlemidir. SciPy'ın `interpolate` modülü, çeşitli interpolasyon yöntemleri sunarak veri noktaları arasındaki değerleri tahmin etmenize olanak tanır.\n"
      ]
    },
    {
      "cell_type": "markdown",
      "id": "50314520",
      "metadata": {},
      "source": [
        "Gerekli kütüphaneleri import edelim\n"
      ]
    },
    {
      "cell_type": "code",
      "execution_count": null,
      "metadata": {},
      "outputs": [],
      "source": [
        "import numpy as np\n",
        "import scipy.interpolate as interpolate\n",
        "import matplotlib.pyplot as plt\n",
        "\n"
      ]
    },
    {
      "cell_type": "markdown",
      "metadata": {},
      "source": [
        "## *1. Tek Boyutlu Interpolasyon*\n"
      ]
    },
    {
      "cell_type": "markdown",
      "metadata": {},
      "source": [
        "Tek boyutlu interpolasyon, bir değişkenin başka bir değişkene bağlı olarak nasıl değiştiğini tahmin etmek için kullanılır.\n"
      ]
    },
    {
      "cell_type": "markdown",
      "metadata": {},
      "source": [
        "Örnek veri noktaları oluşturalım\n"
      ]
    },
    {
      "cell_type": "code",
      "execution_count": null,
      "metadata": {},
      "outputs": [],
      "source": [
        "x = np.linspace(0, 10, 10)\n",
        "y = np.cos(x)\n",
        "\n"
      ]
    },
    {
      "cell_type": "markdown",
      "metadata": {},
      "source": [
        "Daha yoğun bir x grid'i oluşturalım (interpolasyon için)\n"
      ]
    },
    {
      "cell_type": "code",
      "execution_count": null,
      "metadata": {},
      "outputs": [],
      "source": [
        "x_new = np.linspace(0, 10, 100)\n",
        "\n"
      ]
    },
    {
      "cell_type": "markdown",
      "metadata": {},
      "source": [
        "### *1.1. Lineer Interpolasyon*\n"
      ]
    },
    {
      "cell_type": "markdown",
      "metadata": {},
      "source": [
        "En basit interpolasyon yöntemidir. İki nokta arasında düz bir çizgi çizer.\n"
      ]
    },
    {
      "cell_type": "markdown",
      "metadata": {},
      "source": [
        "Lineer interpolasyon\n"
      ]
    },
    {
      "cell_type": "code",
      "execution_count": null,
      "metadata": {},
      "outputs": [],
      "source": [
        "f_linear = interpolate.interp1d(x, y, kind='linear')\n",
        "y_linear = f_linear(x_new)\n",
        "\n",
        "plt.figure(figsize=(10, 6))\n",
        "plt.plot(x, y, 'o', label='Veri Noktaları')\n",
        "plt.plot(x_new, y_linear, '-', label='Lineer Interpolasyon')\n",
        "plt.legend()\n",
        "plt.title('Lineer Interpolasyon')\n",
        "plt.grid(True)\n",
        "plt.show()\n",
        "\n"
      ]
    },
    {
      "cell_type": "markdown",
      "metadata": {},
      "source": [
        "### *1.2. Kübik Spline Interpolasyon*\n"
      ]
    },
    {
      "cell_type": "markdown",
      "metadata": {},
      "source": [
        "Kübik spline interpolasyonu, daha pürüzsüz eğriler oluşturur ve genellikle daha doğru sonuçlar verir.\n"
      ]
    },
    {
      "cell_type": "code",
      "execution_count": null,
      "metadata": {},
      "outputs": [],
      "source": [
        "f_cubic = interpolate.interp1d(x, y, kind='cubic')\n",
        "y_cubic = f_cubic(x_new)\n",
        "\n",
        "plt.figure(figsize=(10, 6))\n",
        "plt.plot(x, y, 'o', label='Veri Noktaları')\n",
        "plt.plot(x_new, y_cubic, '-', label='Kübik Spline Interpolasyon')\n",
        "plt.legend()\n",
        "plt.title('Kübik Spline Interpolasyon')\n",
        "plt.grid(True)\n",
        "plt.show()\n",
        "\n"
      ]
    },
    {
      "cell_type": "markdown",
      "metadata": {},
      "source": [
        "### *1.3. Farklı Interpolasyon Yöntemlerinin Karşılaştırılması*\n"
      ]
    },
    {
      "cell_type": "markdown",
      "metadata": {},
      "source": [
        "Çeşitli interpolasyon yöntemlerini karşılaştıralım\n"
      ]
    },
    {
      "cell_type": "code",
      "execution_count": null,
      "metadata": {},
      "outputs": [],
      "source": [
        "interp_methods = ['linear', 'nearest', 'cubic', 'quadratic']\n",
        "plt.figure(figsize=(12, 8))\n",
        "\n",
        "for method in interp_methods:\n",
        "    f = interpolate.interp1d(x, y, kind=method)\n",
        "    y_interp = f(x_new)\n",
        "    plt.plot(x_new, y_interp, label=f'{method.capitalize()} Interpolasyon')\n",
        "\n",
        "plt.plot(x, y, 'o', label='Veri Noktaları')\n",
        "plt.legend()\n",
        "plt.title('Farklı Interpolasyon Yöntemlerinin Karşılaştırılması')\n",
        "plt.grid(True)\n",
        "plt.show()\n",
        "\n"
      ]
    },
    {
      "cell_type": "markdown",
      "metadata": {},
      "source": [
        "## *2. İki Boyutlu Interpolasyon*\n"
      ]
    },
    {
      "cell_type": "markdown",
      "metadata": {},
      "source": [
        "İki boyutlu interpolasyon, iki değişkene bağlı bir fonksiyonun değerlerini tahmin etmek için kullanılır.\n"
      ]
    },
    {
      "cell_type": "markdown",
      "metadata": {},
      "source": [
        "2D interpolasyon için örnek veri oluşturalım\n"
      ]
    },
    {
      "cell_type": "code",
      "execution_count": null,
      "metadata": {},
      "outputs": [],
      "source": [
        "x = np.linspace(-5, 5, 10)\n",
        "y = np.linspace(-5, 5, 10)\n",
        "X, Y = np.meshgrid(x, y)\n",
        "Z = np.sin(np.sqrt(X**2 + Y**2))\n",
        "\n"
      ]
    },
    {
      "cell_type": "markdown",
      "metadata": {},
      "source": [
        "Daha yoğun grid oluşturalım\n"
      ]
    },
    {
      "cell_type": "code",
      "execution_count": null,
      "metadata": {},
      "outputs": [],
      "source": [
        "x_new = np.linspace(-5, 5, 100)\n",
        "y_new = np.linspace(-5, 5, 100)\n",
        "X_new, Y_new = np.meshgrid(x_new, y_new)\n",
        "\n"
      ]
    },
    {
      "cell_type": "markdown",
      "metadata": {},
      "source": [
        "2D interpolasyon uygulayalım\n"
      ]
    },
    {
      "cell_type": "code",
      "execution_count": null,
      "metadata": {},
      "outputs": [],
      "source": [
        "f = interpolate.interp2d(x, y, Z, kind='cubic')\n",
        "Z_new = f(x_new, y_new)\n",
        "\n"
      ]
    },
    {
      "cell_type": "markdown",
      "metadata": {},
      "source": [
        "Sonuçları görselleştirelim\n"
      ]
    },
    {
      "cell_type": "code",
      "execution_count": null,
      "metadata": {},
      "outputs": [],
      "source": [
        "fig = plt.figure(figsize=(14, 6))\n",
        "\n"
      ]
    },
    {
      "cell_type": "markdown",
      "metadata": {},
      "source": [
        "Orijinal veri\n"
      ]
    },
    {
      "cell_type": "code",
      "execution_count": null,
      "metadata": {},
      "outputs": [],
      "source": [
        "ax1 = fig.add_subplot(121)\n",
        "c1 = ax1.contourf(X, Y, Z, 50, cmap='viridis')\n",
        "plt.colorbar(c1, ax=ax1)\n",
        "ax1.set_title('Orijinal Veri')\n",
        "ax1.set_xlabel('X')\n",
        "ax1.set_ylabel('Y')\n",
        "\n"
      ]
    },
    {
      "cell_type": "markdown",
      "metadata": {},
      "source": [
        "İnterpolasyon sonucu\n"
      ]
    },
    {
      "cell_type": "code",
      "execution_count": null,
      "metadata": {},
      "outputs": [],
      "source": [
        "ax2 = fig.add_subplot(122)\n",
        "c2 = ax2.contourf(X_new, Y_new, Z_new, 50, cmap='viridis')\n",
        "plt.colorbar(c2, ax=ax2)\n",
        "ax2.set_title('Kübik İnterpolasyon')\n",
        "ax2.set_xlabel('X')\n",
        "ax2.set_ylabel('Y')\n",
        "\n",
        "plt.tight_layout()\n",
        "plt.show()\n",
        "\n"
      ]
    },
    {
      "cell_type": "markdown",
      "metadata": {},
      "source": [
        "## *3. Radyal Temel Fonksiyon (RBF) İnterpolasyonu*\n"
      ]
    },
    {
      "cell_type": "markdown",
      "metadata": {},
      "source": [
        "RBF interpolasyonu, düzensiz aralıklı veri noktaları için kullanışlıdır.\n"
      ]
    },
    {
      "cell_type": "markdown",
      "metadata": {},
      "source": [
        "Düzensiz veri noktaları oluşturalım\n"
      ]
    },
    {
      "cell_type": "code",
      "execution_count": null,
      "metadata": {},
      "outputs": [],
      "source": [
        "np.random.seed(0)\n",
        "x_scatter = np.random.uniform(-5, 5, 30)\n",
        "y_scatter = np.random.uniform(-5, 5, 30)\n",
        "z_scatter = np.sin(np.sqrt(x_scatter**2 + y_scatter**2))\n",
        "\n"
      ]
    },
    {
      "cell_type": "markdown",
      "metadata": {},
      "source": [
        "RBF interpolasyonu\n"
      ]
    },
    {
      "cell_type": "code",
      "execution_count": null,
      "metadata": {},
      "outputs": [],
      "source": [
        "rbf = interpolate.Rbf(x_scatter, y_scatter, z_scatter, function='multiquadric')\n",
        "\n"
      ]
    },
    {
      "cell_type": "markdown",
      "metadata": {},
      "source": [
        "Düzenli grid üzerinde değerleri hesaplayalım\n"
      ]
    },
    {
      "cell_type": "code",
      "execution_count": null,
      "metadata": {},
      "outputs": [],
      "source": [
        "x_grid = np.linspace(-5, 5, 100)\n",
        "y_grid = np.linspace(-5, 5, 100)\n",
        "X_grid, Y_grid = np.meshgrid(x_grid, y_grid)\n",
        "Z_grid = rbf(X_grid, Y_grid)\n",
        "\n"
      ]
    },
    {
      "cell_type": "markdown",
      "metadata": {},
      "source": [
        "Sonuçları görselleştirelim\n"
      ]
    },
    {
      "cell_type": "code",
      "execution_count": null,
      "metadata": {},
      "outputs": [],
      "source": [
        "fig = plt.figure(figsize=(12, 6))\n",
        "\n"
      ]
    },
    {
      "cell_type": "markdown",
      "metadata": {},
      "source": [
        "Orijinal veri noktaları\n"
      ]
    },
    {
      "cell_type": "code",
      "execution_count": null,
      "metadata": {},
      "outputs": [],
      "source": [
        "ax1 = fig.add_subplot(121, projection='3d')\n",
        "ax1.scatter(x_scatter, y_scatter, z_scatter, c=z_scatter, cmap='viridis', s=50)\n",
        "ax1.set_title('Orijinal Veri Noktaları')\n",
        "ax1.set_xlabel('X')\n",
        "ax1.set_ylabel('Y')\n",
        "ax1.set_zlabel('Z')\n",
        "\n"
      ]
    },
    {
      "cell_type": "markdown",
      "metadata": {},
      "source": [
        "RBF interpolasyonu\n"
      ]
    },
    {
      "cell_type": "code",
      "execution_count": null,
      "metadata": {},
      "outputs": [],
      "source": [
        "ax2 = fig.add_subplot(122)\n",
        "c = ax2.contourf(X_grid, Y_grid, Z_grid, 50, cmap='viridis')\n",
        "plt.colorbar(c, ax=ax2)\n",
        "ax2.scatter(x_scatter, y_scatter, c=z_scatter, cmap='viridis', s=30, edgecolors='k')\n",
        "ax2.set_title('RBF İnterpolasyonu')\n",
        "ax2.set_xlabel('X')\n",
        "ax2.set_ylabel('Y')\n",
        "\n",
        "plt.tight_layout()\n",
        "plt.show()\n",
        "\n"
      ]
    },
    {
      "cell_type": "markdown",
      "id": "3a7e21cc",
      "metadata": {},
      "source": [
        "## *4. Spline Fitting (UnivariateSpline)*\n"
      ]
    },
    {
      "cell_type": "markdown",
      "metadata": {},
      "source": [
        "UnivariateSpline, veri noktalarına pürüzsüz bir eğri uydurarak interpolasyon yapar ve gürültülü verilerde düzgünleştirme sağlar.\n"
      ]
    },
    {
      "cell_type": "markdown",
      "metadata": {},
      "source": [
        "Gürültülü veri oluşturalım\n"
      ]
    },
    {
      "cell_type": "code",
      "execution_count": null,
      "metadata": {},
      "outputs": [],
      "source": [
        "np.random.seed(1)\n",
        "x = np.linspace(-3, 3, 50)\n",
        "y = np.exp(-x**2) + 0.1 * np.random.randn(50)\n",
        "\n"
      ]
    },
    {
      "cell_type": "markdown",
      "metadata": {},
      "source": [
        "UnivariateSpline kullanarak eğri uydurma\n"
      ]
    },
    {
      "cell_type": "markdown",
      "metadata": {},
      "source": [
        "s parametresi düzgünleştirme faktörüdür (s=0 tam interpolasyon demektir)\n"
      ]
    },
    {
      "cell_type": "code",
      "execution_count": null,
      "metadata": {},
      "outputs": [],
      "source": [
        "spl0 = interpolate.UnivariateSpline(x, y, s=0)\n",
        "spl1 = interpolate.UnivariateSpline(x, y, s=0.1)\n",
        "spl2 = interpolate.UnivariateSpline(x, y, s=1)\n",
        "\n",
        "x_new = np.linspace(-3, 3, 1000)\n",
        "y0 = spl0(x_new)\n",
        "y1 = spl1(x_new)\n",
        "y2 = spl2(x_new)\n",
        "\n",
        "plt.figure(figsize=(10, 6))\n",
        "plt.plot(x, y, 'o', label='Veri Noktaları')\n",
        "plt.plot(x_new, y0, '-', label='s=0 (Tam interpolasyon)')\n",
        "plt.plot(x_new, y1, '-', label='s=0.1 (Az düzgünleştirme)')\n",
        "plt.plot(x_new, y2, '-', label='s=1 (Fazla düzgünleştirme)')\n",
        "plt.legend()\n",
        "plt.title('UnivariateSpline ile Eğri Uydurma')\n",
        "plt.grid(True)\n",
        "plt.show()\n",
        "\n"
      ]
    },
    {
      "cell_type": "markdown",
      "metadata": {},
      "source": [
        "## *Sonuç*\n"
      ]
    },
    {
      "cell_type": "markdown",
      "metadata": {},
      "source": [
        "SciPy'ın interpolate modülü, çeşitli interpolasyon yöntemleri sunarak veri noktaları arasındaki değerleri tahmin etmenize olanak tanır. Farklı senaryolarda farklı interpolasyon yöntemleri kullanabilirsiniz:\n"
      ]
    },
    {
      "cell_type": "markdown",
      "metadata": {},
      "source": [
        "- Lineer interpolasyon: Basit ve hızlıdır, ancak pürüzsüz olmayan sonuçlar verebilir.\n"
      ]
    },
    {
      "cell_type": "markdown",
      "metadata": {},
      "source": [
        "- Kübik spline: Daha pürüzsüz sonuçlar verir ve genellikle bilimsel uygulamalarda tercih edilir.\n"
      ]
    },
    {
      "cell_type": "markdown",
      "metadata": {},
      "source": [
        "- RBF interpolasyonu: Düzensiz aralıklı veri noktaları için uygundur.\n"
      ]
    },
    {
      "cell_type": "markdown",
      "metadata": {},
      "source": [
        "- UnivariateSpline: Gürültülü verilerde düzgünleştirme sağlar.\n"
      ]
    },
    {
      "cell_type": "markdown",
      "metadata": {},
      "source": [
        "Kullanılacak yöntem, veri özelliklerine ve uygulama gereksinimlerine göre seçilmelidir. \n"
      ]
    }
  ],
  "metadata": {
    "kernelspec": {
      "display_name": "Python 3",
      "language": "python",
      "name": "python3"
    },
    "language_info": {
      "codemirror_mode": {
        "name": "ipython",
        "version": 3
      },
      "file_extension": ".py",
      "mimetype": "text/x-python",
      "name": "python",
      "nbconvert_exporter": "python",
      "pygments_lexer": "ipython3",
      "version": "3.8.8"
    }
  },
  "nbformat": 4,
  "nbformat_minor": 5
}
