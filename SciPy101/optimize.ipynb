{
  "cells": [
    {
      "cell_type": "markdown",
      "metadata": {},
      "source": [
        "# optimize.py\n",
        "\n",
        "This notebook was automatically converted from a Python script."
      ]
    },
    {
      "cell_type": "markdown",
      "metadata": {},
      "source": [
        "# *SciPy - Optimizasyon Modülü (scipy.optimize)*\n"
      ]
    },
    {
      "cell_type": "markdown",
      "metadata": {},
      "source": [
        "SciPy'ın `optimize` modülü, matematiksel fonksiyonları optimize etmek (minimum veya maksimum noktalarını bulmak) için çeşitli algoritmalar sunar. Bu modül sayesinde kök bulma, minimizasyon, eğri uydurma ve diğer optimizasyon problemlerini çözebilirsiniz.\n"
      ]
    },
    {
      "cell_type": "code",
      "execution_count": null,
      "metadata": {},
      "outputs": [],
      "source": [
        "import numpy as np\n",
        "import matplotlib.pyplot as plt\n",
        "from scipy import optimize\n",
        "\n"
      ]
    },
    {
      "cell_type": "markdown",
      "metadata": {},
      "source": [
        "Grafiklerin görünümünü ayarlama\n"
      ]
    },
    {
      "cell_type": "code",
      "execution_count": null,
      "metadata": {},
      "outputs": [],
      "source": [
        "plt.style.use('seaborn-v0_8-whitegrid')\n",
        "plt.rcParams[\"figure.figsize\"] = (12, 6)\n",
        "\n"
      ]
    },
    {
      "cell_type": "markdown",
      "metadata": {},
      "source": [
        "## *1. Kök Bulma (Root Finding)*\n"
      ]
    },
    {
      "cell_type": "markdown",
      "metadata": {},
      "source": [
        "Bir fonksiyonun kökü, fonksiyonun değerinin sıfır olduğu noktadır ($f(x) = 0$). SciPy, çeşitli kök bulma algoritmaları sunar.\n"
      ]
    },
    {
      "cell_type": "markdown",
      "metadata": {},
      "source": [
        "Köklerini bulmak istediğimiz fonksiyon\n"
      ]
    },
    {
      "cell_type": "code",
      "execution_count": null,
      "metadata": {},
      "outputs": [],
      "source": [
        "def f(x):\n",
        "    return x**3 - 2*x**2 - 11*x + 12\n",
        "\n"
      ]
    },
    {
      "cell_type": "markdown",
      "metadata": {},
      "source": [
        "Fonksiyonu görselleştirme\n"
      ]
    },
    {
      "cell_type": "code",
      "execution_count": null,
      "metadata": {},
      "outputs": [],
      "source": [
        "x = np.linspace(-5, 5, 1000)\n",
        "plt.figure(figsize=(10, 6))\n",
        "plt.plot(x, f(x))\n",
        "plt.axhline(y=0, color='r', linestyle='-', alpha=0.3)\n",
        "plt.grid(True)\n",
        "plt.title('f(x) = x³ - 2x² - 11x + 12')\n",
        "plt.xlabel('x')\n",
        "plt.ylabel('f(x)')\n",
        "plt.show()\n",
        "\n"
      ]
    },
    {
      "cell_type": "markdown",
      "metadata": {},
      "source": [
        "Farklı başlangıç noktalarından kök bulma\n"
      ]
    },
    {
      "cell_type": "code",
      "execution_count": null,
      "metadata": {},
      "outputs": [],
      "source": [
        "root1 = optimize.root_scalar(f, bracket=[-5, -2])\n",
        "root2 = optimize.root_scalar(f, bracket=[-1, 2])\n",
        "root3 = optimize.root_scalar(f, bracket=[2, 5])\n",
        "\n",
        "print(f\"Kök 1: {root1.root:.6f}, İterasyon: {root1.iterations}, Durum: {root1.converged}\")\n",
        "print(f\"Kök 2: {root2.root:.6f}, İterasyon: {root2.iterations}, Durum: {root2.converged}\")\n",
        "print(f\"Kök 3: {root3.root:.6f}, İterasyon: {root3.iterations}, Durum: {root3.converged}\")\n",
        "\n"
      ]
    },
    {
      "cell_type": "markdown",
      "metadata": {},
      "source": [
        "## *2. Fonksiyon Minimizasyonu*\n"
      ]
    },
    {
      "cell_type": "markdown",
      "metadata": {},
      "source": [
        "Optimizasyonun en yaygın uygulaması, bir fonksiyonun minimum değerini bulmaktır. SciPy birçok minimizasyon algoritması sunar.\n"
      ]
    },
    {
      "cell_type": "markdown",
      "metadata": {},
      "source": [
        "Minimize etmek istediğimiz fonksiyon\n"
      ]
    },
    {
      "cell_type": "code",
      "execution_count": null,
      "metadata": {},
      "outputs": [],
      "source": [
        "def g(x):\n",
        "    return x**2 + 10*np.sin(x)\n",
        "\n"
      ]
    },
    {
      "cell_type": "markdown",
      "metadata": {},
      "source": [
        "Fonksiyonu görselleştirme\n"
      ]
    },
    {
      "cell_type": "code",
      "execution_count": null,
      "metadata": {},
      "outputs": [],
      "source": [
        "x = np.linspace(-10, 10, 1000)\n",
        "plt.figure(figsize=(10, 6))\n",
        "plt.plot(x, g(x))\n",
        "plt.grid(True)\n",
        "plt.title('g(x) = x² + 10sin(x)')\n",
        "plt.xlabel('x')\n",
        "plt.ylabel('g(x)')\n",
        "plt.show()\n",
        "\n"
      ]
    },
    {
      "cell_type": "markdown",
      "metadata": {},
      "source": [
        "Minimize etme\n"
      ]
    },
    {
      "cell_type": "code",
      "execution_count": null,
      "metadata": {},
      "outputs": [],
      "source": [
        "result = optimize.minimize_scalar(g, method='brent')\n",
        "min_x = result.x\n",
        "min_y = result.fun\n",
        "\n",
        "print(f\"Global minimum: x = {min_x:.6f}, g(x) = {min_y:.6f}\")\n",
        "\n"
      ]
    },
    {
      "cell_type": "markdown",
      "metadata": {},
      "source": [
        "## *3. Çok Değişkenli Optimizasyon*\n"
      ]
    },
    {
      "cell_type": "markdown",
      "metadata": {},
      "source": [
        "Gerçek dünya problemleri genellikle birden fazla değişken içerir. SciPy'ın `minimize` fonksiyonu, çok değişkenli fonksiyonların optimizasyonu için kullanılır.\n"
      ]
    },
    {
      "cell_type": "markdown",
      "metadata": {},
      "source": [
        "Rosenbrock fonksiyonu - optimizasyon algoritmalarını test etmek için yaygın olarak kullanılır\n"
      ]
    },
    {
      "cell_type": "code",
      "execution_count": null,
      "metadata": {},
      "outputs": [],
      "source": [
        "def rosenbrock(x):\n",
        "    return 100 * (x[1] - x[0]**2)**2 + (1 - x[0])**2\n",
        "\n"
      ]
    },
    {
      "cell_type": "markdown",
      "metadata": {},
      "source": [
        "Başlangıç tahmini\n"
      ]
    },
    {
      "cell_type": "code",
      "execution_count": null,
      "metadata": {},
      "outputs": [],
      "source": [
        "x0 = np.array([-1.0, 1.0])\n",
        "\n"
      ]
    },
    {
      "cell_type": "markdown",
      "metadata": {},
      "source": [
        "Minimizasyon\n"
      ]
    },
    {
      "cell_type": "code",
      "execution_count": null,
      "metadata": {},
      "outputs": [],
      "source": [
        "result = optimize.minimize(rosenbrock, x0, method='BFGS')\n",
        "\n",
        "print(\"Rosenbrock fonksiyonunun minimizasyonu:\")\n",
        "print(f\"Başlangıç noktası: {x0}\")\n",
        "print(f\"Minimum noktası: {result.x}\")\n",
        "print(f\"Minimum değer: {result.fun}\")\n",
        "print(f\"Başarı: {result.success}\")\n",
        "\n"
      ]
    },
    {
      "cell_type": "markdown",
      "metadata": {},
      "source": [
        "## *4. Eğri Uydurma (Curve Fitting)*\n"
      ]
    },
    {
      "cell_type": "markdown",
      "metadata": {},
      "source": [
        "SciPy'ın `optimize` modülü, verilere bir fonksiyon uydurma (curve fitting) için `curve_fit` fonksiyonunu sağlar. Bu, deneysel verileri analiz etmek için sıkça kullanılır.\n"
      ]
    },
    {
      "cell_type": "markdown",
      "metadata": {},
      "source": [
        "Uydurulacak fonksiyon\n"
      ]
    },
    {
      "cell_type": "code",
      "execution_count": null,
      "metadata": {},
      "outputs": [],
      "source": [
        "def func(x, a, b, c):\n",
        "    return a * np.exp(-b * x) + c\n",
        "\n"
      ]
    },
    {
      "cell_type": "markdown",
      "metadata": {},
      "source": [
        "Gerçek parametreler\n"
      ]
    },
    {
      "cell_type": "code",
      "execution_count": null,
      "metadata": {},
      "outputs": [],
      "source": [
        "true_a, true_b, true_c = 2.5, 1.3, 0.5\n",
        "\n"
      ]
    },
    {
      "cell_type": "markdown",
      "metadata": {},
      "source": [
        "Veri noktaları oluşturma\n"
      ]
    },
    {
      "cell_type": "code",
      "execution_count": null,
      "metadata": {},
      "outputs": [],
      "source": [
        "x_data = np.linspace(0, 4, 50)\n",
        "y_true = func(x_data, true_a, true_b, true_c)\n"
      ]
    },
    {
      "cell_type": "markdown",
      "metadata": {},
      "source": [
        "Gürültü ekleme\n"
      ]
    },
    {
      "cell_type": "code",
      "execution_count": null,
      "metadata": {},
      "outputs": [],
      "source": [
        "np.random.seed(42)\n",
        "y_noise = 0.2 * np.random.normal(size=len(x_data))\n",
        "y_data = y_true + y_noise\n",
        "\n"
      ]
    },
    {
      "cell_type": "markdown",
      "metadata": {},
      "source": [
        "Eğri uydurma\n"
      ]
    },
    {
      "cell_type": "code",
      "execution_count": null,
      "metadata": {},
      "outputs": [],
      "source": [
        "params, params_covariance = optimize.curve_fit(func, x_data, y_data)\n",
        "a_fit, b_fit, c_fit = params\n",
        "\n",
        "print(\"Eğri uydurma sonuçları:\")\n",
        "print(f\"Gerçek parametreler: a={true_a}, b={true_b}, c={true_c}\")\n",
        "print(f\"Uydurulan parametreler: a={a_fit:.4f}, b={b_fit:.4f}, c={c_fit:.4f}\")\n",
        "\n"
      ]
    },
    {
      "cell_type": "markdown",
      "metadata": {},
      "source": [
        "Görselleştirme\n"
      ]
    },
    {
      "cell_type": "code",
      "execution_count": null,
      "metadata": {},
      "outputs": [],
      "source": [
        "plt.figure(figsize=(10, 6))\n",
        "plt.scatter(x_data, y_data, label='Veri Noktaları')\n",
        "plt.plot(x_data, y_true, 'r-', label='Gerçek Fonksiyon')\n",
        "\n"
      ]
    },
    {
      "cell_type": "markdown",
      "metadata": {},
      "source": [
        "Uydurulan fonksiyonu çizme\n"
      ]
    },
    {
      "cell_type": "code",
      "execution_count": null,
      "metadata": {},
      "outputs": [],
      "source": [
        "x_fit = np.linspace(0, 4, 1000)\n",
        "y_fit = func(x_fit, a_fit, b_fit, c_fit)\n",
        "plt.plot(x_fit, y_fit, 'g--', label='Uydurulan Fonksiyon')\n",
        "\n",
        "plt.title('Eğri Uydurma Örneği: f(x) = a * exp(-b * x) + c')\n",
        "plt.xlabel('x')\n",
        "plt.ylabel('y')\n",
        "plt.legend()\n",
        "plt.grid(True)\n",
        "plt.show() \n"
      ]
    }
  ],
  "metadata": {
    "kernelspec": {
      "display_name": "Python 3",
      "language": "python",
      "name": "python3"
    },
    "language_info": {
      "codemirror_mode": {
        "name": "ipython",
        "version": 3
      },
      "file_extension": ".py",
      "mimetype": "text/x-python",
      "name": "python",
      "nbconvert_exporter": "python",
      "pygments_lexer": "ipython3",
      "version": "3.8.8"
    }
  },
  "nbformat": 4,
  "nbformat_minor": 5
}
