{
  "cells": [
    {
      "cell_type": "markdown",
      "metadata": {},
      "source": [
        "# stats.py\n",
        "\n",
        "This notebook was automatically converted from a Python script."
      ]
    },
    {
      "cell_type": "markdown",
      "metadata": {},
      "source": [
        "# *SciPy - İstatistik Modülü (scipy.stats)*\n"
      ]
    },
    {
      "cell_type": "markdown",
      "metadata": {},
      "source": [
        "SciPy'ın `stats` modülü, istatistiksel fonksiyonlar ve olasılık dağılımları için kapsamlı bir araç seti sunar. Bu modül ile temel istatistikten ileri seviye istatistiksel analizlere kadar birçok işlemi gerçekleştirebilirsiniz.\n"
      ]
    },
    {
      "cell_type": "code",
      "execution_count": null,
      "metadata": {},
      "outputs": [],
      "source": [
        "import numpy as np\n",
        "import matplotlib.pyplot as plt\n",
        "from scipy import stats\n",
        "\n"
      ]
    },
    {
      "cell_type": "markdown",
      "metadata": {},
      "source": [
        "Grafiklerin görünümünü ayarlama\n"
      ]
    },
    {
      "cell_type": "code",
      "execution_count": null,
      "metadata": {},
      "outputs": [],
      "source": [
        "plt.style.use('seaborn-v0_8-whitegrid')\n",
        "plt.rcParams[\"figure.figsize\"] = (12, 6)\n",
        "\n"
      ]
    },
    {
      "cell_type": "markdown",
      "metadata": {},
      "source": [
        "## *Tanımlayıcı İstatistikler*\n"
      ]
    },
    {
      "cell_type": "markdown",
      "metadata": {},
      "source": [
        "SciPy, veri setleriniz hakkında hızlıca bilgi edinmenizi sağlayan tanımlayıcı istatistik fonksiyonları sunar.\n"
      ]
    },
    {
      "cell_type": "markdown",
      "metadata": {},
      "source": [
        "Örnek veri seti oluşturma\n"
      ]
    },
    {
      "cell_type": "code",
      "execution_count": null,
      "metadata": {},
      "outputs": [],
      "source": [
        "data = np.random.normal(loc=5, scale=2, size=1000)\n",
        "\n"
      ]
    },
    {
      "cell_type": "markdown",
      "metadata": {},
      "source": [
        "Temel istatistikler\n"
      ]
    },
    {
      "cell_type": "code",
      "execution_count": null,
      "metadata": {},
      "outputs": [],
      "source": [
        "print(f\"Ortalama: {stats.tmean(data):.4f}\")\n",
        "print(f\"Medyan: {np.median(data):.4f}\")\n",
        "print(f\"Standart sapma: {stats.tstd(data):.4f}\")\n",
        "print(f\"Varyans: {stats.variation(data):.4f}\")\n",
        "print(f\"Min: {np.min(data):.4f}\")\n",
        "print(f\"Max: {np.max(data):.4f}\")\n",
        "\n"
      ]
    },
    {
      "cell_type": "markdown",
      "metadata": {},
      "source": [
        "Çeyreklikler ve IQR\n"
      ]
    },
    {
      "cell_type": "code",
      "execution_count": null,
      "metadata": {},
      "outputs": [],
      "source": [
        "q25, q50, q75 = stats.quantile(data, [0.25, 0.5, 0.75])\n",
        "iqr = q75 - q25\n",
        "\n",
        "print(f\"\\n25. yüzdelik (Q1): {q25:.4f}\")\n",
        "print(f\"50. yüzdelik (Q2/Medyan): {q50:.4f}\")\n",
        "print(f\"75. yüzdelik (Q3): {q75:.4f}\")\n",
        "print(f\"Çeyrekler arası aralık (IQR): {iqr:.4f}\")\n",
        "\n"
      ]
    },
    {
      "cell_type": "markdown",
      "metadata": {},
      "source": [
        "## *İstatistiksel Testler*\n"
      ]
    },
    {
      "cell_type": "markdown",
      "metadata": {},
      "source": [
        "SciPy, çeşitli istatistiksel hipotez testleri sunar.\n"
      ]
    },
    {
      "cell_type": "markdown",
      "metadata": {},
      "source": [
        "### *Normallik Testi (Shapiro-Wilk)*\n"
      ]
    },
    {
      "cell_type": "markdown",
      "metadata": {},
      "source": [
        "Verilerin normal dağılıma uyup uymadığını test eder.\n"
      ]
    },
    {
      "cell_type": "markdown",
      "metadata": {},
      "source": [
        "Normal dağılımlı veri\n"
      ]
    },
    {
      "cell_type": "code",
      "execution_count": null,
      "metadata": {},
      "outputs": [],
      "source": [
        "normal_data = np.random.normal(loc=0, scale=1, size=100)\n",
        "\n"
      ]
    },
    {
      "cell_type": "markdown",
      "metadata": {},
      "source": [
        "Uniform dağılımlı veri (normal değil)\n"
      ]
    },
    {
      "cell_type": "code",
      "execution_count": null,
      "metadata": {},
      "outputs": [],
      "source": [
        "uniform_data = np.random.uniform(low=0, high=1, size=100)\n",
        "\n"
      ]
    },
    {
      "cell_type": "markdown",
      "metadata": {},
      "source": [
        "Shapiro-Wilk testi\n"
      ]
    },
    {
      "cell_type": "code",
      "execution_count": null,
      "metadata": {},
      "outputs": [],
      "source": [
        "stat_normal, p_normal = stats.shapiro(normal_data)\n",
        "stat_uniform, p_uniform = stats.shapiro(uniform_data)\n",
        "\n",
        "print(f\"Normal veri - W: {stat_normal:.4f}, p-değeri: {p_normal:.4f}\")\n",
        "print(f\"Uniform veri - W: {stat_uniform:.4f}, p-değeri: {p_uniform:.4f}\")\n",
        "\n"
      ]
    },
    {
      "cell_type": "markdown",
      "metadata": {},
      "source": [
        "Sonuçların yorumlanması (α = 0.05)\n"
      ]
    },
    {
      "cell_type": "code",
      "execution_count": null,
      "metadata": {},
      "outputs": [],
      "source": [
        "alpha = 0.05\n",
        "print(\"\\nNormal veri normal dağılıma uyuyor mu?\", p_normal > alpha)\n",
        "print(\"Uniform veri normal dağılıma uyuyor mu?\", p_uniform > alpha)\n",
        "\n"
      ]
    },
    {
      "cell_type": "markdown",
      "metadata": {},
      "source": [
        "### *T-Testi*\n"
      ]
    },
    {
      "cell_type": "markdown",
      "metadata": {},
      "source": [
        "İki grubun ortalamaları arasında anlamlı bir fark olup olmadığını test eder.\n"
      ]
    },
    {
      "cell_type": "markdown",
      "metadata": {},
      "source": [
        "İki farklı grup oluşturma\n"
      ]
    },
    {
      "cell_type": "code",
      "execution_count": null,
      "metadata": {},
      "outputs": [],
      "source": [
        "group1 = np.random.normal(loc=5, scale=1, size=100)  # Ortalama 5\n",
        "group2 = np.random.normal(loc=5.5, scale=1, size=100)  # Ortalama 5.5\n",
        "\n"
      ]
    },
    {
      "cell_type": "markdown",
      "metadata": {},
      "source": [
        "Bağımsız örneklem t-testi\n"
      ]
    },
    {
      "cell_type": "code",
      "execution_count": null,
      "metadata": {},
      "outputs": [],
      "source": [
        "t_stat, p_value = stats.ttest_ind(group1, group2, equal_var=True)\n",
        "\n",
        "print(f\"T-istatistiği: {t_stat:.4f}\")\n",
        "print(f\"p-değeri: {p_value:.4f}\")\n",
        "\n"
      ]
    },
    {
      "cell_type": "markdown",
      "metadata": {},
      "source": [
        "Sonuçların yorumlanması (α = 0.05)\n"
      ]
    },
    {
      "cell_type": "code",
      "execution_count": null,
      "metadata": {},
      "outputs": [],
      "source": [
        "alpha = 0.05\n",
        "print(f\"\\nİki grup arasında istatistiksel olarak anlamlı bir fark var mı? {p_value < alpha}\")\n",
        "\n"
      ]
    },
    {
      "cell_type": "markdown",
      "metadata": {},
      "source": [
        "### *ANOVA (Varyans Analizi)*\n"
      ]
    },
    {
      "cell_type": "markdown",
      "metadata": {},
      "source": [
        "İkiden fazla grubun ortalamalarını karşılaştırmak için kullanılır.\n"
      ]
    },
    {
      "cell_type": "markdown",
      "metadata": {},
      "source": [
        "Üç farklı grup oluşturma\n"
      ]
    },
    {
      "cell_type": "code",
      "execution_count": null,
      "metadata": {},
      "outputs": [],
      "source": [
        "group1 = np.random.normal(loc=5, scale=1, size=100)  # Ortalama 5\n",
        "group2 = np.random.normal(loc=5.5, scale=1, size=100)  # Ortalama 5.5\n",
        "group3 = np.random.normal(loc=6, scale=1, size=100)  # Ortalama 6\n",
        "\n"
      ]
    },
    {
      "cell_type": "markdown",
      "metadata": {},
      "source": [
        "Tek yönlü ANOVA testi\n"
      ]
    },
    {
      "cell_type": "code",
      "execution_count": null,
      "metadata": {},
      "outputs": [],
      "source": [
        "f_stat, p_value = stats.f_oneway(group1, group2, group3)\n",
        "\n",
        "print(f\"F-istatistiği: {f_stat:.4f}\")\n",
        "print(f\"p-değeri: {p_value:.4f}\")\n",
        "\n"
      ]
    },
    {
      "cell_type": "markdown",
      "metadata": {},
      "source": [
        "Sonuçların yorumlanması (α = 0.05)\n"
      ]
    },
    {
      "cell_type": "code",
      "execution_count": null,
      "metadata": {},
      "outputs": [],
      "source": [
        "alpha = 0.05\n",
        "print(f\"\\nGruplar arasında istatistiksel olarak anlamlı bir fark var mı? {p_value < alpha}\") \n"
      ]
    }
  ],
  "metadata": {
    "kernelspec": {
      "display_name": "Python 3",
      "language": "python",
      "name": "python3"
    },
    "language_info": {
      "codemirror_mode": {
        "name": "ipython",
        "version": 3
      },
      "file_extension": ".py",
      "mimetype": "text/x-python",
      "name": "python",
      "nbconvert_exporter": "python",
      "pygments_lexer": "ipython3",
      "version": "3.8.8"
    }
  },
  "nbformat": 4,
  "nbformat_minor": 5
}
