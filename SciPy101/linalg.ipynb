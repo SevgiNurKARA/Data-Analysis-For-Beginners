{
  "cells": [
    {
      "cell_type": "markdown",
      "metadata": {},
      "source": [
        "# linalg.py\n",
        "\n",
        "This notebook was automatically converted from a Python script."
      ]
    },
    {
      "cell_type": "markdown",
      "metadata": {},
      "source": [
        "# *SciPy Doğrusal Cebir (scipy.linalg)*\n"
      ]
    },
    {
      "cell_type": "markdown",
      "metadata": {},
      "source": [
        "SciPy'ın linalg modülü, doğrusal cebir işlemleri için kapsamlı bir araç seti sunar. NumPy'ın lineer cebir fonksiyonlarını genişleterek, matrisler ve vektörler üzerinde daha gelişmiş matematiksel işlemler yapmanıza olanak tanır.\n"
      ]
    },
    {
      "cell_type": "markdown",
      "metadata": {},
      "source": [
        "Gerekli kütüphaneleri import edelim\n"
      ]
    },
    {
      "cell_type": "code",
      "execution_count": null,
      "metadata": {},
      "outputs": [],
      "source": [
        "import numpy as np\n",
        "from scipy import linalg\n",
        "import matplotlib.pyplot as plt\n",
        "\n"
      ]
    },
    {
      "cell_type": "markdown",
      "metadata": {},
      "source": [
        "## *1. Temel Matris İşlemleri*\n"
      ]
    },
    {
      "cell_type": "markdown",
      "metadata": {},
      "source": [
        "SciPy, matrislerle çalışmak için çeşitli fonksiyonlar sunar.\n"
      ]
    },
    {
      "cell_type": "markdown",
      "metadata": {},
      "source": [
        "Örnek bir matris oluşturalım\n"
      ]
    },
    {
      "cell_type": "code",
      "execution_count": null,
      "metadata": {},
      "outputs": [],
      "source": [
        "A = np.array([[3, 1, 2],\n",
        "              [4, 2, 1],\n",
        "              [2, 5, 3]])\n",
        "\n",
        "print(\"Matris A:\")\n",
        "print(A)\n",
        "\n"
      ]
    },
    {
      "cell_type": "markdown",
      "metadata": {},
      "source": [
        "Determinant hesaplama\n"
      ]
    },
    {
      "cell_type": "code",
      "execution_count": null,
      "metadata": {},
      "outputs": [],
      "source": [
        "det_A = linalg.det(A)\n",
        "print(f\"\\nMatris A'nın determinantı: {det_A:.4f}\")\n",
        "\n"
      ]
    },
    {
      "cell_type": "markdown",
      "metadata": {},
      "source": [
        "İz (trace) hesaplama - köşegen elemanların toplamı\n"
      ]
    },
    {
      "cell_type": "code",
      "execution_count": null,
      "metadata": {},
      "outputs": [],
      "source": [
        "trace_A = np.trace(A)\n",
        "print(f\"Matris A'nın izi: {trace_A}\")\n",
        "\n"
      ]
    },
    {
      "cell_type": "markdown",
      "metadata": {},
      "source": [
        "Matris normu hesaplama\n"
      ]
    },
    {
      "cell_type": "code",
      "execution_count": null,
      "metadata": {},
      "outputs": [],
      "source": [
        "norm_A = linalg.norm(A)\n",
        "print(f\"Matris A'nın Frobenius normu: {norm_A:.4f}\")\n",
        "\n"
      ]
    },
    {
      "cell_type": "markdown",
      "metadata": {},
      "source": [
        "Matrisin rankı\n"
      ]
    },
    {
      "cell_type": "code",
      "execution_count": null,
      "metadata": {},
      "outputs": [],
      "source": [
        "rank_A = np.linalg.matrix_rank(A)\n",
        "print(f\"Matris A'nın rankı: {rank_A}\")\n",
        "\n"
      ]
    },
    {
      "cell_type": "markdown",
      "metadata": {},
      "source": [
        "## *2. Matris İnversi (Tersi) ve Doğrusal Denklem Sistemleri*\n"
      ]
    },
    {
      "cell_type": "markdown",
      "metadata": {},
      "source": [
        "Doğrusal denklem sistemlerini çözmek, lineer cebirin en temel uygulamalarından biridir.\n"
      ]
    },
    {
      "cell_type": "markdown",
      "metadata": {},
      "source": [
        "Matrisin tersini alalım\n"
      ]
    },
    {
      "cell_type": "code",
      "execution_count": null,
      "metadata": {},
      "outputs": [],
      "source": [
        "A_inv = linalg.inv(A)\n",
        "print(\"Matris A'nın tersi:\")\n",
        "print(A_inv)\n",
        "\n"
      ]
    },
    {
      "cell_type": "markdown",
      "metadata": {},
      "source": [
        "Tersin doğruluğunu kontrol edelim (A * A^-1 = I)\n"
      ]
    },
    {
      "cell_type": "code",
      "execution_count": null,
      "metadata": {},
      "outputs": [],
      "source": [
        "AA_inv = np.dot(A, A_inv)\n",
        "print(\"\\nA * A^-1 (≈ I):\")\n",
        "print(np.round(AA_inv, decimals=10))  # Sayısal hassasiyet nedeniyle yuvarlama yapıyoruz\n",
        "\n"
      ]
    },
    {
      "cell_type": "markdown",
      "metadata": {},
      "source": [
        "Doğrusal denklem sistemini çözelim: Ax = b\n"
      ]
    },
    {
      "cell_type": "code",
      "execution_count": null,
      "metadata": {},
      "outputs": [],
      "source": [
        "b = np.array([8, 10, 12])\n",
        "x = linalg.solve(A, b)\n",
        "print(\"\\nAx = b denklem sisteminin çözümü (x):\")\n",
        "print(x)\n",
        "\n"
      ]
    },
    {
      "cell_type": "markdown",
      "metadata": {},
      "source": [
        "Çözümün doğruluğunu kontrol edelim\n"
      ]
    },
    {
      "cell_type": "code",
      "execution_count": null,
      "metadata": {},
      "outputs": [],
      "source": [
        "b_check = np.dot(A, x)\n",
        "print(\"\\nA * x (= b):\")\n",
        "print(b_check)\n",
        "\n"
      ]
    },
    {
      "cell_type": "markdown",
      "metadata": {},
      "source": [
        "## *3. Özdeğerler ve Özvektörler*\n"
      ]
    },
    {
      "cell_type": "markdown",
      "metadata": {},
      "source": [
        "Özdeğerler ve özvektörler, matrislerin önemli özelliklerini anlamak için kullanılır.\n"
      ]
    },
    {
      "cell_type": "markdown",
      "metadata": {},
      "source": [
        "Özdeğerleri ve özvektörleri hesaplayalım\n"
      ]
    },
    {
      "cell_type": "code",
      "execution_count": null,
      "metadata": {},
      "outputs": [],
      "source": [
        "eigenvalues, eigenvectors = linalg.eig(A)\n",
        "\n",
        "print(\"Özdeğerler:\")\n",
        "print(eigenvalues)\n",
        "\n",
        "print(\"\\nÖzvektörler (sütunlar):\")\n",
        "print(eigenvectors)\n",
        "\n"
      ]
    },
    {
      "cell_type": "markdown",
      "metadata": {},
      "source": [
        "Özdeğerlerin ve özvektörlerin doğruluğunu kontrol edelim\n"
      ]
    },
    {
      "cell_type": "code",
      "execution_count": null,
      "metadata": {},
      "outputs": [],
      "source": [
        "for i in range(len(eigenvalues)):\n",
        "    lambda_i = eigenvalues[i]\n",
        "    v_i = eigenvectors[:, i]\n",
        "    \n",
        "    # A * v = lambda * v olmalı\n",
        "    Av = np.dot(A, v_i)\n",
        "    lambda_v = lambda_i * v_i\n",
        "    \n",
        "    print(f\"\\nÖzdeğer {i+1} ({lambda_i:.4f}) için kontrol:\")\n",
        "    print(f\"A * v{i+1} = {Av}\")\n",
        "    print(f\"λ{i+1} * v{i+1} = {lambda_v}\")\n",
        "\n"
      ]
    },
    {
      "cell_type": "markdown",
      "id": "4f0742d8",
      "metadata": {},
      "source": [
        "### *3.1. Özdeğer/Özvektör Görselleştirme*\n"
      ]
    },
    {
      "cell_type": "markdown",
      "metadata": {},
      "source": [
        "2x2 matris için özvektörlerin etkisini görselleştirelim.\n"
      ]
    },
    {
      "cell_type": "markdown",
      "metadata": {},
      "source": [
        "2x2 örnek matris oluşturalım\n"
      ]
    },
    {
      "cell_type": "code",
      "execution_count": null,
      "metadata": {},
      "outputs": [],
      "source": [
        "B = np.array([[2, 1],\n",
        "              [1, 3]])\n",
        "\n"
      ]
    },
    {
      "cell_type": "markdown",
      "metadata": {},
      "source": [
        "Özdeğerleri ve özvektörleri hesaplayalım\n"
      ]
    },
    {
      "cell_type": "code",
      "execution_count": null,
      "metadata": {},
      "outputs": [],
      "source": [
        "eigvals, eigvecs = linalg.eig(B)\n",
        "\n",
        "print(\"2x2 matris B:\")\n",
        "print(B)\n",
        "print(\"\\nB'nin özdeğerleri:\", eigvals)\n",
        "print(\"\\nB'nin özvektörleri (sütunlar):\")\n",
        "print(eigvecs)\n",
        "\n"
      ]
    },
    {
      "cell_type": "markdown",
      "metadata": {},
      "source": [
        "Özdeğerleri/özvektörleri görselleştirelim\n"
      ]
    },
    {
      "cell_type": "code",
      "execution_count": null,
      "metadata": {},
      "outputs": [],
      "source": [
        "plt.figure(figsize=(10, 10))\n",
        "\n"
      ]
    },
    {
      "cell_type": "markdown",
      "metadata": {},
      "source": [
        "Birim çember\n"
      ]
    },
    {
      "cell_type": "code",
      "execution_count": null,
      "metadata": {},
      "outputs": [],
      "source": [
        "theta = np.linspace(0, 2*np.pi, 100)\n",
        "plt.plot(np.cos(theta), np.sin(theta), 'k--', alpha=0.5)\n",
        "\n"
      ]
    },
    {
      "cell_type": "markdown",
      "metadata": {},
      "source": [
        "Orijinal vektörler ve dönüştürülmüş vektörler\n"
      ]
    },
    {
      "cell_type": "code",
      "execution_count": null,
      "metadata": {},
      "outputs": [],
      "source": [
        "for i in range(12):\n",
        "    angle = i * np.pi / 6\n",
        "    v = np.array([np.cos(angle), np.sin(angle)])\n",
        "    Bv = B @ v\n",
        "    \n",
        "    plt.quiver(0, 0, v[0], v[1], angles='xy', scale_units='xy', scale=1, color='blue', alpha=0.5)\n",
        "    plt.quiver(0, 0, Bv[0], Bv[1], angles='xy', scale_units='xy', scale=1, color='red', alpha=0.5)\n",
        "\n"
      ]
    },
    {
      "cell_type": "markdown",
      "metadata": {},
      "source": [
        "Özvektörler\n"
      ]
    },
    {
      "cell_type": "code",
      "execution_count": null,
      "metadata": {},
      "outputs": [],
      "source": [
        "for i in range(len(eigvals)):\n",
        "    v = eigvecs[:, i]\n",
        "    plt.quiver(0, 0, v[0], v[1], angles='xy', scale_units='xy', scale=1, color='green', width=0.008)\n",
        "    plt.quiver(0, 0, -v[0], -v[1], angles='xy', scale_units='xy', scale=1, color='green', width=0.008)\n",
        "    \n",
        "    # Özdeğer ile ölçeklenmiş özvektör\n",
        "    scaled_v = eigvals[i] * v\n",
        "    plt.quiver(0, 0, scaled_v[0], scaled_v[1], angles='xy', scale_units='xy', scale=1, color='purple', width=0.008)\n",
        "    plt.quiver(0, 0, -scaled_v[0], -scaled_v[1], angles='xy', scale_units='xy', scale=1, color='purple', width=0.008)\n",
        "\n",
        "plt.axis('equal')\n",
        "plt.axhline(y=0, color='k', linestyle='-', alpha=0.3)\n",
        "plt.axvline(x=0, color='k', linestyle='-', alpha=0.3)\n",
        "plt.grid(True, alpha=0.3)\n",
        "plt.xlim(-4, 4)\n",
        "plt.ylim(-4, 4)\n",
        "plt.title('Matris Dönüşümü ve Özvektörler')\n",
        "plt.legend(['Birim Çember', 'Orijinal Vektörler', 'Dönüştürülmüş Vektörler', 'Özvektörler', 'Ölçeklenmiş Özvektörler'])\n",
        "plt.show()\n",
        "\n"
      ]
    },
    {
      "cell_type": "markdown",
      "metadata": {},
      "source": [
        "## *4. Matris Ayrıştırma (Decomposition)*\n"
      ]
    },
    {
      "cell_type": "markdown",
      "metadata": {},
      "source": [
        "Matris ayrıştırma, matrisleri daha basit formlarına ayırarak analiz etmek için kullanılır. SciPy, çeşitli matris ayrıştırma yöntemleri sunar.\n"
      ]
    },
    {
      "cell_type": "markdown",
      "metadata": {},
      "source": [
        "### *4.1. LU Ayrıştırma*\n"
      ]
    },
    {
      "cell_type": "markdown",
      "metadata": {},
      "source": [
        "LU ayrıştırma, bir matrisi alt üçgensel (L) ve üst üçgensel (U) matrislerin çarpımına ayırır.\n"
      ]
    },
    {
      "cell_type": "markdown",
      "metadata": {},
      "source": [
        "LU Ayrıştırma\n"
      ]
    },
    {
      "cell_type": "code",
      "execution_count": null,
      "metadata": {},
      "outputs": [],
      "source": [
        "P, L, U = linalg.lu(A)\n",
        "\n",
        "print(\"Matris A:\")\n",
        "print(A)\n",
        "print(\"\\nP (Permütasyon matrisi):\")\n",
        "print(P)\n",
        "print(\"\\nL (Alt üçgensel matris):\")\n",
        "print(L)\n",
        "print(\"\\nU (Üst üçgensel matris):\")\n",
        "print(U)\n",
        "\n"
      ]
    },
    {
      "cell_type": "markdown",
      "metadata": {},
      "source": [
        "LU ayrıştırmanın doğruluğunu kontrol edelim\n"
      ]
    },
    {
      "cell_type": "code",
      "execution_count": null,
      "metadata": {},
      "outputs": [],
      "source": [
        "PLU = P @ L @ U\n",
        "print(\"\\nP * L * U (= A):\")\n",
        "print(PLU)\n",
        "\n"
      ]
    },
    {
      "cell_type": "markdown",
      "metadata": {},
      "source": [
        "### *4.2. Cholesky Ayrıştırma*\n"
      ]
    },
    {
      "cell_type": "markdown",
      "metadata": {},
      "source": [
        "Cholesky ayrıştırma, simetrik pozitif tanımlı bir matrisi, bir alt üçgensel matrisin ve onun transpozunun çarpımına ayırır.\n"
      ]
    },
    {
      "cell_type": "markdown",
      "metadata": {},
      "source": [
        "Pozitif tanımlı simetrik bir matris oluşturalım\n"
      ]
    },
    {
      "cell_type": "code",
      "execution_count": null,
      "metadata": {},
      "outputs": [],
      "source": [
        "C = np.array([[4, 2, 1],\n",
        "              [2, 6, 3],\n",
        "              [1, 3, 5]])\n",
        "\n"
      ]
    },
    {
      "cell_type": "markdown",
      "metadata": {},
      "source": [
        "Cholesky ayrıştırma\n"
      ]
    },
    {
      "cell_type": "code",
      "execution_count": null,
      "metadata": {},
      "outputs": [],
      "source": [
        "L_chol = linalg.cholesky(C, lower=True)\n",
        "\n",
        "print(\"Matris C (simetrik, pozitif tanımlı):\")\n",
        "print(C)\n",
        "print(\"\\nL (Cholesky faktörü, alt üçgensel):\")\n",
        "print(L_chol)\n",
        "\n"
      ]
    },
    {
      "cell_type": "markdown",
      "metadata": {},
      "source": [
        "Cholesky ayrıştırmanın doğruluğunu kontrol edelim\n"
      ]
    },
    {
      "cell_type": "code",
      "execution_count": null,
      "metadata": {},
      "outputs": [],
      "source": [
        "C_recon = L_chol @ L_chol.T\n",
        "print(\"\\nL * L^T (= C):\")\n",
        "print(C_recon)\n",
        "\n"
      ]
    },
    {
      "cell_type": "markdown",
      "metadata": {},
      "source": [
        "### *4.3. QR Ayrıştırma*\n"
      ]
    },
    {
      "cell_type": "markdown",
      "metadata": {},
      "source": [
        "QR ayrıştırma, bir matrisi ortogonal bir matris (Q) ve üst üçgensel bir matrisin (R) çarpımına ayırır.\n"
      ]
    },
    {
      "cell_type": "markdown",
      "metadata": {},
      "source": [
        "QR Ayrıştırma\n"
      ]
    },
    {
      "cell_type": "code",
      "execution_count": null,
      "metadata": {},
      "outputs": [],
      "source": [
        "Q, R = linalg.qr(A)\n",
        "\n",
        "print(\"Matris A:\")\n",
        "print(A)\n",
        "print(\"\\nQ (Ortogonal matris):\")\n",
        "print(Q)\n",
        "print(\"\\nR (Üst üçgensel matris):\")\n",
        "print(R)\n",
        "\n"
      ]
    },
    {
      "cell_type": "markdown",
      "metadata": {},
      "source": [
        "QR ayrıştırmanın doğruluğunu kontrol edelim\n"
      ]
    },
    {
      "cell_type": "code",
      "execution_count": null,
      "metadata": {},
      "outputs": [],
      "source": [
        "QR = Q @ R\n",
        "print(\"\\nQ * R (= A):\")\n",
        "print(QR)\n",
        "\n"
      ]
    },
    {
      "cell_type": "markdown",
      "metadata": {},
      "source": [
        "Q'nun ortogonal olduğunu kontrol edelim (Q^T * Q = I)\n"
      ]
    },
    {
      "cell_type": "code",
      "execution_count": null,
      "metadata": {},
      "outputs": [],
      "source": [
        "QTQ = Q.T @ Q\n",
        "print(\"\\nQ^T * Q (≈ I):\")\n",
        "print(np.round(QTQ, decimals=10))\n",
        "\n"
      ]
    },
    {
      "cell_type": "markdown",
      "metadata": {},
      "source": [
        "### *4.4. Tekil Değer Ayrıştırma (SVD)*\n"
      ]
    },
    {
      "cell_type": "markdown",
      "metadata": {},
      "source": [
        "Tekil Değer Ayrıştırma (SVD), herhangi bir matrisi U, Σ ve V^T matrislerinin çarpımına ayırır.\n"
      ]
    },
    {
      "cell_type": "markdown",
      "metadata": {},
      "source": [
        "Bu yöntem, boyut indirgeme, gürültü azaltma ve veri analizi gibi alanlarda yaygın olarak kullanılır.\n"
      ]
    },
    {
      "cell_type": "markdown",
      "metadata": {},
      "source": [
        "SVD\n"
      ]
    },
    {
      "cell_type": "code",
      "execution_count": null,
      "metadata": {},
      "outputs": [],
      "source": [
        "U, s, Vh = linalg.svd(A)\n",
        "\n",
        "print(\"Matris A:\")\n",
        "print(A)\n",
        "print(\"\\nU (Sol tekil vektörler):\")\n",
        "print(U)\n",
        "print(\"\\ns (Tekil değerler):\")\n",
        "print(s)\n",
        "print(\"\\nV^H (Sağ tekil vektörler transpozu):\")\n",
        "print(Vh)\n",
        "\n"
      ]
    },
    {
      "cell_type": "markdown",
      "metadata": {},
      "source": [
        "SVD'nin doğruluğunu kontrol edelim\n"
      ]
    },
    {
      "cell_type": "markdown",
      "metadata": {},
      "source": [
        "Σ matrisini oluşturalım\n"
      ]
    },
    {
      "cell_type": "code",
      "execution_count": null,
      "metadata": {},
      "outputs": [],
      "source": [
        "Sigma = np.zeros(A.shape)\n",
        "np.fill_diagonal(Sigma, s)\n",
        "\n"
      ]
    },
    {
      "cell_type": "markdown",
      "metadata": {},
      "source": [
        "A = U * Σ * V^H\n"
      ]
    },
    {
      "cell_type": "code",
      "execution_count": null,
      "metadata": {},
      "outputs": [],
      "source": [
        "A_recon = U @ Sigma @ Vh\n",
        "print(\"\\nU * Σ * V^H (= A):\")\n",
        "print(A_recon)\n",
        "\n"
      ]
    },
    {
      "cell_type": "markdown",
      "metadata": {},
      "source": [
        "#### *4.4.1. SVD ile Görüntü Sıkıştırma*\n"
      ]
    },
    {
      "cell_type": "markdown",
      "metadata": {},
      "source": [
        "SVD'nin pratik bir uygulaması olarak, bir görüntüyü sıkıştırmak için kullanabiliriz.\n"
      ]
    },
    {
      "cell_type": "markdown",
      "metadata": {},
      "source": [
        "Örnek bir görüntü oluşturalım (gri tonlamalı)\n"
      ]
    },
    {
      "cell_type": "markdown",
      "metadata": {},
      "source": [
        "Burada basit bir gradyan görüntüsü kullanacağız\n"
      ]
    },
    {
      "cell_type": "code",
      "execution_count": null,
      "metadata": {},
      "outputs": [],
      "source": [
        "n = 100\n",
        "image = np.zeros((n, n))\n",
        "for i in range(n):\n",
        "    for j in range(n):\n",
        "        image[i, j] = 2*i + j\n",
        "\n",
        "plt.figure(figsize=(12, 4))\n",
        "plt.subplot(1, 3, 1)\n",
        "plt.imshow(image, cmap='gray')\n",
        "plt.title('Orijinal Görüntü')\n",
        "plt.axis('off')\n",
        "\n"
      ]
    },
    {
      "cell_type": "markdown",
      "metadata": {},
      "source": [
        "SVD uygulayalım\n"
      ]
    },
    {
      "cell_type": "code",
      "execution_count": null,
      "metadata": {},
      "outputs": [],
      "source": [
        "U, s, Vh = linalg.svd(image)\n",
        "\n"
      ]
    },
    {
      "cell_type": "markdown",
      "metadata": {},
      "source": [
        "Farklı oranlarda sıkıştırılmış görüntüleri gösterelim\n"
      ]
    },
    {
      "cell_type": "code",
      "execution_count": null,
      "metadata": {},
      "outputs": [],
      "source": [
        "ranks = [5, 20]  # Kullanılacak tekil değer sayısı\n",
        "\n",
        "for i, r in enumerate(ranks):\n",
        "    # Sıkıştırılmış görüntüyü yeniden oluşturalım\n",
        "    compressed = U[:, :r] @ np.diag(s[:r]) @ Vh[:r, :]\n",
        "    \n",
        "    plt.subplot(1, 3, i+2)\n",
        "    plt.imshow(compressed, cmap='gray')\n",
        "    plt.title(f'{r} Tekil Değer ile Sıkıştırılmış')\n",
        "    plt.axis('off')\n",
        "    \n",
        "    # Sıkıştırma oranı ve hata\n",
        "    original_size = image.size\n",
        "    compressed_size = r * (U.shape[0] + Vh.shape[1] + 1)\n",
        "    compression_ratio = original_size / compressed_size\n",
        "    error = np.linalg.norm(image - compressed, 'fro') / np.linalg.norm(image, 'fro')\n",
        "    \n",
        "    print(f\"Rank {r} sıkıştırma:\")\n",
        "    print(f\"  Sıkıştırma oranı: {compression_ratio:.2f}x\")\n",
        "    print(f\"  Bağıl hata: {error:.4f}\")\n",
        "\n",
        "plt.tight_layout()\n",
        "plt.show()\n",
        "\n"
      ]
    },
    {
      "cell_type": "markdown",
      "metadata": {},
      "source": [
        "## *5. En Küçük Kareler Problemi*\n"
      ]
    },
    {
      "cell_type": "markdown",
      "metadata": {},
      "source": [
        "En küçük kareler yöntemi, aşırı belirlenmiş sistemleri çözmek için kullanılır.\n"
      ]
    },
    {
      "cell_type": "markdown",
      "metadata": {},
      "source": [
        "Aşırı belirlenmiş bir sistem oluşturalım\n"
      ]
    },
    {
      "cell_type": "markdown",
      "metadata": {},
      "source": [
        "Gerçek bir polinom fonksiyonu tanımlayalım: y = 2x^2 + 3x + 1\n"
      ]
    },
    {
      "cell_type": "code",
      "execution_count": null,
      "id": "6902f5ea",
      "metadata": {},
      "outputs": [],
      "source": [
        "def true_func(x):\n",
        "    return 2*x**2 + 3*x + 1\n",
        "\n"
      ]
    },
    {
      "cell_type": "markdown",
      "metadata": {},
      "source": [
        "Veri noktaları oluşturalım\n"
      ]
    },
    {
      "cell_type": "code",
      "execution_count": null,
      "metadata": {},
      "outputs": [],
      "source": [
        "np.random.seed(42)\n",
        "x_data = np.linspace(-5, 5, 20)\n",
        "y_data = true_func(x_data) + 2*np.random.randn(len(x_data))  # gürültü ekleyelim\n",
        "\n"
      ]
    },
    {
      "cell_type": "markdown",
      "metadata": {},
      "source": [
        "Vandermonde matrisi oluşturalım (polinom fitting için)\n"
      ]
    },
    {
      "cell_type": "code",
      "execution_count": null,
      "metadata": {},
      "outputs": [],
      "source": [
        "degree = 2\n",
        "A_ls = np.vander(x_data, degree+1)\n",
        "\n"
      ]
    },
    {
      "cell_type": "markdown",
      "metadata": {},
      "source": [
        "En küçük kareler çözümü\n"
      ]
    },
    {
      "cell_type": "code",
      "execution_count": null,
      "metadata": {},
      "outputs": [],
      "source": [
        "coeffs, res, rank, s = linalg.lstsq(A_ls, y_data)\n",
        "\n",
        "print(\"Polinom katsayıları (en küçük derece -> en büyük derece):\")\n",
        "print(coeffs)\n",
        "print(\"\\nGerçek katsayılar: [1, 3, 2]\")\n",
        "\n"
      ]
    },
    {
      "cell_type": "markdown",
      "metadata": {},
      "source": [
        "Sonuçları görselleştirelim\n"
      ]
    },
    {
      "cell_type": "code",
      "execution_count": null,
      "metadata": {},
      "outputs": [],
      "source": [
        "x_fit = np.linspace(-5, 5, 100)\n",
        "y_fit = np.polyval(coeffs, x_fit)\n",
        "\n",
        "plt.figure(figsize=(10, 6))\n",
        "plt.scatter(x_data, y_data, label='Veri Noktaları')\n",
        "plt.plot(x_fit, y_fit, 'r-', label=f'Fitted: {coeffs[0]:.2f} + {coeffs[1]:.2f}x + {coeffs[2]:.2f}x²')\n",
        "plt.plot(x_fit, true_func(x_fit), 'g--', label='Gerçek Fonksiyon: 1 + 3x + 2x²')\n",
        "plt.legend()\n",
        "plt.xlabel('x')\n",
        "plt.ylabel('y')\n",
        "plt.title('En Küçük Kareler Polinom Fitting')\n",
        "plt.grid(True)\n",
        "plt.show()\n",
        "\n"
      ]
    },
    {
      "cell_type": "markdown",
      "metadata": {},
      "source": [
        "## *6. Özel Matrisler*\n"
      ]
    },
    {
      "cell_type": "markdown",
      "metadata": {},
      "source": [
        "SciPy, çeşitli özel matrisler oluşturmak için fonksiyonlar sunar.\n"
      ]
    },
    {
      "cell_type": "markdown",
      "metadata": {},
      "source": [
        "Farklı özel matrisler oluşturalım\n"
      ]
    },
    {
      "cell_type": "code",
      "execution_count": null,
      "id": "8b3a48d7",
      "metadata": {},
      "outputs": [],
      "source": [
        "n = 5  # matris boyutu\n",
        "\n"
      ]
    },
    {
      "cell_type": "markdown",
      "metadata": {},
      "source": [
        "Hilbert matrisi\n"
      ]
    },
    {
      "cell_type": "code",
      "execution_count": null,
      "metadata": {},
      "outputs": [],
      "source": [
        "H = linalg.hilbert(n)\n",
        "print(\"Hilbert matrisi:\")\n",
        "print(H)\n",
        "print(f\"Condition number: {linalg.cond(H):.4e}\")\n",
        "\n"
      ]
    },
    {
      "cell_type": "markdown",
      "metadata": {},
      "source": [
        "Pascal matrisi\n"
      ]
    },
    {
      "cell_type": "code",
      "execution_count": null,
      "metadata": {},
      "outputs": [],
      "source": [
        "P = linalg.pascal(n)\n",
        "print(\"\\nPascal matrisi:\")\n",
        "print(P)\n",
        "\n"
      ]
    },
    {
      "cell_type": "markdown",
      "metadata": {},
      "source": [
        "Toeplitz matrisi\n"
      ]
    },
    {
      "cell_type": "code",
      "execution_count": null,
      "metadata": {},
      "outputs": [],
      "source": [
        "c = np.array([1, 2, 3, 4, 5])\n",
        "r = np.array([1, 6, 7, 8, 9])\n",
        "T = linalg.toeplitz(c, r)\n",
        "print(\"\\nToeplitz matrisi:\")\n",
        "print(T)\n",
        "\n"
      ]
    },
    {
      "cell_type": "markdown",
      "metadata": {},
      "source": [
        "Circulant matrisi\n"
      ]
    },
    {
      "cell_type": "code",
      "execution_count": null,
      "metadata": {},
      "outputs": [],
      "source": [
        "C = linalg.circulant([1, 2, 3, 4, 5])\n",
        "print(\"\\nCirculant matrisi:\")\n",
        "print(C)\n",
        "\n"
      ]
    },
    {
      "cell_type": "markdown",
      "metadata": {},
      "source": [
        "## *Sonuç*\n"
      ]
    },
    {
      "cell_type": "markdown",
      "metadata": {},
      "source": [
        "SciPy'ın linalg modülü, doğrusal cebir işlemleri için kapsamlı bir araç seti sunar:\n"
      ]
    },
    {
      "cell_type": "markdown",
      "metadata": {},
      "source": [
        "1. Temel matris işlemleri (determinant, iz, norm)\n"
      ]
    },
    {
      "cell_type": "markdown",
      "metadata": {},
      "source": [
        "2. Matris inversi ve doğrusal denklem sistemlerinin çözümü\n"
      ]
    },
    {
      "cell_type": "markdown",
      "metadata": {},
      "source": [
        "3. Özdeğerler ve özvektörler\n"
      ]
    },
    {
      "cell_type": "markdown",
      "metadata": {},
      "source": [
        "4. Matris ayrıştırma yöntemleri (LU, Cholesky, QR, SVD)\n"
      ]
    },
    {
      "cell_type": "markdown",
      "metadata": {},
      "source": [
        "5. En küçük kareler problemi çözümü\n"
      ]
    },
    {
      "cell_type": "markdown",
      "metadata": {},
      "source": [
        "6. Özel matrisler oluşturma\n"
      ]
    },
    {
      "cell_type": "markdown",
      "metadata": {},
      "source": [
        "Bu fonksiyonlar, bilimsel hesaplama, veri analizi, optimizasyon ve mühendislik uygulamalarında yaygın olarak kullanılır. \n"
      ]
    }
  ],
  "metadata": {
    "kernelspec": {
      "display_name": "Python 3",
      "language": "python",
      "name": "python3"
    },
    "language_info": {
      "codemirror_mode": {
        "name": "ipython",
        "version": 3
      },
      "file_extension": ".py",
      "mimetype": "text/x-python",
      "name": "python",
      "nbconvert_exporter": "python",
      "pygments_lexer": "ipython3",
      "version": "3.8.8"
    }
  },
  "nbformat": 4,
  "nbformat_minor": 5
}
