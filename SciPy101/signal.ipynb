{
  "cells": [
    {
      "cell_type": "markdown",
      "metadata": {},
      "source": [
        "# signal.py\n",
        "\n",
        "This notebook was automatically converted from a Python script."
      ]
    },
    {
      "cell_type": "markdown",
      "metadata": {},
      "source": [
        "# *SciPy Sinyal İşleme (scipy.signal)*\n"
      ]
    },
    {
      "cell_type": "markdown",
      "metadata": {},
      "source": [
        "SciPy'ın signal modülü, sinyal işleme için çeşitli fonksiyonlar ve araçlar sunar. Bu modül, filtreleme, spektral analiz, sinyal tasarımı ve dönüşüm gibi işlemler için kullanılır.\n"
      ]
    },
    {
      "cell_type": "markdown",
      "metadata": {},
      "source": [
        "Gerekli kütüphaneleri import edelim\n"
      ]
    },
    {
      "cell_type": "code",
      "execution_count": null,
      "metadata": {},
      "outputs": [],
      "source": [
        "import numpy as np\n",
        "import scipy.signal as signal\n",
        "import matplotlib.pyplot as plt\n",
        "\n"
      ]
    },
    {
      "cell_type": "markdown",
      "metadata": {},
      "source": [
        "## *1. Sinyal Oluşturma ve Görselleştirme*\n"
      ]
    },
    {
      "cell_type": "markdown",
      "metadata": {},
      "source": [
        "İlk olarak, üzerinde çalışabileceğimiz bazı örnek sinyaller oluşturalım.\n"
      ]
    },
    {
      "cell_type": "markdown",
      "metadata": {},
      "source": [
        "Zaman vektörü oluşturalım\n"
      ]
    },
    {
      "cell_type": "code",
      "execution_count": null,
      "metadata": {},
      "outputs": [],
      "source": [
        "fs = 1000  # Örnekleme frekansı (Hz)\n",
        "t = np.arange(0, 1, 1/fs)  # 1 saniyelik sinyal, 1000 Hz örnekleme frekansı\n",
        "\n"
      ]
    },
    {
      "cell_type": "markdown",
      "metadata": {},
      "source": [
        "Farklı frekanslarda sinüs dalgaları oluşturalım\n"
      ]
    },
    {
      "cell_type": "code",
      "execution_count": null,
      "metadata": {},
      "outputs": [],
      "source": [
        "f1, f2, f3 = 5, 50, 120  # Frekanslar (Hz)\n",
        "x1 = np.sin(2 * np.pi * f1 * t)  # 5 Hz sinüs dalgası\n",
        "x2 = 0.5 * np.sin(2 * np.pi * f2 * t)  # 50 Hz sinüs dalgası\n",
        "x3 = 0.25 * np.sin(2 * np.pi * f3 * t)  # 120 Hz sinüs dalgası\n",
        "\n"
      ]
    },
    {
      "cell_type": "markdown",
      "metadata": {},
      "source": [
        "Sinyalleri birleştirelim\n"
      ]
    },
    {
      "cell_type": "code",
      "execution_count": null,
      "metadata": {},
      "outputs": [],
      "source": [
        "x = x1 + x2 + x3\n",
        "\n"
      ]
    },
    {
      "cell_type": "markdown",
      "metadata": {},
      "source": [
        "Görselleştirelim\n"
      ]
    },
    {
      "cell_type": "code",
      "execution_count": null,
      "metadata": {},
      "outputs": [],
      "source": [
        "plt.figure(figsize=(12, 6))\n",
        "plt.subplot(2, 1, 1)\n",
        "plt.plot(t[:200], x1[:200], label='5 Hz')\n",
        "plt.plot(t[:200], x2[:200], label='50 Hz')\n",
        "plt.plot(t[:200], x3[:200], label='120 Hz')\n",
        "plt.legend()\n",
        "plt.title('Bileşen Sinyaller (ilk 200 örnek)')\n",
        "plt.grid(True)\n",
        "\n",
        "plt.subplot(2, 1, 2)\n",
        "plt.plot(t[:200], x[:200])\n",
        "plt.title('Birleşik Sinyal (ilk 200 örnek)')\n",
        "plt.grid(True)\n",
        "plt.tight_layout()\n",
        "plt.show()\n",
        "\n"
      ]
    },
    {
      "cell_type": "markdown",
      "metadata": {},
      "source": [
        "## *2. Filtreler*\n"
      ]
    },
    {
      "cell_type": "markdown",
      "metadata": {},
      "source": [
        "Sinyal işlemede filtreleme, istenmeyen frekans bileşenlerini bastırmak veya belirli frekans bileşenlerini vurgulamak için kullanılır. SciPy'ın signal modülü çeşitli filtre tasarım fonksiyonları sunar.\n"
      ]
    },
    {
      "cell_type": "markdown",
      "metadata": {},
      "source": [
        "### *2.1. FIR Filtreler (Sonlu Dürtü Yanıtı)*\n"
      ]
    },
    {
      "cell_type": "markdown",
      "metadata": {},
      "source": [
        "FIR filtre tasarımı ve uygulaması\n"
      ]
    },
    {
      "cell_type": "markdown",
      "metadata": {},
      "source": [
        "Alçak geçiren FIR filtre (50 Hz altındaki frekansları geçiren)\n"
      ]
    },
    {
      "cell_type": "code",
      "execution_count": null,
      "metadata": {},
      "outputs": [],
      "source": [
        "numtaps = 101  # Filtre uzunluğu\n",
        "cutoff = 30  # Kesim frekansı (Hz)\n",
        "fir_filter = signal.firwin(numtaps, cutoff, fs=fs)\n",
        "\n"
      ]
    },
    {
      "cell_type": "markdown",
      "metadata": {},
      "source": [
        "Filtreyi uygulayalım\n"
      ]
    },
    {
      "cell_type": "code",
      "execution_count": null,
      "metadata": {},
      "outputs": [],
      "source": [
        "filtered_signal = signal.lfilter(fir_filter, 1.0, x)\n",
        "\n"
      ]
    },
    {
      "cell_type": "markdown",
      "metadata": {},
      "source": [
        "Sonuçları görselleştirelim\n"
      ]
    },
    {
      "cell_type": "code",
      "execution_count": null,
      "metadata": {},
      "outputs": [],
      "source": [
        "plt.figure(figsize=(12, 8))\n",
        "\n"
      ]
    },
    {
      "cell_type": "markdown",
      "metadata": {},
      "source": [
        "Filtre katsayıları\n"
      ]
    },
    {
      "cell_type": "code",
      "execution_count": null,
      "metadata": {},
      "outputs": [],
      "source": [
        "plt.subplot(3, 1, 1)\n",
        "plt.stem(np.arange(numtaps), fir_filter)\n",
        "plt.title('FIR Filtre Katsayıları')\n",
        "plt.grid(True)\n",
        "\n"
      ]
    },
    {
      "cell_type": "markdown",
      "metadata": {},
      "source": [
        "Filtre frekans yanıtı\n"
      ]
    },
    {
      "cell_type": "code",
      "execution_count": null,
      "metadata": {},
      "outputs": [],
      "source": [
        "w, h = signal.freqz(fir_filter, worN=8000)\n",
        "plt.subplot(3, 1, 2)\n",
        "plt.plot(0.5 * fs * w / np.pi, np.abs(h))\n",
        "plt.axvline(cutoff, color='r', linestyle='--', alpha=0.7)\n",
        "plt.xlabel('Frekans (Hz)')\n",
        "plt.ylabel('Kazanç')\n",
        "plt.title('Filtre Frekans Yanıtı')\n",
        "plt.grid(True)\n",
        "plt.xlim(0, 200)\n",
        "\n"
      ]
    },
    {
      "cell_type": "markdown",
      "metadata": {},
      "source": [
        "Orijinal ve filtrelenmiş sinyal\n"
      ]
    },
    {
      "cell_type": "code",
      "execution_count": null,
      "metadata": {},
      "outputs": [],
      "source": [
        "plt.subplot(3, 1, 3)\n",
        "plt.plot(t[:200], x[:200], label='Orijinal Sinyal')\n",
        "plt.plot(t[:200], filtered_signal[:200], label='Filtrelenmiş Sinyal')\n",
        "plt.xlabel('Zaman (s)')\n",
        "plt.title('Orijinal ve Filtrelenmiş Sinyal')\n",
        "plt.legend()\n",
        "plt.grid(True)\n",
        "\n",
        "plt.tight_layout()\n",
        "plt.show()\n",
        "\n"
      ]
    },
    {
      "cell_type": "markdown",
      "metadata": {},
      "source": [
        "### *2.2. IIR Filtreler (Sonsuz Dürtü Yanıtı)*\n"
      ]
    },
    {
      "cell_type": "markdown",
      "metadata": {},
      "source": [
        "IIR filtre tasarımı\n"
      ]
    },
    {
      "cell_type": "markdown",
      "metadata": {},
      "source": [
        "Butterworth band-pass filtre (20-80 Hz arasındaki frekansları geçiren)\n"
      ]
    },
    {
      "cell_type": "code",
      "execution_count": null,
      "metadata": {},
      "outputs": [],
      "source": [
        "order = 4  # Filtre derecesi\n",
        "lowcut = 20  # Alt kesim frekansı (Hz)\n",
        "highcut = 80  # Üst kesim frekansı (Hz)\n",
        "\n"
      ]
    },
    {
      "cell_type": "markdown",
      "metadata": {},
      "source": [
        "Normalize edilmiş kesim frekansları (Nyquist frekansına göre)\n"
      ]
    },
    {
      "cell_type": "code",
      "execution_count": null,
      "metadata": {},
      "outputs": [],
      "source": [
        "nyq = 0.5 * fs\n",
        "low = lowcut / nyq\n",
        "high = highcut / nyq\n",
        "\n"
      ]
    },
    {
      "cell_type": "markdown",
      "metadata": {},
      "source": [
        "Butterworth band-pass filtre tasarımı\n"
      ]
    },
    {
      "cell_type": "code",
      "execution_count": null,
      "metadata": {},
      "outputs": [],
      "source": [
        "b, a = signal.butter(order, [low, high], btype='band')\n",
        "\n"
      ]
    },
    {
      "cell_type": "markdown",
      "metadata": {},
      "source": [
        "Filtreyi uygulayalım\n"
      ]
    },
    {
      "cell_type": "code",
      "execution_count": null,
      "metadata": {},
      "outputs": [],
      "source": [
        "filtered_signal_iir = signal.filtfilt(b, a, x)\n",
        "\n"
      ]
    },
    {
      "cell_type": "markdown",
      "metadata": {},
      "source": [
        "Sonuçları görselleştirelim\n"
      ]
    },
    {
      "cell_type": "code",
      "execution_count": null,
      "metadata": {},
      "outputs": [],
      "source": [
        "plt.figure(figsize=(12, 8))\n",
        "\n"
      ]
    },
    {
      "cell_type": "markdown",
      "metadata": {},
      "source": [
        "Filtre frekans yanıtı\n"
      ]
    },
    {
      "cell_type": "code",
      "execution_count": null,
      "metadata": {},
      "outputs": [],
      "source": [
        "w, h = signal.freqz(b, a, worN=8000)\n",
        "plt.subplot(2, 1, 1)\n",
        "plt.plot(0.5 * fs * w / np.pi, np.abs(h))\n",
        "plt.axvline(lowcut, color='r', linestyle='--', alpha=0.7)\n",
        "plt.axvline(highcut, color='r', linestyle='--', alpha=0.7)\n",
        "plt.xlabel('Frekans (Hz)')\n",
        "plt.ylabel('Kazanç')\n",
        "plt.title('Butterworth Band-Pass Filtre Frekans Yanıtı')\n",
        "plt.grid(True)\n",
        "plt.xlim(0, 200)\n",
        "\n"
      ]
    },
    {
      "cell_type": "markdown",
      "metadata": {},
      "source": [
        "Orijinal ve filtrelenmiş sinyal\n"
      ]
    },
    {
      "cell_type": "code",
      "execution_count": null,
      "metadata": {},
      "outputs": [],
      "source": [
        "plt.subplot(2, 1, 2)\n",
        "plt.plot(t[:200], x[:200], label='Orijinal Sinyal')\n",
        "plt.plot(t[:200], filtered_signal_iir[:200], label='Filtrelenmiş Sinyal (IIR)')\n",
        "plt.xlabel('Zaman (s)')\n",
        "plt.title('Orijinal ve IIR Filtrelenmiş Sinyal')\n",
        "plt.legend()\n",
        "plt.grid(True)\n",
        "\n",
        "plt.tight_layout()\n",
        "plt.show()\n",
        "\n"
      ]
    },
    {
      "cell_type": "markdown",
      "metadata": {},
      "source": [
        "## *3. Spektral Analiz*\n"
      ]
    },
    {
      "cell_type": "markdown",
      "metadata": {},
      "source": [
        "Spektral analiz, sinyalin frekans bileşenlerini incelemek için kullanılır.\n"
      ]
    },
    {
      "cell_type": "markdown",
      "metadata": {},
      "source": [
        "Hızlı Fourier Dönüşümü (FFT) ile spektral analiz\n"
      ]
    },
    {
      "cell_type": "code",
      "execution_count": null,
      "metadata": {},
      "outputs": [],
      "source": [
        "X = np.fft.fft(x)\n",
        "freqs = np.fft.fftfreq(len(x), 1/fs)\n",
        "\n"
      ]
    },
    {
      "cell_type": "markdown",
      "metadata": {},
      "source": [
        "Pozitif frekansları alalım\n"
      ]
    },
    {
      "cell_type": "code",
      "execution_count": null,
      "metadata": {},
      "outputs": [],
      "source": [
        "X_mag = np.abs(X[:len(x)//2]) / len(x) * 2  # Genlik spektrumu\n",
        "freqs_pos = freqs[:len(x)//2]\n",
        "\n"
      ]
    },
    {
      "cell_type": "markdown",
      "metadata": {},
      "source": [
        "Görselleştirelim\n"
      ]
    },
    {
      "cell_type": "code",
      "execution_count": null,
      "metadata": {},
      "outputs": [],
      "source": [
        "plt.figure(figsize=(12, 6))\n",
        "plt.plot(freqs_pos, X_mag)\n",
        "plt.axvline(f1, color='r', linestyle='--', alpha=0.7, label=f'{f1} Hz')\n",
        "plt.axvline(f2, color='g', linestyle='--', alpha=0.7, label=f'{f2} Hz')\n",
        "plt.axvline(f3, color='b', linestyle='--', alpha=0.7, label=f'{f3} Hz')\n",
        "plt.xlabel('Frekans (Hz)')\n",
        "plt.ylabel('Genlik')\n",
        "plt.title('Sinyal Spektrumu')\n",
        "plt.xlim(0, 150)\n",
        "plt.grid(True)\n",
        "plt.legend()\n",
        "plt.show()\n",
        "\n"
      ]
    },
    {
      "cell_type": "markdown",
      "metadata": {},
      "source": [
        "### *3.1. Güç Spektral Yoğunluğu (Power Spectral Density)*\n"
      ]
    },
    {
      "cell_type": "markdown",
      "metadata": {},
      "source": [
        "Güç spektral yoğunluğu, sinyalin frekans başına düşen gücünü gösterir.\n"
      ]
    },
    {
      "cell_type": "markdown",
      "metadata": {},
      "source": [
        "Welch yöntemi ile güç spektral yoğunluğu hesaplama\n"
      ]
    },
    {
      "cell_type": "code",
      "execution_count": null,
      "metadata": {},
      "outputs": [],
      "source": [
        "f, Pxx = signal.welch(x, fs, nperseg=1024)\n",
        "\n",
        "plt.figure(figsize=(10, 6))\n",
        "plt.semilogy(f, Pxx)\n",
        "plt.axvline(f1, color='r', linestyle='--', alpha=0.7, label=f'{f1} Hz')\n",
        "plt.axvline(f2, color='g', linestyle='--', alpha=0.7, label=f'{f2} Hz')\n",
        "plt.axvline(f3, color='b', linestyle='--', alpha=0.7, label=f'{f3} Hz')\n",
        "plt.xlabel('Frekans (Hz)')\n",
        "plt.ylabel('PSD (V^2/Hz)')\n",
        "plt.title('Güç Spektral Yoğunluğu')\n",
        "plt.xlim(0, 150)\n",
        "plt.grid(True)\n",
        "plt.legend()\n",
        "plt.show()\n",
        "\n"
      ]
    },
    {
      "cell_type": "markdown",
      "metadata": {},
      "source": [
        "### *3.2. Spektrogram*\n"
      ]
    },
    {
      "cell_type": "markdown",
      "metadata": {},
      "source": [
        "Spektrogram, sinyalin zaman-frekans temsilidir ve sinyalin frekans içeriğinin zamanla nasıl değiştiğini gösterir.\n"
      ]
    },
    {
      "cell_type": "markdown",
      "metadata": {},
      "source": [
        "Farklı frekansları içeren yeni bir sinyal oluşturalım\n"
      ]
    },
    {
      "cell_type": "code",
      "execution_count": null,
      "metadata": {},
      "outputs": [],
      "source": [
        "t_long = np.arange(0, 3, 1/fs)  # 3 saniyelik sinyal\n",
        "chirp_signal = signal.chirp(t_long, f0=1, f1=150, t1=3, method='linear')\n",
        "\n"
      ]
    },
    {
      "cell_type": "markdown",
      "metadata": {},
      "source": [
        "Gürültü ekleyelim\n"
      ]
    },
    {
      "cell_type": "code",
      "execution_count": null,
      "metadata": {},
      "outputs": [],
      "source": [
        "np.random.seed(42)\n",
        "noisy_chirp = chirp_signal + 0.2 * np.random.randn(len(t_long))\n",
        "\n"
      ]
    },
    {
      "cell_type": "markdown",
      "metadata": {},
      "source": [
        "Spektrogram hesaplayalım\n"
      ]
    },
    {
      "cell_type": "code",
      "execution_count": null,
      "metadata": {},
      "outputs": [],
      "source": [
        "f, t_spec, Sxx = signal.spectrogram(noisy_chirp, fs, nperseg=256, noverlap=128)\n",
        "\n"
      ]
    },
    {
      "cell_type": "markdown",
      "metadata": {},
      "source": [
        "Görselleştirelim\n"
      ]
    },
    {
      "cell_type": "code",
      "execution_count": null,
      "metadata": {},
      "outputs": [],
      "source": [
        "plt.figure(figsize=(12, 8))\n",
        "\n"
      ]
    },
    {
      "cell_type": "markdown",
      "metadata": {},
      "source": [
        "Sinyal\n"
      ]
    },
    {
      "cell_type": "code",
      "execution_count": null,
      "metadata": {},
      "outputs": [],
      "source": [
        "plt.subplot(2, 1, 1)\n",
        "plt.plot(t_long, noisy_chirp)\n",
        "plt.title('Chirp Sinyali (Doğrusal Frekans Artışı + Gürültü)')\n",
        "plt.xlabel('Zaman (s)')\n",
        "plt.grid(True)\n",
        "\n"
      ]
    },
    {
      "cell_type": "markdown",
      "metadata": {},
      "source": [
        "Spektrogram\n"
      ]
    },
    {
      "cell_type": "code",
      "execution_count": null,
      "metadata": {},
      "outputs": [],
      "source": [
        "plt.subplot(2, 1, 2)\n",
        "plt.pcolormesh(t_spec, f, 10 * np.log10(Sxx), shading='gouraud', cmap='viridis')\n",
        "plt.colorbar(label='Güç/Frekans (dB/Hz)')\n",
        "plt.ylabel('Frekans (Hz)')\n",
        "plt.xlabel('Zaman (s)')\n",
        "plt.title('Spektrogram')\n",
        "plt.tight_layout()\n",
        "plt.show()\n",
        "\n"
      ]
    },
    {
      "cell_type": "markdown",
      "metadata": {},
      "source": [
        "## *4. Sinyal İşleme Fonksiyonları*\n"
      ]
    },
    {
      "cell_type": "markdown",
      "metadata": {},
      "source": [
        "### *4.1. Konvolüsyon*\n"
      ]
    },
    {
      "cell_type": "markdown",
      "metadata": {},
      "source": [
        "Konvolüsyon, iki sinyalin etkileşimini modelleyen matematiksel bir işlemdir ve filtre uygulamanın temelidir.\n"
      ]
    },
    {
      "cell_type": "markdown",
      "metadata": {},
      "source": [
        "Basit bir örnek: Kare dalga ve bir düşük geçiren filtre\n"
      ]
    },
    {
      "cell_type": "markdown",
      "metadata": {},
      "source": [
        "Kare dalga sinyali oluşturalım\n"
      ]
    },
    {
      "cell_type": "code",
      "execution_count": null,
      "metadata": {},
      "outputs": [],
      "source": [
        "t_square = np.linspace(0, 1, 1000, endpoint=False)\n",
        "square_wave = signal.square(2 * np.pi * 5 * t_square)  # 5 Hz kare dalga\n",
        "\n"
      ]
    },
    {
      "cell_type": "markdown",
      "metadata": {},
      "source": [
        "Basit bir düşük geçiren FIR filtre oluşturalım\n"
      ]
    },
    {
      "cell_type": "code",
      "execution_count": null,
      "metadata": {},
      "outputs": [],
      "source": [
        "window = signal.windows.hann(51)  # Hanning penceresi\n",
        "low_pass = signal.firwin(51, 10, fs=1000)  # 10 Hz kesim frekanslı alçak geçiren filtre\n",
        "\n"
      ]
    },
    {
      "cell_type": "markdown",
      "metadata": {},
      "source": [
        "Konvolüsyon uygulayalım\n"
      ]
    },
    {
      "cell_type": "code",
      "execution_count": null,
      "metadata": {},
      "outputs": [],
      "source": [
        "filtered_square = signal.convolve(square_wave, low_pass, mode='same')\n",
        "\n"
      ]
    },
    {
      "cell_type": "markdown",
      "metadata": {},
      "source": [
        "Görselleştirelim\n"
      ]
    },
    {
      "cell_type": "code",
      "execution_count": null,
      "metadata": {},
      "outputs": [],
      "source": [
        "plt.figure(figsize=(12, 8))\n",
        "\n"
      ]
    },
    {
      "cell_type": "markdown",
      "metadata": {},
      "source": [
        "Kare dalga ve filtre\n"
      ]
    },
    {
      "cell_type": "code",
      "execution_count": null,
      "metadata": {},
      "outputs": [],
      "source": [
        "plt.subplot(3, 1, 1)\n",
        "plt.plot(t_square[:200], square_wave[:200])\n",
        "plt.title('Kare Dalga Sinyali')\n",
        "plt.grid(True)\n",
        "\n",
        "plt.subplot(3, 1, 2)\n",
        "plt.stem(np.arange(len(low_pass)), low_pass)\n",
        "plt.title('Alçak Geçiren Filtre Katsayıları')\n",
        "plt.grid(True)\n",
        "\n"
      ]
    },
    {
      "cell_type": "markdown",
      "metadata": {},
      "source": [
        "Konvolüsyon sonucu\n"
      ]
    },
    {
      "cell_type": "code",
      "execution_count": null,
      "metadata": {},
      "outputs": [],
      "source": [
        "plt.subplot(3, 1, 3)\n",
        "plt.plot(t_square[:200], filtered_square[:200])\n",
        "plt.title('Filtrelenmiş Sinyal (Konvolüsyon Sonucu)')\n",
        "plt.xlabel('Zaman (s)')\n",
        "plt.grid(True)\n",
        "\n",
        "plt.tight_layout()\n",
        "plt.show()\n",
        "\n"
      ]
    },
    {
      "cell_type": "markdown",
      "metadata": {},
      "source": [
        "### *4.2. Korelasyon*\n"
      ]
    },
    {
      "cell_type": "markdown",
      "metadata": {},
      "source": [
        "Korelasyon, iki sinyal arasındaki benzerliği ölçen bir işlemdir.\n"
      ]
    },
    {
      "cell_type": "markdown",
      "metadata": {},
      "source": [
        "İki sinyal oluşturalım ve korelasyonlarını hesaplayalım\n"
      ]
    },
    {
      "cell_type": "code",
      "execution_count": null,
      "metadata": {},
      "outputs": [],
      "source": [
        "t_corr = np.linspace(0, 1, 1000, endpoint=False)\n",
        "sig1 = np.sin(2 * np.pi * 10 * t_corr)  # 10 Hz sinüs\n",
        "sig2 = np.sin(2 * np.pi * 10 * t_corr + np.pi/4)  # 10 Hz sinüs, faz farkı ile\n",
        "\n"
      ]
    },
    {
      "cell_type": "markdown",
      "metadata": {},
      "source": [
        "Korelasyon hesaplayalım\n"
      ]
    },
    {
      "cell_type": "code",
      "execution_count": null,
      "metadata": {},
      "outputs": [],
      "source": [
        "correlation = signal.correlate(sig1, sig2, mode='full')\n",
        "lags = signal.correlation_lags(len(sig1), len(sig2), mode='full')\n",
        "lag_time = lags / 1000  # zaman birimine dönüştürme\n",
        "\n"
      ]
    },
    {
      "cell_type": "markdown",
      "metadata": {},
      "source": [
        "Görselleştirelim\n"
      ]
    },
    {
      "cell_type": "code",
      "execution_count": null,
      "metadata": {},
      "outputs": [],
      "source": [
        "plt.figure(figsize=(12, 8))\n",
        "\n"
      ]
    },
    {
      "cell_type": "markdown",
      "metadata": {},
      "source": [
        "Orijinal sinyaller\n"
      ]
    },
    {
      "cell_type": "code",
      "execution_count": null,
      "metadata": {},
      "outputs": [],
      "source": [
        "plt.subplot(2, 1, 1)\n",
        "plt.plot(t_corr, sig1, label='Sinyal 1')\n",
        "plt.plot(t_corr, sig2, label='Sinyal 2')\n",
        "plt.title('Orijinal Sinyaller')\n",
        "plt.legend()\n",
        "plt.grid(True)\n",
        "\n"
      ]
    },
    {
      "cell_type": "markdown",
      "metadata": {},
      "source": [
        "Korelasyon\n"
      ]
    },
    {
      "cell_type": "code",
      "execution_count": null,
      "metadata": {},
      "outputs": [],
      "source": [
        "plt.subplot(2, 1, 2)\n",
        "plt.plot(lag_time, correlation)\n",
        "plt.axvline(0, color='r', linestyle='--')\n",
        "plt.title('Korelasyon')\n",
        "plt.xlabel('Zaman Gecikmesi (s)')\n",
        "plt.grid(True)\n",
        "\n",
        "plt.tight_layout()\n",
        "plt.show()\n",
        "\n"
      ]
    },
    {
      "cell_type": "markdown",
      "metadata": {},
      "source": [
        "### *4.3. Sinyal Pikleri (Tepe Noktaları) Bulma*\n"
      ]
    },
    {
      "cell_type": "markdown",
      "metadata": {},
      "source": [
        "Pikler içeren bir sinyal oluşturalım\n"
      ]
    },
    {
      "cell_type": "code",
      "execution_count": null,
      "metadata": {},
      "outputs": [],
      "source": [
        "t_peaks = np.linspace(0, 10, 1000)\n",
        "x_peaks = np.sin(2 * np.pi * 0.5 * t_peaks) + 0.5 * np.sin(2 * np.pi * 2 * t_peaks) + 0.1 * np.random.randn(len(t_peaks))\n",
        "\n"
      ]
    },
    {
      "cell_type": "markdown",
      "metadata": {},
      "source": [
        "Pikleri bulalım\n"
      ]
    },
    {
      "cell_type": "code",
      "execution_count": null,
      "metadata": {},
      "outputs": [],
      "source": [
        "peaks, _ = signal.find_peaks(x_peaks, height=0.5, distance=50)\n",
        "\n"
      ]
    },
    {
      "cell_type": "markdown",
      "metadata": {},
      "source": [
        "Görselleştirelim\n"
      ]
    },
    {
      "cell_type": "code",
      "execution_count": null,
      "metadata": {},
      "outputs": [],
      "source": [
        "plt.figure(figsize=(12, 6))\n",
        "plt.plot(t_peaks, x_peaks)\n",
        "plt.plot(t_peaks[peaks], x_peaks[peaks], 'ro')\n",
        "plt.title('Sinyal Pikleri')\n",
        "plt.xlabel('Zaman')\n",
        "plt.grid(True)\n",
        "plt.show()\n",
        "\n"
      ]
    },
    {
      "cell_type": "markdown",
      "metadata": {},
      "source": [
        "## *5. Sayısal Filtre Tasarımı*\n"
      ]
    },
    {
      "cell_type": "markdown",
      "metadata": {},
      "source": [
        "SciPy, çeşitli filtre türlerini tasarlamak için kapsamlı araçlar sunar.\n"
      ]
    },
    {
      "cell_type": "markdown",
      "metadata": {},
      "source": [
        "Farklı IIR filtre tiplerini karşılaştıralım\n"
      ]
    },
    {
      "cell_type": "markdown",
      "metadata": {},
      "source": [
        "Butterworth, Chebyshev, Elliptik\n"
      ]
    },
    {
      "cell_type": "markdown",
      "metadata": {},
      "source": [
        "Filtre parametreleri\n"
      ]
    },
    {
      "cell_type": "code",
      "execution_count": null,
      "metadata": {},
      "outputs": [],
      "source": [
        "order = 5\n",
        "cutoff = 100  # Hz\n",
        "fs = 1000  # Hz\n",
        "nyq = 0.5 * fs\n",
        "normal_cutoff = cutoff / nyq\n",
        "\n"
      ]
    },
    {
      "cell_type": "markdown",
      "metadata": {},
      "source": [
        "Farklı filtre türlerini tasarlayalım\n"
      ]
    },
    {
      "cell_type": "code",
      "execution_count": null,
      "metadata": {},
      "outputs": [],
      "source": [
        "b_butter, a_butter = signal.butter(order, normal_cutoff, btype='low')\n",
        "b_cheby1, a_cheby1 = signal.cheby1(order, 1, normal_cutoff, btype='low')  # 1 dB ripple\n",
        "b_cheby2, a_cheby2 = signal.cheby2(order, 30, normal_cutoff, btype='low')  # 30 dB bastırma\n",
        "b_ellip, a_ellip = signal.ellip(order, 1, 60, normal_cutoff, btype='low')  # 1 dB ripple, 60 dB bastırma\n",
        "\n"
      ]
    },
    {
      "cell_type": "markdown",
      "metadata": {},
      "source": [
        "Frekans yanıtlarını hesaplayalım\n"
      ]
    },
    {
      "cell_type": "code",
      "execution_count": null,
      "metadata": {},
      "outputs": [],
      "source": [
        "w, h_butter = signal.freqz(b_butter, a_butter, worN=2000)\n",
        "w, h_cheby1 = signal.freqz(b_cheby1, a_cheby1, worN=2000)\n",
        "w, h_cheby2 = signal.freqz(b_cheby2, a_cheby2, worN=2000)\n",
        "w, h_ellip = signal.freqz(b_ellip, a_ellip, worN=2000)\n",
        "\n"
      ]
    },
    {
      "cell_type": "markdown",
      "metadata": {},
      "source": [
        "Görselleştirelim\n"
      ]
    },
    {
      "cell_type": "code",
      "execution_count": null,
      "metadata": {},
      "outputs": [],
      "source": [
        "plt.figure(figsize=(12, 8))\n",
        "\n"
      ]
    },
    {
      "cell_type": "markdown",
      "metadata": {},
      "source": [
        "Lineer ölçekte\n"
      ]
    },
    {
      "cell_type": "code",
      "execution_count": null,
      "metadata": {},
      "outputs": [],
      "source": [
        "plt.subplot(2, 1, 1)\n",
        "plt.plot(0.5 * fs * w / np.pi, np.abs(h_butter), label='Butterworth')\n",
        "plt.plot(0.5 * fs * w / np.pi, np.abs(h_cheby1), label='Chebyshev I')\n",
        "plt.plot(0.5 * fs * w / np.pi, np.abs(h_cheby2), label='Chebyshev II')\n",
        "plt.plot(0.5 * fs * w / np.pi, np.abs(h_ellip), label='Elliptik')\n",
        "plt.axvline(cutoff, color='k', linestyle='--', alpha=0.5)\n",
        "plt.xlabel('Frekans (Hz)')\n",
        "plt.ylabel('Kazanç')\n",
        "plt.title('Filtre Frekans Yanıtları (Lineer Ölçek)')\n",
        "plt.grid(True)\n",
        "plt.legend()\n",
        "plt.xlim(0, 300)\n",
        "\n"
      ]
    },
    {
      "cell_type": "markdown",
      "metadata": {},
      "source": [
        "Logaritmik ölçekte\n"
      ]
    },
    {
      "cell_type": "code",
      "execution_count": null,
      "metadata": {},
      "outputs": [],
      "source": [
        "plt.subplot(2, 1, 2)\n",
        "plt.plot(0.5 * fs * w / np.pi, 20 * np.log10(np.abs(h_butter)), label='Butterworth')\n",
        "plt.plot(0.5 * fs * w / np.pi, 20 * np.log10(np.abs(h_cheby1)), label='Chebyshev I')\n",
        "plt.plot(0.5 * fs * w / np.pi, 20 * np.log10(np.abs(h_cheby2)), label='Chebyshev II')\n",
        "plt.plot(0.5 * fs * w / np.pi, 20 * np.log10(np.abs(h_ellip)), label='Elliptik')\n",
        "plt.axvline(cutoff, color='k', linestyle='--', alpha=0.5)\n",
        "plt.xlabel('Frekans (Hz)')\n",
        "plt.ylabel('Kazanç (dB)')\n",
        "plt.title('Filtre Frekans Yanıtları (Logaritmik Ölçek)')\n",
        "plt.grid(True)\n",
        "plt.legend()\n",
        "plt.xlim(0, 300)\n",
        "plt.ylim(-80, 5)\n",
        "\n",
        "plt.tight_layout()\n",
        "plt.show()\n",
        "\n"
      ]
    },
    {
      "cell_type": "markdown",
      "metadata": {},
      "source": [
        "## *Sonuç*\n"
      ]
    },
    {
      "cell_type": "markdown",
      "metadata": {},
      "source": [
        "SciPy'ın signal modülü, sinyal işleme için güçlü araçlar sağlar:\n"
      ]
    },
    {
      "cell_type": "markdown",
      "metadata": {},
      "source": [
        "1. Filtreler (FIR ve IIR)\n"
      ]
    },
    {
      "cell_type": "markdown",
      "metadata": {},
      "source": [
        "2. Spektral analiz (FFT, PSD, Spektrogram)\n"
      ]
    },
    {
      "cell_type": "markdown",
      "metadata": {},
      "source": [
        "3. Konvolüsyon ve korelasyon\n"
      ]
    },
    {
      "cell_type": "markdown",
      "metadata": {},
      "source": [
        "4. Sinyal özellikleri (pik tespiti, vb.)\n"
      ]
    },
    {
      "cell_type": "markdown",
      "metadata": {},
      "source": [
        "5. Sayısal filtre tasarımı\n"
      ]
    },
    {
      "cell_type": "markdown",
      "metadata": {},
      "source": [
        "Bu işlevler, bilimsel ve mühendislik uygulamalarında sinyal analizi ve işleme için temel araçlardır. \n"
      ]
    }
  ],
  "metadata": {
    "kernelspec": {
      "display_name": "Python 3",
      "language": "python",
      "name": "python3"
    },
    "language_info": {
      "codemirror_mode": {
        "name": "ipython",
        "version": 3
      },
      "file_extension": ".py",
      "mimetype": "text/x-python",
      "name": "python",
      "nbconvert_exporter": "python",
      "pygments_lexer": "ipython3",
      "version": "3.8.8"
    }
  },
  "nbformat": 4,
  "nbformat_minor": 5
}
