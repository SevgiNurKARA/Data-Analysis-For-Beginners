{
  "cells": [
    {
      "cell_type": "markdown",
      "metadata": {},
      "source": [
        "# introduction.py\n",
        "\n",
        "This notebook was automatically converted from a Python script."
      ]
    },
    {
      "cell_type": "code",
      "metadata": {},
      "source": [
        "#!/usr/bin/env python\n"
      ],
      "execution_count": null,
      "outputs": []
    },
    {
      "cell_type": "markdown",
      "metadata": {},
      "source": [
        "-*- coding: utf-8 -*-\n"
      ]
    },
    {
      "cell_type": "code",
      "metadata": {},
      "source": [
        "\"\"\"\n",
        "Seaborn 101: Introduction to Seaborn\n",
        "====================================\n",
        "\n",
        "Seaborn is a Python data visualization library based on matplotlib. \n",
        "It provides a high-level interface for drawing attractive and informative statistical graphics.\n",
        "\"\"\"\n",
        "\n",
        "import pandas as pd\n",
        "import numpy as np\n",
        "import matplotlib.pyplot as plt\n",
        "import seaborn as sns\n",
        "\n"
      ],
      "execution_count": null,
      "outputs": []
    },
    {
      "cell_type": "markdown",
      "metadata": {},
      "source": [
        "Set the aesthetic style of the plots\n"
      ]
    },
    {
      "cell_type": "code",
      "metadata": {},
      "source": [
        "sns.set_theme(style=\"whitegrid\")\n",
        "\n"
      ],
      "execution_count": null,
      "outputs": []
    },
    {
      "cell_type": "markdown",
      "metadata": {},
      "source": [
        "Sample data creation\n"
      ]
    },
    {
      "cell_type": "code",
      "metadata": {},
      "source": [
        "tips = sns.load_dataset(\"tips\")\n",
        "\n",
        "print(\"Basic information about the tips dataset:\")\n",
        "print(tips.head())\n",
        "print(\"\\nDataset shape:\", tips.shape)\n",
        "print(\"\\nDataset summary statistics:\")\n",
        "print(tips.describe())\n",
        "\n"
      ],
      "execution_count": null,
      "outputs": []
    },
    {
      "cell_type": "markdown",
      "metadata": {},
      "source": [
        "Basic visualization examples\n"
      ]
    },
    {
      "cell_type": "code",
      "metadata": {},
      "source": [
        "plt.figure(figsize=(10, 6))\n",
        "\n"
      ],
      "execution_count": null,
      "outputs": []
    },
    {
      "cell_type": "markdown",
      "metadata": {},
      "source": [
        "Example 1: Simple scatterplot\n"
      ]
    },
    {
      "cell_type": "code",
      "metadata": {},
      "source": [
        "plt.subplot(1, 2, 1)\n",
        "sns.scatterplot(x=\"total_bill\", y=\"tip\", data=tips)\n",
        "plt.title(\"Scatter Plot: Tips vs Total Bill\")\n",
        "\n"
      ],
      "execution_count": null,
      "outputs": []
    },
    {
      "cell_type": "markdown",
      "metadata": {},
      "source": [
        "Example 2: Adding a categorical dimension with hue\n"
      ]
    },
    {
      "cell_type": "code",
      "metadata": {},
      "source": [
        "plt.subplot(1, 2, 2)\n",
        "sns.scatterplot(x=\"total_bill\", y=\"tip\", hue=\"time\", data=tips)\n",
        "plt.title(\"Scatter Plot with Color by Time\")\n",
        "\n",
        "plt.tight_layout()\n",
        "plt.savefig(\"seaborn_intro_scatter.png\")\n",
        "plt.close()\n",
        "\n"
      ],
      "execution_count": null,
      "outputs": []
    },
    {
      "cell_type": "markdown",
      "metadata": {},
      "source": [
        "More complex visualization\n"
      ]
    },
    {
      "cell_type": "code",
      "metadata": {},
      "source": [
        "plt.figure(figsize=(12, 8))\n",
        "\n"
      ],
      "execution_count": null,
      "outputs": []
    },
    {
      "cell_type": "markdown",
      "metadata": {},
      "source": [
        "Example 3: Box plot\n"
      ]
    },
    {
      "cell_type": "code",
      "metadata": {},
      "source": [
        "plt.subplot(2, 2, 1)\n",
        "sns.boxplot(x=\"day\", y=\"total_bill\", data=tips)\n",
        "plt.title(\"Box Plot: Total Bill by Day\")\n",
        "\n"
      ],
      "execution_count": null,
      "outputs": []
    },
    {
      "cell_type": "markdown",
      "metadata": {},
      "source": [
        "Example 4: Violin plot\n"
      ]
    },
    {
      "cell_type": "code",
      "metadata": {},
      "source": [
        "plt.subplot(2, 2, 2)\n",
        "sns.violinplot(x=\"day\", y=\"total_bill\", hue=\"sex\", data=tips, split=True)\n",
        "plt.title(\"Violin Plot: Total Bill by Day and Sex\")\n",
        "\n"
      ],
      "execution_count": null,
      "outputs": []
    },
    {
      "cell_type": "markdown",
      "metadata": {},
      "source": [
        "Example 5: Bar plot\n"
      ]
    },
    {
      "cell_type": "code",
      "metadata": {},
      "source": [
        "plt.subplot(2, 2, 3)\n",
        "sns.barplot(x=\"day\", y=\"total_bill\", data=tips)\n",
        "plt.title(\"Bar Plot: Average Total Bill by Day\")\n",
        "\n"
      ],
      "execution_count": null,
      "outputs": []
    },
    {
      "cell_type": "markdown",
      "metadata": {},
      "source": [
        "Example 6: Count plot\n"
      ]
    },
    {
      "cell_type": "code",
      "metadata": {},
      "source": [
        "plt.subplot(2, 2, 4)\n",
        "sns.countplot(x=\"day\", data=tips)\n",
        "plt.title(\"Count Plot: Number of Bills by Day\")\n",
        "\n",
        "plt.tight_layout()\n",
        "plt.savefig(\"seaborn_intro_plots.png\")\n",
        "plt.close()\n",
        "\n",
        "print(\"\\nPlots have been created and saved!\")\n",
        "print(\"This introduction demonstrates some basic Seaborn plot types.\") \n"
      ],
      "execution_count": null,
      "outputs": []
    }
  ],
  "metadata": {
    "kernelspec": {
      "display_name": "Python 3",
      "language": "python",
      "name": "python3"
    },
    "language_info": {
      "codemirror_mode": {
        "name": "ipython",
        "version": 3
      },
      "file_extension": ".py",
      "mimetype": "text/x-python",
      "name": "python",
      "nbconvert_exporter": "python",
      "pygments_lexer": "ipython3",
      "version": "3.8.8"
    }
  },
  "nbformat": 4,
  "nbformat_minor": 5
}