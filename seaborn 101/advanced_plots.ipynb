{
  "cells": [
    {
      "cell_type": "markdown",
      "metadata": {},
      "source": [
        "# advanced_plots.py\n",
        "\n",
        "This notebook was automatically converted from a Python script."
      ]
    },
    {
      "cell_type": "code",
      "execution_count": null,
      "metadata": {},
      "outputs": [],
      "source": [
        "\"\"\"\n",
        "Seaborn 101: Advanced Visualization\n",
        "===================================\n",
        "\n",
        "This script demonstrates more advanced visualization techniques using Seaborn.\n",
        "\"\"\"\n",
        "\n",
        "import pandas as pd\n",
        "import numpy as np\n",
        "import matplotlib.pyplot as plt\n",
        "import seaborn as sns\n",
        "\n"
      ]
    },
    {
      "cell_type": "markdown",
      "metadata": {},
      "source": [
        "Set the aesthetic style\n"
      ]
    },
    {
      "cell_type": "code",
      "execution_count": null,
      "metadata": {},
      "outputs": [],
      "source": [
        "sns.set_theme(style=\"whitegrid\")\n",
        "\n"
      ]
    },
    {
      "cell_type": "markdown",
      "metadata": {},
      "source": [
        "Load example datasets\n"
      ]
    },
    {
      "cell_type": "code",
      "execution_count": null,
      "metadata": {},
      "outputs": [],
      "source": [
        "tips = sns.load_dataset(\"tips\")\n",
        "flights = sns.load_dataset(\"flights\")\n",
        "iris = sns.load_dataset(\"iris\")\n",
        "titanic = sns.load_dataset(\"titanic\")\n",
        "\n"
      ]
    },
    {
      "cell_type": "markdown",
      "metadata": {},
      "source": [
        "1. Pair Plot - Shows pairwise relationships in a dataset\n"
      ]
    },
    {
      "cell_type": "code",
      "execution_count": null,
      "metadata": {},
      "outputs": [],
      "source": [
        "plt.figure(figsize=(10, 8))\n",
        "sns.pairplot(data=iris, hue=\"species\", height=2.5)\n",
        "plt.savefig(\"seaborn_pairplot.png\")\n",
        "plt.close()\n",
        "\n"
      ]
    },
    {
      "cell_type": "markdown",
      "metadata": {},
      "source": [
        "2. Joint Plot - Combines scatter plot with histograms on axes\n"
      ]
    },
    {
      "cell_type": "code",
      "execution_count": null,
      "metadata": {},
      "outputs": [],
      "source": [
        "plt.figure(figsize=(10, 8))\n",
        "sns.jointplot(\n",
        "    data=tips,\n",
        "    x=\"total_bill\",\n",
        "    y=\"tip\",\n",
        "    kind=\"reg\",\n",
        "    truncate=False,\n",
        "    height=7,\n",
        "    ratio=5,\n",
        "    marginal_kws=dict(bins=15)\n",
        ")\n",
        "plt.savefig(\"seaborn_jointplot.png\")\n",
        "plt.close()\n",
        "\n"
      ]
    },
    {
      "cell_type": "markdown",
      "metadata": {},
      "source": [
        "3. Heat Map - Visualize matrix data\n"
      ]
    },
    {
      "cell_type": "markdown",
      "metadata": {},
      "source": [
        "Reshape flights data for heatmap\n"
      ]
    },
    {
      "cell_type": "code",
      "execution_count": null,
      "metadata": {},
      "outputs": [],
      "source": [
        "flights_pivot = flights.pivot(index=\"month\", columns=\"year\", values=\"passengers\")\n",
        "plt.figure(figsize=(10, 8))\n",
        "sns.heatmap(flights_pivot, annot=True, fmt=\"d\", cmap=\"YlGnBu\")\n",
        "plt.title(\"Passenger Traffic by Month and Year\")\n",
        "plt.savefig(\"seaborn_heatmap.png\")\n",
        "plt.close()\n",
        "\n"
      ]
    },
    {
      "cell_type": "markdown",
      "metadata": {},
      "source": [
        "4. Cluster Map - Hierarchical clustering with heatmap\n"
      ]
    },
    {
      "cell_type": "code",
      "execution_count": null,
      "metadata": {},
      "outputs": [],
      "source": [
        "plt.figure(figsize=(12, 10))\n",
        "sns.clustermap(flights_pivot, cmap=\"coolwarm\", standard_scale=1)\n",
        "plt.savefig(\"seaborn_clustermap.png\")\n",
        "plt.close()\n",
        "\n"
      ]
    },
    {
      "cell_type": "markdown",
      "metadata": {},
      "source": [
        "5. FacetGrid - Plot relationships in subplots by category\n"
      ]
    },
    {
      "cell_type": "code",
      "execution_count": null,
      "metadata": {},
      "outputs": [],
      "source": [
        "plt.figure(figsize=(12, 8))\n",
        "g = sns.FacetGrid(titanic, col=\"sex\", row=\"class\", height=3.5, aspect=1.2)\n",
        "g.map_dataframe(sns.histplot, x=\"age\", binwidth=5, kde=True)\n",
        "g.add_legend()\n",
        "plt.savefig(\"seaborn_facetgrid.png\")\n",
        "plt.close()\n",
        "\n"
      ]
    },
    {
      "cell_type": "markdown",
      "metadata": {},
      "source": [
        "6. LMPlot - Linear regression with confidence intervals\n"
      ]
    },
    {
      "cell_type": "code",
      "execution_count": null,
      "metadata": {},
      "outputs": [],
      "source": [
        "plt.figure(figsize=(10, 6))\n",
        "sns.lmplot(\n",
        "    data=tips,\n",
        "    x=\"total_bill\",\n",
        "    y=\"tip\",\n",
        "    hue=\"smoker\",\n",
        "    col=\"time\",\n",
        "    height=5,\n",
        "    aspect=0.8\n",
        ")\n",
        "plt.savefig(\"seaborn_lmplot.png\")\n",
        "plt.close()\n",
        "\n"
      ]
    },
    {
      "cell_type": "markdown",
      "metadata": {},
      "source": [
        "7. Categorical Plot - Visualizing categorical data\n"
      ]
    },
    {
      "cell_type": "code",
      "execution_count": null,
      "metadata": {},
      "outputs": [],
      "source": [
        "plt.figure(figsize=(14, 8))\n",
        "g = sns.catplot(\n",
        "    data=titanic, \n",
        "    kind=\"bar\",\n",
        "    x=\"class\", \n",
        "    y=\"survived\", \n",
        "    hue=\"sex\",\n",
        "    palette=\"cool\", \n",
        "    height=6, \n",
        "    aspect=1.5\n",
        ")\n",
        "g.set_axis_labels(\"Class\", \"Survival Rate\")\n",
        "g.legend.set_title(\"Gender\")\n",
        "plt.savefig(\"seaborn_catplot.png\")\n",
        "plt.close()\n",
        "\n"
      ]
    },
    {
      "cell_type": "markdown",
      "metadata": {},
      "source": [
        "8. Distribution Plot - KDE with multiple variables\n"
      ]
    },
    {
      "cell_type": "code",
      "execution_count": null,
      "metadata": {},
      "outputs": [],
      "source": [
        "plt.figure(figsize=(10, 6))\n",
        "sns.displot(\n",
        "    data=tips,\n",
        "    x=\"total_bill\",\n",
        "    col=\"time\",\n",
        "    row=\"sex\",\n",
        "    binwidth=3,\n",
        "    height=4,\n",
        "    facet_kws=dict(margin_titles=True),\n",
        ")\n",
        "plt.savefig(\"seaborn_displot.png\")\n",
        "plt.close()\n",
        "\n",
        "print(\"Advanced plots have been created and saved!\")\n",
        "print(\"This script demonstrates various complex plotting capabilities of Seaborn.\") \n"
      ]
    }
  ],
  "metadata": {
    "kernelspec": {
      "display_name": "Python 3",
      "language": "python",
      "name": "python3"
    },
    "language_info": {
      "codemirror_mode": {
        "name": "ipython",
        "version": 3
      },
      "file_extension": ".py",
      "mimetype": "text/x-python",
      "name": "python",
      "nbconvert_exporter": "python",
      "pygments_lexer": "ipython3",
      "version": "3.8.8"
    }
  },
  "nbformat": 4,
  "nbformat_minor": 5
}
