{
  "cells": [
    {
      "cell_type": "markdown",
      "metadata": {},
      "source": [
        "# data_visualization_project.py\n",
        "\n",
        "This notebook was automatically converted from a Python script."
      ]
    },
    {
      "cell_type": "code",
      "execution_count": null,
      "metadata": {},
      "outputs": [],
      "source": [
        "\"\"\"\n",
        "Seaborn 101: Data Visualization Project\n",
        "=======================================\n",
        "\n",
        "This script demonstrates a complete data visualization project using Seaborn.\n",
        "\"\"\"\n",
        "\n",
        "import pandas as pd\n",
        "import numpy as np\n",
        "import matplotlib.pyplot as plt\n",
        "import seaborn as sns\n",
        "from matplotlib.colors import LinearSegmentedColormap\n",
        "import os\n",
        "\n"
      ]
    },
    {
      "cell_type": "markdown",
      "metadata": {},
      "source": [
        "Create output directory\n"
      ]
    },
    {
      "cell_type": "code",
      "execution_count": null,
      "metadata": {},
      "outputs": [],
      "source": [
        "output_dir = \"project_outputs\"\n",
        "if not os.path.exists(output_dir):\n",
        "    os.makedirs(output_dir)\n",
        "\n"
      ]
    },
    {
      "cell_type": "markdown",
      "metadata": {},
      "source": [
        "Set the aesthetic style and context\n"
      ]
    },
    {
      "cell_type": "code",
      "execution_count": null,
      "metadata": {},
      "outputs": [],
      "source": [
        "sns.set_theme(style=\"whitegrid\", context=\"talk\")\n",
        "plt.rcParams['figure.figsize'] = (12, 8)\n",
        "plt.rcParams['savefig.dpi'] = 100\n",
        "plt.rcParams['savefig.bbox'] = 'tight'\n",
        "\n"
      ]
    },
    {
      "cell_type": "markdown",
      "metadata": {},
      "source": [
        "Load and prepare data\n"
      ]
    },
    {
      "cell_type": "code",
      "execution_count": null,
      "metadata": {},
      "outputs": [],
      "source": [
        "titanic = sns.load_dataset(\"titanic\")\n",
        "diamonds = sns.load_dataset(\"diamonds\")\n",
        "\n",
        "print(\"Project: Analyzing Titanic and Diamond Datasets\")\n",
        "print(\"-\" * 50)\n",
        "print(\"\\nTitanic Dataset Overview:\")\n",
        "print(titanic.head())\n",
        "print(f\"\\nShape: {titanic.shape}\")\n",
        "print(\"\\nDiamonds Dataset Overview:\")\n",
        "print(diamonds.head())\n",
        "print(f\"\\nShape: {diamonds.shape}\")\n",
        "\n"
      ]
    },
    {
      "cell_type": "markdown",
      "metadata": {},
      "source": [
        "Data Preparation\n"
      ]
    },
    {
      "cell_type": "markdown",
      "metadata": {},
      "source": [
        "Handle missing values in Titanic dataset\n"
      ]
    },
    {
      "cell_type": "code",
      "execution_count": null,
      "metadata": {},
      "outputs": [],
      "source": [
        "titanic['age'] = titanic['age'].fillna(titanic['age'].median())\n",
        "titanic['embarked'] = titanic['embarked'].fillna(titanic['embarked'].mode()[0])\n",
        "titanic['deck'] = titanic['deck'].fillna('Unknown')\n",
        "\n"
      ]
    },
    {
      "cell_type": "markdown",
      "metadata": {},
      "source": [
        "Create age categories\n"
      ]
    },
    {
      "cell_type": "code",
      "execution_count": null,
      "metadata": {},
      "outputs": [],
      "source": [
        "titanic['age_group'] = pd.cut(\n",
        "    titanic['age'],\n",
        "    bins=[0, 12, 18, 35, 60, 100],\n",
        "    labels=['Child', 'Teenager', 'Young Adult', 'Adult', 'Senior']\n",
        ")\n",
        "\n"
      ]
    },
    {
      "cell_type": "markdown",
      "metadata": {},
      "source": [
        "Create fare categories\n"
      ]
    },
    {
      "cell_type": "code",
      "execution_count": null,
      "metadata": {},
      "outputs": [],
      "source": [
        "titanic['fare_category'] = pd.qcut(\n",
        "    titanic['fare'],\n",
        "    q=4,\n",
        "    labels=['Budget', 'Economy', 'Standard', 'Premium']\n",
        ")\n",
        "\n"
      ]
    },
    {
      "cell_type": "markdown",
      "metadata": {},
      "source": [
        "Part 1: Titanic Survival Analysis\n"
      ]
    },
    {
      "cell_type": "markdown",
      "metadata": {},
      "source": [
        "---------------------------------\n"
      ]
    },
    {
      "cell_type": "markdown",
      "metadata": {},
      "source": [
        "1. Survival by passenger class and gender\n"
      ]
    },
    {
      "cell_type": "code",
      "execution_count": null,
      "metadata": {},
      "outputs": [],
      "source": [
        "plt.figure(figsize=(14, 10))\n",
        "\n",
        "plt.subplot(2, 2, 1)\n",
        "sns.barplot(x='class', y='survived', data=titanic, hue='sex', palette='viridis')\n",
        "plt.title('Survival Rate by Class and Gender')\n",
        "plt.ylabel('Survival Rate')\n",
        "plt.xlabel('Passenger Class')\n",
        "\n"
      ]
    },
    {
      "cell_type": "markdown",
      "metadata": {},
      "source": [
        "2. Age distribution of passengers\n"
      ]
    },
    {
      "cell_type": "code",
      "execution_count": null,
      "metadata": {},
      "outputs": [],
      "source": [
        "plt.subplot(2, 2, 2)\n",
        "sns.histplot(\n",
        "    data=titanic, \n",
        "    x='age', \n",
        "    hue='survived', \n",
        "    multiple='stack',\n",
        "    bins=20, \n",
        "    palette='coolwarm'\n",
        ")\n",
        "plt.axvline(x=titanic['age'].median(), color='black', linestyle='--', label='Median Age')\n",
        "plt.title('Age Distribution by Survival')\n",
        "plt.legend(['Median Age', 'Died', 'Survived'])\n",
        "\n"
      ]
    },
    {
      "cell_type": "markdown",
      "metadata": {},
      "source": [
        "3. Survival by age group and class\n"
      ]
    },
    {
      "cell_type": "code",
      "execution_count": null,
      "metadata": {},
      "outputs": [],
      "source": [
        "plt.subplot(2, 2, 3)\n",
        "sns.heatmap(\n",
        "    titanic.pivot_table(\n",
        "        index='age_group', \n",
        "        columns='class', \n",
        "        values='survived', \n",
        "        aggfunc='mean'\n",
        "    ),\n",
        "    annot=True, \n",
        "    cmap='YlGnBu', \n",
        "    fmt='.2f'\n",
        ")\n",
        "plt.title('Survival Rate by Age Group and Class')\n",
        "\n"
      ]
    },
    {
      "cell_type": "markdown",
      "metadata": {},
      "source": [
        "4. Fare vs. Survival\n"
      ]
    },
    {
      "cell_type": "code",
      "execution_count": null,
      "metadata": {},
      "outputs": [],
      "source": [
        "plt.subplot(2, 2, 4)\n",
        "sns.boxplot(x='survived', y='fare', data=titanic, palette='Set2')\n",
        "plt.title('Fare Distribution by Survival')\n",
        "plt.yscale('log')\n",
        "plt.ylabel('Fare (log scale)')\n",
        "plt.xlabel('Survived')\n",
        "\n",
        "plt.tight_layout()\n",
        "plt.savefig(os.path.join(output_dir, 'titanic_survival_analysis.png'))\n",
        "plt.close()\n",
        "\n"
      ]
    },
    {
      "cell_type": "markdown",
      "metadata": {},
      "source": [
        "5. Complex visualization: Survival patterns by multiple factors\n"
      ]
    },
    {
      "cell_type": "code",
      "execution_count": null,
      "metadata": {},
      "outputs": [],
      "source": [
        "g = sns.catplot(\n",
        "    data=titanic,\n",
        "    kind='bar',\n",
        "    x='class',\n",
        "    y='survived',\n",
        "    hue='sex',\n",
        "    col='embarked',\n",
        "    height=6,\n",
        "    aspect=0.7,\n",
        "    palette='dark',\n",
        "    alpha=0.8,\n",
        "    ci=None\n",
        ")\n",
        "g.fig.suptitle('Survival Rate by Class, Gender, and Embarkation Port', y=1.05)\n",
        "g.set_axis_labels('Passenger Class', 'Survival Rate')\n",
        "g.savefig(os.path.join(output_dir, 'titanic_multivariate.png'))\n",
        "plt.close()\n",
        "\n"
      ]
    },
    {
      "cell_type": "markdown",
      "metadata": {},
      "source": [
        "Part 2: Diamond Price Analysis\n"
      ]
    },
    {
      "cell_type": "markdown",
      "metadata": {},
      "source": [
        "-----------------------------\n"
      ]
    },
    {
      "cell_type": "markdown",
      "metadata": {},
      "source": [
        "1. Price distribution by cut, color, and clarity\n"
      ]
    },
    {
      "cell_type": "code",
      "execution_count": null,
      "metadata": {},
      "outputs": [],
      "source": [
        "plt.figure(figsize=(16, 12))\n",
        "\n",
        "plt.subplot(3, 1, 1)\n",
        "sns.boxplot(x='cut', y='price', data=diamonds, palette='Spectral')\n",
        "plt.title('Diamond Price by Cut Quality')\n",
        "plt.ylabel('Price (USD)')\n",
        "\n",
        "plt.subplot(3, 1, 2)\n",
        "sns.boxplot(x='color', y='price', data=diamonds, palette='RdYlBu')\n",
        "plt.title('Diamond Price by Color Grade')\n",
        "plt.ylabel('Price (USD)')\n",
        "\n",
        "plt.subplot(3, 1, 3)\n",
        "sns.boxplot(x='clarity', y='price', data=diamonds, palette='viridis')\n",
        "plt.title('Diamond Price by Clarity Grade')\n",
        "plt.ylabel('Price (USD)')\n",
        "\n",
        "plt.tight_layout()\n",
        "plt.savefig(os.path.join(output_dir, 'diamond_price_factors.png'))\n",
        "plt.close()\n",
        "\n"
      ]
    },
    {
      "cell_type": "markdown",
      "metadata": {},
      "source": [
        "2. Relationship between carat and price with facets\n"
      ]
    },
    {
      "cell_type": "code",
      "execution_count": null,
      "metadata": {},
      "outputs": [],
      "source": [
        "sns.lmplot(\n",
        "    data=diamonds.sample(1000),  # Sample for better performance\n",
        "    x='carat',\n",
        "    y='price',\n",
        "    hue='cut',\n",
        "    col='color',\n",
        "    col_wrap=4,\n",
        "    height=3,\n",
        "    aspect=1.2,\n",
        "    palette='coolwarm',\n",
        "    scatter_kws={'alpha': 0.5, 's': 30},\n",
        "    line_kws={'linewidth': 2}\n",
        ")\n",
        "plt.suptitle('Carat vs. Price by Cut and Color', y=1.02)\n",
        "plt.savefig(os.path.join(output_dir, 'diamond_carat_price_relationship.png'))\n",
        "plt.close()\n",
        "\n"
      ]
    },
    {
      "cell_type": "markdown",
      "metadata": {},
      "source": [
        "3. Create a custom paired plot\n"
      ]
    },
    {
      "cell_type": "code",
      "execution_count": null,
      "metadata": {},
      "outputs": [],
      "source": [
        "custom_params = {\n",
        "    'scatter_kws': {'alpha': 0.3, 's': 10},\n",
        "    'line_kws': {'linewidth': 1},\n",
        "}\n",
        "\n",
        "g = sns.pairplot(\n",
        "    diamonds.sample(1000),\n",
        "    vars=['carat', 'depth', 'table', 'price'],\n",
        "    hue='cut',\n",
        "    palette='Set1',\n",
        "    diag_kind='kde',\n",
        "    height=2.5,\n",
        "    plot_kws=custom_params\n",
        ")\n",
        "g.fig.suptitle('Relationships Between Diamond Attributes', y=1.02)\n",
        "g.savefig(os.path.join(output_dir, 'diamond_attributes_pairplot.png'))\n",
        "plt.close()\n",
        "\n"
      ]
    },
    {
      "cell_type": "markdown",
      "metadata": {},
      "source": [
        "4. Custom heatmap of correlations\n"
      ]
    },
    {
      "cell_type": "code",
      "execution_count": null,
      "metadata": {},
      "outputs": [],
      "source": [
        "corr = diamonds.select_dtypes(include=[np.number]).corr()\n",
        "mask = np.triu(np.ones_like(corr, dtype=bool))\n",
        "\n"
      ]
    },
    {
      "cell_type": "markdown",
      "metadata": {},
      "source": [
        "Custom colormap\n"
      ]
    },
    {
      "cell_type": "code",
      "execution_count": null,
      "metadata": {},
      "outputs": [],
      "source": [
        "cmap = LinearSegmentedColormap.from_list('custom_diverging', \n",
        "                                         ['#3498db', '#f1f1f1', '#e74c3c'], \n",
        "                                         N=256)\n",
        "\n",
        "plt.figure(figsize=(10, 8))\n",
        "sns.heatmap(\n",
        "    corr,\n",
        "    mask=mask,\n",
        "    cmap=cmap,\n",
        "    vmax=1.0,\n",
        "    vmin=-1.0,\n",
        "    center=0,\n",
        "    square=True,\n",
        "    linewidths=.5,\n",
        "    cbar_kws={'shrink': .8},\n",
        "    annot=True,\n",
        "    fmt='.2f'\n",
        ")\n",
        "plt.title('Correlation Matrix of Diamond Attributes')\n",
        "plt.tight_layout()\n",
        "plt.savefig(os.path.join(output_dir, 'diamond_correlation_matrix.png'))\n",
        "plt.close()\n",
        "\n",
        "print(f\"\\nProject completed successfully! All visualizations saved to '{output_dir}' directory.\")\n",
        "print(\"This project demonstrates a comprehensive data visualization workflow using Seaborn.\") \n"
      ]
    }
  ],
  "metadata": {
    "kernelspec": {
      "display_name": "Python 3",
      "language": "python",
      "name": "python3"
    },
    "language_info": {
      "codemirror_mode": {
        "name": "ipython",
        "version": 3
      },
      "file_extension": ".py",
      "mimetype": "text/x-python",
      "name": "python",
      "nbconvert_exporter": "python",
      "pygments_lexer": "ipython3",
      "version": "3.8.8"
    }
  },
  "nbformat": 4,
  "nbformat_minor": 5
}
